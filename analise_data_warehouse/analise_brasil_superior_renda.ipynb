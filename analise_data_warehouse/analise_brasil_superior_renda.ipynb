{
 "cells": [
  {
   "cell_type": "markdown",
   "id": "4740b615-b9f1-4904-a7d2-f117a0b9949c",
   "metadata": {
    "tags": []
   },
   "source": [
    "# Análise do Data Warehouse\n",
    "\n",
    "Análise dos dados disponibilizados no Data Warehouse\n",
    "\n",
    "\n",
    "\n",
    "**Instalando o Cassandra no Jupyter**\n",
    "\n",
    "`docker-compose exec jupyter pip install cassandra-driver`"
   ]
  },
  {
   "cell_type": "markdown",
   "id": "97163e22-a386-4ed2-a63f-d4bda25574d6",
   "metadata": {
    "tags": []
   },
   "source": [
    "## Imports"
   ]
  },
  {
   "cell_type": "code",
   "execution_count": 1,
   "id": "c7426745-0909-40dc-b7fc-caa7d3fd94af",
   "metadata": {},
   "outputs": [],
   "source": [
    "#Imports\n",
    "from time import sleep"
   ]
  },
  {
   "cell_type": "code",
   "execution_count": 2,
   "id": "3f315cff-37ec-4419-adfb-4d24fab7fd1c",
   "metadata": {},
   "outputs": [],
   "source": [
    "#Imports Cassandra\n",
    "from cassandra.auth import PlainTextAuthProvider\n",
    "from cassandra.cluster import Cluster"
   ]
  },
  {
   "cell_type": "code",
   "execution_count": 3,
   "id": "aac05b52-5d1e-4cf9-840a-f21c27397297",
   "metadata": {},
   "outputs": [],
   "source": [
    "#Imports Pandas\n",
    "import pandas as pd\n",
    "import seaborn as sns\n",
    "import matplotlib as mpl\n",
    "import matplotlib.pyplot as plt\n",
    "def pandas_factory(colnames, rows):\n",
    "    return pd.DataFrame(rows, columns=colnames)"
   ]
  },
  {
   "cell_type": "markdown",
   "id": "840aad20-8c10-4d3f-b46f-52b6538af87e",
   "metadata": {
    "tags": []
   },
   "source": [
    "## Conexão ao banco de Dados Cassandra"
   ]
  },
  {
   "cell_type": "code",
   "execution_count": 4,
   "id": "7f340598-3fde-4f94-9f5c-a7bc67eb70b6",
   "metadata": {},
   "outputs": [],
   "source": [
    "#Conectando a seção\n",
    "ap = PlainTextAuthProvider(username='cassandra', password='cassandra')\n",
    "cluster = Cluster(['cassandra'], protocol_version=4, auth_provider=ap)\n",
    "session = cluster.connect('alunos')\n",
    "session.default_timeout = 60\n",
    "session.row_factory = pandas_factory\n",
    "sleep(2)"
   ]
  },
  {
   "cell_type": "markdown",
   "id": "2851a1d7-03eb-4493-8dc4-b9ab2f4f092d",
   "metadata": {
    "tags": []
   },
   "source": [
    "## Consulta"
   ]
  },
  {
   "cell_type": "markdown",
   "id": "7c44def4-9072-404f-a474-77f3d8a889df",
   "metadata": {
    "tags": []
   },
   "source": [
    "### Configurando a consulta\n",
    "Atribuindo valores para as consultas"
   ]
  },
  {
   "cell_type": "code",
   "execution_count": 5,
   "id": "50725e10-e250-4410-bf5c-6cf1763e6e40",
   "metadata": {
    "tags": []
   },
   "outputs": [],
   "source": [
    "table = 'fato_aluno_renda'\n",
    "field = 'renda_familiar'\n",
    "curse_types = ['Bacharelado','Licenciatura','Tecnologia']\n",
    "filters = {    \n",
    "    'categoria_situacao': ['Evadidos','Concluintes'],\n",
    "    field: True,\n",
    "    'tipo_curso': len(curse_types) > 0,\n",
    "    'instituicao': '',\n",
    "    'unidade_ensino': '',\n",
    "    'nome_curso': '',\n",
    "    \n",
    "}"
   ]
  },
  {
   "cell_type": "markdown",
   "id": "f0dfc88e-6505-42f8-b68e-9b38c128dd92",
   "metadata": {
    "tags": []
   },
   "source": [
    "### Construindo a string para a consulta\n",
    "Criando fields e grupos para a consulta"
   ]
  },
  {
   "cell_type": "code",
   "execution_count": 6,
   "id": "85034c45-3e88-44c2-b4f5-6d01a27a932d",
   "metadata": {},
   "outputs": [],
   "source": [
    "s = []\n",
    "gf = []\n",
    "for k, v in filters.items():\n",
    "    if v :\n",
    "        if type(v) is str:\n",
    "            s.append(\"({} = '{}')\".format(k,v))            \n",
    "        elif type(v) is list:\n",
    "            s.append(\"({} IN ({}))\".format(\n",
    "                k,','.join(map(str,[\"'{}'\".format(i) for i in v]))))\n",
    "        if (type(v) is bool and v) or (not type(v) is bool):\n",
    "            gf.append(k)\n",
    "filter_sql = \" AND \".join(map(str,s))\n",
    "fields = \", \".join(map(str,gf))\n"
   ]
  },
  {
   "cell_type": "markdown",
   "id": "47b5d514-559a-48aa-884c-5984db21f00d",
   "metadata": {
    "tags": []
   },
   "source": [
    "### Execultado a consulta"
   ]
  },
  {
   "cell_type": "code",
   "execution_count": 7,
   "id": "142510d9-d626-46c2-b2e7-a1dbaf8bd324",
   "metadata": {},
   "outputs": [
    {
     "data": {
      "text/html": [
       "<div>\n",
       "<style scoped>\n",
       "    .dataframe tbody tr th:only-of-type {\n",
       "        vertical-align: middle;\n",
       "    }\n",
       "\n",
       "    .dataframe tbody tr th {\n",
       "        vertical-align: top;\n",
       "    }\n",
       "\n",
       "    .dataframe thead th {\n",
       "        text-align: right;\n",
       "    }\n",
       "</style>\n",
       "<table border=\"1\" class=\"dataframe\">\n",
       "  <thead>\n",
       "    <tr style=\"text-align: right;\">\n",
       "      <th></th>\n",
       "      <th>categoria_situacao</th>\n",
       "      <th>renda_familiar</th>\n",
       "      <th>tipo_curso</th>\n",
       "      <th>quant_grupo</th>\n",
       "    </tr>\n",
       "  </thead>\n",
       "  <tbody>\n",
       "    <tr>\n",
       "      <th>0</th>\n",
       "      <td>Concluintes</td>\n",
       "      <td>0,5&lt;RFP&lt;=1,0</td>\n",
       "      <td>Bacharelado</td>\n",
       "      <td>1324</td>\n",
       "    </tr>\n",
       "    <tr>\n",
       "      <th>1</th>\n",
       "      <td>Concluintes</td>\n",
       "      <td>0,5&lt;RFP&lt;=1,0</td>\n",
       "      <td>Doutorado</td>\n",
       "      <td>6</td>\n",
       "    </tr>\n",
       "    <tr>\n",
       "      <th>2</th>\n",
       "      <td>Concluintes</td>\n",
       "      <td>0,5&lt;RFP&lt;=1,0</td>\n",
       "      <td>Ensino Fundamental I</td>\n",
       "      <td>90</td>\n",
       "    </tr>\n",
       "    <tr>\n",
       "      <th>3</th>\n",
       "      <td>Concluintes</td>\n",
       "      <td>0,5&lt;RFP&lt;=1,0</td>\n",
       "      <td>Ensino Fundamental II</td>\n",
       "      <td>142</td>\n",
       "    </tr>\n",
       "    <tr>\n",
       "      <th>4</th>\n",
       "      <td>Concluintes</td>\n",
       "      <td>0,5&lt;RFP&lt;=1,0</td>\n",
       "      <td>Ensino Médio</td>\n",
       "      <td>170</td>\n",
       "    </tr>\n",
       "    <tr>\n",
       "      <th>...</th>\n",
       "      <td>...</td>\n",
       "      <td>...</td>\n",
       "      <td>...</td>\n",
       "      <td>...</td>\n",
       "    </tr>\n",
       "    <tr>\n",
       "      <th>165</th>\n",
       "      <td>Evadidos</td>\n",
       "      <td>RFP&gt;3,5</td>\n",
       "      <td>Mestrado</td>\n",
       "      <td>21</td>\n",
       "    </tr>\n",
       "    <tr>\n",
       "      <th>166</th>\n",
       "      <td>Evadidos</td>\n",
       "      <td>RFP&gt;3,5</td>\n",
       "      <td>Mestrado Profissional</td>\n",
       "      <td>39</td>\n",
       "    </tr>\n",
       "    <tr>\n",
       "      <th>167</th>\n",
       "      <td>Evadidos</td>\n",
       "      <td>RFP&gt;3,5</td>\n",
       "      <td>Qualificação Profissional (FIC)</td>\n",
       "      <td>3354</td>\n",
       "    </tr>\n",
       "    <tr>\n",
       "      <th>168</th>\n",
       "      <td>Evadidos</td>\n",
       "      <td>RFP&gt;3,5</td>\n",
       "      <td>Tecnologia</td>\n",
       "      <td>787</td>\n",
       "    </tr>\n",
       "    <tr>\n",
       "      <th>169</th>\n",
       "      <td>Evadidos</td>\n",
       "      <td>RFP&gt;3,5</td>\n",
       "      <td>Técnico</td>\n",
       "      <td>2688</td>\n",
       "    </tr>\n",
       "  </tbody>\n",
       "</table>\n",
       "<p>170 rows × 4 columns</p>\n",
       "</div>"
      ],
      "text/plain": [
       "    categoria_situacao renda_familiar                       tipo_curso  \\\n",
       "0          Concluintes   0,5<RFP<=1,0                      Bacharelado   \n",
       "1          Concluintes   0,5<RFP<=1,0                        Doutorado   \n",
       "2          Concluintes   0,5<RFP<=1,0             Ensino Fundamental I   \n",
       "3          Concluintes   0,5<RFP<=1,0            Ensino Fundamental II   \n",
       "4          Concluintes   0,5<RFP<=1,0                     Ensino Médio   \n",
       "..                 ...            ...                              ...   \n",
       "165           Evadidos        RFP>3,5                         Mestrado   \n",
       "166           Evadidos        RFP>3,5            Mestrado Profissional   \n",
       "167           Evadidos        RFP>3,5  Qualificação Profissional (FIC)   \n",
       "168           Evadidos        RFP>3,5                       Tecnologia   \n",
       "169           Evadidos        RFP>3,5                          Técnico   \n",
       "\n",
       "     quant_grupo  \n",
       "0           1324  \n",
       "1              6  \n",
       "2             90  \n",
       "3            142  \n",
       "4            170  \n",
       "..           ...  \n",
       "165           21  \n",
       "166           39  \n",
       "167         3354  \n",
       "168          787  \n",
       "169         2688  \n",
       "\n",
       "[170 rows x 4 columns]"
      ]
     },
     "execution_count": 7,
     "metadata": {},
     "output_type": "execute_result"
    }
   ],
   "source": [
    "#Execultado Consulta\n",
    "sql = \"SELECT {0}, sum(quant_grupo) AS quant_grupo\" \\\n",
    "\" FROM {1} \" \\\n",
    "\" WHERE {2} \" \\\n",
    "\" GROUP BY {0}\" \\\n",
    "\" ALLOW FILTERING;\".format(\n",
    "    fields,\n",
    "    table,\n",
    "    filter_sql)\n",
    "rslt = session.execute(sql, timeout=None)\n",
    "original_df = rslt._current_rows\n",
    "original_df\n"
   ]
  },
  {
   "cell_type": "markdown",
   "id": "6767adad-3ec3-4d45-aaf6-9f1ed3d64ce2",
   "metadata": {
    "tags": []
   },
   "source": [
    "## Análise"
   ]
  },
  {
   "cell_type": "code",
   "execution_count": 8,
   "id": "83ab7dde-87ac-4978-8ceb-394bc0ca2c27",
   "metadata": {},
   "outputs": [
    {
     "name": "stdout",
     "output_type": "stream",
     "text": [
      "Número de registros 170 e número de colunas 4.\n"
     ]
    }
   ],
   "source": [
    "s = original_df.shape\n",
    "print(\"Número de registros {:,} e número de colunas {:,}.\".format(s[0], s[1]).replace(',','.'))"
   ]
  },
  {
   "cell_type": "markdown",
   "id": "083b5b33-0eb8-4021-9028-776fb070d6c1",
   "metadata": {
    "tags": []
   },
   "source": [
    "## Filtrando Tipo do Curso"
   ]
  },
  {
   "cell_type": "code",
   "execution_count": 9,
   "id": "acd839ad-e03f-412f-8822-cb906b4f3b25",
   "metadata": {
    "tags": []
   },
   "outputs": [
    {
     "name": "stdout",
     "output_type": "stream",
     "text": [
      "Fitrando pelos tipos de cursos:\n",
      " Bacharelado, Licenciatura, Tecnologia\n"
     ]
    },
    {
     "data": {
      "text/html": [
       "<div>\n",
       "<style scoped>\n",
       "    .dataframe tbody tr th:only-of-type {\n",
       "        vertical-align: middle;\n",
       "    }\n",
       "\n",
       "    .dataframe tbody tr th {\n",
       "        vertical-align: top;\n",
       "    }\n",
       "\n",
       "    .dataframe thead th {\n",
       "        text-align: right;\n",
       "    }\n",
       "</style>\n",
       "<table border=\"1\" class=\"dataframe\">\n",
       "  <thead>\n",
       "    <tr style=\"text-align: right;\">\n",
       "      <th></th>\n",
       "      <th>categoria_situacao</th>\n",
       "      <th>renda_familiar</th>\n",
       "      <th>tipo_curso</th>\n",
       "      <th>quant_grupo</th>\n",
       "    </tr>\n",
       "  </thead>\n",
       "  <tbody>\n",
       "    <tr>\n",
       "      <th>0</th>\n",
       "      <td>Concluintes</td>\n",
       "      <td>0,5&lt;RFP&lt;=1,0</td>\n",
       "      <td>Bacharelado</td>\n",
       "      <td>1324</td>\n",
       "    </tr>\n",
       "    <tr>\n",
       "      <th>6</th>\n",
       "      <td>Concluintes</td>\n",
       "      <td>0,5&lt;RFP&lt;=1,0</td>\n",
       "      <td>Licenciatura</td>\n",
       "      <td>1579</td>\n",
       "    </tr>\n",
       "    <tr>\n",
       "      <th>10</th>\n",
       "      <td>Concluintes</td>\n",
       "      <td>0,5&lt;RFP&lt;=1,0</td>\n",
       "      <td>Tecnologia</td>\n",
       "      <td>2053</td>\n",
       "    </tr>\n",
       "    <tr>\n",
       "      <th>12</th>\n",
       "      <td>Concluintes</td>\n",
       "      <td>0&lt;RFP&lt;=0,5</td>\n",
       "      <td>Bacharelado</td>\n",
       "      <td>887</td>\n",
       "    </tr>\n",
       "    <tr>\n",
       "      <th>18</th>\n",
       "      <td>Concluintes</td>\n",
       "      <td>0&lt;RFP&lt;=0,5</td>\n",
       "      <td>Licenciatura</td>\n",
       "      <td>1516</td>\n",
       "    </tr>\n",
       "    <tr>\n",
       "      <th>22</th>\n",
       "      <td>Concluintes</td>\n",
       "      <td>0&lt;RFP&lt;=0,5</td>\n",
       "      <td>Tecnologia</td>\n",
       "      <td>2139</td>\n",
       "    </tr>\n",
       "    <tr>\n",
       "      <th>24</th>\n",
       "      <td>Concluintes</td>\n",
       "      <td>1,0&lt;RFP&lt;=1,5</td>\n",
       "      <td>Bacharelado</td>\n",
       "      <td>903</td>\n",
       "    </tr>\n",
       "    <tr>\n",
       "      <th>30</th>\n",
       "      <td>Concluintes</td>\n",
       "      <td>1,0&lt;RFP&lt;=1,5</td>\n",
       "      <td>Licenciatura</td>\n",
       "      <td>1014</td>\n",
       "    </tr>\n",
       "    <tr>\n",
       "      <th>34</th>\n",
       "      <td>Concluintes</td>\n",
       "      <td>1,0&lt;RFP&lt;=1,5</td>\n",
       "      <td>Tecnologia</td>\n",
       "      <td>1316</td>\n",
       "    </tr>\n",
       "    <tr>\n",
       "      <th>36</th>\n",
       "      <td>Concluintes</td>\n",
       "      <td>1,5&lt;RFP&lt;=2,5</td>\n",
       "      <td>Bacharelado</td>\n",
       "      <td>1077</td>\n",
       "    </tr>\n",
       "    <tr>\n",
       "      <th>42</th>\n",
       "      <td>Concluintes</td>\n",
       "      <td>1,5&lt;RFP&lt;=2,5</td>\n",
       "      <td>Licenciatura</td>\n",
       "      <td>813</td>\n",
       "    </tr>\n",
       "    <tr>\n",
       "      <th>46</th>\n",
       "      <td>Concluintes</td>\n",
       "      <td>1,5&lt;RFP&lt;=2,5</td>\n",
       "      <td>Tecnologia</td>\n",
       "      <td>1108</td>\n",
       "    </tr>\n",
       "    <tr>\n",
       "      <th>48</th>\n",
       "      <td>Concluintes</td>\n",
       "      <td>2,5&lt;RFP&lt;=3,5</td>\n",
       "      <td>Bacharelado</td>\n",
       "      <td>516</td>\n",
       "    </tr>\n",
       "    <tr>\n",
       "      <th>54</th>\n",
       "      <td>Concluintes</td>\n",
       "      <td>2,5&lt;RFP&lt;=3,5</td>\n",
       "      <td>Licenciatura</td>\n",
       "      <td>307</td>\n",
       "    </tr>\n",
       "    <tr>\n",
       "      <th>58</th>\n",
       "      <td>Concluintes</td>\n",
       "      <td>2,5&lt;RFP&lt;=3,5</td>\n",
       "      <td>Tecnologia</td>\n",
       "      <td>456</td>\n",
       "    </tr>\n",
       "    <tr>\n",
       "      <th>60</th>\n",
       "      <td>Concluintes</td>\n",
       "      <td>NÃO DECLARADA</td>\n",
       "      <td>Bacharelado</td>\n",
       "      <td>5157</td>\n",
       "    </tr>\n",
       "    <tr>\n",
       "      <th>66</th>\n",
       "      <td>Concluintes</td>\n",
       "      <td>NÃO DECLARADA</td>\n",
       "      <td>Licenciatura</td>\n",
       "      <td>4273</td>\n",
       "    </tr>\n",
       "    <tr>\n",
       "      <th>70</th>\n",
       "      <td>Concluintes</td>\n",
       "      <td>NÃO DECLARADA</td>\n",
       "      <td>Tecnologia</td>\n",
       "      <td>6161</td>\n",
       "    </tr>\n",
       "    <tr>\n",
       "      <th>72</th>\n",
       "      <td>Concluintes</td>\n",
       "      <td>RFP&gt;3,5</td>\n",
       "      <td>Bacharelado</td>\n",
       "      <td>770</td>\n",
       "    </tr>\n",
       "    <tr>\n",
       "      <th>78</th>\n",
       "      <td>Concluintes</td>\n",
       "      <td>RFP&gt;3,5</td>\n",
       "      <td>Licenciatura</td>\n",
       "      <td>353</td>\n",
       "    </tr>\n",
       "    <tr>\n",
       "      <th>82</th>\n",
       "      <td>Concluintes</td>\n",
       "      <td>RFP&gt;3,5</td>\n",
       "      <td>Tecnologia</td>\n",
       "      <td>468</td>\n",
       "    </tr>\n",
       "    <tr>\n",
       "      <th>84</th>\n",
       "      <td>Evadidos</td>\n",
       "      <td>0,5&lt;RFP&lt;=1,0</td>\n",
       "      <td>Bacharelado</td>\n",
       "      <td>3076</td>\n",
       "    </tr>\n",
       "    <tr>\n",
       "      <th>91</th>\n",
       "      <td>Evadidos</td>\n",
       "      <td>0,5&lt;RFP&lt;=1,0</td>\n",
       "      <td>Licenciatura</td>\n",
       "      <td>3928</td>\n",
       "    </tr>\n",
       "    <tr>\n",
       "      <th>95</th>\n",
       "      <td>Evadidos</td>\n",
       "      <td>0,5&lt;RFP&lt;=1,0</td>\n",
       "      <td>Tecnologia</td>\n",
       "      <td>3716</td>\n",
       "    </tr>\n",
       "    <tr>\n",
       "      <th>97</th>\n",
       "      <td>Evadidos</td>\n",
       "      <td>0&lt;RFP&lt;=0,5</td>\n",
       "      <td>Bacharelado</td>\n",
       "      <td>2123</td>\n",
       "    </tr>\n",
       "    <tr>\n",
       "      <th>103</th>\n",
       "      <td>Evadidos</td>\n",
       "      <td>0&lt;RFP&lt;=0,5</td>\n",
       "      <td>Licenciatura</td>\n",
       "      <td>4041</td>\n",
       "    </tr>\n",
       "    <tr>\n",
       "      <th>107</th>\n",
       "      <td>Evadidos</td>\n",
       "      <td>0&lt;RFP&lt;=0,5</td>\n",
       "      <td>Tecnologia</td>\n",
       "      <td>4115</td>\n",
       "    </tr>\n",
       "    <tr>\n",
       "      <th>109</th>\n",
       "      <td>Evadidos</td>\n",
       "      <td>1,0&lt;RFP&lt;=1,5</td>\n",
       "      <td>Bacharelado</td>\n",
       "      <td>2233</td>\n",
       "    </tr>\n",
       "    <tr>\n",
       "      <th>115</th>\n",
       "      <td>Evadidos</td>\n",
       "      <td>1,0&lt;RFP&lt;=1,5</td>\n",
       "      <td>Licenciatura</td>\n",
       "      <td>2613</td>\n",
       "    </tr>\n",
       "    <tr>\n",
       "      <th>119</th>\n",
       "      <td>Evadidos</td>\n",
       "      <td>1,0&lt;RFP&lt;=1,5</td>\n",
       "      <td>Tecnologia</td>\n",
       "      <td>2505</td>\n",
       "    </tr>\n",
       "    <tr>\n",
       "      <th>121</th>\n",
       "      <td>Evadidos</td>\n",
       "      <td>1,5&lt;RFP&lt;=2,5</td>\n",
       "      <td>Bacharelado</td>\n",
       "      <td>2035</td>\n",
       "    </tr>\n",
       "    <tr>\n",
       "      <th>127</th>\n",
       "      <td>Evadidos</td>\n",
       "      <td>1,5&lt;RFP&lt;=2,5</td>\n",
       "      <td>Licenciatura</td>\n",
       "      <td>1621</td>\n",
       "    </tr>\n",
       "    <tr>\n",
       "      <th>131</th>\n",
       "      <td>Evadidos</td>\n",
       "      <td>1,5&lt;RFP&lt;=2,5</td>\n",
       "      <td>Tecnologia</td>\n",
       "      <td>1811</td>\n",
       "    </tr>\n",
       "    <tr>\n",
       "      <th>133</th>\n",
       "      <td>Evadidos</td>\n",
       "      <td>2,5&lt;RFP&lt;=3,5</td>\n",
       "      <td>Bacharelado</td>\n",
       "      <td>884</td>\n",
       "    </tr>\n",
       "    <tr>\n",
       "      <th>139</th>\n",
       "      <td>Evadidos</td>\n",
       "      <td>2,5&lt;RFP&lt;=3,5</td>\n",
       "      <td>Licenciatura</td>\n",
       "      <td>640</td>\n",
       "    </tr>\n",
       "    <tr>\n",
       "      <th>143</th>\n",
       "      <td>Evadidos</td>\n",
       "      <td>2,5&lt;RFP&lt;=3,5</td>\n",
       "      <td>Tecnologia</td>\n",
       "      <td>720</td>\n",
       "    </tr>\n",
       "    <tr>\n",
       "      <th>145</th>\n",
       "      <td>Evadidos</td>\n",
       "      <td>NÃO DECLARADA</td>\n",
       "      <td>Bacharelado</td>\n",
       "      <td>9633</td>\n",
       "    </tr>\n",
       "    <tr>\n",
       "      <th>152</th>\n",
       "      <td>Evadidos</td>\n",
       "      <td>NÃO DECLARADA</td>\n",
       "      <td>Licenciatura</td>\n",
       "      <td>13382</td>\n",
       "    </tr>\n",
       "    <tr>\n",
       "      <th>156</th>\n",
       "      <td>Evadidos</td>\n",
       "      <td>NÃO DECLARADA</td>\n",
       "      <td>Tecnologia</td>\n",
       "      <td>14609</td>\n",
       "    </tr>\n",
       "    <tr>\n",
       "      <th>158</th>\n",
       "      <td>Evadidos</td>\n",
       "      <td>RFP&gt;3,5</td>\n",
       "      <td>Bacharelado</td>\n",
       "      <td>1292</td>\n",
       "    </tr>\n",
       "    <tr>\n",
       "      <th>164</th>\n",
       "      <td>Evadidos</td>\n",
       "      <td>RFP&gt;3,5</td>\n",
       "      <td>Licenciatura</td>\n",
       "      <td>763</td>\n",
       "    </tr>\n",
       "    <tr>\n",
       "      <th>168</th>\n",
       "      <td>Evadidos</td>\n",
       "      <td>RFP&gt;3,5</td>\n",
       "      <td>Tecnologia</td>\n",
       "      <td>787</td>\n",
       "    </tr>\n",
       "  </tbody>\n",
       "</table>\n",
       "</div>"
      ],
      "text/plain": [
       "    categoria_situacao renda_familiar    tipo_curso  quant_grupo\n",
       "0          Concluintes   0,5<RFP<=1,0   Bacharelado         1324\n",
       "6          Concluintes   0,5<RFP<=1,0  Licenciatura         1579\n",
       "10         Concluintes   0,5<RFP<=1,0    Tecnologia         2053\n",
       "12         Concluintes     0<RFP<=0,5   Bacharelado          887\n",
       "18         Concluintes     0<RFP<=0,5  Licenciatura         1516\n",
       "22         Concluintes     0<RFP<=0,5    Tecnologia         2139\n",
       "24         Concluintes   1,0<RFP<=1,5   Bacharelado          903\n",
       "30         Concluintes   1,0<RFP<=1,5  Licenciatura         1014\n",
       "34         Concluintes   1,0<RFP<=1,5    Tecnologia         1316\n",
       "36         Concluintes   1,5<RFP<=2,5   Bacharelado         1077\n",
       "42         Concluintes   1,5<RFP<=2,5  Licenciatura          813\n",
       "46         Concluintes   1,5<RFP<=2,5    Tecnologia         1108\n",
       "48         Concluintes   2,5<RFP<=3,5   Bacharelado          516\n",
       "54         Concluintes   2,5<RFP<=3,5  Licenciatura          307\n",
       "58         Concluintes   2,5<RFP<=3,5    Tecnologia          456\n",
       "60         Concluintes  NÃO DECLARADA   Bacharelado         5157\n",
       "66         Concluintes  NÃO DECLARADA  Licenciatura         4273\n",
       "70         Concluintes  NÃO DECLARADA    Tecnologia         6161\n",
       "72         Concluintes        RFP>3,5   Bacharelado          770\n",
       "78         Concluintes        RFP>3,5  Licenciatura          353\n",
       "82         Concluintes        RFP>3,5    Tecnologia          468\n",
       "84            Evadidos   0,5<RFP<=1,0   Bacharelado         3076\n",
       "91            Evadidos   0,5<RFP<=1,0  Licenciatura         3928\n",
       "95            Evadidos   0,5<RFP<=1,0    Tecnologia         3716\n",
       "97            Evadidos     0<RFP<=0,5   Bacharelado         2123\n",
       "103           Evadidos     0<RFP<=0,5  Licenciatura         4041\n",
       "107           Evadidos     0<RFP<=0,5    Tecnologia         4115\n",
       "109           Evadidos   1,0<RFP<=1,5   Bacharelado         2233\n",
       "115           Evadidos   1,0<RFP<=1,5  Licenciatura         2613\n",
       "119           Evadidos   1,0<RFP<=1,5    Tecnologia         2505\n",
       "121           Evadidos   1,5<RFP<=2,5   Bacharelado         2035\n",
       "127           Evadidos   1,5<RFP<=2,5  Licenciatura         1621\n",
       "131           Evadidos   1,5<RFP<=2,5    Tecnologia         1811\n",
       "133           Evadidos   2,5<RFP<=3,5   Bacharelado          884\n",
       "139           Evadidos   2,5<RFP<=3,5  Licenciatura          640\n",
       "143           Evadidos   2,5<RFP<=3,5    Tecnologia          720\n",
       "145           Evadidos  NÃO DECLARADA   Bacharelado         9633\n",
       "152           Evadidos  NÃO DECLARADA  Licenciatura        13382\n",
       "156           Evadidos  NÃO DECLARADA    Tecnologia        14609\n",
       "158           Evadidos        RFP>3,5   Bacharelado         1292\n",
       "164           Evadidos        RFP>3,5  Licenciatura          763\n",
       "168           Evadidos        RFP>3,5    Tecnologia          787"
      ]
     },
     "execution_count": 9,
     "metadata": {},
     "output_type": "execute_result"
    }
   ],
   "source": [
    "if curse_types :\n",
    "    original_df = original_df[original_df['tipo_curso'].isin(curse_types)]\n",
    "    print('Fitrando pelos tipos de cursos:\\n {}'.format(', '.join(map(str,curse_types))))\n",
    "    \n",
    "else:\n",
    "    print('Todos os cursos')\n",
    "original_df"
   ]
  },
  {
   "cell_type": "markdown",
   "id": "7ec20789-46a9-4fe3-a253-af98a4b954a2",
   "metadata": {},
   "source": [
    "## Agrupando"
   ]
  },
  {
   "cell_type": "markdown",
   "id": "335930e4-eab0-4f54-a106-eedcc350b82c",
   "metadata": {
    "tags": []
   },
   "source": [
    "### Agrupando os valores para apresentar no gráfico"
   ]
  },
  {
   "cell_type": "code",
   "execution_count": 10,
   "id": "4446af89-d272-4ecc-a5f3-b9e5bcf9ba1d",
   "metadata": {},
   "outputs": [],
   "source": [
    "df = original_df.groupby(['categoria_situacao',field]).sum('quant_grupo').reset_index()\n",
    "df_qtd = original_df.groupby([field]).sum('quant_grupo').reset_index()\n",
    "order = list(df_qtd.sort_values('quant_grupo', ascending=False)[field])"
   ]
  },
  {
   "cell_type": "markdown",
   "id": "f88cc77a-3ab3-4002-8bd6-1063935b2740",
   "metadata": {},
   "source": [
    "### Ordenação personalizada"
   ]
  },
  {
   "cell_type": "code",
   "execution_count": 11,
   "id": "35419629-e171-4602-a03b-77f675839b9f",
   "metadata": {},
   "outputs": [],
   "source": [
    "order = [\n",
    "    '0<RFP<=0,5',\n",
    "    '0,5<RFP<=1,0',\n",
    "    '1,0<RFP<=1,5',\n",
    "    '1,5<RFP<=2,5',\n",
    "    '2,5<RFP<=3,5',\n",
    "    'RFP>3,5',\n",
    "    'NÃO DECLARADA'\n",
    "]"
   ]
  },
  {
   "cell_type": "markdown",
   "id": "bf56dbc7-d58b-40cb-ba3c-3b09aae80740",
   "metadata": {},
   "source": [
    "### Ordenando dados"
   ]
  },
  {
   "cell_type": "code",
   "execution_count": 12,
   "id": "fc4037e4-d970-4bba-a89b-9b05e7b9047a",
   "metadata": {},
   "outputs": [],
   "source": [
    "sort_keys = {v:k for k,v in enumerate(order)}\n",
    "func_sort = lambda e: sort_keys[e]\n",
    "df_cat = df.pivot_table('quant_grupo',[field],'categoria_situacao').sort_values(by=field, key=lambda col: col.map(func_sort))\n",
    "df_qtd = df_qtd.pivot_table('quant_grupo',[field]).sort_values(by=field, key=lambda col: col.map(func_sort))"
   ]
  },
  {
   "cell_type": "markdown",
   "id": "6078a46e-5bb1-4775-9dae-e1155db3a233",
   "metadata": {},
   "source": [
    "### Apresentando o gráfico"
   ]
  },
  {
   "cell_type": "code",
   "execution_count": 13,
   "id": "f7b7b1d7-c938-4a66-998b-07e0201dcf29",
   "metadata": {},
   "outputs": [
    {
     "data": {
      "text/plain": [
       "<AxesSubplot:xlabel='renda_familiar'>"
      ]
     },
     "execution_count": 13,
     "metadata": {},
     "output_type": "execute_result"
    },
    {
     "data": {
      "image/png": "[encoded data removed]",
      "text/plain": [
       "<Figure size 1440x576 with 1 Axes>"
      ]
     },
     "metadata": {
      "needs_background": "light"
     },
     "output_type": "display_data"
    }
   ],
   "source": [
    "df_qtd.plot(kind ='bar', figsize=(20, 8), width = 0.7)"
   ]
  },
  {
   "cell_type": "code",
   "execution_count": 14,
   "id": "30a751a2-d8b4-4cbf-bfe0-a3ba1ca8eab5",
   "metadata": {},
   "outputs": [
    {
     "data": {
      "text/plain": [
       "<AxesSubplot:xlabel='renda_familiar'>"
      ]
     },
     "execution_count": 14,
     "metadata": {},
     "output_type": "execute_result"
    },
    {
     "data": {
      "image/png": "[encoded data removed]",
      "text/plain": [
       "<Figure size 1440x576 with 1 Axes>"
      ]
     },
     "metadata": {
      "needs_background": "light"
     },
     "output_type": "display_data"
    }
   ],
   "source": [
    "df_cat.plot(kind ='bar', figsize=(20, 8), width = 0.7)"
   ]
  },
  {
   "cell_type": "markdown",
   "id": "bd5d106d-2dc8-4594-b60f-ee7a686528ae",
   "metadata": {},
   "source": [
    "## Total de Alunos"
   ]
  },
  {
   "cell_type": "code",
   "execution_count": 15,
   "id": "b4cf290e-0e78-46dd-be37-de5e61d4f538",
   "metadata": {},
   "outputs": [
    {
     "data": {
      "text/html": [
       "<div>\n",
       "<style scoped>\n",
       "    .dataframe tbody tr th:only-of-type {\n",
       "        vertical-align: middle;\n",
       "    }\n",
       "\n",
       "    .dataframe tbody tr th {\n",
       "        vertical-align: top;\n",
       "    }\n",
       "\n",
       "    .dataframe thead th {\n",
       "        text-align: right;\n",
       "    }\n",
       "</style>\n",
       "<table border=\"1\" class=\"dataframe\">\n",
       "  <thead>\n",
       "    <tr style=\"text-align: right;\">\n",
       "      <th>categoria_situacao</th>\n",
       "      <th>Concluintes</th>\n",
       "      <th>Evadidos</th>\n",
       "      <th>total</th>\n",
       "      <th>Concluintes_%</th>\n",
       "      <th>Evadidos_%</th>\n",
       "      <th>total_%</th>\n",
       "    </tr>\n",
       "    <tr>\n",
       "      <th>renda_familiar</th>\n",
       "      <th></th>\n",
       "      <th></th>\n",
       "      <th></th>\n",
       "      <th></th>\n",
       "      <th></th>\n",
       "      <th></th>\n",
       "    </tr>\n",
       "  </thead>\n",
       "  <tbody>\n",
       "    <tr>\n",
       "      <th>0&lt;RFP&lt;=0,5</th>\n",
       "      <td>4542</td>\n",
       "      <td>10279</td>\n",
       "      <td>14821</td>\n",
       "      <td>0.306457</td>\n",
       "      <td>0.693543</td>\n",
       "      <td>0.133864</td>\n",
       "    </tr>\n",
       "    <tr>\n",
       "      <th>0,5&lt;RFP&lt;=1,0</th>\n",
       "      <td>4956</td>\n",
       "      <td>10720</td>\n",
       "      <td>15676</td>\n",
       "      <td>0.316152</td>\n",
       "      <td>0.683848</td>\n",
       "      <td>0.141586</td>\n",
       "    </tr>\n",
       "    <tr>\n",
       "      <th>1,0&lt;RFP&lt;=1,5</th>\n",
       "      <td>3233</td>\n",
       "      <td>7351</td>\n",
       "      <td>10584</td>\n",
       "      <td>0.305461</td>\n",
       "      <td>0.694539</td>\n",
       "      <td>0.095595</td>\n",
       "    </tr>\n",
       "    <tr>\n",
       "      <th>1,5&lt;RFP&lt;=2,5</th>\n",
       "      <td>2998</td>\n",
       "      <td>5467</td>\n",
       "      <td>8465</td>\n",
       "      <td>0.354164</td>\n",
       "      <td>0.645836</td>\n",
       "      <td>0.076456</td>\n",
       "    </tr>\n",
       "    <tr>\n",
       "      <th>2,5&lt;RFP&lt;=3,5</th>\n",
       "      <td>1279</td>\n",
       "      <td>2244</td>\n",
       "      <td>3523</td>\n",
       "      <td>0.363043</td>\n",
       "      <td>0.636957</td>\n",
       "      <td>0.031820</td>\n",
       "    </tr>\n",
       "    <tr>\n",
       "      <th>RFP&gt;3,5</th>\n",
       "      <td>1591</td>\n",
       "      <td>2842</td>\n",
       "      <td>4433</td>\n",
       "      <td>0.358899</td>\n",
       "      <td>0.641101</td>\n",
       "      <td>0.040039</td>\n",
       "    </tr>\n",
       "    <tr>\n",
       "      <th>NÃO DECLARADA</th>\n",
       "      <td>15591</td>\n",
       "      <td>37624</td>\n",
       "      <td>53215</td>\n",
       "      <td>0.292981</td>\n",
       "      <td>0.707019</td>\n",
       "      <td>0.480640</td>\n",
       "    </tr>\n",
       "  </tbody>\n",
       "</table>\n",
       "</div>"
      ],
      "text/plain": [
       "categoria_situacao  Concluintes  Evadidos  total  Concluintes_%  Evadidos_%  \\\n",
       "renda_familiar                                                                \n",
       "0<RFP<=0,5                 4542     10279  14821       0.306457    0.693543   \n",
       "0,5<RFP<=1,0               4956     10720  15676       0.316152    0.683848   \n",
       "1,0<RFP<=1,5               3233      7351  10584       0.305461    0.694539   \n",
       "1,5<RFP<=2,5               2998      5467   8465       0.354164    0.645836   \n",
       "2,5<RFP<=3,5               1279      2244   3523       0.363043    0.636957   \n",
       "RFP>3,5                    1591      2842   4433       0.358899    0.641101   \n",
       "NÃO DECLARADA             15591     37624  53215       0.292981    0.707019   \n",
       "\n",
       "categoria_situacao   total_%  \n",
       "renda_familiar                \n",
       "0<RFP<=0,5          0.133864  \n",
       "0,5<RFP<=1,0        0.141586  \n",
       "1,0<RFP<=1,5        0.095595  \n",
       "1,5<RFP<=2,5        0.076456  \n",
       "2,5<RFP<=3,5        0.031820  \n",
       "RFP>3,5             0.040039  \n",
       "NÃO DECLARADA       0.480640  "
      ]
     },
     "execution_count": 15,
     "metadata": {},
     "output_type": "execute_result"
    }
   ],
   "source": [
    "categories = list(df['categoria_situacao'].unique())\n",
    "total = df['quant_grupo'].sum()\n",
    "df_res = df_cat \n",
    "df_res['total'] = df_res[categories].sum(axis=1)\n",
    "for category in categories:\n",
    "    df_res[category + '_%'] = df_res[category] / df_res['total']\n",
    "df_res['total_%'] = df_res['total'] / total\n",
    "df_res"
   ]
  },
  {
   "cell_type": "code",
   "execution_count": 16,
   "id": "9a3a3e41-caea-4f67-86ca-91498ef7c8a9",
   "metadata": {},
   "outputs": [
    {
     "name": "stdout",
     "output_type": "stream",
     "text": [
      "Total de alunos: 110.717\n"
     ]
    }
   ],
   "source": [
    "print(\"Total de alunos: {:,}\".format(df['quant_grupo'].sum()).replace(',','.'))"
   ]
  },
  {
   "cell_type": "markdown",
   "id": "d2f940fe-0a52-498e-8a33-de138d5040d2",
   "metadata": {},
   "source": [
    "# Porcentagem de Conclusão"
   ]
  },
  {
   "cell_type": "code",
   "execution_count": 17,
   "id": "981834d8-00a5-4a3a-9f24-4227b34ef83a",
   "metadata": {},
   "outputs": [
    {
     "data": {
      "text/plain": [
       "<AxesSubplot:xlabel='renda_familiar'>"
      ]
     },
     "execution_count": 17,
     "metadata": {},
     "output_type": "execute_result"
    },
    {
     "data": {
      "image/png": "[encoded data removed]",
      "text/plain": [
       "<Figure size 1440x576 with 1 Axes>"
      ]
     },
     "metadata": {
      "needs_background": "light"
     },
     "output_type": "display_data"
    }
   ],
   "source": [
    "df_drp = df_res['Concluintes_%'] * 100\n",
    "\n",
    "df_drp.plot(kind ='bar', figsize=(20, 8), width = 0.7)"
   ]
  }
 ],
 "metadata": {
  "kernelspec": {
   "display_name": "Python 3 (ipykernel)",
   "language": "python",
   "name": "python3"
  },
  "language_info": {
   "codemirror_mode": {
    "name": "ipython",
    "version": 3
   },
   "file_extension": ".py",
   "mimetype": "text/x-python",
   "name": "python",
   "nbconvert_exporter": "python",
   "pygments_lexer": "ipython3",
   "version": "3.9.10"
  }
 },
 "nbformat": 4,
 "nbformat_minor": 5
}
