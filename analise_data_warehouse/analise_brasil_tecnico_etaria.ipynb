{
 "cells": [
  {
   "cell_type": "markdown",
   "id": "4740b615-b9f1-4904-a7d2-f117a0b9949c",
   "metadata": {
    "tags": []
   },
   "source": [
    "# Análise do Data Warehouse\n",
    "\n",
    "Análise dos dados disponibilizados no Data Warehouse\n",
    "\n",
    "\n",
    "\n",
    "**Instalando o Cassandra no Jupyter**\n",
    "\n",
    "`docker-compose exec jupyter pip install cassandra-driver`"
   ]
  },
  {
   "cell_type": "markdown",
   "id": "97163e22-a386-4ed2-a63f-d4bda25574d6",
   "metadata": {
    "tags": []
   },
   "source": [
    "## Imports"
   ]
  },
  {
   "cell_type": "code",
   "execution_count": 1,
   "id": "c7426745-0909-40dc-b7fc-caa7d3fd94af",
   "metadata": {},
   "outputs": [],
   "source": [
    "#Imports\n",
    "from time import sleep"
   ]
  },
  {
   "cell_type": "code",
   "execution_count": 2,
   "id": "3f315cff-37ec-4419-adfb-4d24fab7fd1c",
   "metadata": {},
   "outputs": [],
   "source": [
    "#Imports Cassandra\n",
    "from cassandra.auth import PlainTextAuthProvider\n",
    "from cassandra.cluster import Cluster"
   ]
  },
  {
   "cell_type": "code",
   "execution_count": 3,
   "id": "aac05b52-5d1e-4cf9-840a-f21c27397297",
   "metadata": {},
   "outputs": [],
   "source": [
    "#Imports Pandas\n",
    "import pandas as pd\n",
    "import seaborn as sns\n",
    "import matplotlib as mpl\n",
    "import matplotlib.pyplot as plt\n",
    "def pandas_factory(colnames, rows):\n",
    "    return pd.DataFrame(rows, columns=colnames)"
   ]
  },
  {
   "cell_type": "markdown",
   "id": "840aad20-8c10-4d3f-b46f-52b6538af87e",
   "metadata": {
    "tags": []
   },
   "source": [
    "## Conexão ao banco de Dados Cassandra"
   ]
  },
  {
   "cell_type": "code",
   "execution_count": 4,
   "id": "7f340598-3fde-4f94-9f5c-a7bc67eb70b6",
   "metadata": {},
   "outputs": [],
   "source": [
    "#Conectando a seção\n",
    "ap = PlainTextAuthProvider(username='cassandra', password='cassandra')\n",
    "cluster = Cluster(['cassandra'], protocol_version=4, auth_provider=ap)\n",
    "session = cluster.connect('alunos')\n",
    "session.default_timeout = 60\n",
    "session.row_factory = pandas_factory\n",
    "sleep(2)"
   ]
  },
  {
   "cell_type": "markdown",
   "id": "2851a1d7-03eb-4493-8dc4-b9ab2f4f092d",
   "metadata": {
    "tags": []
   },
   "source": [
    "## Consulta"
   ]
  },
  {
   "cell_type": "markdown",
   "id": "7c44def4-9072-404f-a474-77f3d8a889df",
   "metadata": {
    "tags": []
   },
   "source": [
    "### Configurando a consulta\n",
    "Atribuindo valores para as consultas"
   ]
  },
  {
   "cell_type": "code",
   "execution_count": 5,
   "id": "50725e10-e250-4410-bf5c-6cf1763e6e40",
   "metadata": {
    "tags": []
   },
   "outputs": [],
   "source": [
    "table = 'fato_aluno_etaria'\n",
    "field = 'faixa_etaria'\n",
    "curse_types = ['Técnico']\n",
    "filters = {    \n",
    "    'categoria_situacao': ['Evadidos','Concluintes'],\n",
    "    field: True,\n",
    "    'tipo_curso': len(curse_types) > 0,\n",
    "    'instituicao': '',\n",
    "    'unidade_ensino': '',\n",
    "    'nome_curso': '',\n",
    "    \n",
    "}"
   ]
  },
  {
   "cell_type": "markdown",
   "id": "f0dfc88e-6505-42f8-b68e-9b38c128dd92",
   "metadata": {
    "tags": []
   },
   "source": [
    "### Construindo a string para a consulta\n",
    "Criando fields e grupos para a consulta"
   ]
  },
  {
   "cell_type": "code",
   "execution_count": 6,
   "id": "85034c45-3e88-44c2-b4f5-6d01a27a932d",
   "metadata": {},
   "outputs": [],
   "source": [
    "s = []\n",
    "gf = []\n",
    "for k, v in filters.items():\n",
    "    if v :\n",
    "        if type(v) is str:\n",
    "            s.append(\"({} = '{}')\".format(k,v))            \n",
    "        elif type(v) is list:\n",
    "            s.append(\"({} IN ({}))\".format(\n",
    "                k,','.join(map(str,[\"'{}'\".format(i) for i in v]))))\n",
    "        if (type(v) is bool and v) or (not type(v) is bool):\n",
    "            gf.append(k)\n",
    "filter_sql = \" AND \".join(map(str,s))\n",
    "fields = \", \".join(map(str,gf))\n"
   ]
  },
  {
   "cell_type": "markdown",
   "id": "47b5d514-559a-48aa-884c-5984db21f00d",
   "metadata": {
    "tags": []
   },
   "source": [
    "### Execultado a consulta"
   ]
  },
  {
   "cell_type": "code",
   "execution_count": 7,
   "id": "142510d9-d626-46c2-b2e7-a1dbaf8bd324",
   "metadata": {},
   "outputs": [
    {
     "data": {
      "text/html": [
       "<div>\n",
       "<style scoped>\n",
       "    .dataframe tbody tr th:only-of-type {\n",
       "        vertical-align: middle;\n",
       "    }\n",
       "\n",
       "    .dataframe tbody tr th {\n",
       "        vertical-align: top;\n",
       "    }\n",
       "\n",
       "    .dataframe thead th {\n",
       "        text-align: right;\n",
       "    }\n",
       "</style>\n",
       "<table border=\"1\" class=\"dataframe\">\n",
       "  <thead>\n",
       "    <tr style=\"text-align: right;\">\n",
       "      <th></th>\n",
       "      <th>categoria_situacao</th>\n",
       "      <th>faixa_etaria</th>\n",
       "      <th>tipo_curso</th>\n",
       "      <th>quant_grupo</th>\n",
       "    </tr>\n",
       "  </thead>\n",
       "  <tbody>\n",
       "    <tr>\n",
       "      <th>0</th>\n",
       "      <td>Concluintes</td>\n",
       "      <td>15 a 19 anos</td>\n",
       "      <td>Bacharelado</td>\n",
       "      <td>2</td>\n",
       "    </tr>\n",
       "    <tr>\n",
       "      <th>1</th>\n",
       "      <td>Concluintes</td>\n",
       "      <td>15 a 19 anos</td>\n",
       "      <td>Ensino Fundamental I</td>\n",
       "      <td>4</td>\n",
       "    </tr>\n",
       "    <tr>\n",
       "      <th>2</th>\n",
       "      <td>Concluintes</td>\n",
       "      <td>15 a 19 anos</td>\n",
       "      <td>Ensino Fundamental II</td>\n",
       "      <td>1740</td>\n",
       "    </tr>\n",
       "    <tr>\n",
       "      <th>3</th>\n",
       "      <td>Concluintes</td>\n",
       "      <td>15 a 19 anos</td>\n",
       "      <td>Ensino Médio</td>\n",
       "      <td>1800</td>\n",
       "    </tr>\n",
       "    <tr>\n",
       "      <th>4</th>\n",
       "      <td>Concluintes</td>\n",
       "      <td>15 a 19 anos</td>\n",
       "      <td>Especialização (Lato Sensu)</td>\n",
       "      <td>1</td>\n",
       "    </tr>\n",
       "    <tr>\n",
       "      <th>...</th>\n",
       "      <td>...</td>\n",
       "      <td>...</td>\n",
       "      <td>...</td>\n",
       "      <td>...</td>\n",
       "    </tr>\n",
       "    <tr>\n",
       "      <th>196</th>\n",
       "      <td>Evadidos</td>\n",
       "      <td>Menor de 14 anos</td>\n",
       "      <td>Ensino Médio</td>\n",
       "      <td>10</td>\n",
       "    </tr>\n",
       "    <tr>\n",
       "      <th>197</th>\n",
       "      <td>Evadidos</td>\n",
       "      <td>Menor de 14 anos</td>\n",
       "      <td>Licenciatura</td>\n",
       "      <td>3</td>\n",
       "    </tr>\n",
       "    <tr>\n",
       "      <th>198</th>\n",
       "      <td>Evadidos</td>\n",
       "      <td>Menor de 14 anos</td>\n",
       "      <td>Qualificação Profissional (FIC)</td>\n",
       "      <td>1614</td>\n",
       "    </tr>\n",
       "    <tr>\n",
       "      <th>199</th>\n",
       "      <td>Evadidos</td>\n",
       "      <td>Menor de 14 anos</td>\n",
       "      <td>Tecnologia</td>\n",
       "      <td>4</td>\n",
       "    </tr>\n",
       "    <tr>\n",
       "      <th>200</th>\n",
       "      <td>Evadidos</td>\n",
       "      <td>Menor de 14 anos</td>\n",
       "      <td>Técnico</td>\n",
       "      <td>93</td>\n",
       "    </tr>\n",
       "  </tbody>\n",
       "</table>\n",
       "<p>201 rows × 4 columns</p>\n",
       "</div>"
      ],
      "text/plain": [
       "    categoria_situacao      faixa_etaria                       tipo_curso  \\\n",
       "0          Concluintes      15 a 19 anos                      Bacharelado   \n",
       "1          Concluintes      15 a 19 anos             Ensino Fundamental I   \n",
       "2          Concluintes      15 a 19 anos            Ensino Fundamental II   \n",
       "3          Concluintes      15 a 19 anos                     Ensino Médio   \n",
       "4          Concluintes      15 a 19 anos      Especialização (Lato Sensu)   \n",
       "..                 ...               ...                              ...   \n",
       "196           Evadidos  Menor de 14 anos                     Ensino Médio   \n",
       "197           Evadidos  Menor de 14 anos                     Licenciatura   \n",
       "198           Evadidos  Menor de 14 anos  Qualificação Profissional (FIC)   \n",
       "199           Evadidos  Menor de 14 anos                       Tecnologia   \n",
       "200           Evadidos  Menor de 14 anos                          Técnico   \n",
       "\n",
       "     quant_grupo  \n",
       "0              2  \n",
       "1              4  \n",
       "2           1740  \n",
       "3           1800  \n",
       "4              1  \n",
       "..           ...  \n",
       "196           10  \n",
       "197            3  \n",
       "198         1614  \n",
       "199            4  \n",
       "200           93  \n",
       "\n",
       "[201 rows x 4 columns]"
      ]
     },
     "execution_count": 7,
     "metadata": {},
     "output_type": "execute_result"
    }
   ],
   "source": [
    "#Execultado Consulta\n",
    "sql = \"SELECT {0}, sum(quant_grupo) AS quant_grupo\" \\\n",
    "\" FROM {1} \" \\\n",
    "\" WHERE {2} \" \\\n",
    "\" GROUP BY {0}\" \\\n",
    "\" ALLOW FILTERING;\".format(\n",
    "    fields,\n",
    "    table,\n",
    "    filter_sql)\n",
    "rslt = session.execute(sql, timeout=None)\n",
    "original_df = rslt._current_rows\n",
    "original_df\n"
   ]
  },
  {
   "cell_type": "markdown",
   "id": "6767adad-3ec3-4d45-aaf6-9f1ed3d64ce2",
   "metadata": {
    "tags": []
   },
   "source": [
    "## Análise"
   ]
  },
  {
   "cell_type": "code",
   "execution_count": 8,
   "id": "83ab7dde-87ac-4978-8ceb-394bc0ca2c27",
   "metadata": {},
   "outputs": [
    {
     "name": "stdout",
     "output_type": "stream",
     "text": [
      "Número de registros 201 e número de colunas 4.\n"
     ]
    }
   ],
   "source": [
    "s = original_df.shape\n",
    "print(\"Número de registros {:,} e número de colunas {:,}.\".format(s[0], s[1]).replace(',','.'))"
   ]
  },
  {
   "cell_type": "markdown",
   "id": "083b5b33-0eb8-4021-9028-776fb070d6c1",
   "metadata": {
    "tags": []
   },
   "source": [
    "## Filtrando Tipo do Curso"
   ]
  },
  {
   "cell_type": "code",
   "execution_count": 9,
   "id": "acd839ad-e03f-412f-8822-cb906b4f3b25",
   "metadata": {
    "tags": []
   },
   "outputs": [
    {
     "name": "stdout",
     "output_type": "stream",
     "text": [
      "Fitrando pelos tipos de cursos:\n",
      " Técnico\n"
     ]
    },
    {
     "data": {
      "text/html": [
       "<div>\n",
       "<style scoped>\n",
       "    .dataframe tbody tr th:only-of-type {\n",
       "        vertical-align: middle;\n",
       "    }\n",
       "\n",
       "    .dataframe tbody tr th {\n",
       "        vertical-align: top;\n",
       "    }\n",
       "\n",
       "    .dataframe thead th {\n",
       "        text-align: right;\n",
       "    }\n",
       "</style>\n",
       "<table border=\"1\" class=\"dataframe\">\n",
       "  <thead>\n",
       "    <tr style=\"text-align: right;\">\n",
       "      <th></th>\n",
       "      <th>categoria_situacao</th>\n",
       "      <th>faixa_etaria</th>\n",
       "      <th>tipo_curso</th>\n",
       "      <th>quant_grupo</th>\n",
       "    </tr>\n",
       "  </thead>\n",
       "  <tbody>\n",
       "    <tr>\n",
       "      <th>8</th>\n",
       "      <td>Concluintes</td>\n",
       "      <td>15 a 19 anos</td>\n",
       "      <td>Técnico</td>\n",
       "      <td>73681</td>\n",
       "    </tr>\n",
       "    <tr>\n",
       "      <th>18</th>\n",
       "      <td>Concluintes</td>\n",
       "      <td>20 a 24 anos</td>\n",
       "      <td>Técnico</td>\n",
       "      <td>43082</td>\n",
       "    </tr>\n",
       "    <tr>\n",
       "      <th>28</th>\n",
       "      <td>Concluintes</td>\n",
       "      <td>25 a 29 anos</td>\n",
       "      <td>Técnico</td>\n",
       "      <td>14813</td>\n",
       "    </tr>\n",
       "    <tr>\n",
       "      <th>37</th>\n",
       "      <td>Concluintes</td>\n",
       "      <td>30 a 34 anos</td>\n",
       "      <td>Técnico</td>\n",
       "      <td>9630</td>\n",
       "    </tr>\n",
       "    <tr>\n",
       "      <th>46</th>\n",
       "      <td>Concluintes</td>\n",
       "      <td>35 a 39 anos</td>\n",
       "      <td>Técnico</td>\n",
       "      <td>6889</td>\n",
       "    </tr>\n",
       "    <tr>\n",
       "      <th>55</th>\n",
       "      <td>Concluintes</td>\n",
       "      <td>40 a 44 anos</td>\n",
       "      <td>Técnico</td>\n",
       "      <td>4495</td>\n",
       "    </tr>\n",
       "    <tr>\n",
       "      <th>64</th>\n",
       "      <td>Concluintes</td>\n",
       "      <td>45 a 49 anos</td>\n",
       "      <td>Técnico</td>\n",
       "      <td>2921</td>\n",
       "    </tr>\n",
       "    <tr>\n",
       "      <th>73</th>\n",
       "      <td>Concluintes</td>\n",
       "      <td>50 a 54 anos</td>\n",
       "      <td>Técnico</td>\n",
       "      <td>1983</td>\n",
       "    </tr>\n",
       "    <tr>\n",
       "      <th>82</th>\n",
       "      <td>Concluintes</td>\n",
       "      <td>55 a 59 anos</td>\n",
       "      <td>Técnico</td>\n",
       "      <td>952</td>\n",
       "    </tr>\n",
       "    <tr>\n",
       "      <th>91</th>\n",
       "      <td>Concluintes</td>\n",
       "      <td>Maior de 60 anos</td>\n",
       "      <td>Técnico</td>\n",
       "      <td>490</td>\n",
       "    </tr>\n",
       "    <tr>\n",
       "      <th>97</th>\n",
       "      <td>Concluintes</td>\n",
       "      <td>Menor de 14 anos</td>\n",
       "      <td>Técnico</td>\n",
       "      <td>40</td>\n",
       "    </tr>\n",
       "    <tr>\n",
       "      <th>105</th>\n",
       "      <td>Evadidos</td>\n",
       "      <td>15 a 19 anos</td>\n",
       "      <td>Técnico</td>\n",
       "      <td>48174</td>\n",
       "    </tr>\n",
       "    <tr>\n",
       "      <th>115</th>\n",
       "      <td>Evadidos</td>\n",
       "      <td>20 a 24 anos</td>\n",
       "      <td>Técnico</td>\n",
       "      <td>42521</td>\n",
       "    </tr>\n",
       "    <tr>\n",
       "      <th>125</th>\n",
       "      <td>Evadidos</td>\n",
       "      <td>25 a 29 anos</td>\n",
       "      <td>Técnico</td>\n",
       "      <td>21336</td>\n",
       "    </tr>\n",
       "    <tr>\n",
       "      <th>135</th>\n",
       "      <td>Evadidos</td>\n",
       "      <td>30 a 34 anos</td>\n",
       "      <td>Técnico</td>\n",
       "      <td>14031</td>\n",
       "    </tr>\n",
       "    <tr>\n",
       "      <th>145</th>\n",
       "      <td>Evadidos</td>\n",
       "      <td>35 a 39 anos</td>\n",
       "      <td>Técnico</td>\n",
       "      <td>9637</td>\n",
       "    </tr>\n",
       "    <tr>\n",
       "      <th>155</th>\n",
       "      <td>Evadidos</td>\n",
       "      <td>40 a 44 anos</td>\n",
       "      <td>Técnico</td>\n",
       "      <td>5487</td>\n",
       "    </tr>\n",
       "    <tr>\n",
       "      <th>164</th>\n",
       "      <td>Evadidos</td>\n",
       "      <td>45 a 49 anos</td>\n",
       "      <td>Técnico</td>\n",
       "      <td>3427</td>\n",
       "    </tr>\n",
       "    <tr>\n",
       "      <th>173</th>\n",
       "      <td>Evadidos</td>\n",
       "      <td>50 a 54 anos</td>\n",
       "      <td>Técnico</td>\n",
       "      <td>2071</td>\n",
       "    </tr>\n",
       "    <tr>\n",
       "      <th>183</th>\n",
       "      <td>Evadidos</td>\n",
       "      <td>55 a 59 anos</td>\n",
       "      <td>Técnico</td>\n",
       "      <td>1037</td>\n",
       "    </tr>\n",
       "    <tr>\n",
       "      <th>192</th>\n",
       "      <td>Evadidos</td>\n",
       "      <td>Maior de 60 anos</td>\n",
       "      <td>Técnico</td>\n",
       "      <td>588</td>\n",
       "    </tr>\n",
       "    <tr>\n",
       "      <th>200</th>\n",
       "      <td>Evadidos</td>\n",
       "      <td>Menor de 14 anos</td>\n",
       "      <td>Técnico</td>\n",
       "      <td>93</td>\n",
       "    </tr>\n",
       "  </tbody>\n",
       "</table>\n",
       "</div>"
      ],
      "text/plain": [
       "    categoria_situacao      faixa_etaria tipo_curso  quant_grupo\n",
       "8          Concluintes      15 a 19 anos    Técnico        73681\n",
       "18         Concluintes      20 a 24 anos    Técnico        43082\n",
       "28         Concluintes      25 a 29 anos    Técnico        14813\n",
       "37         Concluintes      30 a 34 anos    Técnico         9630\n",
       "46         Concluintes      35 a 39 anos    Técnico         6889\n",
       "55         Concluintes      40 a 44 anos    Técnico         4495\n",
       "64         Concluintes      45 a 49 anos    Técnico         2921\n",
       "73         Concluintes      50 a 54 anos    Técnico         1983\n",
       "82         Concluintes      55 a 59 anos    Técnico          952\n",
       "91         Concluintes  Maior de 60 anos    Técnico          490\n",
       "97         Concluintes  Menor de 14 anos    Técnico           40\n",
       "105           Evadidos      15 a 19 anos    Técnico        48174\n",
       "115           Evadidos      20 a 24 anos    Técnico        42521\n",
       "125           Evadidos      25 a 29 anos    Técnico        21336\n",
       "135           Evadidos      30 a 34 anos    Técnico        14031\n",
       "145           Evadidos      35 a 39 anos    Técnico         9637\n",
       "155           Evadidos      40 a 44 anos    Técnico         5487\n",
       "164           Evadidos      45 a 49 anos    Técnico         3427\n",
       "173           Evadidos      50 a 54 anos    Técnico         2071\n",
       "183           Evadidos      55 a 59 anos    Técnico         1037\n",
       "192           Evadidos  Maior de 60 anos    Técnico          588\n",
       "200           Evadidos  Menor de 14 anos    Técnico           93"
      ]
     },
     "execution_count": 9,
     "metadata": {},
     "output_type": "execute_result"
    }
   ],
   "source": [
    "if curse_types :\n",
    "    original_df = original_df[original_df['tipo_curso'].isin(curse_types)]\n",
    "    print('Fitrando pelos tipos de cursos:\\n {}'.format(', '.join(map(str,curse_types))))\n",
    "    \n",
    "else:\n",
    "    print('Todos os cursos')\n",
    "original_df"
   ]
  },
  {
   "cell_type": "markdown",
   "id": "7ec20789-46a9-4fe3-a253-af98a4b954a2",
   "metadata": {},
   "source": [
    "## Agrupando"
   ]
  },
  {
   "cell_type": "markdown",
   "id": "335930e4-eab0-4f54-a106-eedcc350b82c",
   "metadata": {
    "tags": []
   },
   "source": [
    "### Agrupando os valores para apresentar no gráfico"
   ]
  },
  {
   "cell_type": "code",
   "execution_count": 10,
   "id": "4446af89-d272-4ecc-a5f3-b9e5bcf9ba1d",
   "metadata": {},
   "outputs": [],
   "source": [
    "df = original_df.groupby(['categoria_situacao',field]).sum('quant_grupo').reset_index()\n",
    "df_qtd = original_df.groupby([field]).sum('quant_grupo').reset_index()\n",
    "order = list(df_qtd.sort_values('quant_grupo', ascending=False)[field])"
   ]
  },
  {
   "cell_type": "markdown",
   "id": "f88cc77a-3ab3-4002-8bd6-1063935b2740",
   "metadata": {},
   "source": [
    "### Ordenação personalizada"
   ]
  },
  {
   "cell_type": "code",
   "execution_count": 11,
   "id": "35419629-e171-4602-a03b-77f675839b9f",
   "metadata": {},
   "outputs": [],
   "source": [
    "order = [\n",
    "    'Menor de 14 anos',\n",
    "    '15 a 19 anos',\n",
    "    '20 a 24 anos',\n",
    "    '25 a 29 anos',\n",
    "    '30 a 34 anos',\n",
    "    '35 a 39 anos',\n",
    "    '40 a 44 anos',\n",
    "    '45 a 49 anos',\n",
    "    '50 a 54 anos',\n",
    "    '55 a 59 anos',\n",
    "    'Maior de 60 anos',\n",
    "]"
   ]
  },
  {
   "cell_type": "markdown",
   "id": "bf56dbc7-d58b-40cb-ba3c-3b09aae80740",
   "metadata": {},
   "source": [
    "### Ordenando dados"
   ]
  },
  {
   "cell_type": "code",
   "execution_count": 12,
   "id": "fc4037e4-d970-4bba-a89b-9b05e7b9047a",
   "metadata": {},
   "outputs": [],
   "source": [
    "sort_keys = {v:k for k,v in enumerate(order)}\n",
    "func_sort = lambda e: sort_keys[e]\n",
    "df_cat = df.pivot_table('quant_grupo',[field],'categoria_situacao').sort_values(by=field, key=lambda col: col.map(func_sort))\n",
    "df_qtd = df_qtd.pivot_table('quant_grupo',[field]).sort_values(by=field, key=lambda col: col.map(func_sort))"
   ]
  },
  {
   "cell_type": "markdown",
   "id": "6078a46e-5bb1-4775-9dae-e1155db3a233",
   "metadata": {},
   "source": [
    "### Apresentando o gráfico"
   ]
  },
  {
   "cell_type": "code",
   "execution_count": 13,
   "id": "f7b7b1d7-c938-4a66-998b-07e0201dcf29",
   "metadata": {},
   "outputs": [
    {
     "data": {
      "text/plain": [
       "<AxesSubplot:xlabel='faixa_etaria'>"
      ]
     },
     "execution_count": 13,
     "metadata": {},
     "output_type": "execute_result"
    },
    {
     "data": {
      "image/png": "[encoded data removed]",
      "text/plain": [
       "<Figure size 1440x576 with 1 Axes>"
      ]
     },
     "metadata": {
      "needs_background": "light"
     },
     "output_type": "display_data"
    }
   ],
   "source": [
    "df_qtd.plot(kind ='bar', figsize=(20, 8), width = 0.7)"
   ]
  },
  {
   "cell_type": "code",
   "execution_count": 14,
   "id": "30a751a2-d8b4-4cbf-bfe0-a3ba1ca8eab5",
   "metadata": {},
   "outputs": [
    {
     "data": {
      "text/plain": [
       "<AxesSubplot:xlabel='faixa_etaria'>"
      ]
     },
     "execution_count": 14,
     "metadata": {},
     "output_type": "execute_result"
    },
    {
     "data": {
      "image/png": "[encoded data removed]",
      "text/plain": [
       "<Figure size 1440x576 with 1 Axes>"
      ]
     },
     "metadata": {
      "needs_background": "light"
     },
     "output_type": "display_data"
    }
   ],
   "source": [
    "df_cat.plot(kind ='bar', figsize=(20, 8), width = 0.7)"
   ]
  },
  {
   "cell_type": "markdown",
   "id": "bd5d106d-2dc8-4594-b60f-ee7a686528ae",
   "metadata": {},
   "source": [
    "## Total de Alunos"
   ]
  },
  {
   "cell_type": "code",
   "execution_count": 15,
   "id": "b4cf290e-0e78-46dd-be37-de5e61d4f538",
   "metadata": {},
   "outputs": [
    {
     "data": {
      "text/html": [
       "<div>\n",
       "<style scoped>\n",
       "    .dataframe tbody tr th:only-of-type {\n",
       "        vertical-align: middle;\n",
       "    }\n",
       "\n",
       "    .dataframe tbody tr th {\n",
       "        vertical-align: top;\n",
       "    }\n",
       "\n",
       "    .dataframe thead th {\n",
       "        text-align: right;\n",
       "    }\n",
       "</style>\n",
       "<table border=\"1\" class=\"dataframe\">\n",
       "  <thead>\n",
       "    <tr style=\"text-align: right;\">\n",
       "      <th>categoria_situacao</th>\n",
       "      <th>Concluintes</th>\n",
       "      <th>Evadidos</th>\n",
       "      <th>total</th>\n",
       "      <th>Concluintes_%</th>\n",
       "      <th>Evadidos_%</th>\n",
       "      <th>total_%</th>\n",
       "    </tr>\n",
       "    <tr>\n",
       "      <th>faixa_etaria</th>\n",
       "      <th></th>\n",
       "      <th></th>\n",
       "      <th></th>\n",
       "      <th></th>\n",
       "      <th></th>\n",
       "      <th></th>\n",
       "    </tr>\n",
       "  </thead>\n",
       "  <tbody>\n",
       "    <tr>\n",
       "      <th>Menor de 14 anos</th>\n",
       "      <td>40</td>\n",
       "      <td>93</td>\n",
       "      <td>133</td>\n",
       "      <td>0.300752</td>\n",
       "      <td>0.699248</td>\n",
       "      <td>0.000433</td>\n",
       "    </tr>\n",
       "    <tr>\n",
       "      <th>15 a 19 anos</th>\n",
       "      <td>73681</td>\n",
       "      <td>48174</td>\n",
       "      <td>121855</td>\n",
       "      <td>0.604661</td>\n",
       "      <td>0.395339</td>\n",
       "      <td>0.396434</td>\n",
       "    </tr>\n",
       "    <tr>\n",
       "      <th>20 a 24 anos</th>\n",
       "      <td>43082</td>\n",
       "      <td>42521</td>\n",
       "      <td>85603</td>\n",
       "      <td>0.503277</td>\n",
       "      <td>0.496723</td>\n",
       "      <td>0.278494</td>\n",
       "    </tr>\n",
       "    <tr>\n",
       "      <th>25 a 29 anos</th>\n",
       "      <td>14813</td>\n",
       "      <td>21336</td>\n",
       "      <td>36149</td>\n",
       "      <td>0.409776</td>\n",
       "      <td>0.590224</td>\n",
       "      <td>0.117604</td>\n",
       "    </tr>\n",
       "    <tr>\n",
       "      <th>30 a 34 anos</th>\n",
       "      <td>9630</td>\n",
       "      <td>14031</td>\n",
       "      <td>23661</td>\n",
       "      <td>0.406999</td>\n",
       "      <td>0.593001</td>\n",
       "      <td>0.076977</td>\n",
       "    </tr>\n",
       "    <tr>\n",
       "      <th>35 a 39 anos</th>\n",
       "      <td>6889</td>\n",
       "      <td>9637</td>\n",
       "      <td>16526</td>\n",
       "      <td>0.416858</td>\n",
       "      <td>0.583142</td>\n",
       "      <td>0.053764</td>\n",
       "    </tr>\n",
       "    <tr>\n",
       "      <th>40 a 44 anos</th>\n",
       "      <td>4495</td>\n",
       "      <td>5487</td>\n",
       "      <td>9982</td>\n",
       "      <td>0.450311</td>\n",
       "      <td>0.549689</td>\n",
       "      <td>0.032475</td>\n",
       "    </tr>\n",
       "    <tr>\n",
       "      <th>45 a 49 anos</th>\n",
       "      <td>2921</td>\n",
       "      <td>3427</td>\n",
       "      <td>6348</td>\n",
       "      <td>0.460145</td>\n",
       "      <td>0.539855</td>\n",
       "      <td>0.020652</td>\n",
       "    </tr>\n",
       "    <tr>\n",
       "      <th>50 a 54 anos</th>\n",
       "      <td>1983</td>\n",
       "      <td>2071</td>\n",
       "      <td>4054</td>\n",
       "      <td>0.489147</td>\n",
       "      <td>0.510853</td>\n",
       "      <td>0.013189</td>\n",
       "    </tr>\n",
       "    <tr>\n",
       "      <th>55 a 59 anos</th>\n",
       "      <td>952</td>\n",
       "      <td>1037</td>\n",
       "      <td>1989</td>\n",
       "      <td>0.478632</td>\n",
       "      <td>0.521368</td>\n",
       "      <td>0.006471</td>\n",
       "    </tr>\n",
       "    <tr>\n",
       "      <th>Maior de 60 anos</th>\n",
       "      <td>490</td>\n",
       "      <td>588</td>\n",
       "      <td>1078</td>\n",
       "      <td>0.454545</td>\n",
       "      <td>0.545455</td>\n",
       "      <td>0.003507</td>\n",
       "    </tr>\n",
       "  </tbody>\n",
       "</table>\n",
       "</div>"
      ],
      "text/plain": [
       "categoria_situacao  Concluintes  Evadidos   total  Concluintes_%  Evadidos_%  \\\n",
       "faixa_etaria                                                                   \n",
       "Menor de 14 anos             40        93     133       0.300752    0.699248   \n",
       "15 a 19 anos              73681     48174  121855       0.604661    0.395339   \n",
       "20 a 24 anos              43082     42521   85603       0.503277    0.496723   \n",
       "25 a 29 anos              14813     21336   36149       0.409776    0.590224   \n",
       "30 a 34 anos               9630     14031   23661       0.406999    0.593001   \n",
       "35 a 39 anos               6889      9637   16526       0.416858    0.583142   \n",
       "40 a 44 anos               4495      5487    9982       0.450311    0.549689   \n",
       "45 a 49 anos               2921      3427    6348       0.460145    0.539855   \n",
       "50 a 54 anos               1983      2071    4054       0.489147    0.510853   \n",
       "55 a 59 anos                952      1037    1989       0.478632    0.521368   \n",
       "Maior de 60 anos            490       588    1078       0.454545    0.545455   \n",
       "\n",
       "categoria_situacao   total_%  \n",
       "faixa_etaria                  \n",
       "Menor de 14 anos    0.000433  \n",
       "15 a 19 anos        0.396434  \n",
       "20 a 24 anos        0.278494  \n",
       "25 a 29 anos        0.117604  \n",
       "30 a 34 anos        0.076977  \n",
       "35 a 39 anos        0.053764  \n",
       "40 a 44 anos        0.032475  \n",
       "45 a 49 anos        0.020652  \n",
       "50 a 54 anos        0.013189  \n",
       "55 a 59 anos        0.006471  \n",
       "Maior de 60 anos    0.003507  "
      ]
     },
     "execution_count": 15,
     "metadata": {},
     "output_type": "execute_result"
    }
   ],
   "source": [
    "categories = list(df['categoria_situacao'].unique())\n",
    "total = df['quant_grupo'].sum()\n",
    "df_res = df_cat \n",
    "df_res['total'] = df_res[categories].sum(axis=1)\n",
    "for category in categories:\n",
    "    df_res[category + '_%'] = df_res[category] / df_res['total']\n",
    "df_res['total_%'] = df_res['total'] / total\n",
    "df_res"
   ]
  },
  {
   "cell_type": "code",
   "execution_count": 16,
   "id": "9a3a3e41-caea-4f67-86ca-91498ef7c8a9",
   "metadata": {},
   "outputs": [
    {
     "name": "stdout",
     "output_type": "stream",
     "text": [
      "Total de alunos: 307.378\n"
     ]
    }
   ],
   "source": [
    "print(\"Total de alunos: {:,}\".format(df['quant_grupo'].sum()).replace(',','.'))"
   ]
  },
  {
   "cell_type": "markdown",
   "id": "3ecd8447-1b6f-4409-a978-106c400831cb",
   "metadata": {},
   "source": [
    "# Porcentagem de Conclusão"
   ]
  },
  {
   "cell_type": "code",
   "execution_count": 17,
   "id": "b6630c6e-bb8d-41c6-aef2-f2826622c43f",
   "metadata": {},
   "outputs": [
    {
     "data": {
      "text/plain": [
       "<AxesSubplot:xlabel='faixa_etaria'>"
      ]
     },
     "execution_count": 17,
     "metadata": {},
     "output_type": "execute_result"
    },
    {
     "data": {
      "image/png": "[encoded data removed]",
      "text/plain": [
       "<Figure size 1440x576 with 1 Axes>"
      ]
     },
     "metadata": {
      "needs_background": "light"
     },
     "output_type": "display_data"
    }
   ],
   "source": [
    "df_drp = df_res['Concluintes_%'] * 100\n",
    "\n",
    "df_drp.plot(kind ='bar', figsize=(20, 8), width = 0.7)"
   ]
  }
 ],
 "metadata": {
  "kernelspec": {
   "display_name": "Python 3 (ipykernel)",
   "language": "python",
   "name": "python3"
  },
  "language_info": {
   "codemirror_mode": {
    "name": "ipython",
    "version": 3
   },
   "file_extension": ".py",
   "mimetype": "text/x-python",
   "name": "python",
   "nbconvert_exporter": "python",
   "pygments_lexer": "ipython3",
   "version": "3.9.10"
  }
 },
 "nbformat": 4,
 "nbformat_minor": 5
}
