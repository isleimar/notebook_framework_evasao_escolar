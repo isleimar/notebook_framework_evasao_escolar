{
 "cells": [
  {
   "cell_type": "markdown",
   "id": "4740b615-b9f1-4904-a7d2-f117a0b9949c",
   "metadata": {
    "tags": []
   },
   "source": [
    "# Análise do Data Warehouse\n",
    "\n",
    "Análise dos dados disponibilizados no Data Warehouse\n",
    "\n",
    "\n",
    "\n",
    "**Instalando o Cassandra no Jupyter**\n",
    "\n",
    "`docker-compose exec jupyter pip install cassandra-driver`"
   ]
  },
  {
   "cell_type": "markdown",
   "id": "97163e22-a386-4ed2-a63f-d4bda25574d6",
   "metadata": {
    "tags": []
   },
   "source": [
    "## Imports"
   ]
  },
  {
   "cell_type": "code",
   "execution_count": 1,
   "id": "c7426745-0909-40dc-b7fc-caa7d3fd94af",
   "metadata": {},
   "outputs": [],
   "source": [
    "#Imports\n",
    "from time import sleep"
   ]
  },
  {
   "cell_type": "code",
   "execution_count": 2,
   "id": "3f315cff-37ec-4419-adfb-4d24fab7fd1c",
   "metadata": {},
   "outputs": [],
   "source": [
    "#Imports Cassandra\n",
    "from cassandra.auth import PlainTextAuthProvider\n",
    "from cassandra.cluster import Cluster"
   ]
  },
  {
   "cell_type": "code",
   "execution_count": 3,
   "id": "aac05b52-5d1e-4cf9-840a-f21c27397297",
   "metadata": {},
   "outputs": [],
   "source": [
    "#Imports Pandas\n",
    "import pandas as pd\n",
    "import seaborn as sns\n",
    "import matplotlib as mpl\n",
    "import matplotlib.pyplot as plt\n",
    "def pandas_factory(colnames, rows):\n",
    "    return pd.DataFrame(rows, columns=colnames)"
   ]
  },
  {
   "cell_type": "markdown",
   "id": "840aad20-8c10-4d3f-b46f-52b6538af87e",
   "metadata": {
    "tags": []
   },
   "source": [
    "## Conexão ao banco de Dados Cassandra"
   ]
  },
  {
   "cell_type": "code",
   "execution_count": 4,
   "id": "7f340598-3fde-4f94-9f5c-a7bc67eb70b6",
   "metadata": {},
   "outputs": [],
   "source": [
    "#Conectando a seção\n",
    "ap = PlainTextAuthProvider(username='cassandra', password='cassandra')\n",
    "cluster = Cluster(['cassandra'], protocol_version=4, auth_provider=ap)\n",
    "session = cluster.connect('alunos')\n",
    "session.default_timeout = 60\n",
    "session.row_factory = pandas_factory\n",
    "sleep(2)"
   ]
  },
  {
   "cell_type": "markdown",
   "id": "2851a1d7-03eb-4493-8dc4-b9ab2f4f092d",
   "metadata": {
    "tags": []
   },
   "source": [
    "## Consulta"
   ]
  },
  {
   "cell_type": "markdown",
   "id": "7c44def4-9072-404f-a474-77f3d8a889df",
   "metadata": {
    "tags": []
   },
   "source": [
    "### Configurando a consulta\n",
    "Atribuindo valores para as consultas"
   ]
  },
  {
   "cell_type": "code",
   "execution_count": 5,
   "id": "50725e10-e250-4410-bf5c-6cf1763e6e40",
   "metadata": {
    "tags": []
   },
   "outputs": [],
   "source": [
    "table = 'fato_aluno_etaria'\n",
    "field = 'faixa_etaria'\n",
    "curse_types = ['Bacharelado','Licenciatura','Tecnologia']\n",
    "filters = {    \n",
    "    'categoria_situacao': ['Evadidos','Concluintes'],\n",
    "    field: True,\n",
    "    'tipo_curso': len(curse_types) > 0,\n",
    "    'instituicao': '',\n",
    "    'unidade_ensino': '',\n",
    "    'nome_curso': '',\n",
    "    \n",
    "}"
   ]
  },
  {
   "cell_type": "markdown",
   "id": "f0dfc88e-6505-42f8-b68e-9b38c128dd92",
   "metadata": {
    "tags": []
   },
   "source": [
    "### Construindo a string para a consulta\n",
    "Criando fields e grupos para a consulta"
   ]
  },
  {
   "cell_type": "code",
   "execution_count": 6,
   "id": "85034c45-3e88-44c2-b4f5-6d01a27a932d",
   "metadata": {},
   "outputs": [],
   "source": [
    "s = []\n",
    "gf = []\n",
    "for k, v in filters.items():\n",
    "    if v :\n",
    "        if type(v) is str:\n",
    "            s.append(\"({} = '{}')\".format(k,v))            \n",
    "        elif type(v) is list:\n",
    "            s.append(\"({} IN ({}))\".format(\n",
    "                k,','.join(map(str,[\"'{}'\".format(i) for i in v]))))\n",
    "        if (type(v) is bool and v) or (not type(v) is bool):\n",
    "            gf.append(k)\n",
    "filter_sql = \" AND \".join(map(str,s))\n",
    "fields = \", \".join(map(str,gf))\n"
   ]
  },
  {
   "cell_type": "markdown",
   "id": "47b5d514-559a-48aa-884c-5984db21f00d",
   "metadata": {
    "tags": []
   },
   "source": [
    "### Execultado a consulta"
   ]
  },
  {
   "cell_type": "code",
   "execution_count": 7,
   "id": "142510d9-d626-46c2-b2e7-a1dbaf8bd324",
   "metadata": {},
   "outputs": [
    {
     "data": {
      "text/html": [
       "<div>\n",
       "<style scoped>\n",
       "    .dataframe tbody tr th:only-of-type {\n",
       "        vertical-align: middle;\n",
       "    }\n",
       "\n",
       "    .dataframe tbody tr th {\n",
       "        vertical-align: top;\n",
       "    }\n",
       "\n",
       "    .dataframe thead th {\n",
       "        text-align: right;\n",
       "    }\n",
       "</style>\n",
       "<table border=\"1\" class=\"dataframe\">\n",
       "  <thead>\n",
       "    <tr style=\"text-align: right;\">\n",
       "      <th></th>\n",
       "      <th>categoria_situacao</th>\n",
       "      <th>faixa_etaria</th>\n",
       "      <th>tipo_curso</th>\n",
       "      <th>quant_grupo</th>\n",
       "    </tr>\n",
       "  </thead>\n",
       "  <tbody>\n",
       "    <tr>\n",
       "      <th>0</th>\n",
       "      <td>Concluintes</td>\n",
       "      <td>15 a 19 anos</td>\n",
       "      <td>Bacharelado</td>\n",
       "      <td>2</td>\n",
       "    </tr>\n",
       "    <tr>\n",
       "      <th>1</th>\n",
       "      <td>Concluintes</td>\n",
       "      <td>15 a 19 anos</td>\n",
       "      <td>Ensino Fundamental I</td>\n",
       "      <td>4</td>\n",
       "    </tr>\n",
       "    <tr>\n",
       "      <th>2</th>\n",
       "      <td>Concluintes</td>\n",
       "      <td>15 a 19 anos</td>\n",
       "      <td>Ensino Fundamental II</td>\n",
       "      <td>1740</td>\n",
       "    </tr>\n",
       "    <tr>\n",
       "      <th>3</th>\n",
       "      <td>Concluintes</td>\n",
       "      <td>15 a 19 anos</td>\n",
       "      <td>Ensino Médio</td>\n",
       "      <td>1800</td>\n",
       "    </tr>\n",
       "    <tr>\n",
       "      <th>4</th>\n",
       "      <td>Concluintes</td>\n",
       "      <td>15 a 19 anos</td>\n",
       "      <td>Especialização (Lato Sensu)</td>\n",
       "      <td>1</td>\n",
       "    </tr>\n",
       "    <tr>\n",
       "      <th>...</th>\n",
       "      <td>...</td>\n",
       "      <td>...</td>\n",
       "      <td>...</td>\n",
       "      <td>...</td>\n",
       "    </tr>\n",
       "    <tr>\n",
       "      <th>196</th>\n",
       "      <td>Evadidos</td>\n",
       "      <td>Menor de 14 anos</td>\n",
       "      <td>Ensino Médio</td>\n",
       "      <td>10</td>\n",
       "    </tr>\n",
       "    <tr>\n",
       "      <th>197</th>\n",
       "      <td>Evadidos</td>\n",
       "      <td>Menor de 14 anos</td>\n",
       "      <td>Licenciatura</td>\n",
       "      <td>3</td>\n",
       "    </tr>\n",
       "    <tr>\n",
       "      <th>198</th>\n",
       "      <td>Evadidos</td>\n",
       "      <td>Menor de 14 anos</td>\n",
       "      <td>Qualificação Profissional (FIC)</td>\n",
       "      <td>1614</td>\n",
       "    </tr>\n",
       "    <tr>\n",
       "      <th>199</th>\n",
       "      <td>Evadidos</td>\n",
       "      <td>Menor de 14 anos</td>\n",
       "      <td>Tecnologia</td>\n",
       "      <td>4</td>\n",
       "    </tr>\n",
       "    <tr>\n",
       "      <th>200</th>\n",
       "      <td>Evadidos</td>\n",
       "      <td>Menor de 14 anos</td>\n",
       "      <td>Técnico</td>\n",
       "      <td>93</td>\n",
       "    </tr>\n",
       "  </tbody>\n",
       "</table>\n",
       "<p>201 rows × 4 columns</p>\n",
       "</div>"
      ],
      "text/plain": [
       "    categoria_situacao      faixa_etaria                       tipo_curso  \\\n",
       "0          Concluintes      15 a 19 anos                      Bacharelado   \n",
       "1          Concluintes      15 a 19 anos             Ensino Fundamental I   \n",
       "2          Concluintes      15 a 19 anos            Ensino Fundamental II   \n",
       "3          Concluintes      15 a 19 anos                     Ensino Médio   \n",
       "4          Concluintes      15 a 19 anos      Especialização (Lato Sensu)   \n",
       "..                 ...               ...                              ...   \n",
       "196           Evadidos  Menor de 14 anos                     Ensino Médio   \n",
       "197           Evadidos  Menor de 14 anos                     Licenciatura   \n",
       "198           Evadidos  Menor de 14 anos  Qualificação Profissional (FIC)   \n",
       "199           Evadidos  Menor de 14 anos                       Tecnologia   \n",
       "200           Evadidos  Menor de 14 anos                          Técnico   \n",
       "\n",
       "     quant_grupo  \n",
       "0              2  \n",
       "1              4  \n",
       "2           1740  \n",
       "3           1800  \n",
       "4              1  \n",
       "..           ...  \n",
       "196           10  \n",
       "197            3  \n",
       "198         1614  \n",
       "199            4  \n",
       "200           93  \n",
       "\n",
       "[201 rows x 4 columns]"
      ]
     },
     "execution_count": 7,
     "metadata": {},
     "output_type": "execute_result"
    }
   ],
   "source": [
    "#Execultado Consulta\n",
    "sql = \"SELECT {0}, sum(quant_grupo) AS quant_grupo\" \\\n",
    "\" FROM {1} \" \\\n",
    "\" WHERE {2} \" \\\n",
    "\" GROUP BY {0}\" \\\n",
    "\" ALLOW FILTERING;\".format(\n",
    "    fields,\n",
    "    table,\n",
    "    filter_sql)\n",
    "rslt = session.execute(sql, timeout=None)\n",
    "original_df = rslt._current_rows\n",
    "original_df\n"
   ]
  },
  {
   "cell_type": "markdown",
   "id": "6767adad-3ec3-4d45-aaf6-9f1ed3d64ce2",
   "metadata": {
    "tags": []
   },
   "source": [
    "## Análise"
   ]
  },
  {
   "cell_type": "code",
   "execution_count": 8,
   "id": "83ab7dde-87ac-4978-8ceb-394bc0ca2c27",
   "metadata": {},
   "outputs": [
    {
     "name": "stdout",
     "output_type": "stream",
     "text": [
      "Número de registros 201 e número de colunas 4.\n"
     ]
    }
   ],
   "source": [
    "s = original_df.shape\n",
    "print(\"Número de registros {:,} e número de colunas {:,}.\".format(s[0], s[1]).replace(',','.'))"
   ]
  },
  {
   "cell_type": "markdown",
   "id": "083b5b33-0eb8-4021-9028-776fb070d6c1",
   "metadata": {
    "tags": []
   },
   "source": [
    "## Filtrando Tipo do Curso"
   ]
  },
  {
   "cell_type": "code",
   "execution_count": 9,
   "id": "acd839ad-e03f-412f-8822-cb906b4f3b25",
   "metadata": {
    "tags": []
   },
   "outputs": [
    {
     "name": "stdout",
     "output_type": "stream",
     "text": [
      "Fitrando pelos tipos de cursos:\n",
      " Bacharelado, Licenciatura, Tecnologia\n"
     ]
    },
    {
     "data": {
      "text/html": [
       "<div>\n",
       "<style scoped>\n",
       "    .dataframe tbody tr th:only-of-type {\n",
       "        vertical-align: middle;\n",
       "    }\n",
       "\n",
       "    .dataframe tbody tr th {\n",
       "        vertical-align: top;\n",
       "    }\n",
       "\n",
       "    .dataframe thead th {\n",
       "        text-align: right;\n",
       "    }\n",
       "</style>\n",
       "<table border=\"1\" class=\"dataframe\">\n",
       "  <thead>\n",
       "    <tr style=\"text-align: right;\">\n",
       "      <th></th>\n",
       "      <th>categoria_situacao</th>\n",
       "      <th>faixa_etaria</th>\n",
       "      <th>tipo_curso</th>\n",
       "      <th>quant_grupo</th>\n",
       "    </tr>\n",
       "  </thead>\n",
       "  <tbody>\n",
       "    <tr>\n",
       "      <th>0</th>\n",
       "      <td>Concluintes</td>\n",
       "      <td>15 a 19 anos</td>\n",
       "      <td>Bacharelado</td>\n",
       "      <td>2</td>\n",
       "    </tr>\n",
       "    <tr>\n",
       "      <th>5</th>\n",
       "      <td>Concluintes</td>\n",
       "      <td>15 a 19 anos</td>\n",
       "      <td>Licenciatura</td>\n",
       "      <td>5</td>\n",
       "    </tr>\n",
       "    <tr>\n",
       "      <th>7</th>\n",
       "      <td>Concluintes</td>\n",
       "      <td>15 a 19 anos</td>\n",
       "      <td>Tecnologia</td>\n",
       "      <td>58</td>\n",
       "    </tr>\n",
       "    <tr>\n",
       "      <th>9</th>\n",
       "      <td>Concluintes</td>\n",
       "      <td>20 a 24 anos</td>\n",
       "      <td>Bacharelado</td>\n",
       "      <td>4434</td>\n",
       "    </tr>\n",
       "    <tr>\n",
       "      <th>13</th>\n",
       "      <td>Concluintes</td>\n",
       "      <td>20 a 24 anos</td>\n",
       "      <td>Licenciatura</td>\n",
       "      <td>3340</td>\n",
       "    </tr>\n",
       "    <tr>\n",
       "      <th>...</th>\n",
       "      <td>...</td>\n",
       "      <td>...</td>\n",
       "      <td>...</td>\n",
       "      <td>...</td>\n",
       "    </tr>\n",
       "    <tr>\n",
       "      <th>184</th>\n",
       "      <td>Evadidos</td>\n",
       "      <td>Maior de 60 anos</td>\n",
       "      <td>Bacharelado</td>\n",
       "      <td>37</td>\n",
       "    </tr>\n",
       "    <tr>\n",
       "      <th>187</th>\n",
       "      <td>Evadidos</td>\n",
       "      <td>Maior de 60 anos</td>\n",
       "      <td>Licenciatura</td>\n",
       "      <td>137</td>\n",
       "    </tr>\n",
       "    <tr>\n",
       "      <th>191</th>\n",
       "      <td>Evadidos</td>\n",
       "      <td>Maior de 60 anos</td>\n",
       "      <td>Tecnologia</td>\n",
       "      <td>120</td>\n",
       "    </tr>\n",
       "    <tr>\n",
       "      <th>197</th>\n",
       "      <td>Evadidos</td>\n",
       "      <td>Menor de 14 anos</td>\n",
       "      <td>Licenciatura</td>\n",
       "      <td>3</td>\n",
       "    </tr>\n",
       "    <tr>\n",
       "      <th>199</th>\n",
       "      <td>Evadidos</td>\n",
       "      <td>Menor de 14 anos</td>\n",
       "      <td>Tecnologia</td>\n",
       "      <td>4</td>\n",
       "    </tr>\n",
       "  </tbody>\n",
       "</table>\n",
       "<p>63 rows × 4 columns</p>\n",
       "</div>"
      ],
      "text/plain": [
       "    categoria_situacao      faixa_etaria    tipo_curso  quant_grupo\n",
       "0          Concluintes      15 a 19 anos   Bacharelado            2\n",
       "5          Concluintes      15 a 19 anos  Licenciatura            5\n",
       "7          Concluintes      15 a 19 anos    Tecnologia           58\n",
       "9          Concluintes      20 a 24 anos   Bacharelado         4434\n",
       "13         Concluintes      20 a 24 anos  Licenciatura         3340\n",
       "..                 ...               ...           ...          ...\n",
       "184           Evadidos  Maior de 60 anos   Bacharelado           37\n",
       "187           Evadidos  Maior de 60 anos  Licenciatura          137\n",
       "191           Evadidos  Maior de 60 anos    Tecnologia          120\n",
       "197           Evadidos  Menor de 14 anos  Licenciatura            3\n",
       "199           Evadidos  Menor de 14 anos    Tecnologia            4\n",
       "\n",
       "[63 rows x 4 columns]"
      ]
     },
     "execution_count": 9,
     "metadata": {},
     "output_type": "execute_result"
    }
   ],
   "source": [
    "if curse_types :\n",
    "    original_df = original_df[original_df['tipo_curso'].isin(curse_types)]\n",
    "    print('Fitrando pelos tipos de cursos:\\n {}'.format(', '.join(map(str,curse_types))))\n",
    "    \n",
    "else:\n",
    "    print('Todos os cursos')\n",
    "original_df"
   ]
  },
  {
   "cell_type": "markdown",
   "id": "7ec20789-46a9-4fe3-a253-af98a4b954a2",
   "metadata": {},
   "source": [
    "## Agrupando"
   ]
  },
  {
   "cell_type": "markdown",
   "id": "335930e4-eab0-4f54-a106-eedcc350b82c",
   "metadata": {
    "tags": []
   },
   "source": [
    "### Agrupando os valores para apresentar no gráfico"
   ]
  },
  {
   "cell_type": "code",
   "execution_count": 10,
   "id": "4446af89-d272-4ecc-a5f3-b9e5bcf9ba1d",
   "metadata": {},
   "outputs": [],
   "source": [
    "df = original_df.groupby(['categoria_situacao',field]).sum('quant_grupo').reset_index()\n",
    "df_qtd = original_df.groupby([field]).sum('quant_grupo').reset_index()\n",
    "order = list(df_qtd.sort_values('quant_grupo', ascending=False)[field])"
   ]
  },
  {
   "cell_type": "markdown",
   "id": "f88cc77a-3ab3-4002-8bd6-1063935b2740",
   "metadata": {},
   "source": [
    "### Ordenação personalizada"
   ]
  },
  {
   "cell_type": "code",
   "execution_count": 11,
   "id": "35419629-e171-4602-a03b-77f675839b9f",
   "metadata": {},
   "outputs": [],
   "source": [
    "order = [\n",
    "    'Menor de 14 anos',\n",
    "    '15 a 19 anos',\n",
    "    '20 a 24 anos',\n",
    "    '25 a 29 anos',\n",
    "    '30 a 34 anos',\n",
    "    '35 a 39 anos',\n",
    "    '40 a 44 anos',\n",
    "    '45 a 49 anos',\n",
    "    '50 a 54 anos',\n",
    "    '55 a 59 anos',\n",
    "    'Maior de 60 anos',\n",
    "]"
   ]
  },
  {
   "cell_type": "markdown",
   "id": "bf56dbc7-d58b-40cb-ba3c-3b09aae80740",
   "metadata": {},
   "source": [
    "### Ordenando dados"
   ]
  },
  {
   "cell_type": "code",
   "execution_count": 12,
   "id": "fc4037e4-d970-4bba-a89b-9b05e7b9047a",
   "metadata": {},
   "outputs": [],
   "source": [
    "sort_keys = {v:k for k,v in enumerate(order)}\n",
    "func_sort = lambda e: sort_keys[e]\n",
    "df_cat = df.pivot_table('quant_grupo',[field],'categoria_situacao').sort_values(by=field, key=lambda col: col.map(func_sort))\n",
    "df_qtd = df_qtd.pivot_table('quant_grupo',[field]).sort_values(by=field, key=lambda col: col.map(func_sort))"
   ]
  },
  {
   "cell_type": "markdown",
   "id": "6078a46e-5bb1-4775-9dae-e1155db3a233",
   "metadata": {},
   "source": [
    "### Apresentando o gráfico"
   ]
  },
  {
   "cell_type": "code",
   "execution_count": 13,
   "id": "f7b7b1d7-c938-4a66-998b-07e0201dcf29",
   "metadata": {},
   "outputs": [
    {
     "data": {
      "text/plain": [
       "<AxesSubplot:xlabel='faixa_etaria'>"
      ]
     },
     "execution_count": 13,
     "metadata": {},
     "output_type": "execute_result"
    },
    {
     "data": {
      "image/png": "[encoded data removed]",
      "text/plain": [
       "<Figure size 1440x576 with 1 Axes>"
      ]
     },
     "metadata": {
      "needs_background": "light"
     },
     "output_type": "display_data"
    }
   ],
   "source": [
    "df_qtd.plot(kind ='bar', figsize=(20, 8), width = 0.7)"
   ]
  },
  {
   "cell_type": "code",
   "execution_count": 14,
   "id": "30a751a2-d8b4-4cbf-bfe0-a3ba1ca8eab5",
   "metadata": {},
   "outputs": [
    {
     "data": {
      "text/plain": [
       "<AxesSubplot:xlabel='faixa_etaria'>"
      ]
     },
     "execution_count": 14,
     "metadata": {},
     "output_type": "execute_result"
    },
    {
     "data": {
      "image/png": "[encoded data removed]",
      "text/plain": [
       "<Figure size 1440x576 with 1 Axes>"
      ]
     },
     "metadata": {
      "needs_background": "light"
     },
     "output_type": "display_data"
    }
   ],
   "source": [
    "df_cat.plot(kind ='bar', figsize=(20, 8), width = 0.7)"
   ]
  },
  {
   "cell_type": "markdown",
   "id": "bd5d106d-2dc8-4594-b60f-ee7a686528ae",
   "metadata": {},
   "source": [
    "## Total de Alunos"
   ]
  },
  {
   "cell_type": "code",
   "execution_count": 15,
   "id": "b4cf290e-0e78-46dd-be37-de5e61d4f538",
   "metadata": {},
   "outputs": [
    {
     "data": {
      "text/html": [
       "<div>\n",
       "<style scoped>\n",
       "    .dataframe tbody tr th:only-of-type {\n",
       "        vertical-align: middle;\n",
       "    }\n",
       "\n",
       "    .dataframe tbody tr th {\n",
       "        vertical-align: top;\n",
       "    }\n",
       "\n",
       "    .dataframe thead th {\n",
       "        text-align: right;\n",
       "    }\n",
       "</style>\n",
       "<table border=\"1\" class=\"dataframe\">\n",
       "  <thead>\n",
       "    <tr style=\"text-align: right;\">\n",
       "      <th>categoria_situacao</th>\n",
       "      <th>Concluintes</th>\n",
       "      <th>Evadidos</th>\n",
       "      <th>total</th>\n",
       "      <th>Concluintes_%</th>\n",
       "      <th>Evadidos_%</th>\n",
       "      <th>total_%</th>\n",
       "    </tr>\n",
       "    <tr>\n",
       "      <th>faixa_etaria</th>\n",
       "      <th></th>\n",
       "      <th></th>\n",
       "      <th></th>\n",
       "      <th></th>\n",
       "      <th></th>\n",
       "      <th></th>\n",
       "    </tr>\n",
       "  </thead>\n",
       "  <tbody>\n",
       "    <tr>\n",
       "      <th>Menor de 14 anos</th>\n",
       "      <td>1</td>\n",
       "      <td>7</td>\n",
       "      <td>8</td>\n",
       "      <td>0.125000</td>\n",
       "      <td>0.875000</td>\n",
       "      <td>0.000072</td>\n",
       "    </tr>\n",
       "    <tr>\n",
       "      <th>15 a 19 anos</th>\n",
       "      <td>65</td>\n",
       "      <td>9519</td>\n",
       "      <td>9584</td>\n",
       "      <td>0.006782</td>\n",
       "      <td>0.993218</td>\n",
       "      <td>0.086563</td>\n",
       "    </tr>\n",
       "    <tr>\n",
       "      <th>20 a 24 anos</th>\n",
       "      <td>13008</td>\n",
       "      <td>27277</td>\n",
       "      <td>40285</td>\n",
       "      <td>0.322899</td>\n",
       "      <td>0.677101</td>\n",
       "      <td>0.363856</td>\n",
       "    </tr>\n",
       "    <tr>\n",
       "      <th>25 a 29 anos</th>\n",
       "      <td>10964</td>\n",
       "      <td>16216</td>\n",
       "      <td>27180</td>\n",
       "      <td>0.403385</td>\n",
       "      <td>0.596615</td>\n",
       "      <td>0.245491</td>\n",
       "    </tr>\n",
       "    <tr>\n",
       "      <th>30 a 34 anos</th>\n",
       "      <td>4429</td>\n",
       "      <td>9967</td>\n",
       "      <td>14396</td>\n",
       "      <td>0.307655</td>\n",
       "      <td>0.692345</td>\n",
       "      <td>0.130025</td>\n",
       "    </tr>\n",
       "    <tr>\n",
       "      <th>35 a 39 anos</th>\n",
       "      <td>2468</td>\n",
       "      <td>6223</td>\n",
       "      <td>8691</td>\n",
       "      <td>0.283972</td>\n",
       "      <td>0.716028</td>\n",
       "      <td>0.078497</td>\n",
       "    </tr>\n",
       "    <tr>\n",
       "      <th>40 a 44 anos</th>\n",
       "      <td>1422</td>\n",
       "      <td>3448</td>\n",
       "      <td>4870</td>\n",
       "      <td>0.291992</td>\n",
       "      <td>0.708008</td>\n",
       "      <td>0.043986</td>\n",
       "    </tr>\n",
       "    <tr>\n",
       "      <th>45 a 49 anos</th>\n",
       "      <td>859</td>\n",
       "      <td>1902</td>\n",
       "      <td>2761</td>\n",
       "      <td>0.311119</td>\n",
       "      <td>0.688881</td>\n",
       "      <td>0.024937</td>\n",
       "    </tr>\n",
       "    <tr>\n",
       "      <th>50 a 54 anos</th>\n",
       "      <td>520</td>\n",
       "      <td>1111</td>\n",
       "      <td>1631</td>\n",
       "      <td>0.318823</td>\n",
       "      <td>0.681177</td>\n",
       "      <td>0.014731</td>\n",
       "    </tr>\n",
       "    <tr>\n",
       "      <th>55 a 59 anos</th>\n",
       "      <td>300</td>\n",
       "      <td>563</td>\n",
       "      <td>863</td>\n",
       "      <td>0.347625</td>\n",
       "      <td>0.652375</td>\n",
       "      <td>0.007795</td>\n",
       "    </tr>\n",
       "    <tr>\n",
       "      <th>Maior de 60 anos</th>\n",
       "      <td>154</td>\n",
       "      <td>294</td>\n",
       "      <td>448</td>\n",
       "      <td>0.343750</td>\n",
       "      <td>0.656250</td>\n",
       "      <td>0.004046</td>\n",
       "    </tr>\n",
       "  </tbody>\n",
       "</table>\n",
       "</div>"
      ],
      "text/plain": [
       "categoria_situacao  Concluintes  Evadidos  total  Concluintes_%  Evadidos_%  \\\n",
       "faixa_etaria                                                                  \n",
       "Menor de 14 anos              1         7      8       0.125000    0.875000   \n",
       "15 a 19 anos                 65      9519   9584       0.006782    0.993218   \n",
       "20 a 24 anos              13008     27277  40285       0.322899    0.677101   \n",
       "25 a 29 anos              10964     16216  27180       0.403385    0.596615   \n",
       "30 a 34 anos               4429      9967  14396       0.307655    0.692345   \n",
       "35 a 39 anos               2468      6223   8691       0.283972    0.716028   \n",
       "40 a 44 anos               1422      3448   4870       0.291992    0.708008   \n",
       "45 a 49 anos                859      1902   2761       0.311119    0.688881   \n",
       "50 a 54 anos                520      1111   1631       0.318823    0.681177   \n",
       "55 a 59 anos                300       563    863       0.347625    0.652375   \n",
       "Maior de 60 anos            154       294    448       0.343750    0.656250   \n",
       "\n",
       "categoria_situacao   total_%  \n",
       "faixa_etaria                  \n",
       "Menor de 14 anos    0.000072  \n",
       "15 a 19 anos        0.086563  \n",
       "20 a 24 anos        0.363856  \n",
       "25 a 29 anos        0.245491  \n",
       "30 a 34 anos        0.130025  \n",
       "35 a 39 anos        0.078497  \n",
       "40 a 44 anos        0.043986  \n",
       "45 a 49 anos        0.024937  \n",
       "50 a 54 anos        0.014731  \n",
       "55 a 59 anos        0.007795  \n",
       "Maior de 60 anos    0.004046  "
      ]
     },
     "execution_count": 15,
     "metadata": {},
     "output_type": "execute_result"
    }
   ],
   "source": [
    "categories = list(df['categoria_situacao'].unique())\n",
    "total = df['quant_grupo'].sum()\n",
    "df_res = df_cat \n",
    "df_res['total'] = df_res[categories].sum(axis=1)\n",
    "for category in categories:\n",
    "    df_res[category + '_%'] = df_res[category] / df_res['total']\n",
    "df_res['total_%'] = df_res['total'] / total\n",
    "df_res"
   ]
  },
  {
   "cell_type": "code",
   "execution_count": 16,
   "id": "9a3a3e41-caea-4f67-86ca-91498ef7c8a9",
   "metadata": {},
   "outputs": [
    {
     "name": "stdout",
     "output_type": "stream",
     "text": [
      "Total de alunos: 110.717\n"
     ]
    }
   ],
   "source": [
    "print(\"Total de alunos: {:,}\".format(df['quant_grupo'].sum()).replace(',','.'))"
   ]
  },
  {
   "cell_type": "markdown",
   "id": "3ecd8447-1b6f-4409-a978-106c400831cb",
   "metadata": {},
   "source": [
    "# Porcentagem de Conclusão"
   ]
  },
  {
   "cell_type": "code",
   "execution_count": 17,
   "id": "b6630c6e-bb8d-41c6-aef2-f2826622c43f",
   "metadata": {},
   "outputs": [
    {
     "data": {
      "text/plain": [
       "<AxesSubplot:xlabel='faixa_etaria'>"
      ]
     },
     "execution_count": 17,
     "metadata": {},
     "output_type": "execute_result"
    },
    {
     "data": {
      "image/png": "[encoded data removed]",
      "text/plain": [
       "<Figure size 1440x576 with 1 Axes>"
      ]
     },
     "metadata": {
      "needs_background": "light"
     },
     "output_type": "display_data"
    }
   ],
   "source": [
    "df_drp = df_res['Concluintes_%'] * 100\n",
    "\n",
    "df_drp.plot(kind ='bar', figsize=(20, 8), width = 0.7)"
   ]
  }
 ],
 "metadata": {
  "kernelspec": {
   "display_name": "Python 3 (ipykernel)",
   "language": "python",
   "name": "python3"
  },
  "language_info": {
   "codemirror_mode": {
    "name": "ipython",
    "version": 3
   },
   "file_extension": ".py",
   "mimetype": "text/x-python",
   "name": "python",
   "nbconvert_exporter": "python",
   "pygments_lexer": "ipython3",
   "version": "3.9.10"
  }
 },
 "nbformat": 4,
 "nbformat_minor": 5
}
