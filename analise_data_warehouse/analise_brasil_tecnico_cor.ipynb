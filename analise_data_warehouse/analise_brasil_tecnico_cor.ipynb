{
 "cells": [
  {
   "cell_type": "markdown",
   "id": "4740b615-b9f1-4904-a7d2-f117a0b9949c",
   "metadata": {
    "tags": []
   },
   "source": [
    "# Análise do Data Warehouse\n",
    "\n",
    "Análise dos dados disponibilizados no Data Warehouse\n",
    "\n",
    "\n",
    "\n",
    "**Instalando o Cassandra no Jupyter**\n",
    "\n",
    "`docker-compose exec jupyter pip install cassandra-driver`"
   ]
  },
  {
   "cell_type": "markdown",
   "id": "97163e22-a386-4ed2-a63f-d4bda25574d6",
   "metadata": {
    "tags": []
   },
   "source": [
    "## Imports"
   ]
  },
  {
   "cell_type": "code",
   "execution_count": 1,
   "id": "c7426745-0909-40dc-b7fc-caa7d3fd94af",
   "metadata": {},
   "outputs": [],
   "source": [
    "#Imports\n",
    "from time import sleep"
   ]
  },
  {
   "cell_type": "code",
   "execution_count": 2,
   "id": "3f315cff-37ec-4419-adfb-4d24fab7fd1c",
   "metadata": {},
   "outputs": [],
   "source": [
    "#Imports Cassandra\n",
    "from cassandra.auth import PlainTextAuthProvider\n",
    "from cassandra.cluster import Cluster"
   ]
  },
  {
   "cell_type": "code",
   "execution_count": 3,
   "id": "aac05b52-5d1e-4cf9-840a-f21c27397297",
   "metadata": {},
   "outputs": [],
   "source": [
    "#Imports Pandas\n",
    "import pandas as pd\n",
    "import seaborn as sns\n",
    "import matplotlib as mpl\n",
    "import matplotlib.pyplot as plt\n",
    "def pandas_factory(colnames, rows):\n",
    "    return pd.DataFrame(rows, columns=colnames)"
   ]
  },
  {
   "cell_type": "markdown",
   "id": "840aad20-8c10-4d3f-b46f-52b6538af87e",
   "metadata": {
    "tags": []
   },
   "source": [
    "## Conexão ao banco de Dados Cassandra"
   ]
  },
  {
   "cell_type": "code",
   "execution_count": 4,
   "id": "7f340598-3fde-4f94-9f5c-a7bc67eb70b6",
   "metadata": {},
   "outputs": [],
   "source": [
    "#Conectando a seção\n",
    "ap = PlainTextAuthProvider(username='cassandra', password='cassandra')\n",
    "cluster = Cluster(['cassandra'], protocol_version=4, auth_provider=ap)\n",
    "session = cluster.connect('alunos')\n",
    "session.default_timeout = 60\n",
    "session.row_factory = pandas_factory\n",
    "sleep(2)"
   ]
  },
  {
   "cell_type": "markdown",
   "id": "2851a1d7-03eb-4493-8dc4-b9ab2f4f092d",
   "metadata": {
    "tags": []
   },
   "source": [
    "## Consulta"
   ]
  },
  {
   "cell_type": "markdown",
   "id": "7c44def4-9072-404f-a474-77f3d8a889df",
   "metadata": {
    "tags": []
   },
   "source": [
    "### Configurando a consulta\n",
    "Atribuindo valores para as consultas"
   ]
  },
  {
   "cell_type": "code",
   "execution_count": 5,
   "id": "50725e10-e250-4410-bf5c-6cf1763e6e40",
   "metadata": {
    "tags": []
   },
   "outputs": [],
   "source": [
    "table = 'fato_aluno_cor'\n",
    "field = 'cor_raca'\n",
    "curse_types = ['Técnico']\n",
    "filters = {    \n",
    "    'categoria_situacao': ['Evadidos','Concluintes'],\n",
    "    field: True,\n",
    "    'tipo_curso': len(curse_types) > 0,\n",
    "    'instituicao': '',\n",
    "    'unidade_ensino': '',\n",
    "    'nome_curso': '',\n",
    "    \n",
    "}"
   ]
  },
  {
   "cell_type": "markdown",
   "id": "f0dfc88e-6505-42f8-b68e-9b38c128dd92",
   "metadata": {
    "tags": []
   },
   "source": [
    "### Construindo a string para a consulta\n",
    "Criando fields e grupos para a consulta"
   ]
  },
  {
   "cell_type": "code",
   "execution_count": 6,
   "id": "85034c45-3e88-44c2-b4f5-6d01a27a932d",
   "metadata": {},
   "outputs": [],
   "source": [
    "s = []\n",
    "gf = []\n",
    "for k, v in filters.items():\n",
    "    if v :\n",
    "        if type(v) is str:\n",
    "            s.append(\"({} = '{}')\".format(k,v))            \n",
    "        elif type(v) is list:\n",
    "            s.append(\"({} IN ({}))\".format(\n",
    "                k,','.join(map(str,[\"'{}'\".format(i) for i in v]))))\n",
    "        if (type(v) is bool and v) or (not type(v) is bool):\n",
    "            gf.append(k)\n",
    "filter_sql = \" AND \".join(map(str,s))\n",
    "fields = \", \".join(map(str,gf))\n"
   ]
  },
  {
   "cell_type": "markdown",
   "id": "47b5d514-559a-48aa-884c-5984db21f00d",
   "metadata": {
    "tags": []
   },
   "source": [
    "### Execultado a consulta"
   ]
  },
  {
   "cell_type": "code",
   "execution_count": 7,
   "id": "142510d9-d626-46c2-b2e7-a1dbaf8bd324",
   "metadata": {},
   "outputs": [
    {
     "data": {
      "text/html": [
       "<div>\n",
       "<style scoped>\n",
       "    .dataframe tbody tr th:only-of-type {\n",
       "        vertical-align: middle;\n",
       "    }\n",
       "\n",
       "    .dataframe tbody tr th {\n",
       "        vertical-align: top;\n",
       "    }\n",
       "\n",
       "    .dataframe thead th {\n",
       "        text-align: right;\n",
       "    }\n",
       "</style>\n",
       "<table border=\"1\" class=\"dataframe\">\n",
       "  <thead>\n",
       "    <tr style=\"text-align: right;\">\n",
       "      <th></th>\n",
       "      <th>categoria_situacao</th>\n",
       "      <th>cor_raca</th>\n",
       "      <th>tipo_curso</th>\n",
       "      <th>quant_grupo</th>\n",
       "    </tr>\n",
       "  </thead>\n",
       "  <tbody>\n",
       "    <tr>\n",
       "      <th>0</th>\n",
       "      <td>Concluintes</td>\n",
       "      <td>Amarela</td>\n",
       "      <td>Bacharelado</td>\n",
       "      <td>108</td>\n",
       "    </tr>\n",
       "    <tr>\n",
       "      <th>1</th>\n",
       "      <td>Concluintes</td>\n",
       "      <td>Amarela</td>\n",
       "      <td>Ensino Fundamental I</td>\n",
       "      <td>4</td>\n",
       "    </tr>\n",
       "    <tr>\n",
       "      <th>2</th>\n",
       "      <td>Concluintes</td>\n",
       "      <td>Amarela</td>\n",
       "      <td>Ensino Fundamental II</td>\n",
       "      <td>4</td>\n",
       "    </tr>\n",
       "    <tr>\n",
       "      <th>3</th>\n",
       "      <td>Concluintes</td>\n",
       "      <td>Amarela</td>\n",
       "      <td>Ensino Médio</td>\n",
       "      <td>13</td>\n",
       "    </tr>\n",
       "    <tr>\n",
       "      <th>4</th>\n",
       "      <td>Concluintes</td>\n",
       "      <td>Amarela</td>\n",
       "      <td>Especialização (Lato Sensu)</td>\n",
       "      <td>81</td>\n",
       "    </tr>\n",
       "    <tr>\n",
       "      <th>...</th>\n",
       "      <td>...</td>\n",
       "      <td>...</td>\n",
       "      <td>...</td>\n",
       "      <td>...</td>\n",
       "    </tr>\n",
       "    <tr>\n",
       "      <th>130</th>\n",
       "      <td>Evadidos</td>\n",
       "      <td>Preta</td>\n",
       "      <td>Mestrado</td>\n",
       "      <td>6</td>\n",
       "    </tr>\n",
       "    <tr>\n",
       "      <th>131</th>\n",
       "      <td>Evadidos</td>\n",
       "      <td>Preta</td>\n",
       "      <td>Mestrado Profissional</td>\n",
       "      <td>21</td>\n",
       "    </tr>\n",
       "    <tr>\n",
       "      <th>132</th>\n",
       "      <td>Evadidos</td>\n",
       "      <td>Preta</td>\n",
       "      <td>Qualificação Profissional (FIC)</td>\n",
       "      <td>7191</td>\n",
       "    </tr>\n",
       "    <tr>\n",
       "      <th>133</th>\n",
       "      <td>Evadidos</td>\n",
       "      <td>Preta</td>\n",
       "      <td>Tecnologia</td>\n",
       "      <td>2044</td>\n",
       "    </tr>\n",
       "    <tr>\n",
       "      <th>134</th>\n",
       "      <td>Evadidos</td>\n",
       "      <td>Preta</td>\n",
       "      <td>Técnico</td>\n",
       "      <td>12345</td>\n",
       "    </tr>\n",
       "  </tbody>\n",
       "</table>\n",
       "<p>135 rows × 4 columns</p>\n",
       "</div>"
      ],
      "text/plain": [
       "    categoria_situacao cor_raca                       tipo_curso  quant_grupo\n",
       "0          Concluintes  Amarela                      Bacharelado          108\n",
       "1          Concluintes  Amarela             Ensino Fundamental I            4\n",
       "2          Concluintes  Amarela            Ensino Fundamental II            4\n",
       "3          Concluintes  Amarela                     Ensino Médio           13\n",
       "4          Concluintes  Amarela      Especialização (Lato Sensu)           81\n",
       "..                 ...      ...                              ...          ...\n",
       "130           Evadidos    Preta                         Mestrado            6\n",
       "131           Evadidos    Preta            Mestrado Profissional           21\n",
       "132           Evadidos    Preta  Qualificação Profissional (FIC)         7191\n",
       "133           Evadidos    Preta                       Tecnologia         2044\n",
       "134           Evadidos    Preta                          Técnico        12345\n",
       "\n",
       "[135 rows x 4 columns]"
      ]
     },
     "execution_count": 7,
     "metadata": {},
     "output_type": "execute_result"
    }
   ],
   "source": [
    "#Execultado Consulta\n",
    "sql = \"SELECT {0}, sum(quant_grupo) AS quant_grupo\" \\\n",
    "\" FROM {1} \" \\\n",
    "\" WHERE {2} \" \\\n",
    "\" GROUP BY {0}\" \\\n",
    "\" ALLOW FILTERING;\".format(\n",
    "    fields,\n",
    "    table,\n",
    "    filter_sql)\n",
    "rslt = session.execute(sql, timeout=None)\n",
    "original_df = rslt._current_rows\n",
    "original_df\n"
   ]
  },
  {
   "cell_type": "markdown",
   "id": "6767adad-3ec3-4d45-aaf6-9f1ed3d64ce2",
   "metadata": {
    "tags": []
   },
   "source": [
    "## Análise"
   ]
  },
  {
   "cell_type": "code",
   "execution_count": 8,
   "id": "83ab7dde-87ac-4978-8ceb-394bc0ca2c27",
   "metadata": {},
   "outputs": [
    {
     "name": "stdout",
     "output_type": "stream",
     "text": [
      "Número de registros 135 e número de colunas 4.\n"
     ]
    }
   ],
   "source": [
    "s = original_df.shape\n",
    "print(\"Número de registros {:,} e número de colunas {:,}.\".format(s[0], s[1]).replace(',','.'))"
   ]
  },
  {
   "cell_type": "markdown",
   "id": "083b5b33-0eb8-4021-9028-776fb070d6c1",
   "metadata": {
    "tags": []
   },
   "source": [
    "## Filtrando Tipo do Curso"
   ]
  },
  {
   "cell_type": "code",
   "execution_count": 9,
   "id": "acd839ad-e03f-412f-8822-cb906b4f3b25",
   "metadata": {
    "tags": []
   },
   "outputs": [
    {
     "name": "stdout",
     "output_type": "stream",
     "text": [
      "Fitrando pelos tipos de cursos:\n",
      " Técnico\n"
     ]
    },
    {
     "data": {
      "text/html": [
       "<div>\n",
       "<style scoped>\n",
       "    .dataframe tbody tr th:only-of-type {\n",
       "        vertical-align: middle;\n",
       "    }\n",
       "\n",
       "    .dataframe tbody tr th {\n",
       "        vertical-align: top;\n",
       "    }\n",
       "\n",
       "    .dataframe thead th {\n",
       "        text-align: right;\n",
       "    }\n",
       "</style>\n",
       "<table border=\"1\" class=\"dataframe\">\n",
       "  <thead>\n",
       "    <tr style=\"text-align: right;\">\n",
       "      <th></th>\n",
       "      <th>categoria_situacao</th>\n",
       "      <th>cor_raca</th>\n",
       "      <th>tipo_curso</th>\n",
       "      <th>quant_grupo</th>\n",
       "    </tr>\n",
       "  </thead>\n",
       "  <tbody>\n",
       "    <tr>\n",
       "      <th>10</th>\n",
       "      <td>Concluintes</td>\n",
       "      <td>Amarela</td>\n",
       "      <td>Técnico</td>\n",
       "      <td>2580</td>\n",
       "    </tr>\n",
       "    <tr>\n",
       "      <th>22</th>\n",
       "      <td>Concluintes</td>\n",
       "      <td>Branca</td>\n",
       "      <td>Técnico</td>\n",
       "      <td>39182</td>\n",
       "    </tr>\n",
       "    <tr>\n",
       "      <th>33</th>\n",
       "      <td>Concluintes</td>\n",
       "      <td>Indígena</td>\n",
       "      <td>Técnico</td>\n",
       "      <td>823</td>\n",
       "    </tr>\n",
       "    <tr>\n",
       "      <th>45</th>\n",
       "      <td>Concluintes</td>\n",
       "      <td>Não Declarada</td>\n",
       "      <td>Técnico</td>\n",
       "      <td>50979</td>\n",
       "    </tr>\n",
       "    <tr>\n",
       "      <th>57</th>\n",
       "      <td>Concluintes</td>\n",
       "      <td>Parda</td>\n",
       "      <td>Técnico</td>\n",
       "      <td>54721</td>\n",
       "    </tr>\n",
       "    <tr>\n",
       "      <th>68</th>\n",
       "      <td>Concluintes</td>\n",
       "      <td>Preta</td>\n",
       "      <td>Técnico</td>\n",
       "      <td>10691</td>\n",
       "    </tr>\n",
       "    <tr>\n",
       "      <th>77</th>\n",
       "      <td>Evadidos</td>\n",
       "      <td>Amarela</td>\n",
       "      <td>Técnico</td>\n",
       "      <td>1733</td>\n",
       "    </tr>\n",
       "    <tr>\n",
       "      <th>90</th>\n",
       "      <td>Evadidos</td>\n",
       "      <td>Branca</td>\n",
       "      <td>Técnico</td>\n",
       "      <td>30907</td>\n",
       "    </tr>\n",
       "    <tr>\n",
       "      <th>97</th>\n",
       "      <td>Evadidos</td>\n",
       "      <td>Indígena</td>\n",
       "      <td>Técnico</td>\n",
       "      <td>1050</td>\n",
       "    </tr>\n",
       "    <tr>\n",
       "      <th>110</th>\n",
       "      <td>Evadidos</td>\n",
       "      <td>Não Declarada</td>\n",
       "      <td>Técnico</td>\n",
       "      <td>48282</td>\n",
       "    </tr>\n",
       "    <tr>\n",
       "      <th>123</th>\n",
       "      <td>Evadidos</td>\n",
       "      <td>Parda</td>\n",
       "      <td>Técnico</td>\n",
       "      <td>54085</td>\n",
       "    </tr>\n",
       "    <tr>\n",
       "      <th>134</th>\n",
       "      <td>Evadidos</td>\n",
       "      <td>Preta</td>\n",
       "      <td>Técnico</td>\n",
       "      <td>12345</td>\n",
       "    </tr>\n",
       "  </tbody>\n",
       "</table>\n",
       "</div>"
      ],
      "text/plain": [
       "    categoria_situacao       cor_raca tipo_curso  quant_grupo\n",
       "10         Concluintes        Amarela    Técnico         2580\n",
       "22         Concluintes         Branca    Técnico        39182\n",
       "33         Concluintes       Indígena    Técnico          823\n",
       "45         Concluintes  Não Declarada    Técnico        50979\n",
       "57         Concluintes          Parda    Técnico        54721\n",
       "68         Concluintes          Preta    Técnico        10691\n",
       "77            Evadidos        Amarela    Técnico         1733\n",
       "90            Evadidos         Branca    Técnico        30907\n",
       "97            Evadidos       Indígena    Técnico         1050\n",
       "110           Evadidos  Não Declarada    Técnico        48282\n",
       "123           Evadidos          Parda    Técnico        54085\n",
       "134           Evadidos          Preta    Técnico        12345"
      ]
     },
     "execution_count": 9,
     "metadata": {},
     "output_type": "execute_result"
    }
   ],
   "source": [
    "if curse_types :\n",
    "    original_df = original_df[original_df['tipo_curso'].isin(curse_types)]\n",
    "    print('Fitrando pelos tipos de cursos:\\n {}'.format(', '.join(map(str,curse_types))))\n",
    "    \n",
    "else:\n",
    "    print('Todos os cursos')\n",
    "original_df"
   ]
  },
  {
   "cell_type": "markdown",
   "id": "7ec20789-46a9-4fe3-a253-af98a4b954a2",
   "metadata": {},
   "source": [
    "## Agrupando"
   ]
  },
  {
   "cell_type": "markdown",
   "id": "335930e4-eab0-4f54-a106-eedcc350b82c",
   "metadata": {
    "tags": []
   },
   "source": [
    "### Agrupando os valores para apresentar no gráfico"
   ]
  },
  {
   "cell_type": "code",
   "execution_count": 10,
   "id": "4446af89-d272-4ecc-a5f3-b9e5bcf9ba1d",
   "metadata": {},
   "outputs": [],
   "source": [
    "df = original_df.groupby(['categoria_situacao',field]).sum('quant_grupo').reset_index()\n",
    "df_qtd = original_df.groupby([field]).sum('quant_grupo').reset_index()\n",
    "order = list(df_qtd.sort_values('quant_grupo', ascending=False)[field])"
   ]
  },
  {
   "cell_type": "markdown",
   "id": "f88cc77a-3ab3-4002-8bd6-1063935b2740",
   "metadata": {},
   "source": [
    "### Ordenação personalizada"
   ]
  },
  {
   "cell_type": "code",
   "execution_count": 11,
   "id": "35419629-e171-4602-a03b-77f675839b9f",
   "metadata": {},
   "outputs": [],
   "source": [
    "#order = []"
   ]
  },
  {
   "cell_type": "markdown",
   "id": "bf56dbc7-d58b-40cb-ba3c-3b09aae80740",
   "metadata": {},
   "source": [
    "### Ordenando dados"
   ]
  },
  {
   "cell_type": "code",
   "execution_count": 12,
   "id": "fc4037e4-d970-4bba-a89b-9b05e7b9047a",
   "metadata": {},
   "outputs": [],
   "source": [
    "sort_keys = {v:k for k,v in enumerate(order)}\n",
    "func_sort = lambda e: sort_keys[e]\n",
    "df_cat = df.pivot_table('quant_grupo',[field],'categoria_situacao').sort_values(by=field, key=lambda col: col.map(func_sort))\n",
    "df_qtd = df_qtd.pivot_table('quant_grupo',[field]).sort_values(by=field, key=lambda col: col.map(func_sort))"
   ]
  },
  {
   "cell_type": "markdown",
   "id": "6078a46e-5bb1-4775-9dae-e1155db3a233",
   "metadata": {},
   "source": [
    "### Apresentando o gráfico"
   ]
  },
  {
   "cell_type": "code",
   "execution_count": 13,
   "id": "f7b7b1d7-c938-4a66-998b-07e0201dcf29",
   "metadata": {},
   "outputs": [
    {
     "data": {
      "text/plain": [
       "<AxesSubplot:xlabel='cor_raca'>"
      ]
     },
     "execution_count": 13,
     "metadata": {},
     "output_type": "execute_result"
    },
    {
     "data": {
      "image/png": "[encoded data removed]",
      "text/plain": [
       "<Figure size 1440x576 with 1 Axes>"
      ]
     },
     "metadata": {
      "needs_background": "light"
     },
     "output_type": "display_data"
    }
   ],
   "source": [
    "df_qtd.plot(kind ='bar', figsize=(20, 8), width = 0.7)"
   ]
  },
  {
   "cell_type": "code",
   "execution_count": 14,
   "id": "30a751a2-d8b4-4cbf-bfe0-a3ba1ca8eab5",
   "metadata": {},
   "outputs": [
    {
     "data": {
      "text/plain": [
       "<AxesSubplot:xlabel='cor_raca'>"
      ]
     },
     "execution_count": 14,
     "metadata": {},
     "output_type": "execute_result"
    },
    {
     "data": {
      "image/png": "[encoded data removed]",
      "text/plain": [
       "<Figure size 1440x576 with 1 Axes>"
      ]
     },
     "metadata": {
      "needs_background": "light"
     },
     "output_type": "display_data"
    }
   ],
   "source": [
    "df_cat.plot(kind ='bar', figsize=(20, 8), width = 0.7)"
   ]
  },
  {
   "cell_type": "markdown",
   "id": "bd5d106d-2dc8-4594-b60f-ee7a686528ae",
   "metadata": {},
   "source": [
    "## Total de Alunos"
   ]
  },
  {
   "cell_type": "code",
   "execution_count": 15,
   "id": "b4cf290e-0e78-46dd-be37-de5e61d4f538",
   "metadata": {},
   "outputs": [
    {
     "data": {
      "text/html": [
       "<div>\n",
       "<style scoped>\n",
       "    .dataframe tbody tr th:only-of-type {\n",
       "        vertical-align: middle;\n",
       "    }\n",
       "\n",
       "    .dataframe tbody tr th {\n",
       "        vertical-align: top;\n",
       "    }\n",
       "\n",
       "    .dataframe thead th {\n",
       "        text-align: right;\n",
       "    }\n",
       "</style>\n",
       "<table border=\"1\" class=\"dataframe\">\n",
       "  <thead>\n",
       "    <tr style=\"text-align: right;\">\n",
       "      <th>categoria_situacao</th>\n",
       "      <th>Concluintes</th>\n",
       "      <th>Evadidos</th>\n",
       "      <th>total</th>\n",
       "      <th>Concluintes_%</th>\n",
       "      <th>Evadidos_%</th>\n",
       "      <th>total_%</th>\n",
       "    </tr>\n",
       "    <tr>\n",
       "      <th>cor_raca</th>\n",
       "      <th></th>\n",
       "      <th></th>\n",
       "      <th></th>\n",
       "      <th></th>\n",
       "      <th></th>\n",
       "      <th></th>\n",
       "    </tr>\n",
       "  </thead>\n",
       "  <tbody>\n",
       "    <tr>\n",
       "      <th>Parda</th>\n",
       "      <td>54721</td>\n",
       "      <td>54085</td>\n",
       "      <td>108806</td>\n",
       "      <td>0.502923</td>\n",
       "      <td>0.497077</td>\n",
       "      <td>0.353981</td>\n",
       "    </tr>\n",
       "    <tr>\n",
       "      <th>Não Declarada</th>\n",
       "      <td>50979</td>\n",
       "      <td>48282</td>\n",
       "      <td>99261</td>\n",
       "      <td>0.513585</td>\n",
       "      <td>0.486415</td>\n",
       "      <td>0.322928</td>\n",
       "    </tr>\n",
       "    <tr>\n",
       "      <th>Branca</th>\n",
       "      <td>39182</td>\n",
       "      <td>30907</td>\n",
       "      <td>70089</td>\n",
       "      <td>0.559032</td>\n",
       "      <td>0.440968</td>\n",
       "      <td>0.228022</td>\n",
       "    </tr>\n",
       "    <tr>\n",
       "      <th>Preta</th>\n",
       "      <td>10691</td>\n",
       "      <td>12345</td>\n",
       "      <td>23036</td>\n",
       "      <td>0.464100</td>\n",
       "      <td>0.535900</td>\n",
       "      <td>0.074944</td>\n",
       "    </tr>\n",
       "    <tr>\n",
       "      <th>Amarela</th>\n",
       "      <td>2580</td>\n",
       "      <td>1733</td>\n",
       "      <td>4313</td>\n",
       "      <td>0.598192</td>\n",
       "      <td>0.401808</td>\n",
       "      <td>0.014032</td>\n",
       "    </tr>\n",
       "    <tr>\n",
       "      <th>Indígena</th>\n",
       "      <td>823</td>\n",
       "      <td>1050</td>\n",
       "      <td>1873</td>\n",
       "      <td>0.439402</td>\n",
       "      <td>0.560598</td>\n",
       "      <td>0.006093</td>\n",
       "    </tr>\n",
       "  </tbody>\n",
       "</table>\n",
       "</div>"
      ],
      "text/plain": [
       "categoria_situacao  Concluintes  Evadidos   total  Concluintes_%  Evadidos_%  \\\n",
       "cor_raca                                                                       \n",
       "Parda                     54721     54085  108806       0.502923    0.497077   \n",
       "Não Declarada             50979     48282   99261       0.513585    0.486415   \n",
       "Branca                    39182     30907   70089       0.559032    0.440968   \n",
       "Preta                     10691     12345   23036       0.464100    0.535900   \n",
       "Amarela                    2580      1733    4313       0.598192    0.401808   \n",
       "Indígena                    823      1050    1873       0.439402    0.560598   \n",
       "\n",
       "categoria_situacao   total_%  \n",
       "cor_raca                      \n",
       "Parda               0.353981  \n",
       "Não Declarada       0.322928  \n",
       "Branca              0.228022  \n",
       "Preta               0.074944  \n",
       "Amarela             0.014032  \n",
       "Indígena            0.006093  "
      ]
     },
     "execution_count": 15,
     "metadata": {},
     "output_type": "execute_result"
    }
   ],
   "source": [
    "categories = list(df['categoria_situacao'].unique())\n",
    "total = df['quant_grupo'].sum()\n",
    "df_res = df_cat \n",
    "df_res['total'] = df_res[categories].sum(axis=1)\n",
    "for category in categories:\n",
    "    df_res[category + '_%'] = df_res[category] / df_res['total']\n",
    "df_res['total_%'] = df_res['total'] / total\n",
    "df_res"
   ]
  },
  {
   "cell_type": "code",
   "execution_count": 16,
   "id": "9a3a3e41-caea-4f67-86ca-91498ef7c8a9",
   "metadata": {},
   "outputs": [
    {
     "name": "stdout",
     "output_type": "stream",
     "text": [
      "Total de alunos: 307.378\n"
     ]
    }
   ],
   "source": [
    "print(\"Total de alunos: {:,}\".format(df['quant_grupo'].sum()).replace(',','.'))"
   ]
  },
  {
   "cell_type": "markdown",
   "id": "1da02f48-519b-4d20-b1e0-c1e3e4eb2e54",
   "metadata": {},
   "source": [
    "# Porcentagem de Conclusão"
   ]
  },
  {
   "cell_type": "code",
   "execution_count": 17,
   "id": "707af6b3-a592-4cb6-9f95-b82e01f77639",
   "metadata": {},
   "outputs": [
    {
     "data": {
      "text/plain": [
       "<AxesSubplot:xlabel='cor_raca'>"
      ]
     },
     "execution_count": 17,
     "metadata": {},
     "output_type": "execute_result"
    },
    {
     "data": {
      "image/png": "[encoded data removed]",
      "text/plain": [
       "<Figure size 1440x576 with 1 Axes>"
      ]
     },
     "metadata": {
      "needs_background": "light"
     },
     "output_type": "display_data"
    }
   ],
   "source": [
    "df_drp = df_res['Concluintes_%'] * 100\n",
    "\n",
    "df_drp.plot(kind ='bar', figsize=(20, 8), width = 0.7)"
   ]
  }
 ],
 "metadata": {
  "kernelspec": {
   "display_name": "Python 3 (ipykernel)",
   "language": "python",
   "name": "python3"
  },
  "language_info": {
   "codemirror_mode": {
    "name": "ipython",
    "version": 3
   },
   "file_extension": ".py",
   "mimetype": "text/x-python",
   "name": "python",
   "nbconvert_exporter": "python",
   "pygments_lexer": "ipython3",
   "version": "3.9.10"
  }
 },
 "nbformat": 4,
 "nbformat_minor": 5
}
