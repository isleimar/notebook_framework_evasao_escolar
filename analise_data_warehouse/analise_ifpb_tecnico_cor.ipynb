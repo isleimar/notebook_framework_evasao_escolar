{
 "cells": [
  {
   "cell_type": "markdown",
   "id": "4740b615-b9f1-4904-a7d2-f117a0b9949c",
   "metadata": {
    "tags": []
   },
   "source": [
    "# Análise do Data Warehouse\n",
    "\n",
    "Análise dos dados disponibilizados no Data Warehouse\n",
    "\n",
    "\n",
    "\n",
    "**Instalando o Cassandra no Jupyter**\n",
    "\n",
    "`docker-compose exec jupyter pip install cassandra-driver`"
   ]
  },
  {
   "cell_type": "markdown",
   "id": "97163e22-a386-4ed2-a63f-d4bda25574d6",
   "metadata": {
    "tags": []
   },
   "source": [
    "## Imports"
   ]
  },
  {
   "cell_type": "code",
   "execution_count": 1,
   "id": "c7426745-0909-40dc-b7fc-caa7d3fd94af",
   "metadata": {},
   "outputs": [],
   "source": [
    "#Imports\n",
    "from time import sleep"
   ]
  },
  {
   "cell_type": "code",
   "execution_count": 2,
   "id": "3f315cff-37ec-4419-adfb-4d24fab7fd1c",
   "metadata": {},
   "outputs": [],
   "source": [
    "#Imports Cassandra\n",
    "from cassandra.auth import PlainTextAuthProvider\n",
    "from cassandra.cluster import Cluster"
   ]
  },
  {
   "cell_type": "code",
   "execution_count": 3,
   "id": "aac05b52-5d1e-4cf9-840a-f21c27397297",
   "metadata": {},
   "outputs": [],
   "source": [
    "#Imports Pandas\n",
    "import pandas as pd\n",
    "import seaborn as sns\n",
    "import matplotlib as mpl\n",
    "import matplotlib.pyplot as plt\n",
    "def pandas_factory(colnames, rows):\n",
    "    return pd.DataFrame(rows, columns=colnames)"
   ]
  },
  {
   "cell_type": "markdown",
   "id": "840aad20-8c10-4d3f-b46f-52b6538af87e",
   "metadata": {
    "tags": []
   },
   "source": [
    "## Conexão ao banco de Dados Cassandra"
   ]
  },
  {
   "cell_type": "code",
   "execution_count": 4,
   "id": "7f340598-3fde-4f94-9f5c-a7bc67eb70b6",
   "metadata": {},
   "outputs": [],
   "source": [
    "#Conectando a seção\n",
    "ap = PlainTextAuthProvider(username='cassandra', password='cassandra')\n",
    "cluster = Cluster(['cassandra'], protocol_version=4, auth_provider=ap)\n",
    "session = cluster.connect('alunos')\n",
    "session.default_timeout = 60\n",
    "session.row_factory = pandas_factory\n",
    "sleep(2)"
   ]
  },
  {
   "cell_type": "markdown",
   "id": "2851a1d7-03eb-4493-8dc4-b9ab2f4f092d",
   "metadata": {
    "tags": []
   },
   "source": [
    "## Consulta"
   ]
  },
  {
   "cell_type": "markdown",
   "id": "7c44def4-9072-404f-a474-77f3d8a889df",
   "metadata": {
    "tags": []
   },
   "source": [
    "### Configurando a consulta\n",
    "Atribuindo valores para as consultas"
   ]
  },
  {
   "cell_type": "code",
   "execution_count": 5,
   "id": "50725e10-e250-4410-bf5c-6cf1763e6e40",
   "metadata": {
    "tags": []
   },
   "outputs": [],
   "source": [
    "table = 'fato_aluno_cor'\n",
    "field = 'cor_raca'\n",
    "curse_types = ['Técnico']\n",
    "filters = {    \n",
    "    'categoria_situacao': ['Evadidos','Concluintes'],\n",
    "    field: True,\n",
    "    'tipo_curso': len(curse_types) > 0,\n",
    "    'instituicao': 'IFPB',\n",
    "    'unidade_ensino': '',\n",
    "    'nome_curso': '',\n",
    "    \n",
    "}"
   ]
  },
  {
   "cell_type": "markdown",
   "id": "f0dfc88e-6505-42f8-b68e-9b38c128dd92",
   "metadata": {
    "tags": []
   },
   "source": [
    "### Construindo a string para a consulta\n",
    "Criando fields e grupos para a consulta"
   ]
  },
  {
   "cell_type": "code",
   "execution_count": 6,
   "id": "85034c45-3e88-44c2-b4f5-6d01a27a932d",
   "metadata": {},
   "outputs": [],
   "source": [
    "s = []\n",
    "gf = []\n",
    "for k, v in filters.items():\n",
    "    if v :\n",
    "        if type(v) is str:\n",
    "            s.append(\"({} = '{}')\".format(k,v))            \n",
    "        elif type(v) is list:\n",
    "            s.append(\"({} IN ({}))\".format(\n",
    "                k,','.join(map(str,[\"'{}'\".format(i) for i in v]))))\n",
    "        if (type(v) is bool and v) or (not type(v) is bool):\n",
    "            gf.append(k)\n",
    "filter_sql = \" AND \".join(map(str,s))\n",
    "fields = \", \".join(map(str,gf))\n"
   ]
  },
  {
   "cell_type": "markdown",
   "id": "47b5d514-559a-48aa-884c-5984db21f00d",
   "metadata": {
    "tags": []
   },
   "source": [
    "### Execultado a consulta"
   ]
  },
  {
   "cell_type": "code",
   "execution_count": 7,
   "id": "142510d9-d626-46c2-b2e7-a1dbaf8bd324",
   "metadata": {},
   "outputs": [
    {
     "data": {
      "text/html": [
       "<div>\n",
       "<style scoped>\n",
       "    .dataframe tbody tr th:only-of-type {\n",
       "        vertical-align: middle;\n",
       "    }\n",
       "\n",
       "    .dataframe tbody tr th {\n",
       "        vertical-align: top;\n",
       "    }\n",
       "\n",
       "    .dataframe thead th {\n",
       "        text-align: right;\n",
       "    }\n",
       "</style>\n",
       "<table border=\"1\" class=\"dataframe\">\n",
       "  <thead>\n",
       "    <tr style=\"text-align: right;\">\n",
       "      <th></th>\n",
       "      <th>categoria_situacao</th>\n",
       "      <th>cor_raca</th>\n",
       "      <th>tipo_curso</th>\n",
       "      <th>instituicao</th>\n",
       "      <th>quant_grupo</th>\n",
       "    </tr>\n",
       "  </thead>\n",
       "  <tbody>\n",
       "    <tr>\n",
       "      <th>0</th>\n",
       "      <td>Concluintes</td>\n",
       "      <td>Amarela</td>\n",
       "      <td>Bacharelado</td>\n",
       "      <td>IFPB</td>\n",
       "      <td>3</td>\n",
       "    </tr>\n",
       "    <tr>\n",
       "      <th>1</th>\n",
       "      <td>Concluintes</td>\n",
       "      <td>Amarela</td>\n",
       "      <td>Licenciatura</td>\n",
       "      <td>IFPB</td>\n",
       "      <td>3</td>\n",
       "    </tr>\n",
       "    <tr>\n",
       "      <th>2</th>\n",
       "      <td>Concluintes</td>\n",
       "      <td>Amarela</td>\n",
       "      <td>Qualificação Profissional (FIC)</td>\n",
       "      <td>IFPB</td>\n",
       "      <td>15</td>\n",
       "    </tr>\n",
       "    <tr>\n",
       "      <th>3</th>\n",
       "      <td>Concluintes</td>\n",
       "      <td>Amarela</td>\n",
       "      <td>Tecnologia</td>\n",
       "      <td>IFPB</td>\n",
       "      <td>13</td>\n",
       "    </tr>\n",
       "    <tr>\n",
       "      <th>4</th>\n",
       "      <td>Concluintes</td>\n",
       "      <td>Amarela</td>\n",
       "      <td>Técnico</td>\n",
       "      <td>IFPB</td>\n",
       "      <td>44</td>\n",
       "    </tr>\n",
       "    <tr>\n",
       "      <th>...</th>\n",
       "      <td>...</td>\n",
       "      <td>...</td>\n",
       "      <td>...</td>\n",
       "      <td>...</td>\n",
       "      <td>...</td>\n",
       "    </tr>\n",
       "    <tr>\n",
       "      <th>68</th>\n",
       "      <td>Evadidos</td>\n",
       "      <td>Preta</td>\n",
       "      <td>Especialização (Lato Sensu)</td>\n",
       "      <td>IFPB</td>\n",
       "      <td>4</td>\n",
       "    </tr>\n",
       "    <tr>\n",
       "      <th>69</th>\n",
       "      <td>Evadidos</td>\n",
       "      <td>Preta</td>\n",
       "      <td>Licenciatura</td>\n",
       "      <td>IFPB</td>\n",
       "      <td>68</td>\n",
       "    </tr>\n",
       "    <tr>\n",
       "      <th>70</th>\n",
       "      <td>Evadidos</td>\n",
       "      <td>Preta</td>\n",
       "      <td>Qualificação Profissional (FIC)</td>\n",
       "      <td>IFPB</td>\n",
       "      <td>42</td>\n",
       "    </tr>\n",
       "    <tr>\n",
       "      <th>71</th>\n",
       "      <td>Evadidos</td>\n",
       "      <td>Preta</td>\n",
       "      <td>Tecnologia</td>\n",
       "      <td>IFPB</td>\n",
       "      <td>119</td>\n",
       "    </tr>\n",
       "    <tr>\n",
       "      <th>72</th>\n",
       "      <td>Evadidos</td>\n",
       "      <td>Preta</td>\n",
       "      <td>Técnico</td>\n",
       "      <td>IFPB</td>\n",
       "      <td>335</td>\n",
       "    </tr>\n",
       "  </tbody>\n",
       "</table>\n",
       "<p>73 rows × 5 columns</p>\n",
       "</div>"
      ],
      "text/plain": [
       "   categoria_situacao cor_raca                       tipo_curso instituicao  \\\n",
       "0         Concluintes  Amarela                      Bacharelado        IFPB   \n",
       "1         Concluintes  Amarela                     Licenciatura        IFPB   \n",
       "2         Concluintes  Amarela  Qualificação Profissional (FIC)        IFPB   \n",
       "3         Concluintes  Amarela                       Tecnologia        IFPB   \n",
       "4         Concluintes  Amarela                          Técnico        IFPB   \n",
       "..                ...      ...                              ...         ...   \n",
       "68           Evadidos    Preta      Especialização (Lato Sensu)        IFPB   \n",
       "69           Evadidos    Preta                     Licenciatura        IFPB   \n",
       "70           Evadidos    Preta  Qualificação Profissional (FIC)        IFPB   \n",
       "71           Evadidos    Preta                       Tecnologia        IFPB   \n",
       "72           Evadidos    Preta                          Técnico        IFPB   \n",
       "\n",
       "    quant_grupo  \n",
       "0             3  \n",
       "1             3  \n",
       "2            15  \n",
       "3            13  \n",
       "4            44  \n",
       "..          ...  \n",
       "68            4  \n",
       "69           68  \n",
       "70           42  \n",
       "71          119  \n",
       "72          335  \n",
       "\n",
       "[73 rows x 5 columns]"
      ]
     },
     "execution_count": 7,
     "metadata": {},
     "output_type": "execute_result"
    }
   ],
   "source": [
    "#Execultado Consulta\n",
    "sql = \"SELECT {0}, sum(quant_grupo) AS quant_grupo\" \\\n",
    "\" FROM {1} \" \\\n",
    "\" WHERE {2} \" \\\n",
    "\" GROUP BY {0}\" \\\n",
    "\" ALLOW FILTERING;\".format(\n",
    "    fields,\n",
    "    table,\n",
    "    filter_sql)\n",
    "rslt = session.execute(sql, timeout=None)\n",
    "original_df = rslt._current_rows\n",
    "original_df\n"
   ]
  },
  {
   "cell_type": "markdown",
   "id": "6767adad-3ec3-4d45-aaf6-9f1ed3d64ce2",
   "metadata": {
    "tags": []
   },
   "source": [
    "## Análise"
   ]
  },
  {
   "cell_type": "code",
   "execution_count": 8,
   "id": "83ab7dde-87ac-4978-8ceb-394bc0ca2c27",
   "metadata": {},
   "outputs": [
    {
     "name": "stdout",
     "output_type": "stream",
     "text": [
      "Número de registros 73 e número de colunas 5.\n"
     ]
    }
   ],
   "source": [
    "s = original_df.shape\n",
    "print(\"Número de registros {:,} e número de colunas {:,}.\".format(s[0], s[1]).replace(',','.'))"
   ]
  },
  {
   "cell_type": "markdown",
   "id": "083b5b33-0eb8-4021-9028-776fb070d6c1",
   "metadata": {
    "tags": []
   },
   "source": [
    "## Filtrando Tipo do Curso"
   ]
  },
  {
   "cell_type": "code",
   "execution_count": 9,
   "id": "acd839ad-e03f-412f-8822-cb906b4f3b25",
   "metadata": {
    "tags": []
   },
   "outputs": [
    {
     "name": "stdout",
     "output_type": "stream",
     "text": [
      "Fitrando pelos tipos de cursos:\n",
      " Técnico\n"
     ]
    },
    {
     "data": {
      "text/html": [
       "<div>\n",
       "<style scoped>\n",
       "    .dataframe tbody tr th:only-of-type {\n",
       "        vertical-align: middle;\n",
       "    }\n",
       "\n",
       "    .dataframe tbody tr th {\n",
       "        vertical-align: top;\n",
       "    }\n",
       "\n",
       "    .dataframe thead th {\n",
       "        text-align: right;\n",
       "    }\n",
       "</style>\n",
       "<table border=\"1\" class=\"dataframe\">\n",
       "  <thead>\n",
       "    <tr style=\"text-align: right;\">\n",
       "      <th></th>\n",
       "      <th>categoria_situacao</th>\n",
       "      <th>cor_raca</th>\n",
       "      <th>tipo_curso</th>\n",
       "      <th>instituicao</th>\n",
       "      <th>quant_grupo</th>\n",
       "    </tr>\n",
       "  </thead>\n",
       "  <tbody>\n",
       "    <tr>\n",
       "      <th>4</th>\n",
       "      <td>Concluintes</td>\n",
       "      <td>Amarela</td>\n",
       "      <td>Técnico</td>\n",
       "      <td>IFPB</td>\n",
       "      <td>44</td>\n",
       "    </tr>\n",
       "    <tr>\n",
       "      <th>11</th>\n",
       "      <td>Concluintes</td>\n",
       "      <td>Branca</td>\n",
       "      <td>Técnico</td>\n",
       "      <td>IFPB</td>\n",
       "      <td>1094</td>\n",
       "    </tr>\n",
       "    <tr>\n",
       "      <th>14</th>\n",
       "      <td>Concluintes</td>\n",
       "      <td>Indígena</td>\n",
       "      <td>Técnico</td>\n",
       "      <td>IFPB</td>\n",
       "      <td>15</td>\n",
       "    </tr>\n",
       "    <tr>\n",
       "      <th>21</th>\n",
       "      <td>Concluintes</td>\n",
       "      <td>Não Declarada</td>\n",
       "      <td>Técnico</td>\n",
       "      <td>IFPB</td>\n",
       "      <td>574</td>\n",
       "    </tr>\n",
       "    <tr>\n",
       "      <th>28</th>\n",
       "      <td>Concluintes</td>\n",
       "      <td>Parda</td>\n",
       "      <td>Técnico</td>\n",
       "      <td>IFPB</td>\n",
       "      <td>1579</td>\n",
       "    </tr>\n",
       "    <tr>\n",
       "      <th>34</th>\n",
       "      <td>Concluintes</td>\n",
       "      <td>Preta</td>\n",
       "      <td>Técnico</td>\n",
       "      <td>IFPB</td>\n",
       "      <td>215</td>\n",
       "    </tr>\n",
       "    <tr>\n",
       "      <th>40</th>\n",
       "      <td>Evadidos</td>\n",
       "      <td>Amarela</td>\n",
       "      <td>Técnico</td>\n",
       "      <td>IFPB</td>\n",
       "      <td>52</td>\n",
       "    </tr>\n",
       "    <tr>\n",
       "      <th>48</th>\n",
       "      <td>Evadidos</td>\n",
       "      <td>Branca</td>\n",
       "      <td>Técnico</td>\n",
       "      <td>IFPB</td>\n",
       "      <td>1180</td>\n",
       "    </tr>\n",
       "    <tr>\n",
       "      <th>51</th>\n",
       "      <td>Evadidos</td>\n",
       "      <td>Indígena</td>\n",
       "      <td>Técnico</td>\n",
       "      <td>IFPB</td>\n",
       "      <td>15</td>\n",
       "    </tr>\n",
       "    <tr>\n",
       "      <th>58</th>\n",
       "      <td>Evadidos</td>\n",
       "      <td>Não Declarada</td>\n",
       "      <td>Técnico</td>\n",
       "      <td>IFPB</td>\n",
       "      <td>425</td>\n",
       "    </tr>\n",
       "    <tr>\n",
       "      <th>66</th>\n",
       "      <td>Evadidos</td>\n",
       "      <td>Parda</td>\n",
       "      <td>Técnico</td>\n",
       "      <td>IFPB</td>\n",
       "      <td>2110</td>\n",
       "    </tr>\n",
       "    <tr>\n",
       "      <th>72</th>\n",
       "      <td>Evadidos</td>\n",
       "      <td>Preta</td>\n",
       "      <td>Técnico</td>\n",
       "      <td>IFPB</td>\n",
       "      <td>335</td>\n",
       "    </tr>\n",
       "  </tbody>\n",
       "</table>\n",
       "</div>"
      ],
      "text/plain": [
       "   categoria_situacao       cor_raca tipo_curso instituicao  quant_grupo\n",
       "4         Concluintes        Amarela    Técnico        IFPB           44\n",
       "11        Concluintes         Branca    Técnico        IFPB         1094\n",
       "14        Concluintes       Indígena    Técnico        IFPB           15\n",
       "21        Concluintes  Não Declarada    Técnico        IFPB          574\n",
       "28        Concluintes          Parda    Técnico        IFPB         1579\n",
       "34        Concluintes          Preta    Técnico        IFPB          215\n",
       "40           Evadidos        Amarela    Técnico        IFPB           52\n",
       "48           Evadidos         Branca    Técnico        IFPB         1180\n",
       "51           Evadidos       Indígena    Técnico        IFPB           15\n",
       "58           Evadidos  Não Declarada    Técnico        IFPB          425\n",
       "66           Evadidos          Parda    Técnico        IFPB         2110\n",
       "72           Evadidos          Preta    Técnico        IFPB          335"
      ]
     },
     "execution_count": 9,
     "metadata": {},
     "output_type": "execute_result"
    }
   ],
   "source": [
    "if curse_types :\n",
    "    original_df = original_df[original_df['tipo_curso'].isin(curse_types)]\n",
    "    print('Fitrando pelos tipos de cursos:\\n {}'.format(', '.join(map(str,curse_types))))\n",
    "    \n",
    "else:\n",
    "    print('Todos os cursos')\n",
    "original_df"
   ]
  },
  {
   "cell_type": "markdown",
   "id": "7ec20789-46a9-4fe3-a253-af98a4b954a2",
   "metadata": {},
   "source": [
    "## Agrupando"
   ]
  },
  {
   "cell_type": "markdown",
   "id": "335930e4-eab0-4f54-a106-eedcc350b82c",
   "metadata": {
    "tags": []
   },
   "source": [
    "### Agrupando os valores para apresentar no gráfico"
   ]
  },
  {
   "cell_type": "code",
   "execution_count": 10,
   "id": "4446af89-d272-4ecc-a5f3-b9e5bcf9ba1d",
   "metadata": {},
   "outputs": [],
   "source": [
    "df = original_df.groupby(['categoria_situacao',field]).sum('quant_grupo').reset_index()\n",
    "df_qtd = original_df.groupby([field]).sum('quant_grupo').reset_index()\n",
    "order = list(df_qtd.sort_values('quant_grupo', ascending=False)[field])"
   ]
  },
  {
   "cell_type": "markdown",
   "id": "f88cc77a-3ab3-4002-8bd6-1063935b2740",
   "metadata": {},
   "source": [
    "### Ordenação personalizada"
   ]
  },
  {
   "cell_type": "code",
   "execution_count": 11,
   "id": "35419629-e171-4602-a03b-77f675839b9f",
   "metadata": {},
   "outputs": [],
   "source": [
    "#order = []"
   ]
  },
  {
   "cell_type": "markdown",
   "id": "bf56dbc7-d58b-40cb-ba3c-3b09aae80740",
   "metadata": {},
   "source": [
    "### Ordenando dados"
   ]
  },
  {
   "cell_type": "code",
   "execution_count": 12,
   "id": "fc4037e4-d970-4bba-a89b-9b05e7b9047a",
   "metadata": {},
   "outputs": [],
   "source": [
    "sort_keys = {v:k for k,v in enumerate(order)}\n",
    "func_sort = lambda e: sort_keys[e]\n",
    "df_cat = df.pivot_table('quant_grupo',[field],'categoria_situacao').sort_values(by=field, key=lambda col: col.map(func_sort))\n",
    "df_qtd = df_qtd.pivot_table('quant_grupo',[field]).sort_values(by=field, key=lambda col: col.map(func_sort))"
   ]
  },
  {
   "cell_type": "markdown",
   "id": "6078a46e-5bb1-4775-9dae-e1155db3a233",
   "metadata": {},
   "source": [
    "### Apresentando o gráfico"
   ]
  },
  {
   "cell_type": "code",
   "execution_count": 13,
   "id": "f7b7b1d7-c938-4a66-998b-07e0201dcf29",
   "metadata": {},
   "outputs": [
    {
     "data": {
      "text/plain": [
       "<AxesSubplot:xlabel='cor_raca'>"
      ]
     },
     "execution_count": 13,
     "metadata": {},
     "output_type": "execute_result"
    },
    {
     "data": {
      "image/png": "[encoded data removed]",
      "text/plain": [
       "<Figure size 1440x576 with 1 Axes>"
      ]
     },
     "metadata": {
      "needs_background": "light"
     },
     "output_type": "display_data"
    }
   ],
   "source": [
    "df_qtd.plot(kind ='bar', figsize=(20, 8), width = 0.7)"
   ]
  },
  {
   "cell_type": "code",
   "execution_count": 14,
   "id": "30a751a2-d8b4-4cbf-bfe0-a3ba1ca8eab5",
   "metadata": {},
   "outputs": [
    {
     "data": {
      "text/plain": [
       "<AxesSubplot:xlabel='cor_raca'>"
      ]
     },
     "execution_count": 14,
     "metadata": {},
     "output_type": "execute_result"
    },
    {
     "data": {
      "image/png": "[encoded data removed]",
      "text/plain": [
       "<Figure size 1440x576 with 1 Axes>"
      ]
     },
     "metadata": {
      "needs_background": "light"
     },
     "output_type": "display_data"
    }
   ],
   "source": [
    "df_cat.plot(kind ='bar', figsize=(20, 8), width = 0.7)"
   ]
  },
  {
   "cell_type": "markdown",
   "id": "bd5d106d-2dc8-4594-b60f-ee7a686528ae",
   "metadata": {},
   "source": [
    "## Total de Alunos"
   ]
  },
  {
   "cell_type": "code",
   "execution_count": 15,
   "id": "b4cf290e-0e78-46dd-be37-de5e61d4f538",
   "metadata": {},
   "outputs": [
    {
     "data": {
      "text/html": [
       "<div>\n",
       "<style scoped>\n",
       "    .dataframe tbody tr th:only-of-type {\n",
       "        vertical-align: middle;\n",
       "    }\n",
       "\n",
       "    .dataframe tbody tr th {\n",
       "        vertical-align: top;\n",
       "    }\n",
       "\n",
       "    .dataframe thead th {\n",
       "        text-align: right;\n",
       "    }\n",
       "</style>\n",
       "<table border=\"1\" class=\"dataframe\">\n",
       "  <thead>\n",
       "    <tr style=\"text-align: right;\">\n",
       "      <th>categoria_situacao</th>\n",
       "      <th>Concluintes</th>\n",
       "      <th>Evadidos</th>\n",
       "      <th>total</th>\n",
       "      <th>Concluintes_%</th>\n",
       "      <th>Evadidos_%</th>\n",
       "      <th>total_%</th>\n",
       "    </tr>\n",
       "    <tr>\n",
       "      <th>cor_raca</th>\n",
       "      <th></th>\n",
       "      <th></th>\n",
       "      <th></th>\n",
       "      <th></th>\n",
       "      <th></th>\n",
       "      <th></th>\n",
       "    </tr>\n",
       "  </thead>\n",
       "  <tbody>\n",
       "    <tr>\n",
       "      <th>Parda</th>\n",
       "      <td>1579</td>\n",
       "      <td>2110</td>\n",
       "      <td>3689</td>\n",
       "      <td>0.428029</td>\n",
       "      <td>0.571971</td>\n",
       "      <td>0.482980</td>\n",
       "    </tr>\n",
       "    <tr>\n",
       "      <th>Branca</th>\n",
       "      <td>1094</td>\n",
       "      <td>1180</td>\n",
       "      <td>2274</td>\n",
       "      <td>0.481091</td>\n",
       "      <td>0.518909</td>\n",
       "      <td>0.297722</td>\n",
       "    </tr>\n",
       "    <tr>\n",
       "      <th>Não Declarada</th>\n",
       "      <td>574</td>\n",
       "      <td>425</td>\n",
       "      <td>999</td>\n",
       "      <td>0.574575</td>\n",
       "      <td>0.425425</td>\n",
       "      <td>0.130793</td>\n",
       "    </tr>\n",
       "    <tr>\n",
       "      <th>Preta</th>\n",
       "      <td>215</td>\n",
       "      <td>335</td>\n",
       "      <td>550</td>\n",
       "      <td>0.390909</td>\n",
       "      <td>0.609091</td>\n",
       "      <td>0.072008</td>\n",
       "    </tr>\n",
       "    <tr>\n",
       "      <th>Amarela</th>\n",
       "      <td>44</td>\n",
       "      <td>52</td>\n",
       "      <td>96</td>\n",
       "      <td>0.458333</td>\n",
       "      <td>0.541667</td>\n",
       "      <td>0.012569</td>\n",
       "    </tr>\n",
       "    <tr>\n",
       "      <th>Indígena</th>\n",
       "      <td>15</td>\n",
       "      <td>15</td>\n",
       "      <td>30</td>\n",
       "      <td>0.500000</td>\n",
       "      <td>0.500000</td>\n",
       "      <td>0.003928</td>\n",
       "    </tr>\n",
       "  </tbody>\n",
       "</table>\n",
       "</div>"
      ],
      "text/plain": [
       "categoria_situacao  Concluintes  Evadidos  total  Concluintes_%  Evadidos_%  \\\n",
       "cor_raca                                                                      \n",
       "Parda                      1579      2110   3689       0.428029    0.571971   \n",
       "Branca                     1094      1180   2274       0.481091    0.518909   \n",
       "Não Declarada               574       425    999       0.574575    0.425425   \n",
       "Preta                       215       335    550       0.390909    0.609091   \n",
       "Amarela                      44        52     96       0.458333    0.541667   \n",
       "Indígena                     15        15     30       0.500000    0.500000   \n",
       "\n",
       "categoria_situacao   total_%  \n",
       "cor_raca                      \n",
       "Parda               0.482980  \n",
       "Branca              0.297722  \n",
       "Não Declarada       0.130793  \n",
       "Preta               0.072008  \n",
       "Amarela             0.012569  \n",
       "Indígena            0.003928  "
      ]
     },
     "execution_count": 15,
     "metadata": {},
     "output_type": "execute_result"
    }
   ],
   "source": [
    "categories = list(df['categoria_situacao'].unique())\n",
    "total = df['quant_grupo'].sum()\n",
    "df_res = df_cat \n",
    "df_res['total'] = df_res[categories].sum(axis=1)\n",
    "for category in categories:\n",
    "    df_res[category + '_%'] = df_res[category] / df_res['total']\n",
    "df_res['total_%'] = df_res['total'] / total\n",
    "df_res"
   ]
  },
  {
   "cell_type": "code",
   "execution_count": 16,
   "id": "9a3a3e41-caea-4f67-86ca-91498ef7c8a9",
   "metadata": {},
   "outputs": [
    {
     "name": "stdout",
     "output_type": "stream",
     "text": [
      "Total de alunos: 7.638\n"
     ]
    }
   ],
   "source": [
    "print(\"Total de alunos: {:,}\".format(df['quant_grupo'].sum()).replace(',','.'))"
   ]
  },
  {
   "cell_type": "markdown",
   "id": "1da02f48-519b-4d20-b1e0-c1e3e4eb2e54",
   "metadata": {},
   "source": [
    "# Porcentagem de Conclusão"
   ]
  },
  {
   "cell_type": "code",
   "execution_count": 17,
   "id": "707af6b3-a592-4cb6-9f95-b82e01f77639",
   "metadata": {},
   "outputs": [
    {
     "data": {
      "text/plain": [
       "<AxesSubplot:xlabel='cor_raca'>"
      ]
     },
     "execution_count": 17,
     "metadata": {},
     "output_type": "execute_result"
    },
    {
     "data": {
      "image/png": "[encoded data removed]",
      "text/plain": [
       "<Figure size 1440x576 with 1 Axes>"
      ]
     },
     "metadata": {
      "needs_background": "light"
     },
     "output_type": "display_data"
    }
   ],
   "source": [
    "df_drp = df_res['Concluintes_%'] * 100\n",
    "\n",
    "df_drp.plot(kind ='bar', figsize=(20, 8), width = 0.7)"
   ]
  }
 ],
 "metadata": {
  "kernelspec": {
   "display_name": "Python 3 (ipykernel)",
   "language": "python",
   "name": "python3"
  },
  "language_info": {
   "codemirror_mode": {
    "name": "ipython",
    "version": 3
   },
   "file_extension": ".py",
   "mimetype": "text/x-python",
   "name": "python",
   "nbconvert_exporter": "python",
   "pygments_lexer": "ipython3",
   "version": "3.9.10"
  }
 },
 "nbformat": 4,
 "nbformat_minor": 5
}
