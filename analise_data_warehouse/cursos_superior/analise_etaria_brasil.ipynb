{
 "cells": [
  {
   "cell_type": "markdown",
   "id": "4740b615-b9f1-4904-a7d2-f117a0b9949c",
   "metadata": {
    "tags": []
   },
   "source": [
    "# Análise do Data Warehouse - (Cursos Superior, Faixa Etária, Brasil)\n",
    "\n",
    "Análise dos dados disponibilizados no Data Warehouse\n",
    "\n",
    "\n",
    "\n",
    "**Instalando o Cassandra no Jupyter**\n",
    "\n",
    "`docker-compose exec jupyter pip install cassandra-driver`"
   ]
  },
  {
   "cell_type": "markdown",
   "id": "97163e22-a386-4ed2-a63f-d4bda25574d6",
   "metadata": {},
   "source": [
    "## Imports"
   ]
  },
  {
   "cell_type": "code",
   "execution_count": 1,
   "id": "c7426745-0909-40dc-b7fc-caa7d3fd94af",
   "metadata": {},
   "outputs": [],
   "source": [
    "#Imports\n",
    "from time import sleep"
   ]
  },
  {
   "cell_type": "code",
   "execution_count": 2,
   "id": "3f315cff-37ec-4419-adfb-4d24fab7fd1c",
   "metadata": {},
   "outputs": [],
   "source": [
    "#Imports Cassandra\n",
    "from cassandra.auth import PlainTextAuthProvider\n",
    "from cassandra.cluster import Cluster"
   ]
  },
  {
   "cell_type": "code",
   "execution_count": 3,
   "id": "aac05b52-5d1e-4cf9-840a-f21c27397297",
   "metadata": {},
   "outputs": [],
   "source": [
    "#Imports Pandas\n",
    "import pandas as pd\n",
    "import seaborn as sns\n",
    "import matplotlib as mpl\n",
    "import matplotlib.pyplot as plt\n",
    "def pandas_factory(colnames, rows):\n",
    "    return pd.DataFrame(rows, columns=colnames)"
   ]
  },
  {
   "cell_type": "markdown",
   "id": "840aad20-8c10-4d3f-b46f-52b6538af87e",
   "metadata": {},
   "source": [
    "## Conexão ao banco de Dados Cassandra"
   ]
  },
  {
   "cell_type": "code",
   "execution_count": 4,
   "id": "7f340598-3fde-4f94-9f5c-a7bc67eb70b6",
   "metadata": {},
   "outputs": [],
   "source": [
    "#Conectando a seção\n",
    "ap = PlainTextAuthProvider(username='cassandra', password='cassandra')\n",
    "cluster = Cluster(['cassandra'], protocol_version=4, auth_provider=ap)\n",
    "session = cluster.connect('alunos')\n",
    "session.default_timeout = 60\n",
    "session.row_factory = pandas_factory\n",
    "sleep(2)"
   ]
  },
  {
   "cell_type": "markdown",
   "id": "2851a1d7-03eb-4493-8dc4-b9ab2f4f092d",
   "metadata": {},
   "source": [
    "## Consulta"
   ]
  },
  {
   "cell_type": "code",
   "execution_count": 5,
   "id": "50725e10-e250-4410-bf5c-6cf1763e6e40",
   "metadata": {},
   "outputs": [],
   "source": [
    "table = 'fato_aluno_etaria'\n",
    "field = 'faixa_etaria'\n",
    "curse_types = ['Bacharelado','Licenciatura','Tecnologia']\n",
    "filters = {    \n",
    "    'categoria_situacao': ['Evadidos','Concluintes'],\n",
    "    'unidade_ensino': '',\n",
    "    'instituicao': '',\n",
    "}"
   ]
  },
  {
   "cell_type": "code",
   "execution_count": 6,
   "id": "99890a66-25b8-462f-9e5a-1949464f7afc",
   "metadata": {},
   "outputs": [],
   "source": [
    "s = []\n",
    "for k, v in filters.items():\n",
    "    if v :\n",
    "        if type(v) is str:\n",
    "            s.append(\"({} = '{}')\".format(k,v))\n",
    "        elif type(v) is list:\n",
    "            s.append(\"({} IN ({}))\".format(\n",
    "                k,\n",
    "                ','.join(map(str,[\"'{}'\".format(i) for i in v]))))\n",
    "filter_sql = \" AND \".join(map(str,s))"
   ]
  },
  {
   "cell_type": "code",
   "execution_count": 7,
   "id": "25d685fe-e6ba-4603-ac90-ecf4d100cc29",
   "metadata": {},
   "outputs": [
    {
     "data": {
      "text/html": [
       "<div>\n",
       "<style scoped>\n",
       "    .dataframe tbody tr th:only-of-type {\n",
       "        vertical-align: middle;\n",
       "    }\n",
       "\n",
       "    .dataframe tbody tr th {\n",
       "        vertical-align: top;\n",
       "    }\n",
       "\n",
       "    .dataframe thead th {\n",
       "        text-align: right;\n",
       "    }\n",
       "</style>\n",
       "<table border=\"1\" class=\"dataframe\">\n",
       "  <thead>\n",
       "    <tr style=\"text-align: right;\">\n",
       "      <th></th>\n",
       "      <th>categoria_situacao</th>\n",
       "      <th>faixa_etaria</th>\n",
       "      <th>tipo_curso</th>\n",
       "      <th>instituicao</th>\n",
       "      <th>unidade_ensino</th>\n",
       "      <th>quant_grupo</th>\n",
       "    </tr>\n",
       "  </thead>\n",
       "  <tbody>\n",
       "    <tr>\n",
       "      <th>0</th>\n",
       "      <td>Concluintes</td>\n",
       "      <td>15 a 19 anos</td>\n",
       "      <td>Bacharelado</td>\n",
       "      <td>CEFET-RJ</td>\n",
       "      <td>Unidade Maracanã</td>\n",
       "      <td>1</td>\n",
       "    </tr>\n",
       "    <tr>\n",
       "      <th>1</th>\n",
       "      <td>Concluintes</td>\n",
       "      <td>15 a 19 anos</td>\n",
       "      <td>Bacharelado</td>\n",
       "      <td>IFRO</td>\n",
       "      <td>Campus Colorado do Oeste</td>\n",
       "      <td>1</td>\n",
       "    </tr>\n",
       "    <tr>\n",
       "      <th>2</th>\n",
       "      <td>Concluintes</td>\n",
       "      <td>15 a 19 anos</td>\n",
       "      <td>Ensino Fundamental I</td>\n",
       "      <td>CPII</td>\n",
       "      <td>Campus Engenho Novo I</td>\n",
       "      <td>4</td>\n",
       "    </tr>\n",
       "    <tr>\n",
       "      <th>3</th>\n",
       "      <td>Concluintes</td>\n",
       "      <td>15 a 19 anos</td>\n",
       "      <td>Ensino Fundamental II</td>\n",
       "      <td>CPII</td>\n",
       "      <td>Campus Centro</td>\n",
       "      <td>1740</td>\n",
       "    </tr>\n",
       "    <tr>\n",
       "      <th>4</th>\n",
       "      <td>Concluintes</td>\n",
       "      <td>15 a 19 anos</td>\n",
       "      <td>Ensino Médio</td>\n",
       "      <td>CPII</td>\n",
       "      <td>Campus Centro</td>\n",
       "      <td>1301</td>\n",
       "    </tr>\n",
       "    <tr>\n",
       "      <th>...</th>\n",
       "      <td>...</td>\n",
       "      <td>...</td>\n",
       "      <td>...</td>\n",
       "      <td>...</td>\n",
       "      <td>...</td>\n",
       "      <td>...</td>\n",
       "    </tr>\n",
       "    <tr>\n",
       "      <th>4995</th>\n",
       "      <td>Evadidos</td>\n",
       "      <td>50 a 54 anos</td>\n",
       "      <td>Técnico</td>\n",
       "      <td>UFMG - COLTEC</td>\n",
       "      <td>Colégio Técnico da UFMG</td>\n",
       "      <td>1</td>\n",
       "    </tr>\n",
       "    <tr>\n",
       "      <th>4996</th>\n",
       "      <td>Evadidos</td>\n",
       "      <td>50 a 54 anos</td>\n",
       "      <td>Técnico</td>\n",
       "      <td>UFPB - ETS</td>\n",
       "      <td>Escola Técnica de Saúde da UFPB</td>\n",
       "      <td>11</td>\n",
       "    </tr>\n",
       "    <tr>\n",
       "      <th>4997</th>\n",
       "      <td>Evadidos</td>\n",
       "      <td>50 a 54 anos</td>\n",
       "      <td>Técnico</td>\n",
       "      <td>UFPI - CAT</td>\n",
       "      <td>Colégio Técnico de Teresina da UFPI</td>\n",
       "      <td>2</td>\n",
       "    </tr>\n",
       "    <tr>\n",
       "      <th>4998</th>\n",
       "      <td>Evadidos</td>\n",
       "      <td>50 a 54 anos</td>\n",
       "      <td>Técnico</td>\n",
       "      <td>UFRN - EAJ</td>\n",
       "      <td>Escola Agrícola de Jundiaí da UFRN</td>\n",
       "      <td>49</td>\n",
       "    </tr>\n",
       "    <tr>\n",
       "      <th>4999</th>\n",
       "      <td>Evadidos</td>\n",
       "      <td>50 a 54 anos</td>\n",
       "      <td>Técnico</td>\n",
       "      <td>UFRPE - CODAI</td>\n",
       "      <td>Colégio Agrícola Dom Agostinho Ikas da UFRPE</td>\n",
       "      <td>18</td>\n",
       "    </tr>\n",
       "  </tbody>\n",
       "</table>\n",
       "<p>5000 rows × 6 columns</p>\n",
       "</div>"
      ],
      "text/plain": [
       "     categoria_situacao  faixa_etaria             tipo_curso    instituicao  \\\n",
       "0           Concluintes  15 a 19 anos            Bacharelado       CEFET-RJ   \n",
       "1           Concluintes  15 a 19 anos            Bacharelado           IFRO   \n",
       "2           Concluintes  15 a 19 anos   Ensino Fundamental I           CPII   \n",
       "3           Concluintes  15 a 19 anos  Ensino Fundamental II           CPII   \n",
       "4           Concluintes  15 a 19 anos           Ensino Médio           CPII   \n",
       "...                 ...           ...                    ...            ...   \n",
       "4995           Evadidos  50 a 54 anos                Técnico  UFMG - COLTEC   \n",
       "4996           Evadidos  50 a 54 anos                Técnico     UFPB - ETS   \n",
       "4997           Evadidos  50 a 54 anos                Técnico     UFPI - CAT   \n",
       "4998           Evadidos  50 a 54 anos                Técnico     UFRN - EAJ   \n",
       "4999           Evadidos  50 a 54 anos                Técnico  UFRPE - CODAI   \n",
       "\n",
       "                                    unidade_ensino  quant_grupo  \n",
       "0                                 Unidade Maracanã            1  \n",
       "1                         Campus Colorado do Oeste            1  \n",
       "2                            Campus Engenho Novo I            4  \n",
       "3                                    Campus Centro         1740  \n",
       "4                                    Campus Centro         1301  \n",
       "...                                            ...          ...  \n",
       "4995                       Colégio Técnico da UFMG            1  \n",
       "4996               Escola Técnica de Saúde da UFPB           11  \n",
       "4997           Colégio Técnico de Teresina da UFPI            2  \n",
       "4998            Escola Agrícola de Jundiaí da UFRN           49  \n",
       "4999  Colégio Agrícola Dom Agostinho Ikas da UFRPE           18  \n",
       "\n",
       "[5000 rows x 6 columns]"
      ]
     },
     "execution_count": 7,
     "metadata": {},
     "output_type": "execute_result"
    }
   ],
   "source": [
    "# Análise de Sexo\n",
    "sql = \"SELECT categoria_situacao, {0}, tipo_curso, instituicao, unidade_ensino, sum(quant_grupo) AS quant_grupo\" \\\n",
    "\" FROM {1} \" \\\n",
    "\" WHERE {2} \" \\\n",
    "\" GROUP BY categoria_situacao, {0}, tipo_curso, instituicao \" \\\n",
    "\" ALLOW FILTERING;\".format(\n",
    "    field, \n",
    "    table,\n",
    "    filter_sql)\n",
    "rslt = session.execute(sql, timeout=None)\n",
    "df = rslt._current_rows\n",
    "df"
   ]
  },
  {
   "cell_type": "markdown",
   "id": "083b5b33-0eb8-4021-9028-776fb070d6c1",
   "metadata": {
    "tags": []
   },
   "source": [
    "## Filtrando Tipo do Curso"
   ]
  },
  {
   "cell_type": "code",
   "execution_count": 8,
   "id": "acd839ad-e03f-412f-8822-cb906b4f3b25",
   "metadata": {},
   "outputs": [
    {
     "name": "stdout",
     "output_type": "stream",
     "text": [
      "Fitrando pelos tipos de cursos:\n",
      " Bacharelado, Licenciatura, Tecnologia\n"
     ]
    },
    {
     "data": {
      "text/html": [
       "<div>\n",
       "<style scoped>\n",
       "    .dataframe tbody tr th:only-of-type {\n",
       "        vertical-align: middle;\n",
       "    }\n",
       "\n",
       "    .dataframe tbody tr th {\n",
       "        vertical-align: top;\n",
       "    }\n",
       "\n",
       "    .dataframe thead th {\n",
       "        text-align: right;\n",
       "    }\n",
       "</style>\n",
       "<table border=\"1\" class=\"dataframe\">\n",
       "  <thead>\n",
       "    <tr style=\"text-align: right;\">\n",
       "      <th></th>\n",
       "      <th>categoria_situacao</th>\n",
       "      <th>faixa_etaria</th>\n",
       "      <th>tipo_curso</th>\n",
       "      <th>instituicao</th>\n",
       "      <th>unidade_ensino</th>\n",
       "      <th>quant_grupo</th>\n",
       "    </tr>\n",
       "  </thead>\n",
       "  <tbody>\n",
       "    <tr>\n",
       "      <th>0</th>\n",
       "      <td>Concluintes</td>\n",
       "      <td>15 a 19 anos</td>\n",
       "      <td>Bacharelado</td>\n",
       "      <td>CEFET-RJ</td>\n",
       "      <td>Unidade Maracanã</td>\n",
       "      <td>1</td>\n",
       "    </tr>\n",
       "    <tr>\n",
       "      <th>1</th>\n",
       "      <td>Concluintes</td>\n",
       "      <td>15 a 19 anos</td>\n",
       "      <td>Bacharelado</td>\n",
       "      <td>IFRO</td>\n",
       "      <td>Campus Colorado do Oeste</td>\n",
       "      <td>1</td>\n",
       "    </tr>\n",
       "    <tr>\n",
       "      <th>14</th>\n",
       "      <td>Concluintes</td>\n",
       "      <td>15 a 19 anos</td>\n",
       "      <td>Licenciatura</td>\n",
       "      <td>IFCE</td>\n",
       "      <td>Campus Maranguape</td>\n",
       "      <td>1</td>\n",
       "    </tr>\n",
       "    <tr>\n",
       "      <th>15</th>\n",
       "      <td>Concluintes</td>\n",
       "      <td>15 a 19 anos</td>\n",
       "      <td>Licenciatura</td>\n",
       "      <td>IFES</td>\n",
       "      <td>Campus Cariacica</td>\n",
       "      <td>2</td>\n",
       "    </tr>\n",
       "    <tr>\n",
       "      <th>16</th>\n",
       "      <td>Concluintes</td>\n",
       "      <td>15 a 19 anos</td>\n",
       "      <td>Licenciatura</td>\n",
       "      <td>IFSP</td>\n",
       "      <td>Campus Guarulhos</td>\n",
       "      <td>1</td>\n",
       "    </tr>\n",
       "    <tr>\n",
       "      <th>...</th>\n",
       "      <td>...</td>\n",
       "      <td>...</td>\n",
       "      <td>...</td>\n",
       "      <td>...</td>\n",
       "      <td>...</td>\n",
       "      <td>...</td>\n",
       "    </tr>\n",
       "    <tr>\n",
       "      <th>4946</th>\n",
       "      <td>Evadidos</td>\n",
       "      <td>50 a 54 anos</td>\n",
       "      <td>Tecnologia</td>\n",
       "      <td>IFSULDEMINAS</td>\n",
       "      <td>Campus Passos</td>\n",
       "      <td>2</td>\n",
       "    </tr>\n",
       "    <tr>\n",
       "      <th>4947</th>\n",
       "      <td>Evadidos</td>\n",
       "      <td>50 a 54 anos</td>\n",
       "      <td>Tecnologia</td>\n",
       "      <td>IFTM</td>\n",
       "      <td>Campus Uberaba</td>\n",
       "      <td>7</td>\n",
       "    </tr>\n",
       "    <tr>\n",
       "      <th>4948</th>\n",
       "      <td>Evadidos</td>\n",
       "      <td>50 a 54 anos</td>\n",
       "      <td>Tecnologia</td>\n",
       "      <td>IFTO</td>\n",
       "      <td>Campus Palmas</td>\n",
       "      <td>9</td>\n",
       "    </tr>\n",
       "    <tr>\n",
       "      <th>4949</th>\n",
       "      <td>Evadidos</td>\n",
       "      <td>50 a 54 anos</td>\n",
       "      <td>Tecnologia</td>\n",
       "      <td>UFSM - POLITECNICO</td>\n",
       "      <td>Colégio Politécnico da UFSM</td>\n",
       "      <td>1</td>\n",
       "    </tr>\n",
       "    <tr>\n",
       "      <th>4950</th>\n",
       "      <td>Evadidos</td>\n",
       "      <td>50 a 54 anos</td>\n",
       "      <td>Tecnologia</td>\n",
       "      <td>UFSM - POLITÉCNICO</td>\n",
       "      <td>Colégio Politécnico da Universidade Federal Sa...</td>\n",
       "      <td>5</td>\n",
       "    </tr>\n",
       "  </tbody>\n",
       "</table>\n",
       "<p>1934 rows × 6 columns</p>\n",
       "</div>"
      ],
      "text/plain": [
       "     categoria_situacao  faixa_etaria    tipo_curso         instituicao  \\\n",
       "0           Concluintes  15 a 19 anos   Bacharelado            CEFET-RJ   \n",
       "1           Concluintes  15 a 19 anos   Bacharelado                IFRO   \n",
       "14          Concluintes  15 a 19 anos  Licenciatura                IFCE   \n",
       "15          Concluintes  15 a 19 anos  Licenciatura                IFES   \n",
       "16          Concluintes  15 a 19 anos  Licenciatura                IFSP   \n",
       "...                 ...           ...           ...                 ...   \n",
       "4946           Evadidos  50 a 54 anos    Tecnologia        IFSULDEMINAS   \n",
       "4947           Evadidos  50 a 54 anos    Tecnologia                IFTM   \n",
       "4948           Evadidos  50 a 54 anos    Tecnologia                IFTO   \n",
       "4949           Evadidos  50 a 54 anos    Tecnologia  UFSM - POLITECNICO   \n",
       "4950           Evadidos  50 a 54 anos    Tecnologia  UFSM - POLITÉCNICO   \n",
       "\n",
       "                                         unidade_ensino  quant_grupo  \n",
       "0                                      Unidade Maracanã            1  \n",
       "1                              Campus Colorado do Oeste            1  \n",
       "14                                    Campus Maranguape            1  \n",
       "15                                     Campus Cariacica            2  \n",
       "16                                     Campus Guarulhos            1  \n",
       "...                                                 ...          ...  \n",
       "4946                                      Campus Passos            2  \n",
       "4947                                     Campus Uberaba            7  \n",
       "4948                                      Campus Palmas            9  \n",
       "4949                        Colégio Politécnico da UFSM            1  \n",
       "4950  Colégio Politécnico da Universidade Federal Sa...            5  \n",
       "\n",
       "[1934 rows x 6 columns]"
      ]
     },
     "execution_count": 8,
     "metadata": {},
     "output_type": "execute_result"
    }
   ],
   "source": [
    "if curse_types :\n",
    "    df = df[df['tipo_curso'].isin(curse_types)]\n",
    "    print('Fitrando pelos tipos de cursos:\\n {}'.format(', '.join(map(str,curse_types))))\n",
    "    \n",
    "else:\n",
    "    print('Todos os cursos')\n",
    "df"
   ]
  },
  {
   "cell_type": "markdown",
   "id": "7ec20789-46a9-4fe3-a253-af98a4b954a2",
   "metadata": {},
   "source": [
    "## Agrupando"
   ]
  },
  {
   "cell_type": "code",
   "execution_count": 9,
   "id": "8b77cff1-7614-4efe-83ee-b72eee777b23",
   "metadata": {},
   "outputs": [],
   "source": [
    "df = df.groupby(['categoria_situacao',field]).sum('quant_grupo').reset_index()"
   ]
  },
  {
   "cell_type": "code",
   "execution_count": 17,
   "id": "fc4037e4-d970-4bba-a89b-9b05e7b9047a",
   "metadata": {},
   "outputs": [
    {
     "data": {
      "text/plain": [
       "<AxesSubplot:xlabel='faixa_etaria'>"
      ]
     },
     "execution_count": 17,
     "metadata": {},
     "output_type": "execute_result"
    },
    {
     "data": {
      "image/png": "[encoded data removed]",
      "text/plain": [
       "<Figure size 1440x576 with 1 Axes>"
      ]
     },
     "metadata": {
      "needs_background": "light"
     },
     "output_type": "display_data"
    }
   ],
   "source": [
    "x = df.pivot_table('quant_grupo',[field],'categoria_situacao')\n",
    "#x = df.pivot_table('quant_grupo',['categoria_situacao'],field)\n",
    "order = [\n",
    "    'Menor de 14 anos', '15 a 19 anos','20 a 24 anos',\n",
    "    '25 a 29 anos','30 a 34 anos','35 a 39 anos',\n",
    "    '40 a 44 anos','45 a 49 anos', '50 a 54 anos','55 a 59 anos',\n",
    "    'Maior de 60 anos']\n",
    "x.reindex(order).plot(kind ='bar', figsize=(20, 8), width = 0.7)"
   ]
  },
  {
   "cell_type": "markdown",
   "id": "bd5d106d-2dc8-4594-b60f-ee7a686528ae",
   "metadata": {},
   "source": [
    "## Total de Alunos"
   ]
  },
  {
   "cell_type": "code",
   "execution_count": 19,
   "id": "3d23f8d6-d8f1-48c2-8b4f-fe851445943d",
   "metadata": {},
   "outputs": [
    {
     "data": {
      "text/plain": [
       "faixa_etaria\n",
       "Menor de 14 anos        1\n",
       "15 a 19 anos         9584\n",
       "20 a 24 anos        40285\n",
       "25 a 29 anos        27180\n",
       "30 a 34 anos        14396\n",
       "35 a 39 anos         8691\n",
       "40 a 44 anos         4870\n",
       "45 a 49 anos         2761\n",
       "50 a 54 anos         1631\n",
       "55 a 59 anos          300\n",
       "Maior de 60 anos      154\n",
       "Name: quant_grupo, dtype: int64"
      ]
     },
     "execution_count": 19,
     "metadata": {},
     "output_type": "execute_result"
    }
   ],
   "source": [
    "#df[field]\n",
    "df.groupby([field]).sum('quant_grupo')['quant_grupo'].reindex(order)"
   ]
  },
  {
   "cell_type": "code",
   "execution_count": 28,
   "id": "ee8a25cd-e69a-494f-ad28-b1914d8843cf",
   "metadata": {},
   "outputs": [
    {
     "data": {
      "text/plain": [
       "categoria_situacao  faixa_etaria    \n",
       "Concluintes         15 a 19 anos           65\n",
       "                    20 a 24 anos        13008\n",
       "                    25 a 29 anos        10964\n",
       "                    30 a 34 anos         4429\n",
       "                    35 a 39 anos         2468\n",
       "                    40 a 44 anos         1422\n",
       "                    45 a 49 anos          859\n",
       "                    50 a 54 anos          520\n",
       "                    55 a 59 anos          300\n",
       "                    Maior de 60 anos      154\n",
       "                    Menor de 14 anos        1\n",
       "Evadidos            15 a 19 anos         9519\n",
       "                    20 a 24 anos        27277\n",
       "                    25 a 29 anos        16216\n",
       "                    30 a 34 anos         9967\n",
       "                    35 a 39 anos         6223\n",
       "                    40 a 44 anos         3448\n",
       "                    45 a 49 anos         1902\n",
       "                    50 a 54 anos         1111\n",
       "Name: quant_grupo, dtype: int64"
      ]
     },
     "execution_count": 28,
     "metadata": {},
     "output_type": "execute_result"
    }
   ],
   "source": [
    "#df[field]\n",
    "df.groupby(['categoria_situacao', field]).sum('quant_grupo')['quant_grupo']"
   ]
  },
  {
   "cell_type": "code",
   "execution_count": 12,
   "id": "9a3a3e41-caea-4f67-86ca-91498ef7c8a9",
   "metadata": {},
   "outputs": [
    {
     "name": "stdout",
     "output_type": "stream",
     "text": [
      "Total de aluns: 109.853\n"
     ]
    }
   ],
   "source": [
    "print(\"Total de aluns: {:,}\".format(df['quant_grupo'].sum()).replace(',','.'))"
   ]
  }
 ],
 "metadata": {
  "kernelspec": {
   "display_name": "Python 3 (ipykernel)",
   "language": "python",
   "name": "python3"
  },
  "language_info": {
   "codemirror_mode": {
    "name": "ipython",
    "version": 3
   },
   "file_extension": ".py",
   "mimetype": "text/x-python",
   "name": "python",
   "nbconvert_exporter": "python",
   "pygments_lexer": "ipython3",
   "version": "3.9.12"
  }
 },
 "nbformat": 4,
 "nbformat_minor": 5
}
