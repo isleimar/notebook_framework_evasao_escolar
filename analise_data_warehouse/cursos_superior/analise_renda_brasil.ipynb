{
 "cells": [
  {
   "cell_type": "markdown",
   "id": "4740b615-b9f1-4904-a7d2-f117a0b9949c",
   "metadata": {
    "tags": []
   },
   "source": [
    "# Análise do Data Warehouse - (Cursos Superior, Renda Familiar, Brasil)\n",
    "\n",
    "Análise dos dados disponibilizados no Data Warehouse\n",
    "\n",
    "\n",
    "\n",
    "**Instalando o Cassandra no Jupyter**\n",
    "\n",
    "`docker-compose exec jupyter pip install cassandra-driver`"
   ]
  },
  {
   "cell_type": "markdown",
   "id": "97163e22-a386-4ed2-a63f-d4bda25574d6",
   "metadata": {},
   "source": [
    "## Imports"
   ]
  },
  {
   "cell_type": "code",
   "execution_count": 1,
   "id": "c7426745-0909-40dc-b7fc-caa7d3fd94af",
   "metadata": {},
   "outputs": [],
   "source": [
    "#Imports\n",
    "from time import sleep"
   ]
  },
  {
   "cell_type": "code",
   "execution_count": 2,
   "id": "3f315cff-37ec-4419-adfb-4d24fab7fd1c",
   "metadata": {},
   "outputs": [],
   "source": [
    "#Imports Cassandra\n",
    "from cassandra.auth import PlainTextAuthProvider\n",
    "from cassandra.cluster import Cluster"
   ]
  },
  {
   "cell_type": "code",
   "execution_count": 3,
   "id": "aac05b52-5d1e-4cf9-840a-f21c27397297",
   "metadata": {},
   "outputs": [],
   "source": [
    "#Imports Pandas\n",
    "import pandas as pd\n",
    "import seaborn as sns\n",
    "import matplotlib as mpl\n",
    "import matplotlib.pyplot as plt\n",
    "def pandas_factory(colnames, rows):\n",
    "    return pd.DataFrame(rows, columns=colnames)"
   ]
  },
  {
   "cell_type": "markdown",
   "id": "840aad20-8c10-4d3f-b46f-52b6538af87e",
   "metadata": {},
   "source": [
    "## Conexão ao banco de Dados Cassandra"
   ]
  },
  {
   "cell_type": "code",
   "execution_count": 4,
   "id": "7f340598-3fde-4f94-9f5c-a7bc67eb70b6",
   "metadata": {},
   "outputs": [],
   "source": [
    "#Conectando a seção\n",
    "ap = PlainTextAuthProvider(username='cassandra', password='cassandra')\n",
    "cluster = Cluster(['cassandra'], protocol_version=4, auth_provider=ap)\n",
    "session = cluster.connect('alunos')\n",
    "session.default_timeout = 60\n",
    "session.row_factory = pandas_factory\n",
    "sleep(2)"
   ]
  },
  {
   "cell_type": "markdown",
   "id": "2851a1d7-03eb-4493-8dc4-b9ab2f4f092d",
   "metadata": {},
   "source": [
    "## Consulta"
   ]
  },
  {
   "cell_type": "code",
   "execution_count": 5,
   "id": "50725e10-e250-4410-bf5c-6cf1763e6e40",
   "metadata": {},
   "outputs": [],
   "source": [
    "table = 'fato_aluno_renda'\n",
    "field = 'renda_familiar'\n",
    "curse_types = ['Bacharelado','Licenciatura','Tecnologia']\n",
    "filters = {    \n",
    "    'categoria_situacao': ['Evadidos','Concluintes'],\n",
    "    'unidade_ensino': '',\n",
    "    'instituicao': '',\n",
    "}"
   ]
  },
  {
   "cell_type": "code",
   "execution_count": 6,
   "id": "99890a66-25b8-462f-9e5a-1949464f7afc",
   "metadata": {},
   "outputs": [],
   "source": [
    "s = []\n",
    "for k, v in filters.items():\n",
    "    if v :\n",
    "        if type(v) is str:\n",
    "            s.append(\"({} = '{}')\".format(k,v))\n",
    "        elif type(v) is list:\n",
    "            s.append(\"({} IN ({}))\".format(\n",
    "                k,\n",
    "                ','.join(map(str,[\"'{}'\".format(i) for i in v]))))\n",
    "filter_sql = \" AND \".join(map(str,s))"
   ]
  },
  {
   "cell_type": "code",
   "execution_count": 7,
   "id": "25d685fe-e6ba-4603-ac90-ecf4d100cc29",
   "metadata": {},
   "outputs": [
    {
     "data": {
      "text/html": [
       "<div>\n",
       "<style scoped>\n",
       "    .dataframe tbody tr th:only-of-type {\n",
       "        vertical-align: middle;\n",
       "    }\n",
       "\n",
       "    .dataframe tbody tr th {\n",
       "        vertical-align: top;\n",
       "    }\n",
       "\n",
       "    .dataframe thead th {\n",
       "        text-align: right;\n",
       "    }\n",
       "</style>\n",
       "<table border=\"1\" class=\"dataframe\">\n",
       "  <thead>\n",
       "    <tr style=\"text-align: right;\">\n",
       "      <th></th>\n",
       "      <th>categoria_situacao</th>\n",
       "      <th>renda_familiar</th>\n",
       "      <th>tipo_curso</th>\n",
       "      <th>instituicao</th>\n",
       "      <th>unidade_ensino</th>\n",
       "      <th>quant_grupo</th>\n",
       "    </tr>\n",
       "  </thead>\n",
       "  <tbody>\n",
       "    <tr>\n",
       "      <th>0</th>\n",
       "      <td>Concluintes</td>\n",
       "      <td>0,5&lt;RFP&lt;=1,0</td>\n",
       "      <td>Bacharelado</td>\n",
       "      <td>CEFET-MG</td>\n",
       "      <td>Uned Araxá</td>\n",
       "      <td>104</td>\n",
       "    </tr>\n",
       "    <tr>\n",
       "      <th>1</th>\n",
       "      <td>Concluintes</td>\n",
       "      <td>0,5&lt;RFP&lt;=1,0</td>\n",
       "      <td>Bacharelado</td>\n",
       "      <td>CEFET-RJ</td>\n",
       "      <td>Uned Valença</td>\n",
       "      <td>15</td>\n",
       "    </tr>\n",
       "    <tr>\n",
       "      <th>2</th>\n",
       "      <td>Concluintes</td>\n",
       "      <td>0,5&lt;RFP&lt;=1,0</td>\n",
       "      <td>Bacharelado</td>\n",
       "      <td>IF BAIANO</td>\n",
       "      <td>Campus Bom Jesus da Lapa</td>\n",
       "      <td>13</td>\n",
       "    </tr>\n",
       "    <tr>\n",
       "      <th>3</th>\n",
       "      <td>Concluintes</td>\n",
       "      <td>0,5&lt;RFP&lt;=1,0</td>\n",
       "      <td>Bacharelado</td>\n",
       "      <td>IF FARROUPILHA</td>\n",
       "      <td>Campus Alegrete</td>\n",
       "      <td>80</td>\n",
       "    </tr>\n",
       "    <tr>\n",
       "      <th>4</th>\n",
       "      <td>Concluintes</td>\n",
       "      <td>0,5&lt;RFP&lt;=1,0</td>\n",
       "      <td>Bacharelado</td>\n",
       "      <td>IF GOIANO</td>\n",
       "      <td>Campus Ceres</td>\n",
       "      <td>43</td>\n",
       "    </tr>\n",
       "    <tr>\n",
       "      <th>...</th>\n",
       "      <td>...</td>\n",
       "      <td>...</td>\n",
       "      <td>...</td>\n",
       "      <td>...</td>\n",
       "      <td>...</td>\n",
       "      <td>...</td>\n",
       "    </tr>\n",
       "    <tr>\n",
       "      <th>3799</th>\n",
       "      <td>Evadidos</td>\n",
       "      <td>RFP&gt;3,5</td>\n",
       "      <td>Técnico</td>\n",
       "      <td>UFRRJ - CTUR</td>\n",
       "      <td>Colégio Técnico da UFRRJ</td>\n",
       "      <td>5</td>\n",
       "    </tr>\n",
       "    <tr>\n",
       "      <th>3800</th>\n",
       "      <td>Evadidos</td>\n",
       "      <td>RFP&gt;3,5</td>\n",
       "      <td>Técnico</td>\n",
       "      <td>UFSM - CTISM</td>\n",
       "      <td>Colégio Técnico Industrial da UFSM</td>\n",
       "      <td>2</td>\n",
       "    </tr>\n",
       "    <tr>\n",
       "      <th>3801</th>\n",
       "      <td>Evadidos</td>\n",
       "      <td>RFP&gt;3,5</td>\n",
       "      <td>Técnico</td>\n",
       "      <td>UFSM - POLITECNICO</td>\n",
       "      <td>Colégio Politécnico da UFSM</td>\n",
       "      <td>7</td>\n",
       "    </tr>\n",
       "    <tr>\n",
       "      <th>3802</th>\n",
       "      <td>Evadidos</td>\n",
       "      <td>RFP&gt;3,5</td>\n",
       "      <td>Técnico</td>\n",
       "      <td>UFTM - CEFORES</td>\n",
       "      <td>Centro de Formação Especial em Saúde da UFTM</td>\n",
       "      <td>1</td>\n",
       "    </tr>\n",
       "    <tr>\n",
       "      <th>3803</th>\n",
       "      <td>Evadidos</td>\n",
       "      <td>RFP&gt;3,5</td>\n",
       "      <td>Técnico</td>\n",
       "      <td>UFV - CEDAF</td>\n",
       "      <td>Centro de Ensino e Desenvolvimento Agrário da UFV</td>\n",
       "      <td>5</td>\n",
       "    </tr>\n",
       "  </tbody>\n",
       "</table>\n",
       "<p>3804 rows × 6 columns</p>\n",
       "</div>"
      ],
      "text/plain": [
       "     categoria_situacao renda_familiar   tipo_curso         instituicao  \\\n",
       "0           Concluintes   0,5<RFP<=1,0  Bacharelado            CEFET-MG   \n",
       "1           Concluintes   0,5<RFP<=1,0  Bacharelado            CEFET-RJ   \n",
       "2           Concluintes   0,5<RFP<=1,0  Bacharelado           IF BAIANO   \n",
       "3           Concluintes   0,5<RFP<=1,0  Bacharelado      IF FARROUPILHA   \n",
       "4           Concluintes   0,5<RFP<=1,0  Bacharelado           IF GOIANO   \n",
       "...                 ...            ...          ...                 ...   \n",
       "3799           Evadidos        RFP>3,5      Técnico        UFRRJ - CTUR   \n",
       "3800           Evadidos        RFP>3,5      Técnico        UFSM - CTISM   \n",
       "3801           Evadidos        RFP>3,5      Técnico  UFSM - POLITECNICO   \n",
       "3802           Evadidos        RFP>3,5      Técnico      UFTM - CEFORES   \n",
       "3803           Evadidos        RFP>3,5      Técnico         UFV - CEDAF   \n",
       "\n",
       "                                         unidade_ensino  quant_grupo  \n",
       "0                                            Uned Araxá          104  \n",
       "1                                          Uned Valença           15  \n",
       "2                              Campus Bom Jesus da Lapa           13  \n",
       "3                                       Campus Alegrete           80  \n",
       "4                                          Campus Ceres           43  \n",
       "...                                                 ...          ...  \n",
       "3799                           Colégio Técnico da UFRRJ            5  \n",
       "3800                 Colégio Técnico Industrial da UFSM            2  \n",
       "3801                        Colégio Politécnico da UFSM            7  \n",
       "3802       Centro de Formação Especial em Saúde da UFTM            1  \n",
       "3803  Centro de Ensino e Desenvolvimento Agrário da UFV            5  \n",
       "\n",
       "[3804 rows x 6 columns]"
      ]
     },
     "execution_count": 7,
     "metadata": {},
     "output_type": "execute_result"
    }
   ],
   "source": [
    "# Análise de Sexo\n",
    "sql = \"SELECT categoria_situacao, {0}, tipo_curso, instituicao, unidade_ensino, sum(quant_grupo) AS quant_grupo\" \\\n",
    "\" FROM {1} \" \\\n",
    "\" WHERE {2} \" \\\n",
    "\" GROUP BY categoria_situacao, {0}, tipo_curso, instituicao \" \\\n",
    "\" ALLOW FILTERING;\".format(\n",
    "    field, \n",
    "    table,\n",
    "    filter_sql)\n",
    "rslt = session.execute(sql, timeout=None)\n",
    "df = rslt._current_rows\n",
    "df"
   ]
  },
  {
   "cell_type": "markdown",
   "id": "083b5b33-0eb8-4021-9028-776fb070d6c1",
   "metadata": {
    "tags": []
   },
   "source": [
    "## Filtrando Tipo do Curso"
   ]
  },
  {
   "cell_type": "code",
   "execution_count": 8,
   "id": "acd839ad-e03f-412f-8822-cb906b4f3b25",
   "metadata": {},
   "outputs": [
    {
     "name": "stdout",
     "output_type": "stream",
     "text": [
      "Fitrando pelos tipos de cursos:\n",
      " Bacharelado, Licenciatura, Tecnologia\n"
     ]
    },
    {
     "data": {
      "text/html": [
       "<div>\n",
       "<style scoped>\n",
       "    .dataframe tbody tr th:only-of-type {\n",
       "        vertical-align: middle;\n",
       "    }\n",
       "\n",
       "    .dataframe tbody tr th {\n",
       "        vertical-align: top;\n",
       "    }\n",
       "\n",
       "    .dataframe thead th {\n",
       "        text-align: right;\n",
       "    }\n",
       "</style>\n",
       "<table border=\"1\" class=\"dataframe\">\n",
       "  <thead>\n",
       "    <tr style=\"text-align: right;\">\n",
       "      <th></th>\n",
       "      <th>categoria_situacao</th>\n",
       "      <th>renda_familiar</th>\n",
       "      <th>tipo_curso</th>\n",
       "      <th>instituicao</th>\n",
       "      <th>unidade_ensino</th>\n",
       "      <th>quant_grupo</th>\n",
       "    </tr>\n",
       "  </thead>\n",
       "  <tbody>\n",
       "    <tr>\n",
       "      <th>0</th>\n",
       "      <td>Concluintes</td>\n",
       "      <td>0,5&lt;RFP&lt;=1,0</td>\n",
       "      <td>Bacharelado</td>\n",
       "      <td>CEFET-MG</td>\n",
       "      <td>Uned Araxá</td>\n",
       "      <td>104</td>\n",
       "    </tr>\n",
       "    <tr>\n",
       "      <th>1</th>\n",
       "      <td>Concluintes</td>\n",
       "      <td>0,5&lt;RFP&lt;=1,0</td>\n",
       "      <td>Bacharelado</td>\n",
       "      <td>CEFET-RJ</td>\n",
       "      <td>Uned Valença</td>\n",
       "      <td>15</td>\n",
       "    </tr>\n",
       "    <tr>\n",
       "      <th>2</th>\n",
       "      <td>Concluintes</td>\n",
       "      <td>0,5&lt;RFP&lt;=1,0</td>\n",
       "      <td>Bacharelado</td>\n",
       "      <td>IF BAIANO</td>\n",
       "      <td>Campus Bom Jesus da Lapa</td>\n",
       "      <td>13</td>\n",
       "    </tr>\n",
       "    <tr>\n",
       "      <th>3</th>\n",
       "      <td>Concluintes</td>\n",
       "      <td>0,5&lt;RFP&lt;=1,0</td>\n",
       "      <td>Bacharelado</td>\n",
       "      <td>IF FARROUPILHA</td>\n",
       "      <td>Campus Alegrete</td>\n",
       "      <td>80</td>\n",
       "    </tr>\n",
       "    <tr>\n",
       "      <th>4</th>\n",
       "      <td>Concluintes</td>\n",
       "      <td>0,5&lt;RFP&lt;=1,0</td>\n",
       "      <td>Bacharelado</td>\n",
       "      <td>IF GOIANO</td>\n",
       "      <td>Campus Ceres</td>\n",
       "      <td>43</td>\n",
       "    </tr>\n",
       "    <tr>\n",
       "      <th>...</th>\n",
       "      <td>...</td>\n",
       "      <td>...</td>\n",
       "      <td>...</td>\n",
       "      <td>...</td>\n",
       "      <td>...</td>\n",
       "      <td>...</td>\n",
       "    </tr>\n",
       "    <tr>\n",
       "      <th>3744</th>\n",
       "      <td>Evadidos</td>\n",
       "      <td>RFP&gt;3,5</td>\n",
       "      <td>Tecnologia</td>\n",
       "      <td>IFSP</td>\n",
       "      <td>Campus Barretos</td>\n",
       "      <td>41</td>\n",
       "    </tr>\n",
       "    <tr>\n",
       "      <th>3745</th>\n",
       "      <td>Evadidos</td>\n",
       "      <td>RFP&gt;3,5</td>\n",
       "      <td>Tecnologia</td>\n",
       "      <td>IFSUL</td>\n",
       "      <td>Campus Charqueadas</td>\n",
       "      <td>8</td>\n",
       "    </tr>\n",
       "    <tr>\n",
       "      <th>3746</th>\n",
       "      <td>Evadidos</td>\n",
       "      <td>RFP&gt;3,5</td>\n",
       "      <td>Tecnologia</td>\n",
       "      <td>IFSULDEMINAS</td>\n",
       "      <td>Campus Inconfidentes</td>\n",
       "      <td>8</td>\n",
       "    </tr>\n",
       "    <tr>\n",
       "      <th>3747</th>\n",
       "      <td>Evadidos</td>\n",
       "      <td>RFP&gt;3,5</td>\n",
       "      <td>Tecnologia</td>\n",
       "      <td>IFTM</td>\n",
       "      <td>Campus Avançado Uberaba Parque Tecnológico</td>\n",
       "      <td>24</td>\n",
       "    </tr>\n",
       "    <tr>\n",
       "      <th>3748</th>\n",
       "      <td>Evadidos</td>\n",
       "      <td>RFP&gt;3,5</td>\n",
       "      <td>Tecnologia</td>\n",
       "      <td>IFTO</td>\n",
       "      <td>Campus Araguaína</td>\n",
       "      <td>81</td>\n",
       "    </tr>\n",
       "  </tbody>\n",
       "</table>\n",
       "<p>1519 rows × 6 columns</p>\n",
       "</div>"
      ],
      "text/plain": [
       "     categoria_situacao renda_familiar   tipo_curso     instituicao  \\\n",
       "0           Concluintes   0,5<RFP<=1,0  Bacharelado        CEFET-MG   \n",
       "1           Concluintes   0,5<RFP<=1,0  Bacharelado        CEFET-RJ   \n",
       "2           Concluintes   0,5<RFP<=1,0  Bacharelado       IF BAIANO   \n",
       "3           Concluintes   0,5<RFP<=1,0  Bacharelado  IF FARROUPILHA   \n",
       "4           Concluintes   0,5<RFP<=1,0  Bacharelado       IF GOIANO   \n",
       "...                 ...            ...          ...             ...   \n",
       "3744           Evadidos        RFP>3,5   Tecnologia            IFSP   \n",
       "3745           Evadidos        RFP>3,5   Tecnologia           IFSUL   \n",
       "3746           Evadidos        RFP>3,5   Tecnologia    IFSULDEMINAS   \n",
       "3747           Evadidos        RFP>3,5   Tecnologia            IFTM   \n",
       "3748           Evadidos        RFP>3,5   Tecnologia            IFTO   \n",
       "\n",
       "                                  unidade_ensino  quant_grupo  \n",
       "0                                     Uned Araxá          104  \n",
       "1                                   Uned Valença           15  \n",
       "2                       Campus Bom Jesus da Lapa           13  \n",
       "3                                Campus Alegrete           80  \n",
       "4                                   Campus Ceres           43  \n",
       "...                                          ...          ...  \n",
       "3744                             Campus Barretos           41  \n",
       "3745                          Campus Charqueadas            8  \n",
       "3746                        Campus Inconfidentes            8  \n",
       "3747  Campus Avançado Uberaba Parque Tecnológico           24  \n",
       "3748                            Campus Araguaína           81  \n",
       "\n",
       "[1519 rows x 6 columns]"
      ]
     },
     "execution_count": 8,
     "metadata": {},
     "output_type": "execute_result"
    }
   ],
   "source": [
    "if curse_types :\n",
    "    df = df[df['tipo_curso'].isin(curse_types)]\n",
    "    print('Fitrando pelos tipos de cursos:\\n {}'.format(', '.join(map(str,curse_types))))\n",
    "    \n",
    "else:\n",
    "    print('Todos os cursos')\n",
    "df"
   ]
  },
  {
   "cell_type": "markdown",
   "id": "7ec20789-46a9-4fe3-a253-af98a4b954a2",
   "metadata": {},
   "source": [
    "## Agrupando"
   ]
  },
  {
   "cell_type": "code",
   "execution_count": 9,
   "id": "8b77cff1-7614-4efe-83ee-b72eee777b23",
   "metadata": {},
   "outputs": [],
   "source": [
    "df = df.groupby(['categoria_situacao',field]).sum('quant_grupo').reset_index()"
   ]
  },
  {
   "cell_type": "code",
   "execution_count": 10,
   "id": "fc4037e4-d970-4bba-a89b-9b05e7b9047a",
   "metadata": {},
   "outputs": [
    {
     "data": {
      "text/plain": [
       "<AxesSubplot:xlabel='renda_familiar'>"
      ]
     },
     "execution_count": 15,
     "metadata": {},
     "output_type": "execute_result"
    },
    {
     "data": {
      "image/png": "[encoded data removed]",
      "text/plain": [
       "<Figure size 1440x576 with 1 Axes>"
      ]
     },
     "metadata": {
      "needs_background": "light"
     },
     "output_type": "display_data"
    }
   ],
   "source": [
    "x = df.pivot_table('quant_grupo',[field],'categoria_situacao')\n",
    "#x = df.pivot_table('quant_grupo',['categoria_situacao'],field)\n",
    "order = ['0<RFP<=0,5','0,5<RFP<=1,0','1,0<RFP<=1,5','1,5<RFP<=2,5','2,5<RFP<=3,5','RFP>3,5','NÃO DECLARADA']\n",
    "x.reindex(order).plot(kind ='bar', figsize=(20, 8), width = 0.7)"
   ]
  },
  {
   "cell_type": "markdown",
   "id": "bd5d106d-2dc8-4594-b60f-ee7a686528ae",
   "metadata": {},
   "source": [
    "## Total de Alunos"
   ]
  },
  {
   "cell_type": "code",
   "execution_count": 17,
   "id": "3d23f8d6-d8f1-48c2-8b4f-fe851445943d",
   "metadata": {},
   "outputs": [
    {
     "data": {
      "text/plain": [
       "renda_familiar\n",
       "0<RFP<=0,5       14821\n",
       "0,5<RFP<=1,0     15676\n",
       "1,0<RFP<=1,5     10584\n",
       "1,5<RFP<=2,5      8465\n",
       "2,5<RFP<=3,5      3523\n",
       "RFP>3,5           4433\n",
       "NÃO DECLARADA    53215\n",
       "Name: quant_grupo, dtype: int64"
      ]
     },
     "execution_count": 17,
     "metadata": {},
     "output_type": "execute_result"
    }
   ],
   "source": [
    "#df[field]\n",
    "df.groupby([field]).sum('quant_grupo')['quant_grupo'].reindex(order)"
   ]
  },
  {
   "cell_type": "code",
   "execution_count": 16,
   "id": "ee8a25cd-e69a-494f-ad28-b1914d8843cf",
   "metadata": {},
   "outputs": [
    {
     "data": {
      "text/plain": [
       "0<RFP<=0,5      NaN\n",
       "0,5<RFP<=1,0    NaN\n",
       "1,0<RFP<=1,5    NaN\n",
       "1,5<RFP<=2,5    NaN\n",
       "2,5<RFP<=3,5    NaN\n",
       "RFP>3,5         NaN\n",
       "NÃO DECLARADA   NaN\n",
       "Name: quant_grupo, dtype: float64"
      ]
     },
     "execution_count": 16,
     "metadata": {},
     "output_type": "execute_result"
    }
   ],
   "source": [
    "#df[field]\n",
    "df.groupby(['categoria_situacao', field]).sum('quant_grupo')['quant_grupo']"
   ]
  },
  {
   "cell_type": "code",
   "execution_count": 13,
   "id": "9a3a3e41-caea-4f67-86ca-91498ef7c8a9",
   "metadata": {},
   "outputs": [
    {
     "name": "stdout",
     "output_type": "stream",
     "text": [
      "Total de aluns: 110.717\n"
     ]
    }
   ],
   "source": [
    "print(\"Total de aluns: {:,}\".format(df['quant_grupo'].sum()).replace(',','.'))"
   ]
  }
 ],
 "metadata": {
  "kernelspec": {
   "display_name": "Python 3 (ipykernel)",
   "language": "python",
   "name": "python3"
  },
  "language_info": {
   "codemirror_mode": {
    "name": "ipython",
    "version": 3
   },
   "file_extension": ".py",
   "mimetype": "text/x-python",
   "name": "python",
   "nbconvert_exporter": "python",
   "pygments_lexer": "ipython3",
   "version": "3.9.12"
  }
 },
 "nbformat": 4,
 "nbformat_minor": 5
}
