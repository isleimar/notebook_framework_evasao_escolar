{
 "cells": [
  {
   "cell_type": "markdown",
   "id": "4740b615-b9f1-4904-a7d2-f117a0b9949c",
   "metadata": {
    "tags": []
   },
   "source": [
    "# Análise do Data Warehouse\n",
    "\n",
    "Análise dos dados disponibilizados no Data Warehouse\n",
    "\n",
    "\n",
    "\n",
    "**Instalando o Cassandra no Jupyter**\n",
    "\n",
    "`docker-compose exec jupyter pip install cassandra-driver`"
   ]
  },
  {
   "cell_type": "markdown",
   "id": "97163e22-a386-4ed2-a63f-d4bda25574d6",
   "metadata": {
    "tags": []
   },
   "source": [
    "## Imports"
   ]
  },
  {
   "cell_type": "code",
   "execution_count": 1,
   "id": "c7426745-0909-40dc-b7fc-caa7d3fd94af",
   "metadata": {},
   "outputs": [],
   "source": [
    "#Imports\n",
    "from time import sleep"
   ]
  },
  {
   "cell_type": "code",
   "execution_count": 2,
   "id": "3f315cff-37ec-4419-adfb-4d24fab7fd1c",
   "metadata": {},
   "outputs": [],
   "source": [
    "#Imports Cassandra\n",
    "from cassandra.auth import PlainTextAuthProvider\n",
    "from cassandra.cluster import Cluster"
   ]
  },
  {
   "cell_type": "code",
   "execution_count": 3,
   "id": "aac05b52-5d1e-4cf9-840a-f21c27397297",
   "metadata": {},
   "outputs": [],
   "source": [
    "#Imports Pandas\n",
    "import pandas as pd\n",
    "import seaborn as sns\n",
    "import matplotlib as mpl\n",
    "import matplotlib.pyplot as plt\n",
    "def pandas_factory(colnames, rows):\n",
    "    return pd.DataFrame(rows, columns=colnames)"
   ]
  },
  {
   "cell_type": "markdown",
   "id": "840aad20-8c10-4d3f-b46f-52b6538af87e",
   "metadata": {
    "tags": []
   },
   "source": [
    "## Conexão ao banco de Dados Cassandra"
   ]
  },
  {
   "cell_type": "code",
   "execution_count": 4,
   "id": "7f340598-3fde-4f94-9f5c-a7bc67eb70b6",
   "metadata": {},
   "outputs": [],
   "source": [
    "#Conectando a seção\n",
    "ap = PlainTextAuthProvider(username='cassandra', password='cassandra')\n",
    "cluster = Cluster(['cassandra'], protocol_version=4, auth_provider=ap)\n",
    "session = cluster.connect('alunos')\n",
    "session.default_timeout = 60\n",
    "session.row_factory = pandas_factory\n",
    "sleep(2)"
   ]
  },
  {
   "cell_type": "markdown",
   "id": "2851a1d7-03eb-4493-8dc4-b9ab2f4f092d",
   "metadata": {
    "tags": []
   },
   "source": [
    "## Consulta"
   ]
  },
  {
   "cell_type": "markdown",
   "id": "7c44def4-9072-404f-a474-77f3d8a889df",
   "metadata": {
    "tags": []
   },
   "source": [
    "### Configurando a consulta\n",
    "Atribuindo valores para as consultas"
   ]
  },
  {
   "cell_type": "code",
   "execution_count": 5,
   "id": "50725e10-e250-4410-bf5c-6cf1763e6e40",
   "metadata": {
    "tags": []
   },
   "outputs": [],
   "source": [
    "figsize=(10, 5)\n",
    "fontsize=16\n",
    "field_label=\"Faixa Etária\"\n",
    "table = 'fato_aluno_etaria'\n",
    "field = 'faixa_etaria'\n",
    "curse_types = []\n",
    "filters = {    \n",
    "    'categoria_situacao': ['Evadidos','Concluintes', 'Em curso'],\n",
    "    field: True,\n",
    "    'tipo_curso': len(curse_types) > 0,\n",
    "    'instituicao': '',\n",
    "    'unidade_ensino': '',\n",
    "    'nome_curso': '',\n",
    "    \n",
    "}"
   ]
  },
  {
   "cell_type": "markdown",
   "id": "f0dfc88e-6505-42f8-b68e-9b38c128dd92",
   "metadata": {
    "tags": []
   },
   "source": [
    "### Construindo a string para a consulta\n",
    "Criando fields e grupos para a consulta"
   ]
  },
  {
   "cell_type": "code",
   "execution_count": 6,
   "id": "85034c45-3e88-44c2-b4f5-6d01a27a932d",
   "metadata": {},
   "outputs": [],
   "source": [
    "s = []\n",
    "gf = []\n",
    "for k, v in filters.items():\n",
    "    if v :\n",
    "        if type(v) is str:\n",
    "            s.append(\"({} = '{}')\".format(k,v))            \n",
    "        elif type(v) is list:\n",
    "            s.append(\"({} IN ({}))\".format(\n",
    "                k,','.join(map(str,[\"'{}'\".format(i) for i in v]))))\n",
    "        if (type(v) is bool and v) or (not type(v) is bool):\n",
    "            gf.append(k)\n",
    "filter_sql = \" AND \".join(map(str,s))\n",
    "fields = \", \".join(map(str,gf))\n"
   ]
  },
  {
   "cell_type": "markdown",
   "id": "47b5d514-559a-48aa-884c-5984db21f00d",
   "metadata": {
    "tags": []
   },
   "source": [
    "### Execultado a consulta"
   ]
  },
  {
   "cell_type": "code",
   "execution_count": 7,
   "id": "142510d9-d626-46c2-b2e7-a1dbaf8bd324",
   "metadata": {},
   "outputs": [
    {
     "data": {
      "text/html": [
       "<div>\n",
       "<style scoped>\n",
       "    .dataframe tbody tr th:only-of-type {\n",
       "        vertical-align: middle;\n",
       "    }\n",
       "\n",
       "    .dataframe tbody tr th {\n",
       "        vertical-align: top;\n",
       "    }\n",
       "\n",
       "    .dataframe thead th {\n",
       "        text-align: right;\n",
       "    }\n",
       "</style>\n",
       "<table border=\"1\" class=\"dataframe\">\n",
       "  <thead>\n",
       "    <tr style=\"text-align: right;\">\n",
       "      <th></th>\n",
       "      <th>categoria_situacao</th>\n",
       "      <th>faixa_etaria</th>\n",
       "      <th>quant_grupo</th>\n",
       "    </tr>\n",
       "  </thead>\n",
       "  <tbody>\n",
       "    <tr>\n",
       "      <th>0</th>\n",
       "      <td>Concluintes</td>\n",
       "      <td>15 a 19 anos</td>\n",
       "      <td>116364</td>\n",
       "    </tr>\n",
       "    <tr>\n",
       "      <th>1</th>\n",
       "      <td>Concluintes</td>\n",
       "      <td>20 a 24 anos</td>\n",
       "      <td>84362</td>\n",
       "    </tr>\n",
       "    <tr>\n",
       "      <th>2</th>\n",
       "      <td>Concluintes</td>\n",
       "      <td>25 a 29 anos</td>\n",
       "      <td>52538</td>\n",
       "    </tr>\n",
       "    <tr>\n",
       "      <th>3</th>\n",
       "      <td>Concluintes</td>\n",
       "      <td>30 a 34 anos</td>\n",
       "      <td>38693</td>\n",
       "    </tr>\n",
       "    <tr>\n",
       "      <th>4</th>\n",
       "      <td>Concluintes</td>\n",
       "      <td>35 a 39 anos</td>\n",
       "      <td>30015</td>\n",
       "    </tr>\n",
       "    <tr>\n",
       "      <th>5</th>\n",
       "      <td>Concluintes</td>\n",
       "      <td>40 a 44 anos</td>\n",
       "      <td>20519</td>\n",
       "    </tr>\n",
       "    <tr>\n",
       "      <th>6</th>\n",
       "      <td>Concluintes</td>\n",
       "      <td>45 a 49 anos</td>\n",
       "      <td>13723</td>\n",
       "    </tr>\n",
       "    <tr>\n",
       "      <th>7</th>\n",
       "      <td>Concluintes</td>\n",
       "      <td>50 a 54 anos</td>\n",
       "      <td>9392</td>\n",
       "    </tr>\n",
       "    <tr>\n",
       "      <th>8</th>\n",
       "      <td>Concluintes</td>\n",
       "      <td>55 a 59 anos</td>\n",
       "      <td>5459</td>\n",
       "    </tr>\n",
       "    <tr>\n",
       "      <th>9</th>\n",
       "      <td>Concluintes</td>\n",
       "      <td>Maior de 60 anos</td>\n",
       "      <td>5222</td>\n",
       "    </tr>\n",
       "    <tr>\n",
       "      <th>10</th>\n",
       "      <td>Concluintes</td>\n",
       "      <td>Menor de 14 anos</td>\n",
       "      <td>9996</td>\n",
       "    </tr>\n",
       "    <tr>\n",
       "      <th>11</th>\n",
       "      <td>Em curso</td>\n",
       "      <td>15 a 19 anos</td>\n",
       "      <td>498301</td>\n",
       "    </tr>\n",
       "    <tr>\n",
       "      <th>12</th>\n",
       "      <td>Em curso</td>\n",
       "      <td>20 a 24 anos</td>\n",
       "      <td>317063</td>\n",
       "    </tr>\n",
       "    <tr>\n",
       "      <th>13</th>\n",
       "      <td>Em curso</td>\n",
       "      <td>25 a 29 anos</td>\n",
       "      <td>156993</td>\n",
       "    </tr>\n",
       "    <tr>\n",
       "      <th>14</th>\n",
       "      <td>Em curso</td>\n",
       "      <td>30 a 34 anos</td>\n",
       "      <td>104159</td>\n",
       "    </tr>\n",
       "    <tr>\n",
       "      <th>15</th>\n",
       "      <td>Em curso</td>\n",
       "      <td>35 a 39 anos</td>\n",
       "      <td>73988</td>\n",
       "    </tr>\n",
       "    <tr>\n",
       "      <th>16</th>\n",
       "      <td>Em curso</td>\n",
       "      <td>40 a 44 anos</td>\n",
       "      <td>44172</td>\n",
       "    </tr>\n",
       "    <tr>\n",
       "      <th>17</th>\n",
       "      <td>Em curso</td>\n",
       "      <td>45 a 49 anos</td>\n",
       "      <td>26020</td>\n",
       "    </tr>\n",
       "    <tr>\n",
       "      <th>18</th>\n",
       "      <td>Em curso</td>\n",
       "      <td>50 a 54 anos</td>\n",
       "      <td>15553</td>\n",
       "    </tr>\n",
       "    <tr>\n",
       "      <th>19</th>\n",
       "      <td>Em curso</td>\n",
       "      <td>55 a 59 anos</td>\n",
       "      <td>7776</td>\n",
       "    </tr>\n",
       "    <tr>\n",
       "      <th>20</th>\n",
       "      <td>Em curso</td>\n",
       "      <td>Maior de 60 anos</td>\n",
       "      <td>4680</td>\n",
       "    </tr>\n",
       "    <tr>\n",
       "      <th>21</th>\n",
       "      <td>Em curso</td>\n",
       "      <td>Menor de 14 anos</td>\n",
       "      <td>14450</td>\n",
       "    </tr>\n",
       "    <tr>\n",
       "      <th>22</th>\n",
       "      <td>Evadidos</td>\n",
       "      <td>15 a 19 anos</td>\n",
       "      <td>79628</td>\n",
       "    </tr>\n",
       "    <tr>\n",
       "      <th>23</th>\n",
       "      <td>Evadidos</td>\n",
       "      <td>20 a 24 anos</td>\n",
       "      <td>89506</td>\n",
       "    </tr>\n",
       "    <tr>\n",
       "      <th>24</th>\n",
       "      <td>Evadidos</td>\n",
       "      <td>25 a 29 anos</td>\n",
       "      <td>54953</td>\n",
       "    </tr>\n",
       "    <tr>\n",
       "      <th>25</th>\n",
       "      <td>Evadidos</td>\n",
       "      <td>30 a 34 anos</td>\n",
       "      <td>39860</td>\n",
       "    </tr>\n",
       "    <tr>\n",
       "      <th>26</th>\n",
       "      <td>Evadidos</td>\n",
       "      <td>35 a 39 anos</td>\n",
       "      <td>29433</td>\n",
       "    </tr>\n",
       "    <tr>\n",
       "      <th>27</th>\n",
       "      <td>Evadidos</td>\n",
       "      <td>40 a 44 anos</td>\n",
       "      <td>18207</td>\n",
       "    </tr>\n",
       "    <tr>\n",
       "      <th>28</th>\n",
       "      <td>Evadidos</td>\n",
       "      <td>45 a 49 anos</td>\n",
       "      <td>11266</td>\n",
       "    </tr>\n",
       "    <tr>\n",
       "      <th>29</th>\n",
       "      <td>Evadidos</td>\n",
       "      <td>50 a 54 anos</td>\n",
       "      <td>7028</td>\n",
       "    </tr>\n",
       "    <tr>\n",
       "      <th>30</th>\n",
       "      <td>Evadidos</td>\n",
       "      <td>55 a 59 anos</td>\n",
       "      <td>3797</td>\n",
       "    </tr>\n",
       "    <tr>\n",
       "      <th>31</th>\n",
       "      <td>Evadidos</td>\n",
       "      <td>Maior de 60 anos</td>\n",
       "      <td>2781</td>\n",
       "    </tr>\n",
       "    <tr>\n",
       "      <th>32</th>\n",
       "      <td>Evadidos</td>\n",
       "      <td>Menor de 14 anos</td>\n",
       "      <td>1999</td>\n",
       "    </tr>\n",
       "  </tbody>\n",
       "</table>\n",
       "</div>"
      ],
      "text/plain": [
       "   categoria_situacao      faixa_etaria  quant_grupo\n",
       "0         Concluintes      15 a 19 anos       116364\n",
       "1         Concluintes      20 a 24 anos        84362\n",
       "2         Concluintes      25 a 29 anos        52538\n",
       "3         Concluintes      30 a 34 anos        38693\n",
       "4         Concluintes      35 a 39 anos        30015\n",
       "5         Concluintes      40 a 44 anos        20519\n",
       "6         Concluintes      45 a 49 anos        13723\n",
       "7         Concluintes      50 a 54 anos         9392\n",
       "8         Concluintes      55 a 59 anos         5459\n",
       "9         Concluintes  Maior de 60 anos         5222\n",
       "10        Concluintes  Menor de 14 anos         9996\n",
       "11           Em curso      15 a 19 anos       498301\n",
       "12           Em curso      20 a 24 anos       317063\n",
       "13           Em curso      25 a 29 anos       156993\n",
       "14           Em curso      30 a 34 anos       104159\n",
       "15           Em curso      35 a 39 anos        73988\n",
       "16           Em curso      40 a 44 anos        44172\n",
       "17           Em curso      45 a 49 anos        26020\n",
       "18           Em curso      50 a 54 anos        15553\n",
       "19           Em curso      55 a 59 anos         7776\n",
       "20           Em curso  Maior de 60 anos         4680\n",
       "21           Em curso  Menor de 14 anos        14450\n",
       "22           Evadidos      15 a 19 anos        79628\n",
       "23           Evadidos      20 a 24 anos        89506\n",
       "24           Evadidos      25 a 29 anos        54953\n",
       "25           Evadidos      30 a 34 anos        39860\n",
       "26           Evadidos      35 a 39 anos        29433\n",
       "27           Evadidos      40 a 44 anos        18207\n",
       "28           Evadidos      45 a 49 anos        11266\n",
       "29           Evadidos      50 a 54 anos         7028\n",
       "30           Evadidos      55 a 59 anos         3797\n",
       "31           Evadidos  Maior de 60 anos         2781\n",
       "32           Evadidos  Menor de 14 anos         1999"
      ]
     },
     "execution_count": 7,
     "metadata": {},
     "output_type": "execute_result"
    }
   ],
   "source": [
    "#Execultado Consulta\n",
    "sql = \"SELECT {0}, sum(quant_grupo) AS quant_grupo\" \\\n",
    "\" FROM {1} \" \\\n",
    "\" WHERE {2} \" \\\n",
    "\" GROUP BY {0}\" \\\n",
    "\" ALLOW FILTERING;\".format(\n",
    "    fields,\n",
    "    table,\n",
    "    filter_sql)\n",
    "rslt = session.execute(sql, timeout=None)\n",
    "original_df = rslt._current_rows\n",
    "original_df\n"
   ]
  },
  {
   "cell_type": "markdown",
   "id": "6767adad-3ec3-4d45-aaf6-9f1ed3d64ce2",
   "metadata": {
    "tags": []
   },
   "source": [
    "## Análise"
   ]
  },
  {
   "cell_type": "code",
   "execution_count": 8,
   "id": "83ab7dde-87ac-4978-8ceb-394bc0ca2c27",
   "metadata": {},
   "outputs": [
    {
     "name": "stdout",
     "output_type": "stream",
     "text": [
      "Número de registros 33 e número de colunas 3.\n"
     ]
    }
   ],
   "source": [
    "s = original_df.shape\n",
    "print(\"Número de registros {:,} e número de colunas {:,}.\".format(s[0], s[1]).replace(',','.'))"
   ]
  },
  {
   "cell_type": "markdown",
   "id": "083b5b33-0eb8-4021-9028-776fb070d6c1",
   "metadata": {
    "tags": []
   },
   "source": [
    "## Filtrando Tipo do Curso"
   ]
  },
  {
   "cell_type": "code",
   "execution_count": 9,
   "id": "acd839ad-e03f-412f-8822-cb906b4f3b25",
   "metadata": {
    "tags": []
   },
   "outputs": [
    {
     "name": "stdout",
     "output_type": "stream",
     "text": [
      "Todos os cursos\n"
     ]
    },
    {
     "data": {
      "text/html": [
       "<div>\n",
       "<style scoped>\n",
       "    .dataframe tbody tr th:only-of-type {\n",
       "        vertical-align: middle;\n",
       "    }\n",
       "\n",
       "    .dataframe tbody tr th {\n",
       "        vertical-align: top;\n",
       "    }\n",
       "\n",
       "    .dataframe thead th {\n",
       "        text-align: right;\n",
       "    }\n",
       "</style>\n",
       "<table border=\"1\" class=\"dataframe\">\n",
       "  <thead>\n",
       "    <tr style=\"text-align: right;\">\n",
       "      <th></th>\n",
       "      <th>categoria_situacao</th>\n",
       "      <th>faixa_etaria</th>\n",
       "      <th>quant_grupo</th>\n",
       "    </tr>\n",
       "  </thead>\n",
       "  <tbody>\n",
       "    <tr>\n",
       "      <th>0</th>\n",
       "      <td>Concluintes</td>\n",
       "      <td>15 a 19 anos</td>\n",
       "      <td>116364</td>\n",
       "    </tr>\n",
       "    <tr>\n",
       "      <th>1</th>\n",
       "      <td>Concluintes</td>\n",
       "      <td>20 a 24 anos</td>\n",
       "      <td>84362</td>\n",
       "    </tr>\n",
       "    <tr>\n",
       "      <th>2</th>\n",
       "      <td>Concluintes</td>\n",
       "      <td>25 a 29 anos</td>\n",
       "      <td>52538</td>\n",
       "    </tr>\n",
       "    <tr>\n",
       "      <th>3</th>\n",
       "      <td>Concluintes</td>\n",
       "      <td>30 a 34 anos</td>\n",
       "      <td>38693</td>\n",
       "    </tr>\n",
       "    <tr>\n",
       "      <th>4</th>\n",
       "      <td>Concluintes</td>\n",
       "      <td>35 a 39 anos</td>\n",
       "      <td>30015</td>\n",
       "    </tr>\n",
       "    <tr>\n",
       "      <th>5</th>\n",
       "      <td>Concluintes</td>\n",
       "      <td>40 a 44 anos</td>\n",
       "      <td>20519</td>\n",
       "    </tr>\n",
       "    <tr>\n",
       "      <th>6</th>\n",
       "      <td>Concluintes</td>\n",
       "      <td>45 a 49 anos</td>\n",
       "      <td>13723</td>\n",
       "    </tr>\n",
       "    <tr>\n",
       "      <th>7</th>\n",
       "      <td>Concluintes</td>\n",
       "      <td>50 a 54 anos</td>\n",
       "      <td>9392</td>\n",
       "    </tr>\n",
       "    <tr>\n",
       "      <th>8</th>\n",
       "      <td>Concluintes</td>\n",
       "      <td>55 a 59 anos</td>\n",
       "      <td>5459</td>\n",
       "    </tr>\n",
       "    <tr>\n",
       "      <th>9</th>\n",
       "      <td>Concluintes</td>\n",
       "      <td>Maior de 60 anos</td>\n",
       "      <td>5222</td>\n",
       "    </tr>\n",
       "    <tr>\n",
       "      <th>10</th>\n",
       "      <td>Concluintes</td>\n",
       "      <td>Menor de 14 anos</td>\n",
       "      <td>9996</td>\n",
       "    </tr>\n",
       "    <tr>\n",
       "      <th>11</th>\n",
       "      <td>Em curso</td>\n",
       "      <td>15 a 19 anos</td>\n",
       "      <td>498301</td>\n",
       "    </tr>\n",
       "    <tr>\n",
       "      <th>12</th>\n",
       "      <td>Em curso</td>\n",
       "      <td>20 a 24 anos</td>\n",
       "      <td>317063</td>\n",
       "    </tr>\n",
       "    <tr>\n",
       "      <th>13</th>\n",
       "      <td>Em curso</td>\n",
       "      <td>25 a 29 anos</td>\n",
       "      <td>156993</td>\n",
       "    </tr>\n",
       "    <tr>\n",
       "      <th>14</th>\n",
       "      <td>Em curso</td>\n",
       "      <td>30 a 34 anos</td>\n",
       "      <td>104159</td>\n",
       "    </tr>\n",
       "    <tr>\n",
       "      <th>15</th>\n",
       "      <td>Em curso</td>\n",
       "      <td>35 a 39 anos</td>\n",
       "      <td>73988</td>\n",
       "    </tr>\n",
       "    <tr>\n",
       "      <th>16</th>\n",
       "      <td>Em curso</td>\n",
       "      <td>40 a 44 anos</td>\n",
       "      <td>44172</td>\n",
       "    </tr>\n",
       "    <tr>\n",
       "      <th>17</th>\n",
       "      <td>Em curso</td>\n",
       "      <td>45 a 49 anos</td>\n",
       "      <td>26020</td>\n",
       "    </tr>\n",
       "    <tr>\n",
       "      <th>18</th>\n",
       "      <td>Em curso</td>\n",
       "      <td>50 a 54 anos</td>\n",
       "      <td>15553</td>\n",
       "    </tr>\n",
       "    <tr>\n",
       "      <th>19</th>\n",
       "      <td>Em curso</td>\n",
       "      <td>55 a 59 anos</td>\n",
       "      <td>7776</td>\n",
       "    </tr>\n",
       "    <tr>\n",
       "      <th>20</th>\n",
       "      <td>Em curso</td>\n",
       "      <td>Maior de 60 anos</td>\n",
       "      <td>4680</td>\n",
       "    </tr>\n",
       "    <tr>\n",
       "      <th>21</th>\n",
       "      <td>Em curso</td>\n",
       "      <td>Menor de 14 anos</td>\n",
       "      <td>14450</td>\n",
       "    </tr>\n",
       "    <tr>\n",
       "      <th>22</th>\n",
       "      <td>Evadidos</td>\n",
       "      <td>15 a 19 anos</td>\n",
       "      <td>79628</td>\n",
       "    </tr>\n",
       "    <tr>\n",
       "      <th>23</th>\n",
       "      <td>Evadidos</td>\n",
       "      <td>20 a 24 anos</td>\n",
       "      <td>89506</td>\n",
       "    </tr>\n",
       "    <tr>\n",
       "      <th>24</th>\n",
       "      <td>Evadidos</td>\n",
       "      <td>25 a 29 anos</td>\n",
       "      <td>54953</td>\n",
       "    </tr>\n",
       "    <tr>\n",
       "      <th>25</th>\n",
       "      <td>Evadidos</td>\n",
       "      <td>30 a 34 anos</td>\n",
       "      <td>39860</td>\n",
       "    </tr>\n",
       "    <tr>\n",
       "      <th>26</th>\n",
       "      <td>Evadidos</td>\n",
       "      <td>35 a 39 anos</td>\n",
       "      <td>29433</td>\n",
       "    </tr>\n",
       "    <tr>\n",
       "      <th>27</th>\n",
       "      <td>Evadidos</td>\n",
       "      <td>40 a 44 anos</td>\n",
       "      <td>18207</td>\n",
       "    </tr>\n",
       "    <tr>\n",
       "      <th>28</th>\n",
       "      <td>Evadidos</td>\n",
       "      <td>45 a 49 anos</td>\n",
       "      <td>11266</td>\n",
       "    </tr>\n",
       "    <tr>\n",
       "      <th>29</th>\n",
       "      <td>Evadidos</td>\n",
       "      <td>50 a 54 anos</td>\n",
       "      <td>7028</td>\n",
       "    </tr>\n",
       "    <tr>\n",
       "      <th>30</th>\n",
       "      <td>Evadidos</td>\n",
       "      <td>55 a 59 anos</td>\n",
       "      <td>3797</td>\n",
       "    </tr>\n",
       "    <tr>\n",
       "      <th>31</th>\n",
       "      <td>Evadidos</td>\n",
       "      <td>Maior de 60 anos</td>\n",
       "      <td>2781</td>\n",
       "    </tr>\n",
       "    <tr>\n",
       "      <th>32</th>\n",
       "      <td>Evadidos</td>\n",
       "      <td>Menor de 14 anos</td>\n",
       "      <td>1999</td>\n",
       "    </tr>\n",
       "  </tbody>\n",
       "</table>\n",
       "</div>"
      ],
      "text/plain": [
       "   categoria_situacao      faixa_etaria  quant_grupo\n",
       "0         Concluintes      15 a 19 anos       116364\n",
       "1         Concluintes      20 a 24 anos        84362\n",
       "2         Concluintes      25 a 29 anos        52538\n",
       "3         Concluintes      30 a 34 anos        38693\n",
       "4         Concluintes      35 a 39 anos        30015\n",
       "5         Concluintes      40 a 44 anos        20519\n",
       "6         Concluintes      45 a 49 anos        13723\n",
       "7         Concluintes      50 a 54 anos         9392\n",
       "8         Concluintes      55 a 59 anos         5459\n",
       "9         Concluintes  Maior de 60 anos         5222\n",
       "10        Concluintes  Menor de 14 anos         9996\n",
       "11           Em curso      15 a 19 anos       498301\n",
       "12           Em curso      20 a 24 anos       317063\n",
       "13           Em curso      25 a 29 anos       156993\n",
       "14           Em curso      30 a 34 anos       104159\n",
       "15           Em curso      35 a 39 anos        73988\n",
       "16           Em curso      40 a 44 anos        44172\n",
       "17           Em curso      45 a 49 anos        26020\n",
       "18           Em curso      50 a 54 anos        15553\n",
       "19           Em curso      55 a 59 anos         7776\n",
       "20           Em curso  Maior de 60 anos         4680\n",
       "21           Em curso  Menor de 14 anos        14450\n",
       "22           Evadidos      15 a 19 anos        79628\n",
       "23           Evadidos      20 a 24 anos        89506\n",
       "24           Evadidos      25 a 29 anos        54953\n",
       "25           Evadidos      30 a 34 anos        39860\n",
       "26           Evadidos      35 a 39 anos        29433\n",
       "27           Evadidos      40 a 44 anos        18207\n",
       "28           Evadidos      45 a 49 anos        11266\n",
       "29           Evadidos      50 a 54 anos         7028\n",
       "30           Evadidos      55 a 59 anos         3797\n",
       "31           Evadidos  Maior de 60 anos         2781\n",
       "32           Evadidos  Menor de 14 anos         1999"
      ]
     },
     "execution_count": 9,
     "metadata": {},
     "output_type": "execute_result"
    }
   ],
   "source": [
    "if curse_types :\n",
    "    original_df = original_df[original_df['tipo_curso'].isin(curse_types)]\n",
    "    print('Fitrando pelos tipos de cursos:\\n {}'.format(', '.join(map(str,curse_types))))\n",
    "    \n",
    "else:\n",
    "    print('Todos os cursos')\n",
    "original_df"
   ]
  },
  {
   "cell_type": "markdown",
   "id": "7ec20789-46a9-4fe3-a253-af98a4b954a2",
   "metadata": {},
   "source": [
    "## Agrupando"
   ]
  },
  {
   "cell_type": "markdown",
   "id": "335930e4-eab0-4f54-a106-eedcc350b82c",
   "metadata": {
    "tags": []
   },
   "source": [
    "### Agrupando os valores para apresentar no gráfico"
   ]
  },
  {
   "cell_type": "code",
   "execution_count": 10,
   "id": "4446af89-d272-4ecc-a5f3-b9e5bcf9ba1d",
   "metadata": {},
   "outputs": [],
   "source": [
    "df = original_df.groupby(['categoria_situacao',field]).sum('quant_grupo').reset_index()\n",
    "df_qtd = original_df.groupby([field]).sum('quant_grupo').reset_index()\n",
    "order = list(df_qtd.sort_values('quant_grupo', ascending=False)[field])"
   ]
  },
  {
   "cell_type": "markdown",
   "id": "f88cc77a-3ab3-4002-8bd6-1063935b2740",
   "metadata": {},
   "source": [
    "### Ordenação personalizada"
   ]
  },
  {
   "cell_type": "code",
   "execution_count": 11,
   "id": "35419629-e171-4602-a03b-77f675839b9f",
   "metadata": {},
   "outputs": [],
   "source": [
    "order = [\n",
    "    'Menor de 14 anos',\n",
    "    '15 a 19 anos',\n",
    "    '20 a 24 anos',\n",
    "    '25 a 29 anos',\n",
    "    '30 a 34 anos',\n",
    "    '35 a 39 anos',\n",
    "    '40 a 44 anos',\n",
    "    '45 a 49 anos',\n",
    "    '50 a 54 anos',\n",
    "    '55 a 59 anos',\n",
    "    'Maior de 60 anos',\n",
    "]"
   ]
  },
  {
   "cell_type": "markdown",
   "id": "bf56dbc7-d58b-40cb-ba3c-3b09aae80740",
   "metadata": {},
   "source": [
    "### Ordenando dados"
   ]
  },
  {
   "cell_type": "code",
   "execution_count": 12,
   "id": "fc4037e4-d970-4bba-a89b-9b05e7b9047a",
   "metadata": {},
   "outputs": [],
   "source": [
    "sort_keys = {v:k for k,v in enumerate(order)}\n",
    "func_sort = lambda e: sort_keys[e]\n",
    "df_cat = df.pivot_table('quant_grupo',[field],'categoria_situacao').sort_values(by=field, key=lambda col: col.map(func_sort))\n",
    "df_qtd = df_qtd.pivot_table('quant_grupo',[field]).sort_values(by=field, key=lambda col: col.map(func_sort))"
   ]
  },
  {
   "cell_type": "markdown",
   "id": "6078a46e-5bb1-4775-9dae-e1155db3a233",
   "metadata": {},
   "source": [
    "### Apresentando o gráfico"
   ]
  },
  {
   "cell_type": "code",
   "execution_count": 13,
   "id": "f7b7b1d7-c938-4a66-998b-07e0201dcf29",
   "metadata": {},
   "outputs": [
    {
     "data": {
      "text/plain": [
       "Text(0.5, 1.0, 'QUANTIDADE POR FAIXA ETÁRIA')"
      ]
     },
     "execution_count": 13,
     "metadata": {},
     "output_type": "execute_result"
    },
    {
     "data": {
      "image/png": "[encoded data removed]",
      "text/plain": [
       "<Figure size 720x360 with 1 Axes>"
      ]
     },
     "metadata": {
      "needs_background": "light"
     },
     "output_type": "display_data"
    }
   ],
   "source": [
    "chart1 = df_qtd.plot(kind ='bar', figsize=figsize, width = 0.9, grid= True, legend =False, fontsize=fontsize)\n",
    "chart1.grid(axis='x')\n",
    "chart1.set_xlabel(field_label,fontdict={'fontsize':fontsize})\n",
    "chart1.set_title(\"QUANTIDADE POR {}\".format(field_label.upper()),fontdict={'fontsize':fontsize})"
   ]
  },
  {
   "cell_type": "code",
   "execution_count": 19,
   "id": "30a751a2-d8b4-4cbf-bfe0-a3ba1ca8eab5",
   "metadata": {},
   "outputs": [
    {
     "data": {
      "text/plain": [
       "Text(0.5, 1.0, 'QUANTIDADE POR CATEGORIA DE SITUAÇÃO EM FAIXA ETÁRIA')"
      ]
     },
     "execution_count": 19,
     "metadata": {},
     "output_type": "execute_result"
    },
    {
     "data": {
      "image/png": "[encoded data removed]",
      "text/plain": [
       "<Figure size 720x360 with 1 Axes>"
      ]
     },
     "metadata": {
      "needs_background": "light"
     },
     "output_type": "display_data"
    }
   ],
   "source": [
    "chart2 = df_cat.plot(kind ='bar', figsize=figsize, width = 0.9, grid= True, fontsize=fontsize)\n",
    "chart2.grid(axis='x')\n",
    "chart2.get_legend().set_title('Categoria/Situação')\n",
    "chart2.legend(fontsize=16)\n",
    "chart2.set_xlabel(field_label,fontdict={'fontsize':16})\n",
    "chart2.set_title(\"QUANTIDADE POR CATEGORIA DE SITUAÇÃO EM {}\".format(field_label.upper()),fontdict={'fontsize':fontsize})"
   ]
  },
  {
   "cell_type": "markdown",
   "id": "bd5d106d-2dc8-4594-b60f-ee7a686528ae",
   "metadata": {},
   "source": [
    "## Total de Alunos"
   ]
  },
  {
   "cell_type": "code",
   "execution_count": 15,
   "id": "b4cf290e-0e78-46dd-be37-de5e61d4f538",
   "metadata": {},
   "outputs": [
    {
     "data": {
      "text/html": [
       "<div>\n",
       "<style scoped>\n",
       "    .dataframe tbody tr th:only-of-type {\n",
       "        vertical-align: middle;\n",
       "    }\n",
       "\n",
       "    .dataframe tbody tr th {\n",
       "        vertical-align: top;\n",
       "    }\n",
       "\n",
       "    .dataframe thead th {\n",
       "        text-align: right;\n",
       "    }\n",
       "</style>\n",
       "<table border=\"1\" class=\"dataframe\">\n",
       "  <thead>\n",
       "    <tr style=\"text-align: right;\">\n",
       "      <th>categoria_situacao</th>\n",
       "      <th>Concluintes</th>\n",
       "      <th>Em curso</th>\n",
       "      <th>Evadidos</th>\n",
       "      <th>total</th>\n",
       "      <th>Concluintes_%</th>\n",
       "      <th>Em curso_%</th>\n",
       "      <th>Evadidos_%</th>\n",
       "      <th>total_%</th>\n",
       "    </tr>\n",
       "    <tr>\n",
       "      <th>faixa_etaria</th>\n",
       "      <th></th>\n",
       "      <th></th>\n",
       "      <th></th>\n",
       "      <th></th>\n",
       "      <th></th>\n",
       "      <th></th>\n",
       "      <th></th>\n",
       "      <th></th>\n",
       "    </tr>\n",
       "  </thead>\n",
       "  <tbody>\n",
       "    <tr>\n",
       "      <th>Menor de 14 anos</th>\n",
       "      <td>9996</td>\n",
       "      <td>14450</td>\n",
       "      <td>1999</td>\n",
       "      <td>26445</td>\n",
       "      <td>0.377992</td>\n",
       "      <td>0.546417</td>\n",
       "      <td>0.075591</td>\n",
       "      <td>0.013303</td>\n",
       "    </tr>\n",
       "    <tr>\n",
       "      <th>15 a 19 anos</th>\n",
       "      <td>116364</td>\n",
       "      <td>498301</td>\n",
       "      <td>79628</td>\n",
       "      <td>694293</td>\n",
       "      <td>0.167601</td>\n",
       "      <td>0.717710</td>\n",
       "      <td>0.114689</td>\n",
       "      <td>0.349260</td>\n",
       "    </tr>\n",
       "    <tr>\n",
       "      <th>20 a 24 anos</th>\n",
       "      <td>84362</td>\n",
       "      <td>317063</td>\n",
       "      <td>89506</td>\n",
       "      <td>490931</td>\n",
       "      <td>0.171841</td>\n",
       "      <td>0.645840</td>\n",
       "      <td>0.182319</td>\n",
       "      <td>0.246960</td>\n",
       "    </tr>\n",
       "    <tr>\n",
       "      <th>25 a 29 anos</th>\n",
       "      <td>52538</td>\n",
       "      <td>156993</td>\n",
       "      <td>54953</td>\n",
       "      <td>264484</td>\n",
       "      <td>0.198643</td>\n",
       "      <td>0.593582</td>\n",
       "      <td>0.207774</td>\n",
       "      <td>0.133047</td>\n",
       "    </tr>\n",
       "    <tr>\n",
       "      <th>30 a 34 anos</th>\n",
       "      <td>38693</td>\n",
       "      <td>104159</td>\n",
       "      <td>39860</td>\n",
       "      <td>182712</td>\n",
       "      <td>0.211770</td>\n",
       "      <td>0.570072</td>\n",
       "      <td>0.218158</td>\n",
       "      <td>0.091912</td>\n",
       "    </tr>\n",
       "    <tr>\n",
       "      <th>35 a 39 anos</th>\n",
       "      <td>30015</td>\n",
       "      <td>73988</td>\n",
       "      <td>29433</td>\n",
       "      <td>133436</td>\n",
       "      <td>0.224939</td>\n",
       "      <td>0.554483</td>\n",
       "      <td>0.220578</td>\n",
       "      <td>0.067124</td>\n",
       "    </tr>\n",
       "    <tr>\n",
       "      <th>40 a 44 anos</th>\n",
       "      <td>20519</td>\n",
       "      <td>44172</td>\n",
       "      <td>18207</td>\n",
       "      <td>82898</td>\n",
       "      <td>0.247521</td>\n",
       "      <td>0.532848</td>\n",
       "      <td>0.219631</td>\n",
       "      <td>0.041701</td>\n",
       "    </tr>\n",
       "    <tr>\n",
       "      <th>45 a 49 anos</th>\n",
       "      <td>13723</td>\n",
       "      <td>26020</td>\n",
       "      <td>11266</td>\n",
       "      <td>51009</td>\n",
       "      <td>0.269031</td>\n",
       "      <td>0.510106</td>\n",
       "      <td>0.220863</td>\n",
       "      <td>0.025660</td>\n",
       "    </tr>\n",
       "    <tr>\n",
       "      <th>50 a 54 anos</th>\n",
       "      <td>9392</td>\n",
       "      <td>15553</td>\n",
       "      <td>7028</td>\n",
       "      <td>31973</td>\n",
       "      <td>0.293748</td>\n",
       "      <td>0.486442</td>\n",
       "      <td>0.219810</td>\n",
       "      <td>0.016084</td>\n",
       "    </tr>\n",
       "    <tr>\n",
       "      <th>55 a 59 anos</th>\n",
       "      <td>5459</td>\n",
       "      <td>7776</td>\n",
       "      <td>3797</td>\n",
       "      <td>17032</td>\n",
       "      <td>0.320514</td>\n",
       "      <td>0.456552</td>\n",
       "      <td>0.222933</td>\n",
       "      <td>0.008568</td>\n",
       "    </tr>\n",
       "    <tr>\n",
       "      <th>Maior de 60 anos</th>\n",
       "      <td>5222</td>\n",
       "      <td>4680</td>\n",
       "      <td>2781</td>\n",
       "      <td>12683</td>\n",
       "      <td>0.411732</td>\n",
       "      <td>0.368998</td>\n",
       "      <td>0.219270</td>\n",
       "      <td>0.006380</td>\n",
       "    </tr>\n",
       "  </tbody>\n",
       "</table>\n",
       "</div>"
      ],
      "text/plain": [
       "categoria_situacao  Concluintes  Em curso  Evadidos   total  Concluintes_%  \\\n",
       "faixa_etaria                                                                 \n",
       "Menor de 14 anos           9996     14450      1999   26445       0.377992   \n",
       "15 a 19 anos             116364    498301     79628  694293       0.167601   \n",
       "20 a 24 anos              84362    317063     89506  490931       0.171841   \n",
       "25 a 29 anos              52538    156993     54953  264484       0.198643   \n",
       "30 a 34 anos              38693    104159     39860  182712       0.211770   \n",
       "35 a 39 anos              30015     73988     29433  133436       0.224939   \n",
       "40 a 44 anos              20519     44172     18207   82898       0.247521   \n",
       "45 a 49 anos              13723     26020     11266   51009       0.269031   \n",
       "50 a 54 anos               9392     15553      7028   31973       0.293748   \n",
       "55 a 59 anos               5459      7776      3797   17032       0.320514   \n",
       "Maior de 60 anos           5222      4680      2781   12683       0.411732   \n",
       "\n",
       "categoria_situacao  Em curso_%  Evadidos_%   total_%  \n",
       "faixa_etaria                                          \n",
       "Menor de 14 anos      0.546417    0.075591  0.013303  \n",
       "15 a 19 anos          0.717710    0.114689  0.349260  \n",
       "20 a 24 anos          0.645840    0.182319  0.246960  \n",
       "25 a 29 anos          0.593582    0.207774  0.133047  \n",
       "30 a 34 anos          0.570072    0.218158  0.091912  \n",
       "35 a 39 anos          0.554483    0.220578  0.067124  \n",
       "40 a 44 anos          0.532848    0.219631  0.041701  \n",
       "45 a 49 anos          0.510106    0.220863  0.025660  \n",
       "50 a 54 anos          0.486442    0.219810  0.016084  \n",
       "55 a 59 anos          0.456552    0.222933  0.008568  \n",
       "Maior de 60 anos      0.368998    0.219270  0.006380  "
      ]
     },
     "execution_count": 15,
     "metadata": {},
     "output_type": "execute_result"
    }
   ],
   "source": [
    "categories = list(df['categoria_situacao'].unique())\n",
    "total = df['quant_grupo'].sum()\n",
    "df_res = df_cat.copy() \n",
    "df_res['total'] = df_res[categories].sum(axis=1)\n",
    "for category in categories:\n",
    "    df_res[category + '_%'] = df_res[category] / df_res['total']\n",
    "df_res['total_%'] = df_res['total'] / total\n",
    "df_res"
   ]
  },
  {
   "cell_type": "code",
   "execution_count": 16,
   "id": "9a3a3e41-caea-4f67-86ca-91498ef7c8a9",
   "metadata": {},
   "outputs": [
    {
     "name": "stdout",
     "output_type": "stream",
     "text": [
      "Total de alunos: 1.987.896\n"
     ]
    }
   ],
   "source": [
    "print(\"Total de alunos: {:,}\".format(df['quant_grupo'].sum()).replace(',','.'))"
   ]
  },
  {
   "cell_type": "markdown",
   "id": "d2f940fe-0a52-498e-8a33-de138d5040d2",
   "metadata": {},
   "source": [
    "# Porcentagem de Conclusão"
   ]
  },
  {
   "cell_type": "code",
   "execution_count": 17,
   "id": "981834d8-00a5-4a3a-9f24-4227b34ef83a",
   "metadata": {},
   "outputs": [
    {
     "data": {
      "text/plain": [
       "<AxesSubplot:xlabel='faixa_etaria'>"
      ]
     },
     "execution_count": 17,
     "metadata": {},
     "output_type": "execute_result"
    },
    {
     "data": {
      "image/png": "[encoded data removed]",
      "text/plain": [
       "<Figure size 1440x576 with 1 Axes>"
      ]
     },
     "metadata": {
      "needs_background": "light"
     },
     "output_type": "display_data"
    }
   ],
   "source": [
    "df_drp = df_res['Concluintes_%'] * 100\n",
    "\n",
    "df_drp.plot(kind ='bar', figsize=(20, 8), width = 0.7)"
   ]
  }
 ],
 "metadata": {
  "kernelspec": {
   "display_name": "Python 3 (ipykernel)",
   "language": "python",
   "name": "python3"
  },
  "language_info": {
   "codemirror_mode": {
    "name": "ipython",
    "version": 3
   },
   "file_extension": ".py",
   "mimetype": "text/x-python",
   "name": "python",
   "nbconvert_exporter": "python",
   "pygments_lexer": "ipython3",
   "version": "3.9.10"
  }
 },
 "nbformat": 4,
 "nbformat_minor": 5
}
