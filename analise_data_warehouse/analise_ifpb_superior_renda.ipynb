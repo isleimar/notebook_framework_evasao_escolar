{
 "cells": [
  {
   "cell_type": "markdown",
   "id": "4740b615-b9f1-4904-a7d2-f117a0b9949c",
   "metadata": {
    "tags": []
   },
   "source": [
    "# Análise do Data Warehouse\n",
    "\n",
    "Análise dos dados disponibilizados no Data Warehouse\n",
    "\n",
    "\n",
    "\n",
    "**Instalando o Cassandra no Jupyter**\n",
    "\n",
    "`docker-compose exec jupyter pip install cassandra-driver`"
   ]
  },
  {
   "cell_type": "markdown",
   "id": "97163e22-a386-4ed2-a63f-d4bda25574d6",
   "metadata": {
    "tags": []
   },
   "source": [
    "## Imports"
   ]
  },
  {
   "cell_type": "code",
   "execution_count": 1,
   "id": "c7426745-0909-40dc-b7fc-caa7d3fd94af",
   "metadata": {},
   "outputs": [],
   "source": [
    "#Imports\n",
    "from time import sleep"
   ]
  },
  {
   "cell_type": "code",
   "execution_count": 2,
   "id": "3f315cff-37ec-4419-adfb-4d24fab7fd1c",
   "metadata": {},
   "outputs": [],
   "source": [
    "#Imports Cassandra\n",
    "from cassandra.auth import PlainTextAuthProvider\n",
    "from cassandra.cluster import Cluster"
   ]
  },
  {
   "cell_type": "code",
   "execution_count": 3,
   "id": "aac05b52-5d1e-4cf9-840a-f21c27397297",
   "metadata": {},
   "outputs": [],
   "source": [
    "#Imports Pandas\n",
    "import pandas as pd\n",
    "import seaborn as sns\n",
    "import matplotlib as mpl\n",
    "import matplotlib.pyplot as plt\n",
    "def pandas_factory(colnames, rows):\n",
    "    return pd.DataFrame(rows, columns=colnames)"
   ]
  },
  {
   "cell_type": "markdown",
   "id": "840aad20-8c10-4d3f-b46f-52b6538af87e",
   "metadata": {
    "tags": []
   },
   "source": [
    "## Conexão ao banco de Dados Cassandra"
   ]
  },
  {
   "cell_type": "code",
   "execution_count": 4,
   "id": "7f340598-3fde-4f94-9f5c-a7bc67eb70b6",
   "metadata": {},
   "outputs": [],
   "source": [
    "#Conectando a seção\n",
    "ap = PlainTextAuthProvider(username='cassandra', password='cassandra')\n",
    "cluster = Cluster(['cassandra'], protocol_version=4, auth_provider=ap)\n",
    "session = cluster.connect('alunos')\n",
    "session.default_timeout = 60\n",
    "session.row_factory = pandas_factory\n",
    "sleep(2)"
   ]
  },
  {
   "cell_type": "markdown",
   "id": "2851a1d7-03eb-4493-8dc4-b9ab2f4f092d",
   "metadata": {
    "tags": []
   },
   "source": [
    "## Consulta"
   ]
  },
  {
   "cell_type": "markdown",
   "id": "7c44def4-9072-404f-a474-77f3d8a889df",
   "metadata": {
    "tags": []
   },
   "source": [
    "### Configurando a consulta\n",
    "Atribuindo valores para as consultas"
   ]
  },
  {
   "cell_type": "code",
   "execution_count": 5,
   "id": "50725e10-e250-4410-bf5c-6cf1763e6e40",
   "metadata": {
    "tags": []
   },
   "outputs": [],
   "source": [
    "table = 'fato_aluno_renda'\n",
    "field = 'renda_familiar'\n",
    "curse_types = ['Bacharelado','Licenciatura','Tecnologia']\n",
    "filters = {    \n",
    "    'categoria_situacao': ['Evadidos','Concluintes'],\n",
    "    field: True,\n",
    "    'tipo_curso': len(curse_types) > 0,\n",
    "    'instituicao': 'IFPB',\n",
    "    'unidade_ensino': '',\n",
    "    'nome_curso': '',\n",
    "    \n",
    "}"
   ]
  },
  {
   "cell_type": "markdown",
   "id": "f0dfc88e-6505-42f8-b68e-9b38c128dd92",
   "metadata": {
    "tags": []
   },
   "source": [
    "### Construindo a string para a consulta\n",
    "Criando fields e grupos para a consulta"
   ]
  },
  {
   "cell_type": "code",
   "execution_count": 6,
   "id": "85034c45-3e88-44c2-b4f5-6d01a27a932d",
   "metadata": {},
   "outputs": [],
   "source": [
    "s = []\n",
    "gf = []\n",
    "for k, v in filters.items():\n",
    "    if v :\n",
    "        if type(v) is str:\n",
    "            s.append(\"({} = '{}')\".format(k,v))            \n",
    "        elif type(v) is list:\n",
    "            s.append(\"({} IN ({}))\".format(\n",
    "                k,','.join(map(str,[\"'{}'\".format(i) for i in v]))))\n",
    "        if (type(v) is bool and v) or (not type(v) is bool):\n",
    "            gf.append(k)\n",
    "filter_sql = \" AND \".join(map(str,s))\n",
    "fields = \", \".join(map(str,gf))\n"
   ]
  },
  {
   "cell_type": "markdown",
   "id": "47b5d514-559a-48aa-884c-5984db21f00d",
   "metadata": {
    "tags": []
   },
   "source": [
    "### Execultado a consulta"
   ]
  },
  {
   "cell_type": "code",
   "execution_count": 7,
   "id": "142510d9-d626-46c2-b2e7-a1dbaf8bd324",
   "metadata": {},
   "outputs": [
    {
     "data": {
      "text/html": [
       "<div>\n",
       "<style scoped>\n",
       "    .dataframe tbody tr th:only-of-type {\n",
       "        vertical-align: middle;\n",
       "    }\n",
       "\n",
       "    .dataframe tbody tr th {\n",
       "        vertical-align: top;\n",
       "    }\n",
       "\n",
       "    .dataframe thead th {\n",
       "        text-align: right;\n",
       "    }\n",
       "</style>\n",
       "<table border=\"1\" class=\"dataframe\">\n",
       "  <thead>\n",
       "    <tr style=\"text-align: right;\">\n",
       "      <th></th>\n",
       "      <th>categoria_situacao</th>\n",
       "      <th>renda_familiar</th>\n",
       "      <th>tipo_curso</th>\n",
       "      <th>instituicao</th>\n",
       "      <th>quant_grupo</th>\n",
       "    </tr>\n",
       "  </thead>\n",
       "  <tbody>\n",
       "    <tr>\n",
       "      <th>0</th>\n",
       "      <td>Concluintes</td>\n",
       "      <td>0,5&lt;RFP&lt;=1,0</td>\n",
       "      <td>Bacharelado</td>\n",
       "      <td>IFPB</td>\n",
       "      <td>51</td>\n",
       "    </tr>\n",
       "    <tr>\n",
       "      <th>1</th>\n",
       "      <td>Concluintes</td>\n",
       "      <td>0,5&lt;RFP&lt;=1,0</td>\n",
       "      <td>Especialização (Lato Sensu)</td>\n",
       "      <td>IFPB</td>\n",
       "      <td>50</td>\n",
       "    </tr>\n",
       "    <tr>\n",
       "      <th>2</th>\n",
       "      <td>Concluintes</td>\n",
       "      <td>0,5&lt;RFP&lt;=1,0</td>\n",
       "      <td>Licenciatura</td>\n",
       "      <td>IFPB</td>\n",
       "      <td>37</td>\n",
       "    </tr>\n",
       "    <tr>\n",
       "      <th>3</th>\n",
       "      <td>Concluintes</td>\n",
       "      <td>0,5&lt;RFP&lt;=1,0</td>\n",
       "      <td>Mestrado</td>\n",
       "      <td>IFPB</td>\n",
       "      <td>2</td>\n",
       "    </tr>\n",
       "    <tr>\n",
       "      <th>4</th>\n",
       "      <td>Concluintes</td>\n",
       "      <td>0,5&lt;RFP&lt;=1,0</td>\n",
       "      <td>Qualificação Profissional (FIC)</td>\n",
       "      <td>IFPB</td>\n",
       "      <td>85</td>\n",
       "    </tr>\n",
       "    <tr>\n",
       "      <th>...</th>\n",
       "      <td>...</td>\n",
       "      <td>...</td>\n",
       "      <td>...</td>\n",
       "      <td>...</td>\n",
       "      <td>...</td>\n",
       "    </tr>\n",
       "    <tr>\n",
       "      <th>88</th>\n",
       "      <td>Evadidos</td>\n",
       "      <td>RFP&gt;3,5</td>\n",
       "      <td>Licenciatura</td>\n",
       "      <td>IFPB</td>\n",
       "      <td>9</td>\n",
       "    </tr>\n",
       "    <tr>\n",
       "      <th>89</th>\n",
       "      <td>Evadidos</td>\n",
       "      <td>RFP&gt;3,5</td>\n",
       "      <td>Mestrado Profissional</td>\n",
       "      <td>IFPB</td>\n",
       "      <td>1</td>\n",
       "    </tr>\n",
       "    <tr>\n",
       "      <th>90</th>\n",
       "      <td>Evadidos</td>\n",
       "      <td>RFP&gt;3,5</td>\n",
       "      <td>Qualificação Profissional (FIC)</td>\n",
       "      <td>IFPB</td>\n",
       "      <td>1</td>\n",
       "    </tr>\n",
       "    <tr>\n",
       "      <th>91</th>\n",
       "      <td>Evadidos</td>\n",
       "      <td>RFP&gt;3,5</td>\n",
       "      <td>Tecnologia</td>\n",
       "      <td>IFPB</td>\n",
       "      <td>11</td>\n",
       "    </tr>\n",
       "    <tr>\n",
       "      <th>92</th>\n",
       "      <td>Evadidos</td>\n",
       "      <td>RFP&gt;3,5</td>\n",
       "      <td>Técnico</td>\n",
       "      <td>IFPB</td>\n",
       "      <td>12</td>\n",
       "    </tr>\n",
       "  </tbody>\n",
       "</table>\n",
       "<p>93 rows × 5 columns</p>\n",
       "</div>"
      ],
      "text/plain": [
       "   categoria_situacao renda_familiar                       tipo_curso  \\\n",
       "0         Concluintes   0,5<RFP<=1,0                      Bacharelado   \n",
       "1         Concluintes   0,5<RFP<=1,0      Especialização (Lato Sensu)   \n",
       "2         Concluintes   0,5<RFP<=1,0                     Licenciatura   \n",
       "3         Concluintes   0,5<RFP<=1,0                         Mestrado   \n",
       "4         Concluintes   0,5<RFP<=1,0  Qualificação Profissional (FIC)   \n",
       "..                ...            ...                              ...   \n",
       "88           Evadidos        RFP>3,5                     Licenciatura   \n",
       "89           Evadidos        RFP>3,5            Mestrado Profissional   \n",
       "90           Evadidos        RFP>3,5  Qualificação Profissional (FIC)   \n",
       "91           Evadidos        RFP>3,5                       Tecnologia   \n",
       "92           Evadidos        RFP>3,5                          Técnico   \n",
       "\n",
       "   instituicao  quant_grupo  \n",
       "0         IFPB           51  \n",
       "1         IFPB           50  \n",
       "2         IFPB           37  \n",
       "3         IFPB            2  \n",
       "4         IFPB           85  \n",
       "..         ...          ...  \n",
       "88        IFPB            9  \n",
       "89        IFPB            1  \n",
       "90        IFPB            1  \n",
       "91        IFPB           11  \n",
       "92        IFPB           12  \n",
       "\n",
       "[93 rows x 5 columns]"
      ]
     },
     "execution_count": 7,
     "metadata": {},
     "output_type": "execute_result"
    }
   ],
   "source": [
    "#Execultado Consulta\n",
    "sql = \"SELECT {0}, sum(quant_grupo) AS quant_grupo\" \\\n",
    "\" FROM {1} \" \\\n",
    "\" WHERE {2} \" \\\n",
    "\" GROUP BY {0}\" \\\n",
    "\" ALLOW FILTERING;\".format(\n",
    "    fields,\n",
    "    table,\n",
    "    filter_sql)\n",
    "rslt = session.execute(sql, timeout=None)\n",
    "original_df = rslt._current_rows\n",
    "original_df\n"
   ]
  },
  {
   "cell_type": "markdown",
   "id": "6767adad-3ec3-4d45-aaf6-9f1ed3d64ce2",
   "metadata": {
    "tags": []
   },
   "source": [
    "## Análise"
   ]
  },
  {
   "cell_type": "code",
   "execution_count": 8,
   "id": "83ab7dde-87ac-4978-8ceb-394bc0ca2c27",
   "metadata": {},
   "outputs": [
    {
     "name": "stdout",
     "output_type": "stream",
     "text": [
      "Número de registros 93 e número de colunas 5.\n"
     ]
    }
   ],
   "source": [
    "s = original_df.shape\n",
    "print(\"Número de registros {:,} e número de colunas {:,}.\".format(s[0], s[1]).replace(',','.'))"
   ]
  },
  {
   "cell_type": "markdown",
   "id": "083b5b33-0eb8-4021-9028-776fb070d6c1",
   "metadata": {
    "tags": []
   },
   "source": [
    "## Filtrando Tipo do Curso"
   ]
  },
  {
   "cell_type": "code",
   "execution_count": 9,
   "id": "acd839ad-e03f-412f-8822-cb906b4f3b25",
   "metadata": {
    "tags": []
   },
   "outputs": [
    {
     "name": "stdout",
     "output_type": "stream",
     "text": [
      "Fitrando pelos tipos de cursos:\n",
      " Bacharelado, Licenciatura, Tecnologia\n"
     ]
    },
    {
     "data": {
      "text/html": [
       "<div>\n",
       "<style scoped>\n",
       "    .dataframe tbody tr th:only-of-type {\n",
       "        vertical-align: middle;\n",
       "    }\n",
       "\n",
       "    .dataframe tbody tr th {\n",
       "        vertical-align: top;\n",
       "    }\n",
       "\n",
       "    .dataframe thead th {\n",
       "        text-align: right;\n",
       "    }\n",
       "</style>\n",
       "<table border=\"1\" class=\"dataframe\">\n",
       "  <thead>\n",
       "    <tr style=\"text-align: right;\">\n",
       "      <th></th>\n",
       "      <th>categoria_situacao</th>\n",
       "      <th>renda_familiar</th>\n",
       "      <th>tipo_curso</th>\n",
       "      <th>instituicao</th>\n",
       "      <th>quant_grupo</th>\n",
       "    </tr>\n",
       "  </thead>\n",
       "  <tbody>\n",
       "    <tr>\n",
       "      <th>0</th>\n",
       "      <td>Concluintes</td>\n",
       "      <td>0,5&lt;RFP&lt;=1,0</td>\n",
       "      <td>Bacharelado</td>\n",
       "      <td>IFPB</td>\n",
       "      <td>51</td>\n",
       "    </tr>\n",
       "    <tr>\n",
       "      <th>2</th>\n",
       "      <td>Concluintes</td>\n",
       "      <td>0,5&lt;RFP&lt;=1,0</td>\n",
       "      <td>Licenciatura</td>\n",
       "      <td>IFPB</td>\n",
       "      <td>37</td>\n",
       "    </tr>\n",
       "    <tr>\n",
       "      <th>5</th>\n",
       "      <td>Concluintes</td>\n",
       "      <td>0,5&lt;RFP&lt;=1,0</td>\n",
       "      <td>Tecnologia</td>\n",
       "      <td>IFPB</td>\n",
       "      <td>185</td>\n",
       "    </tr>\n",
       "    <tr>\n",
       "      <th>7</th>\n",
       "      <td>Concluintes</td>\n",
       "      <td>0&lt;RFP&lt;=0,5</td>\n",
       "      <td>Bacharelado</td>\n",
       "      <td>IFPB</td>\n",
       "      <td>66</td>\n",
       "    </tr>\n",
       "    <tr>\n",
       "      <th>9</th>\n",
       "      <td>Concluintes</td>\n",
       "      <td>0&lt;RFP&lt;=0,5</td>\n",
       "      <td>Licenciatura</td>\n",
       "      <td>IFPB</td>\n",
       "      <td>91</td>\n",
       "    </tr>\n",
       "    <tr>\n",
       "      <th>12</th>\n",
       "      <td>Concluintes</td>\n",
       "      <td>0&lt;RFP&lt;=0,5</td>\n",
       "      <td>Tecnologia</td>\n",
       "      <td>IFPB</td>\n",
       "      <td>343</td>\n",
       "    </tr>\n",
       "    <tr>\n",
       "      <th>14</th>\n",
       "      <td>Concluintes</td>\n",
       "      <td>1,0&lt;RFP&lt;=1,5</td>\n",
       "      <td>Bacharelado</td>\n",
       "      <td>IFPB</td>\n",
       "      <td>31</td>\n",
       "    </tr>\n",
       "    <tr>\n",
       "      <th>16</th>\n",
       "      <td>Concluintes</td>\n",
       "      <td>1,0&lt;RFP&lt;=1,5</td>\n",
       "      <td>Licenciatura</td>\n",
       "      <td>IFPB</td>\n",
       "      <td>14</td>\n",
       "    </tr>\n",
       "    <tr>\n",
       "      <th>18</th>\n",
       "      <td>Concluintes</td>\n",
       "      <td>1,0&lt;RFP&lt;=1,5</td>\n",
       "      <td>Tecnologia</td>\n",
       "      <td>IFPB</td>\n",
       "      <td>75</td>\n",
       "    </tr>\n",
       "    <tr>\n",
       "      <th>20</th>\n",
       "      <td>Concluintes</td>\n",
       "      <td>1,5&lt;RFP&lt;=2,5</td>\n",
       "      <td>Bacharelado</td>\n",
       "      <td>IFPB</td>\n",
       "      <td>21</td>\n",
       "    </tr>\n",
       "    <tr>\n",
       "      <th>22</th>\n",
       "      <td>Concluintes</td>\n",
       "      <td>1,5&lt;RFP&lt;=2,5</td>\n",
       "      <td>Licenciatura</td>\n",
       "      <td>IFPB</td>\n",
       "      <td>8</td>\n",
       "    </tr>\n",
       "    <tr>\n",
       "      <th>25</th>\n",
       "      <td>Concluintes</td>\n",
       "      <td>1,5&lt;RFP&lt;=2,5</td>\n",
       "      <td>Tecnologia</td>\n",
       "      <td>IFPB</td>\n",
       "      <td>50</td>\n",
       "    </tr>\n",
       "    <tr>\n",
       "      <th>27</th>\n",
       "      <td>Concluintes</td>\n",
       "      <td>2,5&lt;RFP&lt;=3,5</td>\n",
       "      <td>Bacharelado</td>\n",
       "      <td>IFPB</td>\n",
       "      <td>4</td>\n",
       "    </tr>\n",
       "    <tr>\n",
       "      <th>29</th>\n",
       "      <td>Concluintes</td>\n",
       "      <td>2,5&lt;RFP&lt;=3,5</td>\n",
       "      <td>Licenciatura</td>\n",
       "      <td>IFPB</td>\n",
       "      <td>3</td>\n",
       "    </tr>\n",
       "    <tr>\n",
       "      <th>32</th>\n",
       "      <td>Concluintes</td>\n",
       "      <td>2,5&lt;RFP&lt;=3,5</td>\n",
       "      <td>Tecnologia</td>\n",
       "      <td>IFPB</td>\n",
       "      <td>25</td>\n",
       "    </tr>\n",
       "    <tr>\n",
       "      <th>34</th>\n",
       "      <td>Concluintes</td>\n",
       "      <td>NÃO DECLARADA</td>\n",
       "      <td>Bacharelado</td>\n",
       "      <td>IFPB</td>\n",
       "      <td>56</td>\n",
       "    </tr>\n",
       "    <tr>\n",
       "      <th>36</th>\n",
       "      <td>Concluintes</td>\n",
       "      <td>NÃO DECLARADA</td>\n",
       "      <td>Licenciatura</td>\n",
       "      <td>IFPB</td>\n",
       "      <td>84</td>\n",
       "    </tr>\n",
       "    <tr>\n",
       "      <th>39</th>\n",
       "      <td>Concluintes</td>\n",
       "      <td>NÃO DECLARADA</td>\n",
       "      <td>Tecnologia</td>\n",
       "      <td>IFPB</td>\n",
       "      <td>206</td>\n",
       "    </tr>\n",
       "    <tr>\n",
       "      <th>41</th>\n",
       "      <td>Concluintes</td>\n",
       "      <td>RFP&gt;3,5</td>\n",
       "      <td>Bacharelado</td>\n",
       "      <td>IFPB</td>\n",
       "      <td>3</td>\n",
       "    </tr>\n",
       "    <tr>\n",
       "      <th>43</th>\n",
       "      <td>Concluintes</td>\n",
       "      <td>RFP&gt;3,5</td>\n",
       "      <td>Licenciatura</td>\n",
       "      <td>IFPB</td>\n",
       "      <td>1</td>\n",
       "    </tr>\n",
       "    <tr>\n",
       "      <th>45</th>\n",
       "      <td>Concluintes</td>\n",
       "      <td>RFP&gt;3,5</td>\n",
       "      <td>Tecnologia</td>\n",
       "      <td>IFPB</td>\n",
       "      <td>22</td>\n",
       "    </tr>\n",
       "    <tr>\n",
       "      <th>47</th>\n",
       "      <td>Evadidos</td>\n",
       "      <td>0,5&lt;RFP&lt;=1,0</td>\n",
       "      <td>Bacharelado</td>\n",
       "      <td>IFPB</td>\n",
       "      <td>53</td>\n",
       "    </tr>\n",
       "    <tr>\n",
       "      <th>49</th>\n",
       "      <td>Evadidos</td>\n",
       "      <td>0,5&lt;RFP&lt;=1,0</td>\n",
       "      <td>Licenciatura</td>\n",
       "      <td>IFPB</td>\n",
       "      <td>84</td>\n",
       "    </tr>\n",
       "    <tr>\n",
       "      <th>52</th>\n",
       "      <td>Evadidos</td>\n",
       "      <td>0,5&lt;RFP&lt;=1,0</td>\n",
       "      <td>Tecnologia</td>\n",
       "      <td>IFPB</td>\n",
       "      <td>248</td>\n",
       "    </tr>\n",
       "    <tr>\n",
       "      <th>54</th>\n",
       "      <td>Evadidos</td>\n",
       "      <td>0&lt;RFP&lt;=0,5</td>\n",
       "      <td>Bacharelado</td>\n",
       "      <td>IFPB</td>\n",
       "      <td>93</td>\n",
       "    </tr>\n",
       "    <tr>\n",
       "      <th>56</th>\n",
       "      <td>Evadidos</td>\n",
       "      <td>0&lt;RFP&lt;=0,5</td>\n",
       "      <td>Licenciatura</td>\n",
       "      <td>IFPB</td>\n",
       "      <td>267</td>\n",
       "    </tr>\n",
       "    <tr>\n",
       "      <th>58</th>\n",
       "      <td>Evadidos</td>\n",
       "      <td>0&lt;RFP&lt;=0,5</td>\n",
       "      <td>Tecnologia</td>\n",
       "      <td>IFPB</td>\n",
       "      <td>542</td>\n",
       "    </tr>\n",
       "    <tr>\n",
       "      <th>60</th>\n",
       "      <td>Evadidos</td>\n",
       "      <td>1,0&lt;RFP&lt;=1,5</td>\n",
       "      <td>Bacharelado</td>\n",
       "      <td>IFPB</td>\n",
       "      <td>27</td>\n",
       "    </tr>\n",
       "    <tr>\n",
       "      <th>62</th>\n",
       "      <td>Evadidos</td>\n",
       "      <td>1,0&lt;RFP&lt;=1,5</td>\n",
       "      <td>Licenciatura</td>\n",
       "      <td>IFPB</td>\n",
       "      <td>32</td>\n",
       "    </tr>\n",
       "    <tr>\n",
       "      <th>64</th>\n",
       "      <td>Evadidos</td>\n",
       "      <td>1,0&lt;RFP&lt;=1,5</td>\n",
       "      <td>Tecnologia</td>\n",
       "      <td>IFPB</td>\n",
       "      <td>87</td>\n",
       "    </tr>\n",
       "    <tr>\n",
       "      <th>66</th>\n",
       "      <td>Evadidos</td>\n",
       "      <td>1,5&lt;RFP&lt;=2,5</td>\n",
       "      <td>Bacharelado</td>\n",
       "      <td>IFPB</td>\n",
       "      <td>14</td>\n",
       "    </tr>\n",
       "    <tr>\n",
       "      <th>68</th>\n",
       "      <td>Evadidos</td>\n",
       "      <td>1,5&lt;RFP&lt;=2,5</td>\n",
       "      <td>Licenciatura</td>\n",
       "      <td>IFPB</td>\n",
       "      <td>18</td>\n",
       "    </tr>\n",
       "    <tr>\n",
       "      <th>71</th>\n",
       "      <td>Evadidos</td>\n",
       "      <td>1,5&lt;RFP&lt;=2,5</td>\n",
       "      <td>Tecnologia</td>\n",
       "      <td>IFPB</td>\n",
       "      <td>38</td>\n",
       "    </tr>\n",
       "    <tr>\n",
       "      <th>73</th>\n",
       "      <td>Evadidos</td>\n",
       "      <td>2,5&lt;RFP&lt;=3,5</td>\n",
       "      <td>Bacharelado</td>\n",
       "      <td>IFPB</td>\n",
       "      <td>5</td>\n",
       "    </tr>\n",
       "    <tr>\n",
       "      <th>74</th>\n",
       "      <td>Evadidos</td>\n",
       "      <td>2,5&lt;RFP&lt;=3,5</td>\n",
       "      <td>Licenciatura</td>\n",
       "      <td>IFPB</td>\n",
       "      <td>8</td>\n",
       "    </tr>\n",
       "    <tr>\n",
       "      <th>76</th>\n",
       "      <td>Evadidos</td>\n",
       "      <td>2,5&lt;RFP&lt;=3,5</td>\n",
       "      <td>Tecnologia</td>\n",
       "      <td>IFPB</td>\n",
       "      <td>11</td>\n",
       "    </tr>\n",
       "    <tr>\n",
       "      <th>78</th>\n",
       "      <td>Evadidos</td>\n",
       "      <td>NÃO DECLARADA</td>\n",
       "      <td>Bacharelado</td>\n",
       "      <td>IFPB</td>\n",
       "      <td>133</td>\n",
       "    </tr>\n",
       "    <tr>\n",
       "      <th>80</th>\n",
       "      <td>Evadidos</td>\n",
       "      <td>NÃO DECLARADA</td>\n",
       "      <td>Licenciatura</td>\n",
       "      <td>IFPB</td>\n",
       "      <td>523</td>\n",
       "    </tr>\n",
       "    <tr>\n",
       "      <th>84</th>\n",
       "      <td>Evadidos</td>\n",
       "      <td>NÃO DECLARADA</td>\n",
       "      <td>Tecnologia</td>\n",
       "      <td>IFPB</td>\n",
       "      <td>931</td>\n",
       "    </tr>\n",
       "    <tr>\n",
       "      <th>86</th>\n",
       "      <td>Evadidos</td>\n",
       "      <td>RFP&gt;3,5</td>\n",
       "      <td>Bacharelado</td>\n",
       "      <td>IFPB</td>\n",
       "      <td>4</td>\n",
       "    </tr>\n",
       "    <tr>\n",
       "      <th>88</th>\n",
       "      <td>Evadidos</td>\n",
       "      <td>RFP&gt;3,5</td>\n",
       "      <td>Licenciatura</td>\n",
       "      <td>IFPB</td>\n",
       "      <td>9</td>\n",
       "    </tr>\n",
       "    <tr>\n",
       "      <th>91</th>\n",
       "      <td>Evadidos</td>\n",
       "      <td>RFP&gt;3,5</td>\n",
       "      <td>Tecnologia</td>\n",
       "      <td>IFPB</td>\n",
       "      <td>11</td>\n",
       "    </tr>\n",
       "  </tbody>\n",
       "</table>\n",
       "</div>"
      ],
      "text/plain": [
       "   categoria_situacao renda_familiar    tipo_curso instituicao  quant_grupo\n",
       "0         Concluintes   0,5<RFP<=1,0   Bacharelado        IFPB           51\n",
       "2         Concluintes   0,5<RFP<=1,0  Licenciatura        IFPB           37\n",
       "5         Concluintes   0,5<RFP<=1,0    Tecnologia        IFPB          185\n",
       "7         Concluintes     0<RFP<=0,5   Bacharelado        IFPB           66\n",
       "9         Concluintes     0<RFP<=0,5  Licenciatura        IFPB           91\n",
       "12        Concluintes     0<RFP<=0,5    Tecnologia        IFPB          343\n",
       "14        Concluintes   1,0<RFP<=1,5   Bacharelado        IFPB           31\n",
       "16        Concluintes   1,0<RFP<=1,5  Licenciatura        IFPB           14\n",
       "18        Concluintes   1,0<RFP<=1,5    Tecnologia        IFPB           75\n",
       "20        Concluintes   1,5<RFP<=2,5   Bacharelado        IFPB           21\n",
       "22        Concluintes   1,5<RFP<=2,5  Licenciatura        IFPB            8\n",
       "25        Concluintes   1,5<RFP<=2,5    Tecnologia        IFPB           50\n",
       "27        Concluintes   2,5<RFP<=3,5   Bacharelado        IFPB            4\n",
       "29        Concluintes   2,5<RFP<=3,5  Licenciatura        IFPB            3\n",
       "32        Concluintes   2,5<RFP<=3,5    Tecnologia        IFPB           25\n",
       "34        Concluintes  NÃO DECLARADA   Bacharelado        IFPB           56\n",
       "36        Concluintes  NÃO DECLARADA  Licenciatura        IFPB           84\n",
       "39        Concluintes  NÃO DECLARADA    Tecnologia        IFPB          206\n",
       "41        Concluintes        RFP>3,5   Bacharelado        IFPB            3\n",
       "43        Concluintes        RFP>3,5  Licenciatura        IFPB            1\n",
       "45        Concluintes        RFP>3,5    Tecnologia        IFPB           22\n",
       "47           Evadidos   0,5<RFP<=1,0   Bacharelado        IFPB           53\n",
       "49           Evadidos   0,5<RFP<=1,0  Licenciatura        IFPB           84\n",
       "52           Evadidos   0,5<RFP<=1,0    Tecnologia        IFPB          248\n",
       "54           Evadidos     0<RFP<=0,5   Bacharelado        IFPB           93\n",
       "56           Evadidos     0<RFP<=0,5  Licenciatura        IFPB          267\n",
       "58           Evadidos     0<RFP<=0,5    Tecnologia        IFPB          542\n",
       "60           Evadidos   1,0<RFP<=1,5   Bacharelado        IFPB           27\n",
       "62           Evadidos   1,0<RFP<=1,5  Licenciatura        IFPB           32\n",
       "64           Evadidos   1,0<RFP<=1,5    Tecnologia        IFPB           87\n",
       "66           Evadidos   1,5<RFP<=2,5   Bacharelado        IFPB           14\n",
       "68           Evadidos   1,5<RFP<=2,5  Licenciatura        IFPB           18\n",
       "71           Evadidos   1,5<RFP<=2,5    Tecnologia        IFPB           38\n",
       "73           Evadidos   2,5<RFP<=3,5   Bacharelado        IFPB            5\n",
       "74           Evadidos   2,5<RFP<=3,5  Licenciatura        IFPB            8\n",
       "76           Evadidos   2,5<RFP<=3,5    Tecnologia        IFPB           11\n",
       "78           Evadidos  NÃO DECLARADA   Bacharelado        IFPB          133\n",
       "80           Evadidos  NÃO DECLARADA  Licenciatura        IFPB          523\n",
       "84           Evadidos  NÃO DECLARADA    Tecnologia        IFPB          931\n",
       "86           Evadidos        RFP>3,5   Bacharelado        IFPB            4\n",
       "88           Evadidos        RFP>3,5  Licenciatura        IFPB            9\n",
       "91           Evadidos        RFP>3,5    Tecnologia        IFPB           11"
      ]
     },
     "execution_count": 9,
     "metadata": {},
     "output_type": "execute_result"
    }
   ],
   "source": [
    "if curse_types :\n",
    "    original_df = original_df[original_df['tipo_curso'].isin(curse_types)]\n",
    "    print('Fitrando pelos tipos de cursos:\\n {}'.format(', '.join(map(str,curse_types))))\n",
    "    \n",
    "else:\n",
    "    print('Todos os cursos')\n",
    "original_df"
   ]
  },
  {
   "cell_type": "markdown",
   "id": "7ec20789-46a9-4fe3-a253-af98a4b954a2",
   "metadata": {},
   "source": [
    "## Agrupando"
   ]
  },
  {
   "cell_type": "markdown",
   "id": "335930e4-eab0-4f54-a106-eedcc350b82c",
   "metadata": {
    "tags": []
   },
   "source": [
    "### Agrupando os valores para apresentar no gráfico"
   ]
  },
  {
   "cell_type": "code",
   "execution_count": 10,
   "id": "4446af89-d272-4ecc-a5f3-b9e5bcf9ba1d",
   "metadata": {},
   "outputs": [],
   "source": [
    "df = original_df.groupby(['categoria_situacao',field]).sum('quant_grupo').reset_index()\n",
    "df_qtd = original_df.groupby([field]).sum('quant_grupo').reset_index()\n",
    "order = list(df_qtd.sort_values('quant_grupo', ascending=False)[field])"
   ]
  },
  {
   "cell_type": "markdown",
   "id": "f88cc77a-3ab3-4002-8bd6-1063935b2740",
   "metadata": {},
   "source": [
    "### Ordenação personalizada"
   ]
  },
  {
   "cell_type": "code",
   "execution_count": 11,
   "id": "35419629-e171-4602-a03b-77f675839b9f",
   "metadata": {},
   "outputs": [],
   "source": [
    "order = [\n",
    "    '0<RFP<=0,5',\n",
    "    '0,5<RFP<=1,0',\n",
    "    '1,0<RFP<=1,5',\n",
    "    '1,5<RFP<=2,5',\n",
    "    '2,5<RFP<=3,5',\n",
    "    'RFP>3,5',\n",
    "    'NÃO DECLARADA'\n",
    "]"
   ]
  },
  {
   "cell_type": "markdown",
   "id": "bf56dbc7-d58b-40cb-ba3c-3b09aae80740",
   "metadata": {},
   "source": [
    "### Ordenando dados"
   ]
  },
  {
   "cell_type": "code",
   "execution_count": 12,
   "id": "fc4037e4-d970-4bba-a89b-9b05e7b9047a",
   "metadata": {},
   "outputs": [],
   "source": [
    "sort_keys = {v:k for k,v in enumerate(order)}\n",
    "func_sort = lambda e: sort_keys[e]\n",
    "df_cat = df.pivot_table('quant_grupo',[field],'categoria_situacao').sort_values(by=field, key=lambda col: col.map(func_sort))\n",
    "df_qtd = df_qtd.pivot_table('quant_grupo',[field]).sort_values(by=field, key=lambda col: col.map(func_sort))"
   ]
  },
  {
   "cell_type": "markdown",
   "id": "6078a46e-5bb1-4775-9dae-e1155db3a233",
   "metadata": {},
   "source": [
    "### Apresentando o gráfico"
   ]
  },
  {
   "cell_type": "code",
   "execution_count": 13,
   "id": "f7b7b1d7-c938-4a66-998b-07e0201dcf29",
   "metadata": {},
   "outputs": [
    {
     "data": {
      "text/plain": [
       "<AxesSubplot:xlabel='renda_familiar'>"
      ]
     },
     "execution_count": 13,
     "metadata": {},
     "output_type": "execute_result"
    },
    {
     "data": {
      "image/png": "[encoded data removed]",
      "text/plain": [
       "<Figure size 1440x576 with 1 Axes>"
      ]
     },
     "metadata": {
      "needs_background": "light"
     },
     "output_type": "display_data"
    }
   ],
   "source": [
    "df_qtd.plot(kind ='bar', figsize=(20, 8), width = 0.7)"
   ]
  },
  {
   "cell_type": "code",
   "execution_count": 14,
   "id": "30a751a2-d8b4-4cbf-bfe0-a3ba1ca8eab5",
   "metadata": {},
   "outputs": [
    {
     "data": {
      "text/plain": [
       "<AxesSubplot:xlabel='renda_familiar'>"
      ]
     },
     "execution_count": 14,
     "metadata": {},
     "output_type": "execute_result"
    },
    {
     "data": {
      "image/png": "[encoded data removed]",
      "text/plain": [
       "<Figure size 1440x576 with 1 Axes>"
      ]
     },
     "metadata": {
      "needs_background": "light"
     },
     "output_type": "display_data"
    }
   ],
   "source": [
    "df_cat.plot(kind ='bar', figsize=(20, 8), width = 0.7)"
   ]
  },
  {
   "cell_type": "markdown",
   "id": "bd5d106d-2dc8-4594-b60f-ee7a686528ae",
   "metadata": {},
   "source": [
    "## Total de Alunos"
   ]
  },
  {
   "cell_type": "code",
   "execution_count": 15,
   "id": "b4cf290e-0e78-46dd-be37-de5e61d4f538",
   "metadata": {},
   "outputs": [
    {
     "data": {
      "text/html": [
       "<div>\n",
       "<style scoped>\n",
       "    .dataframe tbody tr th:only-of-type {\n",
       "        vertical-align: middle;\n",
       "    }\n",
       "\n",
       "    .dataframe tbody tr th {\n",
       "        vertical-align: top;\n",
       "    }\n",
       "\n",
       "    .dataframe thead th {\n",
       "        text-align: right;\n",
       "    }\n",
       "</style>\n",
       "<table border=\"1\" class=\"dataframe\">\n",
       "  <thead>\n",
       "    <tr style=\"text-align: right;\">\n",
       "      <th>categoria_situacao</th>\n",
       "      <th>Concluintes</th>\n",
       "      <th>Evadidos</th>\n",
       "      <th>total</th>\n",
       "      <th>Concluintes_%</th>\n",
       "      <th>Evadidos_%</th>\n",
       "      <th>total_%</th>\n",
       "    </tr>\n",
       "    <tr>\n",
       "      <th>renda_familiar</th>\n",
       "      <th></th>\n",
       "      <th></th>\n",
       "      <th></th>\n",
       "      <th></th>\n",
       "      <th></th>\n",
       "      <th></th>\n",
       "    </tr>\n",
       "  </thead>\n",
       "  <tbody>\n",
       "    <tr>\n",
       "      <th>0&lt;RFP&lt;=0,5</th>\n",
       "      <td>500</td>\n",
       "      <td>902</td>\n",
       "      <td>1402</td>\n",
       "      <td>0.356633</td>\n",
       "      <td>0.643367</td>\n",
       "      <td>0.310589</td>\n",
       "    </tr>\n",
       "    <tr>\n",
       "      <th>0,5&lt;RFP&lt;=1,0</th>\n",
       "      <td>273</td>\n",
       "      <td>385</td>\n",
       "      <td>658</td>\n",
       "      <td>0.414894</td>\n",
       "      <td>0.585106</td>\n",
       "      <td>0.145769</td>\n",
       "    </tr>\n",
       "    <tr>\n",
       "      <th>1,0&lt;RFP&lt;=1,5</th>\n",
       "      <td>120</td>\n",
       "      <td>146</td>\n",
       "      <td>266</td>\n",
       "      <td>0.451128</td>\n",
       "      <td>0.548872</td>\n",
       "      <td>0.058928</td>\n",
       "    </tr>\n",
       "    <tr>\n",
       "      <th>1,5&lt;RFP&lt;=2,5</th>\n",
       "      <td>79</td>\n",
       "      <td>70</td>\n",
       "      <td>149</td>\n",
       "      <td>0.530201</td>\n",
       "      <td>0.469799</td>\n",
       "      <td>0.033008</td>\n",
       "    </tr>\n",
       "    <tr>\n",
       "      <th>2,5&lt;RFP&lt;=3,5</th>\n",
       "      <td>32</td>\n",
       "      <td>24</td>\n",
       "      <td>56</td>\n",
       "      <td>0.571429</td>\n",
       "      <td>0.428571</td>\n",
       "      <td>0.012406</td>\n",
       "    </tr>\n",
       "    <tr>\n",
       "      <th>RFP&gt;3,5</th>\n",
       "      <td>26</td>\n",
       "      <td>24</td>\n",
       "      <td>50</td>\n",
       "      <td>0.520000</td>\n",
       "      <td>0.480000</td>\n",
       "      <td>0.011077</td>\n",
       "    </tr>\n",
       "    <tr>\n",
       "      <th>NÃO DECLARADA</th>\n",
       "      <td>346</td>\n",
       "      <td>1587</td>\n",
       "      <td>1933</td>\n",
       "      <td>0.178996</td>\n",
       "      <td>0.821004</td>\n",
       "      <td>0.428223</td>\n",
       "    </tr>\n",
       "  </tbody>\n",
       "</table>\n",
       "</div>"
      ],
      "text/plain": [
       "categoria_situacao  Concluintes  Evadidos  total  Concluintes_%  Evadidos_%  \\\n",
       "renda_familiar                                                                \n",
       "0<RFP<=0,5                  500       902   1402       0.356633    0.643367   \n",
       "0,5<RFP<=1,0                273       385    658       0.414894    0.585106   \n",
       "1,0<RFP<=1,5                120       146    266       0.451128    0.548872   \n",
       "1,5<RFP<=2,5                 79        70    149       0.530201    0.469799   \n",
       "2,5<RFP<=3,5                 32        24     56       0.571429    0.428571   \n",
       "RFP>3,5                      26        24     50       0.520000    0.480000   \n",
       "NÃO DECLARADA               346      1587   1933       0.178996    0.821004   \n",
       "\n",
       "categoria_situacao   total_%  \n",
       "renda_familiar                \n",
       "0<RFP<=0,5          0.310589  \n",
       "0,5<RFP<=1,0        0.145769  \n",
       "1,0<RFP<=1,5        0.058928  \n",
       "1,5<RFP<=2,5        0.033008  \n",
       "2,5<RFP<=3,5        0.012406  \n",
       "RFP>3,5             0.011077  \n",
       "NÃO DECLARADA       0.428223  "
      ]
     },
     "execution_count": 15,
     "metadata": {},
     "output_type": "execute_result"
    }
   ],
   "source": [
    "categories = list(df['categoria_situacao'].unique())\n",
    "total = df['quant_grupo'].sum()\n",
    "df_res = df_cat \n",
    "df_res['total'] = df_res[categories].sum(axis=1)\n",
    "for category in categories:\n",
    "    df_res[category + '_%'] = df_res[category] / df_res['total']\n",
    "df_res['total_%'] = df_res['total'] / total\n",
    "df_res"
   ]
  },
  {
   "cell_type": "code",
   "execution_count": 16,
   "id": "9a3a3e41-caea-4f67-86ca-91498ef7c8a9",
   "metadata": {},
   "outputs": [
    {
     "name": "stdout",
     "output_type": "stream",
     "text": [
      "Total de alunos: 4.514\n"
     ]
    }
   ],
   "source": [
    "print(\"Total de alunos: {:,}\".format(df['quant_grupo'].sum()).replace(',','.'))"
   ]
  },
  {
   "cell_type": "markdown",
   "id": "d2f940fe-0a52-498e-8a33-de138d5040d2",
   "metadata": {},
   "source": [
    "# Porcentagem de Conclusão"
   ]
  },
  {
   "cell_type": "code",
   "execution_count": 17,
   "id": "981834d8-00a5-4a3a-9f24-4227b34ef83a",
   "metadata": {},
   "outputs": [
    {
     "data": {
      "text/plain": [
       "<AxesSubplot:xlabel='renda_familiar'>"
      ]
     },
     "execution_count": 17,
     "metadata": {},
     "output_type": "execute_result"
    },
    {
     "data": {
      "image/png": "[encoded data removed]",
      "text/plain": [
       "<Figure size 1440x576 with 1 Axes>"
      ]
     },
     "metadata": {
      "needs_background": "light"
     },
     "output_type": "display_data"
    }
   ],
   "source": [
    "df_drp = df_res['Concluintes_%'] * 100\n",
    "\n",
    "df_drp.plot(kind ='bar', figsize=(20, 8), width = 0.7)"
   ]
  }
 ],
 "metadata": {
  "kernelspec": {
   "display_name": "Python 3 (ipykernel)",
   "language": "python",
   "name": "python3"
  },
  "language_info": {
   "codemirror_mode": {
    "name": "ipython",
    "version": 3
   },
   "file_extension": ".py",
   "mimetype": "text/x-python",
   "name": "python",
   "nbconvert_exporter": "python",
   "pygments_lexer": "ipython3",
   "version": "3.9.10"
  }
 },
 "nbformat": 4,
 "nbformat_minor": 5
}
