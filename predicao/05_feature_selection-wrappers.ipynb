{
 "cells": [
  {
   "cell_type": "code",
   "execution_count": 1,
   "id": "f7dde15f",
   "metadata": {},
   "outputs": [],
   "source": [
    "import numpy as np\n",
    "import pandas as pd\n",
    "import matplotlib.pyplot as plt"
   ]
  },
  {
   "cell_type": "code",
   "execution_count": 2,
   "id": "2b1c805b",
   "metadata": {},
   "outputs": [],
   "source": [
    "from sklearn.preprocessing import LabelEncoder\n",
    "from sklearn.preprocessing import MinMaxScaler"
   ]
  },
  {
   "cell_type": "code",
   "execution_count": 3,
   "id": "68a704f7",
   "metadata": {},
   "outputs": [],
   "source": [
    "from sklearn.linear_model import LogisticRegression\n",
    "from sklearn.feature_selection import RFE"
   ]
  },
  {
   "cell_type": "code",
   "execution_count": 4,
   "id": "c266d0ec",
   "metadata": {},
   "outputs": [],
   "source": [
    "#Desabilitando warning\n",
    "pd.set_option('mode.chained_assignment',None)"
   ]
  },
  {
   "cell_type": "code",
   "execution_count": 5,
   "id": "047cadbc",
   "metadata": {},
   "outputs": [],
   "source": [
    "matriculas = pd.read_csv(\"data/out.csv\")"
   ]
  },
  {
   "cell_type": "code",
   "execution_count": 6,
   "id": "0de39de2",
   "metadata": {},
   "outputs": [],
   "source": [
    "y = matriculas[['categoria_situacao']]"
   ]
  },
  {
   "cell_type": "code",
   "execution_count": 7,
   "id": "121883e3",
   "metadata": {},
   "outputs": [],
   "source": [
    "x = matriculas.iloc[:,range(1, len(matriculas.columns))]"
   ]
  },
  {
   "cell_type": "markdown",
   "id": "0b3ac920",
   "metadata": {},
   "source": [
    "### Nomes dos campos"
   ]
  },
  {
   "cell_type": "code",
   "execution_count": 8,
   "id": "9b96d740",
   "metadata": {},
   "outputs": [],
   "source": [
    "nomes = list(x.columns.values)"
   ]
  },
  {
   "cell_type": "markdown",
   "id": "096f0a6f",
   "metadata": {},
   "source": [
    "### Convertendo variáveis categóricas em numéricas"
   ]
  },
  {
   "cell_type": "code",
   "execution_count": 9,
   "id": "64a71935",
   "metadata": {
    "scrolled": true
   },
   "outputs": [],
   "source": [
    "le = LabelEncoder()\n",
    "for n in nomes:\n",
    "    x[n] = le.fit_transform(x[n])"
   ]
  },
  {
   "cell_type": "markdown",
   "id": "214cc53b",
   "metadata": {},
   "source": [
    "### Dimensionando Campos com MinMaxScaler"
   ]
  },
  {
   "cell_type": "code",
   "execution_count": 10,
   "id": "645c7910",
   "metadata": {},
   "outputs": [],
   "source": [
    "min_max_scaler = MinMaxScaler()\n",
    "for n in nomes:\n",
    "    x[[n]] = min_max_scaler.fit_transform(x[[n]])"
   ]
  },
  {
   "cell_type": "code",
   "execution_count": 11,
   "id": "0f1c2fad",
   "metadata": {},
   "outputs": [],
   "source": [
    "modelo1 = LogisticRegression(max_iter=1000)"
   ]
  },
  {
   "cell_type": "code",
   "execution_count": 12,
   "id": "47fa4590",
   "metadata": {},
   "outputs": [],
   "source": [
    "rfe = RFE(modelo1, n_features_to_select=15, step=1)"
   ]
  },
  {
   "cell_type": "code",
   "execution_count": 13,
   "id": "e99831a6",
   "metadata": {},
   "outputs": [],
   "source": [
    "fitrfe = rfe.fit(x,y.values.ravel())"
   ]
  },
  {
   "cell_type": "code",
   "execution_count": 14,
   "id": "28596a4a",
   "metadata": {
    "scrolled": true
   },
   "outputs": [
    {
     "name": "stdout",
     "output_type": "stream",
     "text": [
      "Número de features: {} 15\n"
     ]
    }
   ],
   "source": [
    "print(\"Número de features: {}\",format(fitrfe.n_features_))"
   ]
  },
  {
   "cell_type": "code",
   "execution_count": 15,
   "id": "8c8a3555",
   "metadata": {
    "scrolled": true
   },
   "outputs": [
    {
     "data": {
      "text/plain": [
       "['ano',\n",
       " 'carga_horaria',\n",
       " 'carga_minima',\n",
       " 'cor_raca',\n",
       " 'data_matricula',\n",
       " 'eixo_tecnologico',\n",
       " 'fator_esforco_curso',\n",
       " 'mes_ocorrencia',\n",
       " 'sexo',\n",
       " 'tipo_oferta',\n",
       " 'total_inscritos',\n",
       " 'codigo_unidade_ensino_sistec',\n",
       " 'vagas_ofertadas',\n",
       " 'idade',\n",
       " 'faixa_etaria']"
      ]
     },
     "execution_count": 15,
     "metadata": {},
     "output_type": "execute_result"
    }
   ],
   "source": [
    "cols = fitrfe.get_support(indices=True)\n",
    "list(x.iloc[:,cols].columns)"
   ]
  }
 ],
 "metadata": {
  "kernelspec": {
   "display_name": "Python 3 (ipykernel)",
   "language": "python",
   "name": "python3"
  },
  "language_info": {
   "codemirror_mode": {
    "name": "ipython",
    "version": 3
   },
   "file_extension": ".py",
   "mimetype": "text/x-python",
   "name": "python",
   "nbconvert_exporter": "python",
   "pygments_lexer": "ipython3",
   "version": "3.9.10"
  }
 },
 "nbformat": 4,
 "nbformat_minor": 5
}
