{
 "cells": [
  {
   "cell_type": "markdown",
   "id": "0d544920",
   "metadata": {},
   "source": [
    "# Decision Tree Classifier"
   ]
  },
  {
   "cell_type": "code",
   "execution_count": 1,
   "id": "8c14796c",
   "metadata": {},
   "outputs": [],
   "source": [
    "#Importando Dependências\n",
    "import numpy as np\n",
    "import pandas as pd"
   ]
  },
  {
   "cell_type": "code",
   "execution_count": 2,
   "id": "0ed374d2",
   "metadata": {},
   "outputs": [],
   "source": [
    "from sklearn.preprocessing import LabelEncoder\n",
    "from sklearn.preprocessing import MinMaxScaler"
   ]
  },
  {
   "cell_type": "code",
   "execution_count": 3,
   "id": "f65fb3b9",
   "metadata": {},
   "outputs": [],
   "source": [
    "from sklearn.tree import DecisionTreeClassifier\n",
    "from sklearn.model_selection import train_test_split\n",
    "from sklearn.metrics import matthews_corrcoef\n",
    "from sklearn.metrics import mean_squared_error\n",
    "from sklearn.metrics import f1_score\n",
    "from sklearn.metrics import roc_auc_score"
   ]
  },
  {
   "cell_type": "code",
   "execution_count": 4,
   "id": "9bec1107",
   "metadata": {},
   "outputs": [],
   "source": [
    "import matplotlib.pyplot as plt\n",
    "from sklearn.metrics import ConfusionMatrixDisplay"
   ]
  },
  {
   "cell_type": "code",
   "execution_count": 5,
   "id": "e1268fed",
   "metadata": {},
   "outputs": [],
   "source": [
    "#Desabilitando warning\n",
    "pd.set_option('mode.chained_assignment',None)"
   ]
  },
  {
   "cell_type": "markdown",
   "id": "4150f469",
   "metadata": {},
   "source": [
    "### Carregando os dados"
   ]
  },
  {
   "cell_type": "code",
   "execution_count": 6,
   "id": "92e658f8",
   "metadata": {},
   "outputs": [],
   "source": [
    "#Lendo os dados\n",
    "matriculas = pd.read_csv(\"data/out.csv\")"
   ]
  },
  {
   "cell_type": "code",
   "execution_count": 7,
   "id": "37d1116a",
   "metadata": {},
   "outputs": [
    {
     "data": {
      "text/plain": [
       "(110713, 31)"
      ]
     },
     "execution_count": 7,
     "metadata": {},
     "output_type": "execute_result"
    }
   ],
   "source": [
    "matriculas.shape"
   ]
  },
  {
   "cell_type": "code",
   "execution_count": 8,
   "id": "1bc404b0",
   "metadata": {},
   "outputs": [],
   "source": [
    "y = matriculas[['categoria_situacao']]"
   ]
  },
  {
   "cell_type": "code",
   "execution_count": 9,
   "id": "753eb5ae",
   "metadata": {},
   "outputs": [],
   "source": [
    "x = matriculas[[\n",
    "    'idade',\n",
    "    'mes_ocorrencia',\n",
    "    'data_matricula',\n",
    "    'carga_horaria',\n",
    "    'fim_ciclo',\n",
    "    'renda_familiar',\n",
    "    'faixa_etaria',\n",
    "    'total_inscritos',\n",
    "    'inicio_ciclo',\n",
    "    'cor_raca',\n",
    "    'vagas_ofertadas',\n",
    "    'codigo_municipio_dv',\n",
    "    'codigo_unidade_ensino_sistec',\n",
    "    'municipio',\n",
    "    'unidade_ensino'\n",
    "    \n",
    "]]"
   ]
  },
  {
   "cell_type": "markdown",
   "id": "45ee581c",
   "metadata": {},
   "source": [
    "### Nomes dos campos"
   ]
  },
  {
   "cell_type": "code",
   "execution_count": 10,
   "id": "de87034b",
   "metadata": {},
   "outputs": [],
   "source": [
    "nomes = list(x.columns.values)"
   ]
  },
  {
   "cell_type": "markdown",
   "id": "62bddca6",
   "metadata": {},
   "source": [
    "### Convertendo variáveis categóricas em numéricas"
   ]
  },
  {
   "cell_type": "code",
   "execution_count": 11,
   "id": "d06a80f0",
   "metadata": {
    "scrolled": true
   },
   "outputs": [],
   "source": [
    "le = LabelEncoder()\n",
    "for n in nomes: \n",
    "    x[n] = le.fit_transform(x[n])"
   ]
  },
  {
   "cell_type": "code",
   "execution_count": 12,
   "id": "1acf9ae3",
   "metadata": {},
   "outputs": [],
   "source": [
    "y['categoria_situacao'] = le.fit_transform(y['categoria_situacao'])"
   ]
  },
  {
   "cell_type": "markdown",
   "id": "6e0fc29e",
   "metadata": {},
   "source": [
    "### Dimensionando campos com MinMaxScaler"
   ]
  },
  {
   "cell_type": "code",
   "execution_count": 13,
   "id": "9c2141a6",
   "metadata": {},
   "outputs": [],
   "source": [
    "min_max_scaler = MinMaxScaler()\n",
    "for n in nomes:\n",
    "    x[[n]] = min_max_scaler.fit_transform(x[[n]])"
   ]
  },
  {
   "cell_type": "code",
   "execution_count": 14,
   "id": "386ebd49",
   "metadata": {
    "scrolled": true
   },
   "outputs": [
    {
     "data": {
      "text/html": [
       "<div>\n",
       "<style scoped>\n",
       "    .dataframe tbody tr th:only-of-type {\n",
       "        vertical-align: middle;\n",
       "    }\n",
       "\n",
       "    .dataframe tbody tr th {\n",
       "        vertical-align: top;\n",
       "    }\n",
       "\n",
       "    .dataframe thead th {\n",
       "        text-align: right;\n",
       "    }\n",
       "</style>\n",
       "<table border=\"1\" class=\"dataframe\">\n",
       "  <thead>\n",
       "    <tr style=\"text-align: right;\">\n",
       "      <th></th>\n",
       "      <th>idade</th>\n",
       "      <th>mes_ocorrencia</th>\n",
       "      <th>data_matricula</th>\n",
       "      <th>carga_horaria</th>\n",
       "      <th>fim_ciclo</th>\n",
       "      <th>renda_familiar</th>\n",
       "      <th>faixa_etaria</th>\n",
       "      <th>total_inscritos</th>\n",
       "      <th>inicio_ciclo</th>\n",
       "      <th>cor_raca</th>\n",
       "      <th>vagas_ofertadas</th>\n",
       "      <th>codigo_municipio_dv</th>\n",
       "      <th>codigo_unidade_ensino_sistec</th>\n",
       "      <th>municipio</th>\n",
       "      <th>unidade_ensino</th>\n",
       "    </tr>\n",
       "  </thead>\n",
       "  <tbody>\n",
       "    <tr>\n",
       "      <th>0</th>\n",
       "      <td>0.215385</td>\n",
       "      <td>0.029499</td>\n",
       "      <td>0.307692</td>\n",
       "      <td>0.160779</td>\n",
       "      <td>0.775136</td>\n",
       "      <td>0.833333</td>\n",
       "      <td>0.2</td>\n",
       "      <td>0.903226</td>\n",
       "      <td>0.919473</td>\n",
       "      <td>1.0</td>\n",
       "      <td>0.191257</td>\n",
       "      <td>0.224176</td>\n",
       "      <td>0.395112</td>\n",
       "      <td>0.827051</td>\n",
       "      <td>0.791837</td>\n",
       "    </tr>\n",
       "    <tr>\n",
       "      <th>1</th>\n",
       "      <td>0.246154</td>\n",
       "      <td>0.023599</td>\n",
       "      <td>0.192308</td>\n",
       "      <td>0.053353</td>\n",
       "      <td>0.451213</td>\n",
       "      <td>0.166667</td>\n",
       "      <td>0.2</td>\n",
       "      <td>0.018174</td>\n",
       "      <td>0.549780</td>\n",
       "      <td>1.0</td>\n",
       "      <td>0.218579</td>\n",
       "      <td>0.417582</td>\n",
       "      <td>0.221996</td>\n",
       "      <td>0.946785</td>\n",
       "      <td>0.910204</td>\n",
       "    </tr>\n",
       "    <tr>\n",
       "      <th>2</th>\n",
       "      <td>0.200000</td>\n",
       "      <td>0.023599</td>\n",
       "      <td>0.192308</td>\n",
       "      <td>0.053353</td>\n",
       "      <td>0.451213</td>\n",
       "      <td>0.166667</td>\n",
       "      <td>0.2</td>\n",
       "      <td>0.018174</td>\n",
       "      <td>0.549780</td>\n",
       "      <td>1.0</td>\n",
       "      <td>0.218579</td>\n",
       "      <td>0.417582</td>\n",
       "      <td>0.221996</td>\n",
       "      <td>0.946785</td>\n",
       "      <td>0.910204</td>\n",
       "    </tr>\n",
       "    <tr>\n",
       "      <th>3</th>\n",
       "      <td>0.538462</td>\n",
       "      <td>0.064897</td>\n",
       "      <td>0.224852</td>\n",
       "      <td>0.649603</td>\n",
       "      <td>0.956909</td>\n",
       "      <td>0.333333</td>\n",
       "      <td>0.6</td>\n",
       "      <td>0.019537</td>\n",
       "      <td>0.963397</td>\n",
       "      <td>1.0</td>\n",
       "      <td>0.273224</td>\n",
       "      <td>0.076923</td>\n",
       "      <td>0.617108</td>\n",
       "      <td>0.518847</td>\n",
       "      <td>0.502041</td>\n",
       "    </tr>\n",
       "    <tr>\n",
       "      <th>4</th>\n",
       "      <td>0.430769</td>\n",
       "      <td>0.064897</td>\n",
       "      <td>0.224852</td>\n",
       "      <td>0.649603</td>\n",
       "      <td>0.956909</td>\n",
       "      <td>0.333333</td>\n",
       "      <td>0.5</td>\n",
       "      <td>0.019537</td>\n",
       "      <td>0.963397</td>\n",
       "      <td>1.0</td>\n",
       "      <td>0.273224</td>\n",
       "      <td>0.076923</td>\n",
       "      <td>0.617108</td>\n",
       "      <td>0.518847</td>\n",
       "      <td>0.502041</td>\n",
       "    </tr>\n",
       "    <tr>\n",
       "      <th>...</th>\n",
       "      <td>...</td>\n",
       "      <td>...</td>\n",
       "      <td>...</td>\n",
       "      <td>...</td>\n",
       "      <td>...</td>\n",
       "      <td>...</td>\n",
       "      <td>...</td>\n",
       "      <td>...</td>\n",
       "      <td>...</td>\n",
       "      <td>...</td>\n",
       "      <td>...</td>\n",
       "      <td>...</td>\n",
       "      <td>...</td>\n",
       "      <td>...</td>\n",
       "      <td>...</td>\n",
       "    </tr>\n",
       "    <tr>\n",
       "      <th>110708</th>\n",
       "      <td>0.092308</td>\n",
       "      <td>0.056047</td>\n",
       "      <td>0.165680</td>\n",
       "      <td>0.660418</td>\n",
       "      <td>0.990589</td>\n",
       "      <td>0.000000</td>\n",
       "      <td>0.0</td>\n",
       "      <td>0.226261</td>\n",
       "      <td>0.729868</td>\n",
       "      <td>0.8</td>\n",
       "      <td>0.191257</td>\n",
       "      <td>0.184615</td>\n",
       "      <td>0.757637</td>\n",
       "      <td>0.172949</td>\n",
       "      <td>0.189796</td>\n",
       "    </tr>\n",
       "    <tr>\n",
       "      <th>110709</th>\n",
       "      <td>0.107692</td>\n",
       "      <td>0.038348</td>\n",
       "      <td>0.165680</td>\n",
       "      <td>0.660418</td>\n",
       "      <td>0.990589</td>\n",
       "      <td>0.833333</td>\n",
       "      <td>0.0</td>\n",
       "      <td>0.226261</td>\n",
       "      <td>0.729868</td>\n",
       "      <td>0.8</td>\n",
       "      <td>0.191257</td>\n",
       "      <td>0.184615</td>\n",
       "      <td>0.757637</td>\n",
       "      <td>0.172949</td>\n",
       "      <td>0.189796</td>\n",
       "    </tr>\n",
       "    <tr>\n",
       "      <th>110710</th>\n",
       "      <td>0.138462</td>\n",
       "      <td>0.020649</td>\n",
       "      <td>0.165680</td>\n",
       "      <td>0.196828</td>\n",
       "      <td>0.942051</td>\n",
       "      <td>0.833333</td>\n",
       "      <td>0.1</td>\n",
       "      <td>0.081781</td>\n",
       "      <td>0.729868</td>\n",
       "      <td>0.8</td>\n",
       "      <td>0.224044</td>\n",
       "      <td>0.230769</td>\n",
       "      <td>0.763747</td>\n",
       "      <td>0.924612</td>\n",
       "      <td>0.889796</td>\n",
       "    </tr>\n",
       "    <tr>\n",
       "      <th>110711</th>\n",
       "      <td>0.123077</td>\n",
       "      <td>0.044248</td>\n",
       "      <td>0.165680</td>\n",
       "      <td>0.196828</td>\n",
       "      <td>0.942051</td>\n",
       "      <td>0.333333</td>\n",
       "      <td>0.1</td>\n",
       "      <td>0.081781</td>\n",
       "      <td>0.729868</td>\n",
       "      <td>0.8</td>\n",
       "      <td>0.224044</td>\n",
       "      <td>0.230769</td>\n",
       "      <td>0.763747</td>\n",
       "      <td>0.924612</td>\n",
       "      <td>0.889796</td>\n",
       "    </tr>\n",
       "    <tr>\n",
       "      <th>110712</th>\n",
       "      <td>0.107692</td>\n",
       "      <td>0.020649</td>\n",
       "      <td>0.165680</td>\n",
       "      <td>0.196828</td>\n",
       "      <td>0.942051</td>\n",
       "      <td>0.833333</td>\n",
       "      <td>0.0</td>\n",
       "      <td>0.081781</td>\n",
       "      <td>0.729868</td>\n",
       "      <td>0.8</td>\n",
       "      <td>0.224044</td>\n",
       "      <td>0.230769</td>\n",
       "      <td>0.763747</td>\n",
       "      <td>0.924612</td>\n",
       "      <td>0.889796</td>\n",
       "    </tr>\n",
       "  </tbody>\n",
       "</table>\n",
       "<p>110713 rows × 15 columns</p>\n",
       "</div>"
      ],
      "text/plain": [
       "           idade  mes_ocorrencia  data_matricula  carga_horaria  fim_ciclo  \\\n",
       "0       0.215385        0.029499        0.307692       0.160779   0.775136   \n",
       "1       0.246154        0.023599        0.192308       0.053353   0.451213   \n",
       "2       0.200000        0.023599        0.192308       0.053353   0.451213   \n",
       "3       0.538462        0.064897        0.224852       0.649603   0.956909   \n",
       "4       0.430769        0.064897        0.224852       0.649603   0.956909   \n",
       "...          ...             ...             ...            ...        ...   \n",
       "110708  0.092308        0.056047        0.165680       0.660418   0.990589   \n",
       "110709  0.107692        0.038348        0.165680       0.660418   0.990589   \n",
       "110710  0.138462        0.020649        0.165680       0.196828   0.942051   \n",
       "110711  0.123077        0.044248        0.165680       0.196828   0.942051   \n",
       "110712  0.107692        0.020649        0.165680       0.196828   0.942051   \n",
       "\n",
       "        renda_familiar  faixa_etaria  total_inscritos  inicio_ciclo  cor_raca  \\\n",
       "0             0.833333           0.2         0.903226      0.919473       1.0   \n",
       "1             0.166667           0.2         0.018174      0.549780       1.0   \n",
       "2             0.166667           0.2         0.018174      0.549780       1.0   \n",
       "3             0.333333           0.6         0.019537      0.963397       1.0   \n",
       "4             0.333333           0.5         0.019537      0.963397       1.0   \n",
       "...                ...           ...              ...           ...       ...   \n",
       "110708        0.000000           0.0         0.226261      0.729868       0.8   \n",
       "110709        0.833333           0.0         0.226261      0.729868       0.8   \n",
       "110710        0.833333           0.1         0.081781      0.729868       0.8   \n",
       "110711        0.333333           0.1         0.081781      0.729868       0.8   \n",
       "110712        0.833333           0.0         0.081781      0.729868       0.8   \n",
       "\n",
       "        vagas_ofertadas  codigo_municipio_dv  codigo_unidade_ensino_sistec  \\\n",
       "0              0.191257             0.224176                      0.395112   \n",
       "1              0.218579             0.417582                      0.221996   \n",
       "2              0.218579             0.417582                      0.221996   \n",
       "3              0.273224             0.076923                      0.617108   \n",
       "4              0.273224             0.076923                      0.617108   \n",
       "...                 ...                  ...                           ...   \n",
       "110708         0.191257             0.184615                      0.757637   \n",
       "110709         0.191257             0.184615                      0.757637   \n",
       "110710         0.224044             0.230769                      0.763747   \n",
       "110711         0.224044             0.230769                      0.763747   \n",
       "110712         0.224044             0.230769                      0.763747   \n",
       "\n",
       "        municipio  unidade_ensino  \n",
       "0        0.827051        0.791837  \n",
       "1        0.946785        0.910204  \n",
       "2        0.946785        0.910204  \n",
       "3        0.518847        0.502041  \n",
       "4        0.518847        0.502041  \n",
       "...           ...             ...  \n",
       "110708   0.172949        0.189796  \n",
       "110709   0.172949        0.189796  \n",
       "110710   0.924612        0.889796  \n",
       "110711   0.924612        0.889796  \n",
       "110712   0.924612        0.889796  \n",
       "\n",
       "[110713 rows x 15 columns]"
      ]
     },
     "execution_count": 14,
     "metadata": {},
     "output_type": "execute_result"
    }
   ],
   "source": [
    "x"
   ]
  },
  {
   "cell_type": "markdown",
   "id": "2e672d1d",
   "metadata": {},
   "source": [
    "### Treinamento"
   ]
  },
  {
   "cell_type": "code",
   "execution_count": 15,
   "id": "f225ef5d",
   "metadata": {},
   "outputs": [],
   "source": [
    "x_treino, x_teste, y_treino, y_teste = train_test_split(x,y,test_size=0.20, random_state=42)\n",
    "arvore = DecisionTreeClassifier(random_state=42)\n",
    "arvore.fit(x_treino, y_treino.values.ravel())\n",
    "#Realizando a predição\n",
    "resultado = arvore.predict(x_teste)"
   ]
  },
  {
   "cell_type": "markdown",
   "id": "dc3da0c6",
   "metadata": {},
   "source": [
    "### Métricas"
   ]
  },
  {
   "cell_type": "code",
   "execution_count": 16,
   "id": "b549b1f8",
   "metadata": {},
   "outputs": [],
   "source": [
    "# Imports\n",
    "from sklearn.metrics import accuracy_score\n",
    "from sklearn.metrics import precision_score\n",
    "from sklearn.metrics import recall_score\n",
    "from sklearn.metrics import roc_auc_score\n",
    "from sklearn.metrics import f1_score\n",
    "\n",
    "metricas = ['accuracy','precision','recall','roc_auc','f1']"
   ]
  },
  {
   "cell_type": "code",
   "execution_count": 17,
   "id": "57f3ceaf",
   "metadata": {},
   "outputs": [
    {
     "name": "stdout",
     "output_type": "stream",
     "text": [
      "holdout accuracy:  0.850697737433952\n",
      "holdout precision:  0.8928430469675043\n",
      "holdout recall:  0.8900327868852459\n",
      "holdout roc_auc:  0.8268530393152473\n",
      "holdout f1:  0.8914357020885328\n"
     ]
    }
   ],
   "source": [
    "#Holdout\n",
    "metrica_holdout = {}\n",
    "metrica_holdout['accuracy'] = accuracy_score(y_teste,resultado)\n",
    "metrica_holdout['precision'] = precision_score(y_teste,resultado)\n",
    "metrica_holdout['recall'] = recall_score(y_teste,resultado)\n",
    "metrica_holdout['roc_auc'] = roc_auc_score(y_teste,resultado)\n",
    "metrica_holdout['f1'] = f1_score(y_teste,resultado)\n",
    "\n",
    "for metrica in metricas:    \n",
    "    print('holdout ' + metrica+ ': ', np.mean(metrica_holdout[metrica]))"
   ]
  },
  {
   "cell_type": "code",
   "execution_count": 18,
   "id": "c337a519",
   "metadata": {},
   "outputs": [
    {
     "name": "stdout",
     "output_type": "stream",
     "text": [
      "cross accuracy:  0.7365611700725168\n",
      "cross precision:  0.8013820783544325\n",
      "cross recall:  0.82430133757153\n",
      "cross roc_auc:  0.6823386961630779\n",
      "cross f1:  0.8109015569016051\n"
     ]
    }
   ],
   "source": [
    "#Cros validation\n",
    "from sklearn.model_selection import cross_val_score\n",
    "metrica_cross = {}\n",
    "\n",
    "for metrica in metricas:\n",
    "    metrica_cross[metrica] = cross_val_score(arvore, x, y.values.ravel(), cv=10, n_jobs=-1, scoring=metrica)\n",
    "    print('cross ' + metrica+ ': ', np.mean(metrica_cross[metrica]))\n"
   ]
  },
  {
   "cell_type": "code",
   "execution_count": 19,
   "id": "5e23ba6f",
   "metadata": {},
   "outputs": [
    {
     "data": {
      "text/plain": [
       "0.14930226256604795"
      ]
     },
     "execution_count": 19,
     "metadata": {},
     "output_type": "execute_result"
    }
   ],
   "source": [
    "mean_squared_error(y_teste,resultado)"
   ]
  },
  {
   "cell_type": "code",
   "execution_count": 20,
   "id": "ddfcf9eb",
   "metadata": {},
   "outputs": [
    {
     "data": {
      "text/plain": [
       "0.850697737433952"
      ]
     },
     "execution_count": 20,
     "metadata": {},
     "output_type": "execute_result"
    }
   ],
   "source": [
    "arvore.score(x_teste,y_teste)"
   ]
  },
  {
   "cell_type": "code",
   "execution_count": 21,
   "id": "0990a074",
   "metadata": {},
   "outputs": [
    {
     "name": "stdout",
     "output_type": "stream",
     "text": [
      "0.8508390864511143\n"
     ]
    }
   ],
   "source": [
    "#F1 Score\n",
    "score = f1_score(y_teste, resultado,average='weighted')\n",
    "print(score)"
   ]
  },
  {
   "cell_type": "code",
   "execution_count": 22,
   "id": "515cbc5c",
   "metadata": {},
   "outputs": [
    {
     "data": {
      "text/plain": [
       "0.6524694744241694"
      ]
     },
     "execution_count": 22,
     "metadata": {},
     "output_type": "execute_result"
    }
   ],
   "source": [
    "#MCC\n",
    "matthews_corrcoef(y_teste, resultado)"
   ]
  },
  {
   "cell_type": "markdown",
   "id": "720000c7",
   "metadata": {},
   "source": [
    "### Matriz de confusão"
   ]
  },
  {
   "cell_type": "code",
   "execution_count": 23,
   "id": "4f154557",
   "metadata": {},
   "outputs": [
    {
     "data": {
      "image/png": "[encoded data removed]",
      "text/plain": [
       "<Figure size 432x288 with 2 Axes>"
      ]
     },
     "metadata": {
      "needs_background": "light"
     },
     "output_type": "display_data"
    }
   ],
   "source": [
    "ConfusionMatrixDisplay.from_predictions(y_teste, resultado)\n",
    "plt.show()"
   ]
  },
  {
   "cell_type": "code",
   "execution_count": 24,
   "id": "759622d3",
   "metadata": {},
   "outputs": [],
   "source": [
    "from sklearn.metrics import roc_curve\n",
    "from sklearn.metrics import RocCurveDisplay"
   ]
  },
  {
   "cell_type": "code",
   "execution_count": 25,
   "id": "a817a5fc",
   "metadata": {
    "scrolled": true
   },
   "outputs": [
    {
     "data": {
      "image/png": "[encoded data removed]",
      "text/plain": [
       "<Figure size 432x288 with 1 Axes>"
      ]
     },
     "metadata": {
      "needs_background": "light"
     },
     "output_type": "display_data"
    }
   ],
   "source": [
    "fpr, tpr, _ = roc_curve(y_teste, resultado)\n",
    "roc_display = RocCurveDisplay(fpr=fpr, tpr=tpr).plot()"
   ]
  },
  {
   "cell_type": "code",
   "execution_count": 26,
   "id": "56cd7133",
   "metadata": {
    "scrolled": true
   },
   "outputs": [
    {
     "data": {
      "text/plain": [
       "0.8268530393152473"
      ]
     },
     "execution_count": 26,
     "metadata": {},
     "output_type": "execute_result"
    }
   ],
   "source": [
    "roc_auc_score(y_teste, resultado)"
   ]
  }
 ],
 "metadata": {
  "kernelspec": {
   "display_name": "Python 3 (ipykernel)",
   "language": "python",
   "name": "python3"
  },
  "language_info": {
   "codemirror_mode": {
    "name": "ipython",
    "version": 3
   },
   "file_extension": ".py",
   "mimetype": "text/x-python",
   "name": "python",
   "nbconvert_exporter": "python",
   "pygments_lexer": "ipython3",
   "version": "3.9.10"
  }
 },
 "nbformat": 4,
 "nbformat_minor": 5
}
