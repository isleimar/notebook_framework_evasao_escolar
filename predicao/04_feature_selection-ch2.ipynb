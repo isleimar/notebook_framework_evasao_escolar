{
 "cells": [
  {
   "cell_type": "markdown",
   "id": "595e20e3",
   "metadata": {},
   "source": [
    "# Análise features usando Qui-Quadrado\n",
    "Analisando as features mais relevantes utilizando o algoritmos Qui-Quadrado"
   ]
  },
  {
   "cell_type": "code",
   "execution_count": 1,
   "id": "66497b6a",
   "metadata": {},
   "outputs": [],
   "source": [
    "import numpy as np\n",
    "import pandas as pd\n",
    "import matplotlib.pyplot as plt"
   ]
  },
  {
   "cell_type": "code",
   "execution_count": 2,
   "id": "ea561692",
   "metadata": {},
   "outputs": [],
   "source": [
    "from sklearn.feature_selection import SelectKBest\n",
    "from sklearn.feature_selection import chi2"
   ]
  },
  {
   "cell_type": "code",
   "execution_count": 3,
   "id": "1533d195",
   "metadata": {},
   "outputs": [],
   "source": [
    "from sklearn.preprocessing import LabelEncoder\n",
    "from sklearn.preprocessing import MinMaxScaler"
   ]
  },
  {
   "cell_type": "code",
   "execution_count": 4,
   "id": "0cff2523",
   "metadata": {},
   "outputs": [],
   "source": [
    "#Desabilitando warning\n",
    "pd.set_option('mode.chained_assignment',None)"
   ]
  },
  {
   "cell_type": "markdown",
   "id": "f1739be1",
   "metadata": {},
   "source": [
    "### Importando dados"
   ]
  },
  {
   "cell_type": "code",
   "execution_count": 5,
   "id": "7dafff0a",
   "metadata": {},
   "outputs": [],
   "source": [
    "matriculas = pd.read_csv(\"data/out.csv\")"
   ]
  },
  {
   "cell_type": "code",
   "execution_count": 6,
   "id": "341976c8",
   "metadata": {},
   "outputs": [
    {
     "data": {
      "text/plain": [
       "(110713, 31)"
      ]
     },
     "execution_count": 6,
     "metadata": {},
     "output_type": "execute_result"
    }
   ],
   "source": [
    "matriculas.shape"
   ]
  },
  {
   "cell_type": "code",
   "execution_count": 7,
   "id": "ad745dcc",
   "metadata": {},
   "outputs": [],
   "source": [
    "y = matriculas[['categoria_situacao']]"
   ]
  },
  {
   "cell_type": "code",
   "execution_count": 8,
   "id": "5f483d3f",
   "metadata": {},
   "outputs": [],
   "source": [
    "x = matriculas.iloc[:,range(1, len(matriculas.columns))]"
   ]
  },
  {
   "cell_type": "markdown",
   "id": "90567167",
   "metadata": {},
   "source": [
    "### Nomes dos campos"
   ]
  },
  {
   "cell_type": "code",
   "execution_count": 9,
   "id": "da7220a4",
   "metadata": {},
   "outputs": [],
   "source": [
    "nomes = list(x.columns.values)"
   ]
  },
  {
   "cell_type": "markdown",
   "id": "de64c676",
   "metadata": {},
   "source": [
    "### Convertendo em vareáveis numéricas"
   ]
  },
  {
   "cell_type": "code",
   "execution_count": 10,
   "id": "01e50419",
   "metadata": {
    "scrolled": true
   },
   "outputs": [],
   "source": [
    "le = LabelEncoder()\n",
    "for n in nomes:\n",
    "    x[n] = le.fit_transform(x[n])"
   ]
  },
  {
   "cell_type": "markdown",
   "id": "359f5eb8",
   "metadata": {},
   "source": [
    "### Dimensionando campos com MinMaxScaler"
   ]
  },
  {
   "cell_type": "code",
   "execution_count": 11,
   "id": "bd83f56a",
   "metadata": {},
   "outputs": [],
   "source": [
    "min_max_scaler = MinMaxScaler()\n",
    "for n in nomes:\n",
    "    x[[n]] = min_max_scaler.fit_transform(x[[n]])"
   ]
  },
  {
   "cell_type": "code",
   "execution_count": 12,
   "id": "2b876e36",
   "metadata": {},
   "outputs": [
    {
     "data": {
      "text/html": [
       "<div>\n",
       "<style scoped>\n",
       "    .dataframe tbody tr th:only-of-type {\n",
       "        vertical-align: middle;\n",
       "    }\n",
       "\n",
       "    .dataframe tbody tr th {\n",
       "        vertical-align: top;\n",
       "    }\n",
       "\n",
       "    .dataframe thead th {\n",
       "        text-align: right;\n",
       "    }\n",
       "</style>\n",
       "<table border=\"1\" class=\"dataframe\">\n",
       "  <thead>\n",
       "    <tr style=\"text-align: right;\">\n",
       "      <th></th>\n",
       "      <th>ano</th>\n",
       "      <th>carga_horaria</th>\n",
       "      <th>carga_minima</th>\n",
       "      <th>cor_raca</th>\n",
       "      <th>fim_ciclo</th>\n",
       "      <th>inicio_ciclo</th>\n",
       "      <th>data_matricula</th>\n",
       "      <th>eixo_tecnologico</th>\n",
       "      <th>fator_esforco_curso</th>\n",
       "      <th>mes_ocorrencia</th>\n",
       "      <th>...</th>\n",
       "      <th>turno</th>\n",
       "      <th>codigo_unidade_ensino_sistec</th>\n",
       "      <th>vagas_ofertadas</th>\n",
       "      <th>idade</th>\n",
       "      <th>faixa_etaria</th>\n",
       "      <th>unidade_ensino</th>\n",
       "      <th>codigo_municipio_dv</th>\n",
       "      <th>municipio</th>\n",
       "      <th>uf</th>\n",
       "      <th>regiao</th>\n",
       "    </tr>\n",
       "  </thead>\n",
       "  <tbody>\n",
       "    <tr>\n",
       "      <th>0</th>\n",
       "      <td>0.0</td>\n",
       "      <td>0.160779</td>\n",
       "      <td>0.111111</td>\n",
       "      <td>1.0</td>\n",
       "      <td>0.775136</td>\n",
       "      <td>0.919473</td>\n",
       "      <td>0.307692</td>\n",
       "      <td>0.000000</td>\n",
       "      <td>0.00</td>\n",
       "      <td>0.029499</td>\n",
       "      <td>...</td>\n",
       "      <td>0.0</td>\n",
       "      <td>0.395112</td>\n",
       "      <td>0.191257</td>\n",
       "      <td>0.215385</td>\n",
       "      <td>0.2</td>\n",
       "      <td>0.791837</td>\n",
       "      <td>0.224176</td>\n",
       "      <td>0.827051</td>\n",
       "      <td>0.192308</td>\n",
       "      <td>0.25</td>\n",
       "    </tr>\n",
       "    <tr>\n",
       "      <th>1</th>\n",
       "      <td>0.0</td>\n",
       "      <td>0.053353</td>\n",
       "      <td>0.111111</td>\n",
       "      <td>1.0</td>\n",
       "      <td>0.451213</td>\n",
       "      <td>0.549780</td>\n",
       "      <td>0.192308</td>\n",
       "      <td>1.000000</td>\n",
       "      <td>0.05</td>\n",
       "      <td>0.023599</td>\n",
       "      <td>...</td>\n",
       "      <td>0.0</td>\n",
       "      <td>0.221996</td>\n",
       "      <td>0.218579</td>\n",
       "      <td>0.246154</td>\n",
       "      <td>0.2</td>\n",
       "      <td>0.910204</td>\n",
       "      <td>0.417582</td>\n",
       "      <td>0.946785</td>\n",
       "      <td>0.153846</td>\n",
       "      <td>0.25</td>\n",
       "    </tr>\n",
       "    <tr>\n",
       "      <th>2</th>\n",
       "      <td>0.0</td>\n",
       "      <td>0.053353</td>\n",
       "      <td>0.111111</td>\n",
       "      <td>1.0</td>\n",
       "      <td>0.451213</td>\n",
       "      <td>0.549780</td>\n",
       "      <td>0.192308</td>\n",
       "      <td>1.000000</td>\n",
       "      <td>0.05</td>\n",
       "      <td>0.023599</td>\n",
       "      <td>...</td>\n",
       "      <td>0.0</td>\n",
       "      <td>0.221996</td>\n",
       "      <td>0.218579</td>\n",
       "      <td>0.200000</td>\n",
       "      <td>0.2</td>\n",
       "      <td>0.910204</td>\n",
       "      <td>0.417582</td>\n",
       "      <td>0.946785</td>\n",
       "      <td>0.153846</td>\n",
       "      <td>0.25</td>\n",
       "    </tr>\n",
       "    <tr>\n",
       "      <th>3</th>\n",
       "      <td>0.0</td>\n",
       "      <td>0.649603</td>\n",
       "      <td>0.333333</td>\n",
       "      <td>1.0</td>\n",
       "      <td>0.956909</td>\n",
       "      <td>0.963397</td>\n",
       "      <td>0.224852</td>\n",
       "      <td>0.181818</td>\n",
       "      <td>0.20</td>\n",
       "      <td>0.064897</td>\n",
       "      <td>...</td>\n",
       "      <td>0.0</td>\n",
       "      <td>0.617108</td>\n",
       "      <td>0.273224</td>\n",
       "      <td>0.538462</td>\n",
       "      <td>0.6</td>\n",
       "      <td>0.502041</td>\n",
       "      <td>0.076923</td>\n",
       "      <td>0.518847</td>\n",
       "      <td>0.115385</td>\n",
       "      <td>0.50</td>\n",
       "    </tr>\n",
       "    <tr>\n",
       "      <th>4</th>\n",
       "      <td>0.0</td>\n",
       "      <td>0.649603</td>\n",
       "      <td>0.333333</td>\n",
       "      <td>1.0</td>\n",
       "      <td>0.956909</td>\n",
       "      <td>0.963397</td>\n",
       "      <td>0.224852</td>\n",
       "      <td>0.181818</td>\n",
       "      <td>0.20</td>\n",
       "      <td>0.064897</td>\n",
       "      <td>...</td>\n",
       "      <td>0.0</td>\n",
       "      <td>0.617108</td>\n",
       "      <td>0.273224</td>\n",
       "      <td>0.430769</td>\n",
       "      <td>0.5</td>\n",
       "      <td>0.502041</td>\n",
       "      <td>0.076923</td>\n",
       "      <td>0.518847</td>\n",
       "      <td>0.115385</td>\n",
       "      <td>0.50</td>\n",
       "    </tr>\n",
       "    <tr>\n",
       "      <th>...</th>\n",
       "      <td>...</td>\n",
       "      <td>...</td>\n",
       "      <td>...</td>\n",
       "      <td>...</td>\n",
       "      <td>...</td>\n",
       "      <td>...</td>\n",
       "      <td>...</td>\n",
       "      <td>...</td>\n",
       "      <td>...</td>\n",
       "      <td>...</td>\n",
       "      <td>...</td>\n",
       "      <td>...</td>\n",
       "      <td>...</td>\n",
       "      <td>...</td>\n",
       "      <td>...</td>\n",
       "      <td>...</td>\n",
       "      <td>...</td>\n",
       "      <td>...</td>\n",
       "      <td>...</td>\n",
       "      <td>...</td>\n",
       "      <td>...</td>\n",
       "    </tr>\n",
       "    <tr>\n",
       "      <th>110708</th>\n",
       "      <td>1.0</td>\n",
       "      <td>0.660418</td>\n",
       "      <td>0.333333</td>\n",
       "      <td>0.8</td>\n",
       "      <td>0.990589</td>\n",
       "      <td>0.729868</td>\n",
       "      <td>0.165680</td>\n",
       "      <td>0.181818</td>\n",
       "      <td>0.30</td>\n",
       "      <td>0.056047</td>\n",
       "      <td>...</td>\n",
       "      <td>0.5</td>\n",
       "      <td>0.757637</td>\n",
       "      <td>0.191257</td>\n",
       "      <td>0.092308</td>\n",
       "      <td>0.0</td>\n",
       "      <td>0.189796</td>\n",
       "      <td>0.184615</td>\n",
       "      <td>0.172949</td>\n",
       "      <td>0.192308</td>\n",
       "      <td>0.25</td>\n",
       "    </tr>\n",
       "    <tr>\n",
       "      <th>110709</th>\n",
       "      <td>1.0</td>\n",
       "      <td>0.660418</td>\n",
       "      <td>0.333333</td>\n",
       "      <td>0.8</td>\n",
       "      <td>0.990589</td>\n",
       "      <td>0.729868</td>\n",
       "      <td>0.165680</td>\n",
       "      <td>0.181818</td>\n",
       "      <td>0.30</td>\n",
       "      <td>0.038348</td>\n",
       "      <td>...</td>\n",
       "      <td>0.5</td>\n",
       "      <td>0.757637</td>\n",
       "      <td>0.191257</td>\n",
       "      <td>0.107692</td>\n",
       "      <td>0.0</td>\n",
       "      <td>0.189796</td>\n",
       "      <td>0.184615</td>\n",
       "      <td>0.172949</td>\n",
       "      <td>0.192308</td>\n",
       "      <td>0.25</td>\n",
       "    </tr>\n",
       "    <tr>\n",
       "      <th>110710</th>\n",
       "      <td>1.0</td>\n",
       "      <td>0.196828</td>\n",
       "      <td>0.111111</td>\n",
       "      <td>0.8</td>\n",
       "      <td>0.942051</td>\n",
       "      <td>0.729868</td>\n",
       "      <td>0.165680</td>\n",
       "      <td>1.000000</td>\n",
       "      <td>0.70</td>\n",
       "      <td>0.020649</td>\n",
       "      <td>...</td>\n",
       "      <td>0.0</td>\n",
       "      <td>0.763747</td>\n",
       "      <td>0.224044</td>\n",
       "      <td>0.138462</td>\n",
       "      <td>0.1</td>\n",
       "      <td>0.889796</td>\n",
       "      <td>0.230769</td>\n",
       "      <td>0.924612</td>\n",
       "      <td>0.192308</td>\n",
       "      <td>0.25</td>\n",
       "    </tr>\n",
       "    <tr>\n",
       "      <th>110711</th>\n",
       "      <td>1.0</td>\n",
       "      <td>0.196828</td>\n",
       "      <td>0.111111</td>\n",
       "      <td>0.8</td>\n",
       "      <td>0.942051</td>\n",
       "      <td>0.729868</td>\n",
       "      <td>0.165680</td>\n",
       "      <td>1.000000</td>\n",
       "      <td>0.70</td>\n",
       "      <td>0.044248</td>\n",
       "      <td>...</td>\n",
       "      <td>0.0</td>\n",
       "      <td>0.763747</td>\n",
       "      <td>0.224044</td>\n",
       "      <td>0.123077</td>\n",
       "      <td>0.1</td>\n",
       "      <td>0.889796</td>\n",
       "      <td>0.230769</td>\n",
       "      <td>0.924612</td>\n",
       "      <td>0.192308</td>\n",
       "      <td>0.25</td>\n",
       "    </tr>\n",
       "    <tr>\n",
       "      <th>110712</th>\n",
       "      <td>1.0</td>\n",
       "      <td>0.196828</td>\n",
       "      <td>0.111111</td>\n",
       "      <td>0.8</td>\n",
       "      <td>0.942051</td>\n",
       "      <td>0.729868</td>\n",
       "      <td>0.165680</td>\n",
       "      <td>1.000000</td>\n",
       "      <td>0.70</td>\n",
       "      <td>0.020649</td>\n",
       "      <td>...</td>\n",
       "      <td>0.0</td>\n",
       "      <td>0.763747</td>\n",
       "      <td>0.224044</td>\n",
       "      <td>0.107692</td>\n",
       "      <td>0.0</td>\n",
       "      <td>0.889796</td>\n",
       "      <td>0.230769</td>\n",
       "      <td>0.924612</td>\n",
       "      <td>0.192308</td>\n",
       "      <td>0.25</td>\n",
       "    </tr>\n",
       "  </tbody>\n",
       "</table>\n",
       "<p>110713 rows × 30 columns</p>\n",
       "</div>"
      ],
      "text/plain": [
       "        ano  carga_horaria  carga_minima  cor_raca  fim_ciclo  inicio_ciclo  \\\n",
       "0       0.0       0.160779      0.111111       1.0   0.775136      0.919473   \n",
       "1       0.0       0.053353      0.111111       1.0   0.451213      0.549780   \n",
       "2       0.0       0.053353      0.111111       1.0   0.451213      0.549780   \n",
       "3       0.0       0.649603      0.333333       1.0   0.956909      0.963397   \n",
       "4       0.0       0.649603      0.333333       1.0   0.956909      0.963397   \n",
       "...     ...            ...           ...       ...        ...           ...   \n",
       "110708  1.0       0.660418      0.333333       0.8   0.990589      0.729868   \n",
       "110709  1.0       0.660418      0.333333       0.8   0.990589      0.729868   \n",
       "110710  1.0       0.196828      0.111111       0.8   0.942051      0.729868   \n",
       "110711  1.0       0.196828      0.111111       0.8   0.942051      0.729868   \n",
       "110712  1.0       0.196828      0.111111       0.8   0.942051      0.729868   \n",
       "\n",
       "        data_matricula  eixo_tecnologico  fator_esforco_curso  mes_ocorrencia  \\\n",
       "0             0.307692          0.000000                 0.00        0.029499   \n",
       "1             0.192308          1.000000                 0.05        0.023599   \n",
       "2             0.192308          1.000000                 0.05        0.023599   \n",
       "3             0.224852          0.181818                 0.20        0.064897   \n",
       "4             0.224852          0.181818                 0.20        0.064897   \n",
       "...                ...               ...                  ...             ...   \n",
       "110708        0.165680          0.181818                 0.30        0.056047   \n",
       "110709        0.165680          0.181818                 0.30        0.038348   \n",
       "110710        0.165680          1.000000                 0.70        0.020649   \n",
       "110711        0.165680          1.000000                 0.70        0.044248   \n",
       "110712        0.165680          1.000000                 0.70        0.020649   \n",
       "\n",
       "        ...  turno  codigo_unidade_ensino_sistec  vagas_ofertadas     idade  \\\n",
       "0       ...    0.0                      0.395112         0.191257  0.215385   \n",
       "1       ...    0.0                      0.221996         0.218579  0.246154   \n",
       "2       ...    0.0                      0.221996         0.218579  0.200000   \n",
       "3       ...    0.0                      0.617108         0.273224  0.538462   \n",
       "4       ...    0.0                      0.617108         0.273224  0.430769   \n",
       "...     ...    ...                           ...              ...       ...   \n",
       "110708  ...    0.5                      0.757637         0.191257  0.092308   \n",
       "110709  ...    0.5                      0.757637         0.191257  0.107692   \n",
       "110710  ...    0.0                      0.763747         0.224044  0.138462   \n",
       "110711  ...    0.0                      0.763747         0.224044  0.123077   \n",
       "110712  ...    0.0                      0.763747         0.224044  0.107692   \n",
       "\n",
       "        faixa_etaria  unidade_ensino  codigo_municipio_dv  municipio  \\\n",
       "0                0.2        0.791837             0.224176   0.827051   \n",
       "1                0.2        0.910204             0.417582   0.946785   \n",
       "2                0.2        0.910204             0.417582   0.946785   \n",
       "3                0.6        0.502041             0.076923   0.518847   \n",
       "4                0.5        0.502041             0.076923   0.518847   \n",
       "...              ...             ...                  ...        ...   \n",
       "110708           0.0        0.189796             0.184615   0.172949   \n",
       "110709           0.0        0.189796             0.184615   0.172949   \n",
       "110710           0.1        0.889796             0.230769   0.924612   \n",
       "110711           0.1        0.889796             0.230769   0.924612   \n",
       "110712           0.0        0.889796             0.230769   0.924612   \n",
       "\n",
       "              uf  regiao  \n",
       "0       0.192308    0.25  \n",
       "1       0.153846    0.25  \n",
       "2       0.153846    0.25  \n",
       "3       0.115385    0.50  \n",
       "4       0.115385    0.50  \n",
       "...          ...     ...  \n",
       "110708  0.192308    0.25  \n",
       "110709  0.192308    0.25  \n",
       "110710  0.192308    0.25  \n",
       "110711  0.192308    0.25  \n",
       "110712  0.192308    0.25  \n",
       "\n",
       "[110713 rows x 30 columns]"
      ]
     },
     "execution_count": 12,
     "metadata": {},
     "output_type": "execute_result"
    }
   ],
   "source": [
    "x"
   ]
  },
  {
   "cell_type": "code",
   "execution_count": 13,
   "id": "24636a08",
   "metadata": {},
   "outputs": [],
   "source": [
    "testechi = SelectKBest(chi2,k=15)\n",
    "testechifeat = testechi.fit(x,y)"
   ]
  },
  {
   "cell_type": "code",
   "execution_count": 14,
   "id": "d96637bd",
   "metadata": {},
   "outputs": [
    {
     "data": {
      "text/plain": [
       "array([ 0,  1,  3,  7,  8,  9, 10, 11, 15, 19, 20, 21, 22, 23, 24])"
      ]
     },
     "execution_count": 14,
     "metadata": {},
     "output_type": "execute_result"
    }
   ],
   "source": [
    "testechifeat.get_support(indices=True)"
   ]
  },
  {
   "cell_type": "code",
   "execution_count": 15,
   "id": "dfa355ad",
   "metadata": {},
   "outputs": [],
   "source": [
    "features = testechifeat.transform(x)"
   ]
  },
  {
   "cell_type": "code",
   "execution_count": 16,
   "id": "e9fc473d",
   "metadata": {},
   "outputs": [
    {
     "name": "stdout",
     "output_type": "stream",
     "text": [
      "[[0.         0.16077866 1.         ... 0.19125683 0.21538462 0.2       ]\n",
      " [0.         0.05335256 1.         ... 0.21857923 0.24615385 0.2       ]\n",
      " [0.         0.05335256 1.         ... 0.21857923 0.2        0.2       ]\n",
      " ...\n",
      " [1.         0.19682769 0.8        ... 0.22404372 0.13846154 0.1       ]\n",
      " [1.         0.19682769 0.8        ... 0.22404372 0.12307692 0.1       ]\n",
      " [1.         0.19682769 0.8        ... 0.22404372 0.10769231 0.        ]]\n"
     ]
    }
   ],
   "source": [
    "print(features)"
   ]
  },
  {
   "cell_type": "code",
   "execution_count": 17,
   "id": "cc96a2d9",
   "metadata": {},
   "outputs": [
    {
     "data": {
      "text/plain": [
       "['ano',\n",
       " 'carga_horaria',\n",
       " 'cor_raca',\n",
       " 'eixo_tecnologico',\n",
       " 'fator_esforco_curso',\n",
       " 'mes_ocorrencia',\n",
       " 'modalidade_ensino',\n",
       " 'nome_curso',\n",
       " 'sexo',\n",
       " 'total_inscritos',\n",
       " 'turno',\n",
       " 'codigo_unidade_ensino_sistec',\n",
       " 'vagas_ofertadas',\n",
       " 'idade',\n",
       " 'faixa_etaria']"
      ]
     },
     "execution_count": 17,
     "metadata": {},
     "output_type": "execute_result"
    }
   ],
   "source": [
    "cols = testechifeat.get_support(indices=True)\n",
    "list(x.iloc[:,cols].columns)"
   ]
  }
 ],
 "metadata": {
  "kernelspec": {
   "display_name": "Python 3 (ipykernel)",
   "language": "python",
   "name": "python3"
  },
  "language_info": {
   "codemirror_mode": {
    "name": "ipython",
    "version": 3
   },
   "file_extension": ".py",
   "mimetype": "text/x-python",
   "name": "python",
   "nbconvert_exporter": "python",
   "pygments_lexer": "ipython3",
   "version": "3.9.10"
  }
 },
 "nbformat": 4,
 "nbformat_minor": 5
}
