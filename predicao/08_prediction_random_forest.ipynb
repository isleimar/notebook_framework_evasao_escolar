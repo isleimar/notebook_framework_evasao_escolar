{
 "cells": [
  {
   "cell_type": "markdown",
   "id": "0d544920",
   "metadata": {},
   "source": [
    "# Random Forest Prediction"
   ]
  },
  {
   "cell_type": "code",
   "execution_count": 1,
   "id": "8c14796c",
   "metadata": {},
   "outputs": [],
   "source": [
    "#Importando Dependências\n",
    "import numpy as np\n",
    "import pandas as pd"
   ]
  },
  {
   "cell_type": "code",
   "execution_count": 2,
   "id": "0ed374d2",
   "metadata": {},
   "outputs": [],
   "source": [
    "from sklearn.preprocessing import LabelEncoder\n",
    "from sklearn.preprocessing import MinMaxScaler"
   ]
  },
  {
   "cell_type": "code",
   "execution_count": 3,
   "id": "f65fb3b9",
   "metadata": {},
   "outputs": [],
   "source": [
    "from sklearn.ensemble import RandomForestClassifier\n",
    "from sklearn.model_selection import train_test_split\n",
    "from sklearn.metrics import matthews_corrcoef\n",
    "from sklearn.metrics import mean_squared_error\n",
    "from sklearn.metrics import f1_score\n",
    "from sklearn.metrics import roc_auc_score"
   ]
  },
  {
   "cell_type": "code",
   "execution_count": 4,
   "id": "9bec1107",
   "metadata": {},
   "outputs": [],
   "source": [
    "import matplotlib.pyplot as plt\n",
    "from sklearn.metrics import ConfusionMatrixDisplay"
   ]
  },
  {
   "cell_type": "code",
   "execution_count": 5,
   "id": "27a4b6ce",
   "metadata": {},
   "outputs": [],
   "source": [
    "#Desabilitando warning\n",
    "pd.set_option('mode.chained_assignment',None)"
   ]
  },
  {
   "cell_type": "markdown",
   "id": "4150f469",
   "metadata": {},
   "source": [
    "### Carregando os dados"
   ]
  },
  {
   "cell_type": "code",
   "execution_count": 6,
   "id": "92e658f8",
   "metadata": {},
   "outputs": [],
   "source": [
    "#Lendo os dados\n",
    "matriculas = pd.read_csv(\"data/out.csv\")"
   ]
  },
  {
   "cell_type": "code",
   "execution_count": 7,
   "id": "37d1116a",
   "metadata": {},
   "outputs": [
    {
     "data": {
      "text/plain": [
       "(110713, 31)"
      ]
     },
     "execution_count": 7,
     "metadata": {},
     "output_type": "execute_result"
    }
   ],
   "source": [
    "matriculas.shape"
   ]
  },
  {
   "cell_type": "code",
   "execution_count": 8,
   "id": "1bc404b0",
   "metadata": {},
   "outputs": [],
   "source": [
    "y = matriculas[['categoria_situacao']]"
   ]
  },
  {
   "cell_type": "code",
   "execution_count": 9,
   "id": "753eb5ae",
   "metadata": {},
   "outputs": [],
   "source": [
    "x = matriculas[[\n",
    "    'idade',\n",
    "    'mes_ocorrencia',\n",
    "    'data_matricula',\n",
    "    'carga_horaria',\n",
    "    'fim_ciclo',\n",
    "    'renda_familiar',\n",
    "    'faixa_etaria',\n",
    "    'total_inscritos',\n",
    "    'inicio_ciclo',\n",
    "    'cor_raca',\n",
    "    'vagas_ofertadas',\n",
    "    'codigo_municipio_dv',\n",
    "    'codigo_unidade_ensino_sistec',\n",
    "    'municipio',\n",
    "    'unidade_ensino'    \n",
    "]]"
   ]
  },
  {
   "cell_type": "markdown",
   "id": "45ee581c",
   "metadata": {},
   "source": [
    "### Nomes dos campos"
   ]
  },
  {
   "cell_type": "code",
   "execution_count": 10,
   "id": "de87034b",
   "metadata": {},
   "outputs": [],
   "source": [
    "nomes = list(x.columns.values)"
   ]
  },
  {
   "cell_type": "markdown",
   "id": "62bddca6",
   "metadata": {},
   "source": [
    "### Convertendo variáveis categóricas em numéricas"
   ]
  },
  {
   "cell_type": "code",
   "execution_count": 11,
   "id": "d06a80f0",
   "metadata": {
    "scrolled": true
   },
   "outputs": [],
   "source": [
    "le = LabelEncoder()\n",
    "for n in nomes: \n",
    "    x[n] = le.fit_transform(x[n])"
   ]
  },
  {
   "cell_type": "code",
   "execution_count": 12,
   "id": "1acf9ae3",
   "metadata": {},
   "outputs": [],
   "source": [
    "y['categoria_situacao'] = le.fit_transform(y['categoria_situacao'])"
   ]
  },
  {
   "cell_type": "markdown",
   "id": "6e0fc29e",
   "metadata": {},
   "source": [
    "### Dimensionando campos com MinMaxScaler"
   ]
  },
  {
   "cell_type": "code",
   "execution_count": 13,
   "id": "9c2141a6",
   "metadata": {},
   "outputs": [],
   "source": [
    "min_max_scaler = MinMaxScaler()\n",
    "for n in nomes:\n",
    "    x[[n]] = min_max_scaler.fit_transform(x[[n]])"
   ]
  },
  {
   "cell_type": "code",
   "execution_count": 14,
   "id": "386ebd49",
   "metadata": {
    "scrolled": true
   },
   "outputs": [
    {
     "data": {
      "text/html": [
       "<div>\n",
       "<style scoped>\n",
       "    .dataframe tbody tr th:only-of-type {\n",
       "        vertical-align: middle;\n",
       "    }\n",
       "\n",
       "    .dataframe tbody tr th {\n",
       "        vertical-align: top;\n",
       "    }\n",
       "\n",
       "    .dataframe thead th {\n",
       "        text-align: right;\n",
       "    }\n",
       "</style>\n",
       "<table border=\"1\" class=\"dataframe\">\n",
       "  <thead>\n",
       "    <tr style=\"text-align: right;\">\n",
       "      <th></th>\n",
       "      <th>idade</th>\n",
       "      <th>mes_ocorrencia</th>\n",
       "      <th>data_matricula</th>\n",
       "      <th>carga_horaria</th>\n",
       "      <th>fim_ciclo</th>\n",
       "      <th>renda_familiar</th>\n",
       "      <th>faixa_etaria</th>\n",
       "      <th>total_inscritos</th>\n",
       "      <th>inicio_ciclo</th>\n",
       "      <th>cor_raca</th>\n",
       "      <th>vagas_ofertadas</th>\n",
       "      <th>codigo_municipio_dv</th>\n",
       "      <th>codigo_unidade_ensino_sistec</th>\n",
       "      <th>municipio</th>\n",
       "      <th>unidade_ensino</th>\n",
       "    </tr>\n",
       "  </thead>\n",
       "  <tbody>\n",
       "    <tr>\n",
       "      <th>0</th>\n",
       "      <td>0.215385</td>\n",
       "      <td>0.029499</td>\n",
       "      <td>0.307692</td>\n",
       "      <td>0.160779</td>\n",
       "      <td>0.775136</td>\n",
       "      <td>0.833333</td>\n",
       "      <td>0.2</td>\n",
       "      <td>0.903226</td>\n",
       "      <td>0.919473</td>\n",
       "      <td>1.0</td>\n",
       "      <td>0.191257</td>\n",
       "      <td>0.224176</td>\n",
       "      <td>0.395112</td>\n",
       "      <td>0.827051</td>\n",
       "      <td>0.791837</td>\n",
       "    </tr>\n",
       "    <tr>\n",
       "      <th>1</th>\n",
       "      <td>0.246154</td>\n",
       "      <td>0.023599</td>\n",
       "      <td>0.192308</td>\n",
       "      <td>0.053353</td>\n",
       "      <td>0.451213</td>\n",
       "      <td>0.166667</td>\n",
       "      <td>0.2</td>\n",
       "      <td>0.018174</td>\n",
       "      <td>0.549780</td>\n",
       "      <td>1.0</td>\n",
       "      <td>0.218579</td>\n",
       "      <td>0.417582</td>\n",
       "      <td>0.221996</td>\n",
       "      <td>0.946785</td>\n",
       "      <td>0.910204</td>\n",
       "    </tr>\n",
       "    <tr>\n",
       "      <th>2</th>\n",
       "      <td>0.200000</td>\n",
       "      <td>0.023599</td>\n",
       "      <td>0.192308</td>\n",
       "      <td>0.053353</td>\n",
       "      <td>0.451213</td>\n",
       "      <td>0.166667</td>\n",
       "      <td>0.2</td>\n",
       "      <td>0.018174</td>\n",
       "      <td>0.549780</td>\n",
       "      <td>1.0</td>\n",
       "      <td>0.218579</td>\n",
       "      <td>0.417582</td>\n",
       "      <td>0.221996</td>\n",
       "      <td>0.946785</td>\n",
       "      <td>0.910204</td>\n",
       "    </tr>\n",
       "    <tr>\n",
       "      <th>3</th>\n",
       "      <td>0.538462</td>\n",
       "      <td>0.064897</td>\n",
       "      <td>0.224852</td>\n",
       "      <td>0.649603</td>\n",
       "      <td>0.956909</td>\n",
       "      <td>0.333333</td>\n",
       "      <td>0.6</td>\n",
       "      <td>0.019537</td>\n",
       "      <td>0.963397</td>\n",
       "      <td>1.0</td>\n",
       "      <td>0.273224</td>\n",
       "      <td>0.076923</td>\n",
       "      <td>0.617108</td>\n",
       "      <td>0.518847</td>\n",
       "      <td>0.502041</td>\n",
       "    </tr>\n",
       "    <tr>\n",
       "      <th>4</th>\n",
       "      <td>0.430769</td>\n",
       "      <td>0.064897</td>\n",
       "      <td>0.224852</td>\n",
       "      <td>0.649603</td>\n",
       "      <td>0.956909</td>\n",
       "      <td>0.333333</td>\n",
       "      <td>0.5</td>\n",
       "      <td>0.019537</td>\n",
       "      <td>0.963397</td>\n",
       "      <td>1.0</td>\n",
       "      <td>0.273224</td>\n",
       "      <td>0.076923</td>\n",
       "      <td>0.617108</td>\n",
       "      <td>0.518847</td>\n",
       "      <td>0.502041</td>\n",
       "    </tr>\n",
       "    <tr>\n",
       "      <th>...</th>\n",
       "      <td>...</td>\n",
       "      <td>...</td>\n",
       "      <td>...</td>\n",
       "      <td>...</td>\n",
       "      <td>...</td>\n",
       "      <td>...</td>\n",
       "      <td>...</td>\n",
       "      <td>...</td>\n",
       "      <td>...</td>\n",
       "      <td>...</td>\n",
       "      <td>...</td>\n",
       "      <td>...</td>\n",
       "      <td>...</td>\n",
       "      <td>...</td>\n",
       "      <td>...</td>\n",
       "    </tr>\n",
       "    <tr>\n",
       "      <th>110708</th>\n",
       "      <td>0.092308</td>\n",
       "      <td>0.056047</td>\n",
       "      <td>0.165680</td>\n",
       "      <td>0.660418</td>\n",
       "      <td>0.990589</td>\n",
       "      <td>0.000000</td>\n",
       "      <td>0.0</td>\n",
       "      <td>0.226261</td>\n",
       "      <td>0.729868</td>\n",
       "      <td>0.8</td>\n",
       "      <td>0.191257</td>\n",
       "      <td>0.184615</td>\n",
       "      <td>0.757637</td>\n",
       "      <td>0.172949</td>\n",
       "      <td>0.189796</td>\n",
       "    </tr>\n",
       "    <tr>\n",
       "      <th>110709</th>\n",
       "      <td>0.107692</td>\n",
       "      <td>0.038348</td>\n",
       "      <td>0.165680</td>\n",
       "      <td>0.660418</td>\n",
       "      <td>0.990589</td>\n",
       "      <td>0.833333</td>\n",
       "      <td>0.0</td>\n",
       "      <td>0.226261</td>\n",
       "      <td>0.729868</td>\n",
       "      <td>0.8</td>\n",
       "      <td>0.191257</td>\n",
       "      <td>0.184615</td>\n",
       "      <td>0.757637</td>\n",
       "      <td>0.172949</td>\n",
       "      <td>0.189796</td>\n",
       "    </tr>\n",
       "    <tr>\n",
       "      <th>110710</th>\n",
       "      <td>0.138462</td>\n",
       "      <td>0.020649</td>\n",
       "      <td>0.165680</td>\n",
       "      <td>0.196828</td>\n",
       "      <td>0.942051</td>\n",
       "      <td>0.833333</td>\n",
       "      <td>0.1</td>\n",
       "      <td>0.081781</td>\n",
       "      <td>0.729868</td>\n",
       "      <td>0.8</td>\n",
       "      <td>0.224044</td>\n",
       "      <td>0.230769</td>\n",
       "      <td>0.763747</td>\n",
       "      <td>0.924612</td>\n",
       "      <td>0.889796</td>\n",
       "    </tr>\n",
       "    <tr>\n",
       "      <th>110711</th>\n",
       "      <td>0.123077</td>\n",
       "      <td>0.044248</td>\n",
       "      <td>0.165680</td>\n",
       "      <td>0.196828</td>\n",
       "      <td>0.942051</td>\n",
       "      <td>0.333333</td>\n",
       "      <td>0.1</td>\n",
       "      <td>0.081781</td>\n",
       "      <td>0.729868</td>\n",
       "      <td>0.8</td>\n",
       "      <td>0.224044</td>\n",
       "      <td>0.230769</td>\n",
       "      <td>0.763747</td>\n",
       "      <td>0.924612</td>\n",
       "      <td>0.889796</td>\n",
       "    </tr>\n",
       "    <tr>\n",
       "      <th>110712</th>\n",
       "      <td>0.107692</td>\n",
       "      <td>0.020649</td>\n",
       "      <td>0.165680</td>\n",
       "      <td>0.196828</td>\n",
       "      <td>0.942051</td>\n",
       "      <td>0.833333</td>\n",
       "      <td>0.0</td>\n",
       "      <td>0.081781</td>\n",
       "      <td>0.729868</td>\n",
       "      <td>0.8</td>\n",
       "      <td>0.224044</td>\n",
       "      <td>0.230769</td>\n",
       "      <td>0.763747</td>\n",
       "      <td>0.924612</td>\n",
       "      <td>0.889796</td>\n",
       "    </tr>\n",
       "  </tbody>\n",
       "</table>\n",
       "<p>110713 rows × 15 columns</p>\n",
       "</div>"
      ],
      "text/plain": [
       "           idade  mes_ocorrencia  data_matricula  carga_horaria  fim_ciclo  \\\n",
       "0       0.215385        0.029499        0.307692       0.160779   0.775136   \n",
       "1       0.246154        0.023599        0.192308       0.053353   0.451213   \n",
       "2       0.200000        0.023599        0.192308       0.053353   0.451213   \n",
       "3       0.538462        0.064897        0.224852       0.649603   0.956909   \n",
       "4       0.430769        0.064897        0.224852       0.649603   0.956909   \n",
       "...          ...             ...             ...            ...        ...   \n",
       "110708  0.092308        0.056047        0.165680       0.660418   0.990589   \n",
       "110709  0.107692        0.038348        0.165680       0.660418   0.990589   \n",
       "110710  0.138462        0.020649        0.165680       0.196828   0.942051   \n",
       "110711  0.123077        0.044248        0.165680       0.196828   0.942051   \n",
       "110712  0.107692        0.020649        0.165680       0.196828   0.942051   \n",
       "\n",
       "        renda_familiar  faixa_etaria  total_inscritos  inicio_ciclo  cor_raca  \\\n",
       "0             0.833333           0.2         0.903226      0.919473       1.0   \n",
       "1             0.166667           0.2         0.018174      0.549780       1.0   \n",
       "2             0.166667           0.2         0.018174      0.549780       1.0   \n",
       "3             0.333333           0.6         0.019537      0.963397       1.0   \n",
       "4             0.333333           0.5         0.019537      0.963397       1.0   \n",
       "...                ...           ...              ...           ...       ...   \n",
       "110708        0.000000           0.0         0.226261      0.729868       0.8   \n",
       "110709        0.833333           0.0         0.226261      0.729868       0.8   \n",
       "110710        0.833333           0.1         0.081781      0.729868       0.8   \n",
       "110711        0.333333           0.1         0.081781      0.729868       0.8   \n",
       "110712        0.833333           0.0         0.081781      0.729868       0.8   \n",
       "\n",
       "        vagas_ofertadas  codigo_municipio_dv  codigo_unidade_ensino_sistec  \\\n",
       "0              0.191257             0.224176                      0.395112   \n",
       "1              0.218579             0.417582                      0.221996   \n",
       "2              0.218579             0.417582                      0.221996   \n",
       "3              0.273224             0.076923                      0.617108   \n",
       "4              0.273224             0.076923                      0.617108   \n",
       "...                 ...                  ...                           ...   \n",
       "110708         0.191257             0.184615                      0.757637   \n",
       "110709         0.191257             0.184615                      0.757637   \n",
       "110710         0.224044             0.230769                      0.763747   \n",
       "110711         0.224044             0.230769                      0.763747   \n",
       "110712         0.224044             0.230769                      0.763747   \n",
       "\n",
       "        municipio  unidade_ensino  \n",
       "0        0.827051        0.791837  \n",
       "1        0.946785        0.910204  \n",
       "2        0.946785        0.910204  \n",
       "3        0.518847        0.502041  \n",
       "4        0.518847        0.502041  \n",
       "...           ...             ...  \n",
       "110708   0.172949        0.189796  \n",
       "110709   0.172949        0.189796  \n",
       "110710   0.924612        0.889796  \n",
       "110711   0.924612        0.889796  \n",
       "110712   0.924612        0.889796  \n",
       "\n",
       "[110713 rows x 15 columns]"
      ]
     },
     "execution_count": 14,
     "metadata": {},
     "output_type": "execute_result"
    }
   ],
   "source": [
    "x"
   ]
  },
  {
   "cell_type": "markdown",
   "id": "191f08d3",
   "metadata": {},
   "source": [
    "### Treinamento"
   ]
  },
  {
   "cell_type": "code",
   "execution_count": 15,
   "id": "f225ef5d",
   "metadata": {},
   "outputs": [],
   "source": [
    "x_treino, x_teste, y_treino, y_teste = train_test_split(x,y,test_size=0.20, random_state=42)\n",
    "arvores = RandomForestClassifier(random_state=42, n_jobs=-1)\n",
    "arvores.fit(x_treino, y_treino.values.ravel())\n",
    "#Realizando a predição\n",
    "resultado = arvores.predict(x_teste)"
   ]
  },
  {
   "cell_type": "markdown",
   "id": "980d3395",
   "metadata": {},
   "source": [
    "### Métricas"
   ]
  },
  {
   "cell_type": "code",
   "execution_count": 16,
   "id": "fc4c992f",
   "metadata": {},
   "outputs": [],
   "source": [
    "# Imports\n",
    "from sklearn.metrics import accuracy_score\n",
    "from sklearn.metrics import precision_score\n",
    "from sklearn.metrics import recall_score\n",
    "from sklearn.metrics import roc_auc_score\n",
    "from sklearn.metrics import f1_score\n",
    "\n",
    "metricas = ['accuracy','precision','recall','roc_auc','f1']"
   ]
  },
  {
   "cell_type": "code",
   "execution_count": 17,
   "id": "974e0e68",
   "metadata": {},
   "outputs": [
    {
     "name": "stdout",
     "output_type": "stream",
     "text": [
      "holdout accuracy:  0.8813620557286728\n",
      "holdout precision:  0.909067340722017\n",
      "holdout recall:  0.9197377049180328\n",
      "holdout roc_auc:  0.8580989409545916\n",
      "holdout f1:  0.914371394113237\n"
     ]
    }
   ],
   "source": [
    "#Holdout\n",
    "metrica_holdout = {}\n",
    "metrica_holdout['accuracy'] = accuracy_score(y_teste,resultado)\n",
    "metrica_holdout['precision'] = precision_score(y_teste,resultado)\n",
    "metrica_holdout['recall'] = recall_score(y_teste,resultado)\n",
    "metrica_holdout['roc_auc'] = roc_auc_score(y_teste,resultado)\n",
    "metrica_holdout['f1'] = f1_score(y_teste,resultado)\n",
    "\n",
    "for metrica in metricas:    \n",
    "    print('holdout ' + metrica+ ': ', np.mean(metrica_holdout[metrica]))"
   ]
  },
  {
   "cell_type": "code",
   "execution_count": 18,
   "id": "e3153044",
   "metadata": {},
   "outputs": [
    {
     "name": "stdout",
     "output_type": "stream",
     "text": [
      "cross accuracy:  0.7819406378862598\n",
      "cross precision:  0.8242321764472178\n"
     ]
    },
    {
     "ename": "KeyboardInterrupt",
     "evalue": "",
     "output_type": "error",
     "traceback": [
      "\u001b[0;31m---------------------------------------------------------------------------\u001b[0m",
      "\u001b[0;31mKeyboardInterrupt\u001b[0m                         Traceback (most recent call last)",
      "Input \u001b[0;32mIn [18]\u001b[0m, in \u001b[0;36m<cell line: 5>\u001b[0;34m()\u001b[0m\n\u001b[1;32m      3\u001b[0m metrica_cross \u001b[38;5;241m=\u001b[39m {}\n\u001b[1;32m      5\u001b[0m \u001b[38;5;28;01mfor\u001b[39;00m metrica \u001b[38;5;129;01min\u001b[39;00m metricas:\n\u001b[0;32m----> 6\u001b[0m     metrica_cross[metrica] \u001b[38;5;241m=\u001b[39m \u001b[43mcross_val_score\u001b[49m\u001b[43m(\u001b[49m\u001b[43marvores\u001b[49m\u001b[43m,\u001b[49m\u001b[43m \u001b[49m\u001b[43mx\u001b[49m\u001b[43m,\u001b[49m\u001b[43m \u001b[49m\u001b[43my\u001b[49m\u001b[38;5;241;43m.\u001b[39;49m\u001b[43mvalues\u001b[49m\u001b[38;5;241;43m.\u001b[39;49m\u001b[43mravel\u001b[49m\u001b[43m(\u001b[49m\u001b[43m)\u001b[49m\u001b[43m,\u001b[49m\u001b[43m \u001b[49m\u001b[43mcv\u001b[49m\u001b[38;5;241;43m=\u001b[39;49m\u001b[38;5;241;43m15\u001b[39;49m\u001b[43m,\u001b[49m\u001b[43m \u001b[49m\u001b[43mn_jobs\u001b[49m\u001b[38;5;241;43m=\u001b[39;49m\u001b[38;5;241;43m-\u001b[39;49m\u001b[38;5;241;43m1\u001b[39;49m\u001b[43m,\u001b[49m\u001b[43m \u001b[49m\u001b[43mscoring\u001b[49m\u001b[38;5;241;43m=\u001b[39;49m\u001b[43mmetrica\u001b[49m\u001b[43m)\u001b[49m\n\u001b[1;32m      7\u001b[0m     \u001b[38;5;28mprint\u001b[39m(\u001b[38;5;124m'\u001b[39m\u001b[38;5;124mcross \u001b[39m\u001b[38;5;124m'\u001b[39m \u001b[38;5;241m+\u001b[39m metrica\u001b[38;5;241m+\u001b[39m \u001b[38;5;124m'\u001b[39m\u001b[38;5;124m: \u001b[39m\u001b[38;5;124m'\u001b[39m, np\u001b[38;5;241m.\u001b[39mmean(metrica_cross[metrica]))\n",
      "File \u001b[0;32m/opt/conda/lib/python3.9/site-packages/sklearn/model_selection/_validation.py:515\u001b[0m, in \u001b[0;36mcross_val_score\u001b[0;34m(estimator, X, y, groups, scoring, cv, n_jobs, verbose, fit_params, pre_dispatch, error_score)\u001b[0m\n\u001b[1;32m    512\u001b[0m \u001b[38;5;66;03m# To ensure multimetric format is not supported\u001b[39;00m\n\u001b[1;32m    513\u001b[0m scorer \u001b[38;5;241m=\u001b[39m check_scoring(estimator, scoring\u001b[38;5;241m=\u001b[39mscoring)\n\u001b[0;32m--> 515\u001b[0m cv_results \u001b[38;5;241m=\u001b[39m \u001b[43mcross_validate\u001b[49m\u001b[43m(\u001b[49m\n\u001b[1;32m    516\u001b[0m \u001b[43m    \u001b[49m\u001b[43mestimator\u001b[49m\u001b[38;5;241;43m=\u001b[39;49m\u001b[43mestimator\u001b[49m\u001b[43m,\u001b[49m\n\u001b[1;32m    517\u001b[0m \u001b[43m    \u001b[49m\u001b[43mX\u001b[49m\u001b[38;5;241;43m=\u001b[39;49m\u001b[43mX\u001b[49m\u001b[43m,\u001b[49m\n\u001b[1;32m    518\u001b[0m \u001b[43m    \u001b[49m\u001b[43my\u001b[49m\u001b[38;5;241;43m=\u001b[39;49m\u001b[43my\u001b[49m\u001b[43m,\u001b[49m\n\u001b[1;32m    519\u001b[0m \u001b[43m    \u001b[49m\u001b[43mgroups\u001b[49m\u001b[38;5;241;43m=\u001b[39;49m\u001b[43mgroups\u001b[49m\u001b[43m,\u001b[49m\n\u001b[1;32m    520\u001b[0m \u001b[43m    \u001b[49m\u001b[43mscoring\u001b[49m\u001b[38;5;241;43m=\u001b[39;49m\u001b[43m{\u001b[49m\u001b[38;5;124;43m\"\u001b[39;49m\u001b[38;5;124;43mscore\u001b[39;49m\u001b[38;5;124;43m\"\u001b[39;49m\u001b[43m:\u001b[49m\u001b[43m \u001b[49m\u001b[43mscorer\u001b[49m\u001b[43m}\u001b[49m\u001b[43m,\u001b[49m\n\u001b[1;32m    521\u001b[0m \u001b[43m    \u001b[49m\u001b[43mcv\u001b[49m\u001b[38;5;241;43m=\u001b[39;49m\u001b[43mcv\u001b[49m\u001b[43m,\u001b[49m\n\u001b[1;32m    522\u001b[0m \u001b[43m    \u001b[49m\u001b[43mn_jobs\u001b[49m\u001b[38;5;241;43m=\u001b[39;49m\u001b[43mn_jobs\u001b[49m\u001b[43m,\u001b[49m\n\u001b[1;32m    523\u001b[0m \u001b[43m    \u001b[49m\u001b[43mverbose\u001b[49m\u001b[38;5;241;43m=\u001b[39;49m\u001b[43mverbose\u001b[49m\u001b[43m,\u001b[49m\n\u001b[1;32m    524\u001b[0m \u001b[43m    \u001b[49m\u001b[43mfit_params\u001b[49m\u001b[38;5;241;43m=\u001b[39;49m\u001b[43mfit_params\u001b[49m\u001b[43m,\u001b[49m\n\u001b[1;32m    525\u001b[0m \u001b[43m    \u001b[49m\u001b[43mpre_dispatch\u001b[49m\u001b[38;5;241;43m=\u001b[39;49m\u001b[43mpre_dispatch\u001b[49m\u001b[43m,\u001b[49m\n\u001b[1;32m    526\u001b[0m \u001b[43m    \u001b[49m\u001b[43merror_score\u001b[49m\u001b[38;5;241;43m=\u001b[39;49m\u001b[43merror_score\u001b[49m\u001b[43m,\u001b[49m\n\u001b[1;32m    527\u001b[0m \u001b[43m\u001b[49m\u001b[43m)\u001b[49m\n\u001b[1;32m    528\u001b[0m \u001b[38;5;28;01mreturn\u001b[39;00m cv_results[\u001b[38;5;124m\"\u001b[39m\u001b[38;5;124mtest_score\u001b[39m\u001b[38;5;124m\"\u001b[39m]\n",
      "File \u001b[0;32m/opt/conda/lib/python3.9/site-packages/sklearn/model_selection/_validation.py:266\u001b[0m, in \u001b[0;36mcross_validate\u001b[0;34m(estimator, X, y, groups, scoring, cv, n_jobs, verbose, fit_params, pre_dispatch, return_train_score, return_estimator, error_score)\u001b[0m\n\u001b[1;32m    263\u001b[0m \u001b[38;5;66;03m# We clone the estimator to make sure that all the folds are\u001b[39;00m\n\u001b[1;32m    264\u001b[0m \u001b[38;5;66;03m# independent, and that it is pickle-able.\u001b[39;00m\n\u001b[1;32m    265\u001b[0m parallel \u001b[38;5;241m=\u001b[39m Parallel(n_jobs\u001b[38;5;241m=\u001b[39mn_jobs, verbose\u001b[38;5;241m=\u001b[39mverbose, pre_dispatch\u001b[38;5;241m=\u001b[39mpre_dispatch)\n\u001b[0;32m--> 266\u001b[0m results \u001b[38;5;241m=\u001b[39m \u001b[43mparallel\u001b[49m\u001b[43m(\u001b[49m\n\u001b[1;32m    267\u001b[0m \u001b[43m    \u001b[49m\u001b[43mdelayed\u001b[49m\u001b[43m(\u001b[49m\u001b[43m_fit_and_score\u001b[49m\u001b[43m)\u001b[49m\u001b[43m(\u001b[49m\n\u001b[1;32m    268\u001b[0m \u001b[43m        \u001b[49m\u001b[43mclone\u001b[49m\u001b[43m(\u001b[49m\u001b[43mestimator\u001b[49m\u001b[43m)\u001b[49m\u001b[43m,\u001b[49m\n\u001b[1;32m    269\u001b[0m \u001b[43m        \u001b[49m\u001b[43mX\u001b[49m\u001b[43m,\u001b[49m\n\u001b[1;32m    270\u001b[0m \u001b[43m        \u001b[49m\u001b[43my\u001b[49m\u001b[43m,\u001b[49m\n\u001b[1;32m    271\u001b[0m \u001b[43m        \u001b[49m\u001b[43mscorers\u001b[49m\u001b[43m,\u001b[49m\n\u001b[1;32m    272\u001b[0m \u001b[43m        \u001b[49m\u001b[43mtrain\u001b[49m\u001b[43m,\u001b[49m\n\u001b[1;32m    273\u001b[0m \u001b[43m        \u001b[49m\u001b[43mtest\u001b[49m\u001b[43m,\u001b[49m\n\u001b[1;32m    274\u001b[0m \u001b[43m        \u001b[49m\u001b[43mverbose\u001b[49m\u001b[43m,\u001b[49m\n\u001b[1;32m    275\u001b[0m \u001b[43m        \u001b[49m\u001b[38;5;28;43;01mNone\u001b[39;49;00m\u001b[43m,\u001b[49m\n\u001b[1;32m    276\u001b[0m \u001b[43m        \u001b[49m\u001b[43mfit_params\u001b[49m\u001b[43m,\u001b[49m\n\u001b[1;32m    277\u001b[0m \u001b[43m        \u001b[49m\u001b[43mreturn_train_score\u001b[49m\u001b[38;5;241;43m=\u001b[39;49m\u001b[43mreturn_train_score\u001b[49m\u001b[43m,\u001b[49m\n\u001b[1;32m    278\u001b[0m \u001b[43m        \u001b[49m\u001b[43mreturn_times\u001b[49m\u001b[38;5;241;43m=\u001b[39;49m\u001b[38;5;28;43;01mTrue\u001b[39;49;00m\u001b[43m,\u001b[49m\n\u001b[1;32m    279\u001b[0m \u001b[43m        \u001b[49m\u001b[43mreturn_estimator\u001b[49m\u001b[38;5;241;43m=\u001b[39;49m\u001b[43mreturn_estimator\u001b[49m\u001b[43m,\u001b[49m\n\u001b[1;32m    280\u001b[0m \u001b[43m        \u001b[49m\u001b[43merror_score\u001b[49m\u001b[38;5;241;43m=\u001b[39;49m\u001b[43merror_score\u001b[49m\u001b[43m,\u001b[49m\n\u001b[1;32m    281\u001b[0m \u001b[43m    \u001b[49m\u001b[43m)\u001b[49m\n\u001b[1;32m    282\u001b[0m \u001b[43m    \u001b[49m\u001b[38;5;28;43;01mfor\u001b[39;49;00m\u001b[43m \u001b[49m\u001b[43mtrain\u001b[49m\u001b[43m,\u001b[49m\u001b[43m \u001b[49m\u001b[43mtest\u001b[49m\u001b[43m \u001b[49m\u001b[38;5;129;43;01min\u001b[39;49;00m\u001b[43m \u001b[49m\u001b[43mcv\u001b[49m\u001b[38;5;241;43m.\u001b[39;49m\u001b[43msplit\u001b[49m\u001b[43m(\u001b[49m\u001b[43mX\u001b[49m\u001b[43m,\u001b[49m\u001b[43m \u001b[49m\u001b[43my\u001b[49m\u001b[43m,\u001b[49m\u001b[43m \u001b[49m\u001b[43mgroups\u001b[49m\u001b[43m)\u001b[49m\n\u001b[1;32m    283\u001b[0m \u001b[43m\u001b[49m\u001b[43m)\u001b[49m\n\u001b[1;32m    285\u001b[0m _warn_or_raise_about_fit_failures(results, error_score)\n\u001b[1;32m    287\u001b[0m \u001b[38;5;66;03m# For callabe scoring, the return type is only know after calling. If the\u001b[39;00m\n\u001b[1;32m    288\u001b[0m \u001b[38;5;66;03m# return type is a dictionary, the error scores can now be inserted with\u001b[39;00m\n\u001b[1;32m    289\u001b[0m \u001b[38;5;66;03m# the correct key.\u001b[39;00m\n",
      "File \u001b[0;32m/opt/conda/lib/python3.9/site-packages/joblib/parallel.py:1056\u001b[0m, in \u001b[0;36mParallel.__call__\u001b[0;34m(self, iterable)\u001b[0m\n\u001b[1;32m   1053\u001b[0m     \u001b[38;5;28mself\u001b[39m\u001b[38;5;241m.\u001b[39m_iterating \u001b[38;5;241m=\u001b[39m \u001b[38;5;28;01mFalse\u001b[39;00m\n\u001b[1;32m   1055\u001b[0m \u001b[38;5;28;01mwith\u001b[39;00m \u001b[38;5;28mself\u001b[39m\u001b[38;5;241m.\u001b[39m_backend\u001b[38;5;241m.\u001b[39mretrieval_context():\n\u001b[0;32m-> 1056\u001b[0m     \u001b[38;5;28;43mself\u001b[39;49m\u001b[38;5;241;43m.\u001b[39;49m\u001b[43mretrieve\u001b[49m\u001b[43m(\u001b[49m\u001b[43m)\u001b[49m\n\u001b[1;32m   1057\u001b[0m \u001b[38;5;66;03m# Make sure that we get a last message telling us we are done\u001b[39;00m\n\u001b[1;32m   1058\u001b[0m elapsed_time \u001b[38;5;241m=\u001b[39m time\u001b[38;5;241m.\u001b[39mtime() \u001b[38;5;241m-\u001b[39m \u001b[38;5;28mself\u001b[39m\u001b[38;5;241m.\u001b[39m_start_time\n",
      "File \u001b[0;32m/opt/conda/lib/python3.9/site-packages/joblib/parallel.py:935\u001b[0m, in \u001b[0;36mParallel.retrieve\u001b[0;34m(self)\u001b[0m\n\u001b[1;32m    933\u001b[0m \u001b[38;5;28;01mtry\u001b[39;00m:\n\u001b[1;32m    934\u001b[0m     \u001b[38;5;28;01mif\u001b[39;00m \u001b[38;5;28mgetattr\u001b[39m(\u001b[38;5;28mself\u001b[39m\u001b[38;5;241m.\u001b[39m_backend, \u001b[38;5;124m'\u001b[39m\u001b[38;5;124msupports_timeout\u001b[39m\u001b[38;5;124m'\u001b[39m, \u001b[38;5;28;01mFalse\u001b[39;00m):\n\u001b[0;32m--> 935\u001b[0m         \u001b[38;5;28mself\u001b[39m\u001b[38;5;241m.\u001b[39m_output\u001b[38;5;241m.\u001b[39mextend(\u001b[43mjob\u001b[49m\u001b[38;5;241;43m.\u001b[39;49m\u001b[43mget\u001b[49m\u001b[43m(\u001b[49m\u001b[43mtimeout\u001b[49m\u001b[38;5;241;43m=\u001b[39;49m\u001b[38;5;28;43mself\u001b[39;49m\u001b[38;5;241;43m.\u001b[39;49m\u001b[43mtimeout\u001b[49m\u001b[43m)\u001b[49m)\n\u001b[1;32m    936\u001b[0m     \u001b[38;5;28;01melse\u001b[39;00m:\n\u001b[1;32m    937\u001b[0m         \u001b[38;5;28mself\u001b[39m\u001b[38;5;241m.\u001b[39m_output\u001b[38;5;241m.\u001b[39mextend(job\u001b[38;5;241m.\u001b[39mget())\n",
      "File \u001b[0;32m/opt/conda/lib/python3.9/site-packages/joblib/_parallel_backends.py:542\u001b[0m, in \u001b[0;36mLokyBackend.wrap_future_result\u001b[0;34m(future, timeout)\u001b[0m\n\u001b[1;32m    539\u001b[0m \u001b[38;5;124;03m\"\"\"Wrapper for Future.result to implement the same behaviour as\u001b[39;00m\n\u001b[1;32m    540\u001b[0m \u001b[38;5;124;03mAsyncResults.get from multiprocessing.\"\"\"\u001b[39;00m\n\u001b[1;32m    541\u001b[0m \u001b[38;5;28;01mtry\u001b[39;00m:\n\u001b[0;32m--> 542\u001b[0m     \u001b[38;5;28;01mreturn\u001b[39;00m \u001b[43mfuture\u001b[49m\u001b[38;5;241;43m.\u001b[39;49m\u001b[43mresult\u001b[49m\u001b[43m(\u001b[49m\u001b[43mtimeout\u001b[49m\u001b[38;5;241;43m=\u001b[39;49m\u001b[43mtimeout\u001b[49m\u001b[43m)\u001b[49m\n\u001b[1;32m    543\u001b[0m \u001b[38;5;28;01mexcept\u001b[39;00m CfTimeoutError \u001b[38;5;28;01mas\u001b[39;00m e:\n\u001b[1;32m    544\u001b[0m     \u001b[38;5;28;01mraise\u001b[39;00m \u001b[38;5;167;01mTimeoutError\u001b[39;00m \u001b[38;5;28;01mfrom\u001b[39;00m \u001b[38;5;21;01me\u001b[39;00m\n",
      "File \u001b[0;32m/opt/conda/lib/python3.9/concurrent/futures/_base.py:441\u001b[0m, in \u001b[0;36mFuture.result\u001b[0;34m(self, timeout)\u001b[0m\n\u001b[1;32m    438\u001b[0m \u001b[38;5;28;01melif\u001b[39;00m \u001b[38;5;28mself\u001b[39m\u001b[38;5;241m.\u001b[39m_state \u001b[38;5;241m==\u001b[39m FINISHED:\n\u001b[1;32m    439\u001b[0m     \u001b[38;5;28;01mreturn\u001b[39;00m \u001b[38;5;28mself\u001b[39m\u001b[38;5;241m.\u001b[39m__get_result()\n\u001b[0;32m--> 441\u001b[0m \u001b[38;5;28;43mself\u001b[39;49m\u001b[38;5;241;43m.\u001b[39;49m\u001b[43m_condition\u001b[49m\u001b[38;5;241;43m.\u001b[39;49m\u001b[43mwait\u001b[49m\u001b[43m(\u001b[49m\u001b[43mtimeout\u001b[49m\u001b[43m)\u001b[49m\n\u001b[1;32m    443\u001b[0m \u001b[38;5;28;01mif\u001b[39;00m \u001b[38;5;28mself\u001b[39m\u001b[38;5;241m.\u001b[39m_state \u001b[38;5;129;01min\u001b[39;00m [CANCELLED, CANCELLED_AND_NOTIFIED]:\n\u001b[1;32m    444\u001b[0m     \u001b[38;5;28;01mraise\u001b[39;00m CancelledError()\n",
      "File \u001b[0;32m/opt/conda/lib/python3.9/threading.py:312\u001b[0m, in \u001b[0;36mCondition.wait\u001b[0;34m(self, timeout)\u001b[0m\n\u001b[1;32m    310\u001b[0m \u001b[38;5;28;01mtry\u001b[39;00m:    \u001b[38;5;66;03m# restore state no matter what (e.g., KeyboardInterrupt)\u001b[39;00m\n\u001b[1;32m    311\u001b[0m     \u001b[38;5;28;01mif\u001b[39;00m timeout \u001b[38;5;129;01mis\u001b[39;00m \u001b[38;5;28;01mNone\u001b[39;00m:\n\u001b[0;32m--> 312\u001b[0m         \u001b[43mwaiter\u001b[49m\u001b[38;5;241;43m.\u001b[39;49m\u001b[43macquire\u001b[49m\u001b[43m(\u001b[49m\u001b[43m)\u001b[49m\n\u001b[1;32m    313\u001b[0m         gotit \u001b[38;5;241m=\u001b[39m \u001b[38;5;28;01mTrue\u001b[39;00m\n\u001b[1;32m    314\u001b[0m     \u001b[38;5;28;01melse\u001b[39;00m:\n",
      "\u001b[0;31mKeyboardInterrupt\u001b[0m: "
     ]
    }
   ],
   "source": [
    "#Cros validation\n",
    "from sklearn.model_selection import cross_val_score\n",
    "metrica_cross = {}\n",
    "\n",
    "for metrica in metricas:\n",
    "    metrica_cross[metrica] = cross_val_score(arvores, x, y.values.ravel(), cv=15, n_jobs=-1, scoring=metrica)\n",
    "    print('cross ' + metrica+ ': ', np.mean(metrica_cross[metrica]))"
   ]
  },
  {
   "cell_type": "code",
   "execution_count": null,
   "id": "5e23ba6f",
   "metadata": {},
   "outputs": [],
   "source": [
    "mean_squared_error(y_teste,resultado)"
   ]
  },
  {
   "cell_type": "code",
   "execution_count": null,
   "id": "ddfcf9eb",
   "metadata": {},
   "outputs": [],
   "source": [
    "arvores.score(x_teste,y_teste)"
   ]
  },
  {
   "cell_type": "code",
   "execution_count": null,
   "id": "0990a074",
   "metadata": {
    "scrolled": true
   },
   "outputs": [],
   "source": [
    "score = f1_score(y_teste, resultado,average='weighted')\n",
    "print(score)"
   ]
  },
  {
   "cell_type": "code",
   "execution_count": null,
   "id": "35dba754",
   "metadata": {},
   "outputs": [],
   "source": [
    "#MCC\n",
    "matthews_corrcoef(y_teste, resultado)"
   ]
  },
  {
   "cell_type": "markdown",
   "id": "49b54ac2",
   "metadata": {},
   "source": [
    "### Matriz de confusão"
   ]
  },
  {
   "cell_type": "code",
   "execution_count": null,
   "id": "4f154557",
   "metadata": {},
   "outputs": [],
   "source": [
    "ConfusionMatrixDisplay.from_predictions(y_teste, resultado)\n",
    "plt.show()"
   ]
  },
  {
   "cell_type": "code",
   "execution_count": null,
   "id": "759622d3",
   "metadata": {},
   "outputs": [],
   "source": [
    "from sklearn.metrics import roc_curve\n",
    "from sklearn.metrics import RocCurveDisplay"
   ]
  },
  {
   "cell_type": "code",
   "execution_count": null,
   "id": "a817a5fc",
   "metadata": {
    "scrolled": true
   },
   "outputs": [],
   "source": [
    "fpr, tpr, _ = roc_curve(y_teste, resultado)\n",
    "roc_display = RocCurveDisplay(fpr=fpr, tpr=tpr).plot()"
   ]
  },
  {
   "cell_type": "code",
   "execution_count": null,
   "id": "91c08751",
   "metadata": {},
   "outputs": [],
   "source": [
    "roc_auc_score(y_teste, resultado)"
   ]
  }
 ],
 "metadata": {
  "kernelspec": {
   "display_name": "Python 3 (ipykernel)",
   "language": "python",
   "name": "python3"
  },
  "language_info": {
   "codemirror_mode": {
    "name": "ipython",
    "version": 3
   },
   "file_extension": ".py",
   "mimetype": "text/x-python",
   "name": "python",
   "nbconvert_exporter": "python",
   "pygments_lexer": "ipython3",
   "version": "3.9.10"
  }
 },
 "nbformat": 4,
 "nbformat_minor": 5
}
