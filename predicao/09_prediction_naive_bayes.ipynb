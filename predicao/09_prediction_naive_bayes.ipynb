{
 "cells": [
  {
   "cell_type": "markdown",
   "id": "0d544920",
   "metadata": {},
   "source": [
    "# Naive Bayes Prediction"
   ]
  },
  {
   "cell_type": "code",
   "execution_count": 1,
   "id": "8c14796c",
   "metadata": {},
   "outputs": [],
   "source": [
    "#Importando Dependências\n",
    "import numpy as np\n",
    "import pandas as pd"
   ]
  },
  {
   "cell_type": "code",
   "execution_count": 2,
   "id": "0ed374d2",
   "metadata": {},
   "outputs": [],
   "source": [
    "from sklearn.preprocessing import LabelEncoder\n",
    "from sklearn.preprocessing import MinMaxScaler"
   ]
  },
  {
   "cell_type": "code",
   "execution_count": 3,
   "id": "f65fb3b9",
   "metadata": {},
   "outputs": [],
   "source": [
    "from sklearn.naive_bayes import ComplementNB \n",
    "from sklearn.model_selection import train_test_split\n",
    "from sklearn.metrics import mean_squared_error\n",
    "from sklearn.metrics import f1_score\n",
    "from sklearn.metrics import roc_auc_score"
   ]
  },
  {
   "cell_type": "code",
   "execution_count": 4,
   "id": "9bec1107",
   "metadata": {},
   "outputs": [],
   "source": [
    "import matplotlib.pyplot as plt\n",
    "from sklearn.metrics import ConfusionMatrixDisplay"
   ]
  },
  {
   "cell_type": "code",
   "execution_count": 5,
   "id": "27a4b6ce",
   "metadata": {},
   "outputs": [],
   "source": [
    "#Desabilitando warning\n",
    "pd.set_option('mode.chained_assignment',None)"
   ]
  },
  {
   "cell_type": "markdown",
   "id": "4150f469",
   "metadata": {},
   "source": [
    "### Carregando os dados"
   ]
  },
  {
   "cell_type": "code",
   "execution_count": 6,
   "id": "92e658f8",
   "metadata": {},
   "outputs": [],
   "source": [
    "#Lendo os dados\n",
    "matriculas = pd.read_csv(\"data/out.csv\")"
   ]
  },
  {
   "cell_type": "code",
   "execution_count": 7,
   "id": "37d1116a",
   "metadata": {},
   "outputs": [
    {
     "data": {
      "text/plain": [
       "(68752, 31)"
      ]
     },
     "execution_count": 7,
     "metadata": {},
     "output_type": "execute_result"
    }
   ],
   "source": [
    "matriculas.shape"
   ]
  },
  {
   "cell_type": "code",
   "execution_count": 8,
   "id": "1bc404b0",
   "metadata": {},
   "outputs": [],
   "source": [
    "y = matriculas[['categoria_situacao']]"
   ]
  },
  {
   "cell_type": "code",
   "execution_count": 9,
   "id": "753eb5ae",
   "metadata": {},
   "outputs": [],
   "source": [
    "x = matriculas[[\n",
    "    'data_matricula',\n",
    "    'mes_ocorrencia',\n",
    "    'idade',\n",
    "    'total_inscritos',\n",
    "    'fim_ciclo',\n",
    "    'carga_horaria',\n",
    "    'inicio_ciclo',\n",
    "    'faixa_etaria',\n",
    "    'codigo_unidade_ensino_sistec',\n",
    "    'vagas_ofertadas',\n",
    "    'codigo_municipio_dv',\n",
    "    'cor_raca',\n",
    "    'municipio',\n",
    "    'unidade_ensino',\n",
    "    'renda_familiar'\n",
    "]]"
   ]
  },
  {
   "cell_type": "markdown",
   "id": "45ee581c",
   "metadata": {},
   "source": [
    "### Nomes dos campos"
   ]
  },
  {
   "cell_type": "code",
   "execution_count": 10,
   "id": "de87034b",
   "metadata": {},
   "outputs": [],
   "source": [
    "nomes = list(x.columns.values)"
   ]
  },
  {
   "cell_type": "markdown",
   "id": "62bddca6",
   "metadata": {},
   "source": [
    "### Convertendo variáveis categóricas em numéricas"
   ]
  },
  {
   "cell_type": "code",
   "execution_count": 11,
   "id": "d06a80f0",
   "metadata": {
    "scrolled": true
   },
   "outputs": [],
   "source": [
    "le = LabelEncoder()\n",
    "for n in nomes: \n",
    "    x[n] = le.fit_transform(x[n])"
   ]
  },
  {
   "cell_type": "code",
   "execution_count": 12,
   "id": "1acf9ae3",
   "metadata": {},
   "outputs": [],
   "source": [
    "y['categoria_situacao'] = le.fit_transform(y['categoria_situacao'])"
   ]
  },
  {
   "cell_type": "markdown",
   "id": "6e0fc29e",
   "metadata": {},
   "source": [
    "### Dimensionando campos com MinMaxScaler"
   ]
  },
  {
   "cell_type": "code",
   "execution_count": 13,
   "id": "9c2141a6",
   "metadata": {},
   "outputs": [],
   "source": [
    "min_max_scaler = MinMaxScaler()\n",
    "for n in nomes:\n",
    "    x[[n]] = min_max_scaler.fit_transform(x[[n]])"
   ]
  },
  {
   "cell_type": "code",
   "execution_count": 14,
   "id": "386ebd49",
   "metadata": {
    "scrolled": true
   },
   "outputs": [
    {
     "data": {
      "text/html": [
       "<div>\n",
       "<style scoped>\n",
       "    .dataframe tbody tr th:only-of-type {\n",
       "        vertical-align: middle;\n",
       "    }\n",
       "\n",
       "    .dataframe tbody tr th {\n",
       "        vertical-align: top;\n",
       "    }\n",
       "\n",
       "    .dataframe thead th {\n",
       "        text-align: right;\n",
       "    }\n",
       "</style>\n",
       "<table border=\"1\" class=\"dataframe\">\n",
       "  <thead>\n",
       "    <tr style=\"text-align: right;\">\n",
       "      <th></th>\n",
       "      <th>data_matricula</th>\n",
       "      <th>mes_ocorrencia</th>\n",
       "      <th>idade</th>\n",
       "      <th>total_inscritos</th>\n",
       "      <th>fim_ciclo</th>\n",
       "      <th>carga_horaria</th>\n",
       "      <th>inicio_ciclo</th>\n",
       "      <th>faixa_etaria</th>\n",
       "      <th>codigo_unidade_ensino_sistec</th>\n",
       "      <th>vagas_ofertadas</th>\n",
       "      <th>codigo_municipio_dv</th>\n",
       "      <th>cor_raca</th>\n",
       "      <th>municipio</th>\n",
       "      <th>unidade_ensino</th>\n",
       "      <th>renda_familiar</th>\n",
       "    </tr>\n",
       "  </thead>\n",
       "  <tbody>\n",
       "    <tr>\n",
       "      <th>0</th>\n",
       "      <td>0.083032</td>\n",
       "      <td>0.071918</td>\n",
       "      <td>0.142857</td>\n",
       "      <td>0.019488</td>\n",
       "      <td>0.598605</td>\n",
       "      <td>0.904301</td>\n",
       "      <td>0.654801</td>\n",
       "      <td>0.1</td>\n",
       "      <td>0.396789</td>\n",
       "      <td>0.221519</td>\n",
       "      <td>0.913366</td>\n",
       "      <td>0.6</td>\n",
       "      <td>0.182045</td>\n",
       "      <td>0.195853</td>\n",
       "      <td>0.833333</td>\n",
       "    </tr>\n",
       "    <tr>\n",
       "      <th>1</th>\n",
       "      <td>0.083032</td>\n",
       "      <td>0.058219</td>\n",
       "      <td>0.142857</td>\n",
       "      <td>0.007795</td>\n",
       "      <td>0.597971</td>\n",
       "      <td>0.434409</td>\n",
       "      <td>0.654801</td>\n",
       "      <td>0.1</td>\n",
       "      <td>0.396789</td>\n",
       "      <td>0.221519</td>\n",
       "      <td>0.913366</td>\n",
       "      <td>0.6</td>\n",
       "      <td>0.182045</td>\n",
       "      <td>0.195853</td>\n",
       "      <td>0.833333</td>\n",
       "    </tr>\n",
       "    <tr>\n",
       "      <th>2</th>\n",
       "      <td>0.083032</td>\n",
       "      <td>0.017123</td>\n",
       "      <td>0.333333</td>\n",
       "      <td>0.007795</td>\n",
       "      <td>0.597971</td>\n",
       "      <td>0.434409</td>\n",
       "      <td>0.654801</td>\n",
       "      <td>0.3</td>\n",
       "      <td>0.396789</td>\n",
       "      <td>0.221519</td>\n",
       "      <td>0.913366</td>\n",
       "      <td>0.6</td>\n",
       "      <td>0.182045</td>\n",
       "      <td>0.195853</td>\n",
       "      <td>0.833333</td>\n",
       "    </tr>\n",
       "    <tr>\n",
       "      <th>3</th>\n",
       "      <td>0.140794</td>\n",
       "      <td>0.065068</td>\n",
       "      <td>0.444444</td>\n",
       "      <td>0.007795</td>\n",
       "      <td>0.597971</td>\n",
       "      <td>0.434409</td>\n",
       "      <td>0.654801</td>\n",
       "      <td>0.5</td>\n",
       "      <td>0.396789</td>\n",
       "      <td>0.221519</td>\n",
       "      <td>0.913366</td>\n",
       "      <td>0.6</td>\n",
       "      <td>0.182045</td>\n",
       "      <td>0.195853</td>\n",
       "      <td>0.833333</td>\n",
       "    </tr>\n",
       "    <tr>\n",
       "      <th>4</th>\n",
       "      <td>0.140794</td>\n",
       "      <td>0.017123</td>\n",
       "      <td>0.333333</td>\n",
       "      <td>0.007795</td>\n",
       "      <td>0.597971</td>\n",
       "      <td>0.434409</td>\n",
       "      <td>0.654801</td>\n",
       "      <td>0.3</td>\n",
       "      <td>0.396789</td>\n",
       "      <td>0.221519</td>\n",
       "      <td>0.913366</td>\n",
       "      <td>0.6</td>\n",
       "      <td>0.182045</td>\n",
       "      <td>0.195853</td>\n",
       "      <td>0.833333</td>\n",
       "    </tr>\n",
       "    <tr>\n",
       "      <th>...</th>\n",
       "      <td>...</td>\n",
       "      <td>...</td>\n",
       "      <td>...</td>\n",
       "      <td>...</td>\n",
       "      <td>...</td>\n",
       "      <td>...</td>\n",
       "      <td>...</td>\n",
       "      <td>...</td>\n",
       "      <td>...</td>\n",
       "      <td>...</td>\n",
       "      <td>...</td>\n",
       "      <td>...</td>\n",
       "      <td>...</td>\n",
       "      <td>...</td>\n",
       "      <td>...</td>\n",
       "    </tr>\n",
       "    <tr>\n",
       "      <th>68747</th>\n",
       "      <td>0.093863</td>\n",
       "      <td>0.041096</td>\n",
       "      <td>0.079365</td>\n",
       "      <td>0.097439</td>\n",
       "      <td>0.493976</td>\n",
       "      <td>0.350538</td>\n",
       "      <td>0.981788</td>\n",
       "      <td>0.0</td>\n",
       "      <td>0.325688</td>\n",
       "      <td>0.278481</td>\n",
       "      <td>0.492574</td>\n",
       "      <td>0.0</td>\n",
       "      <td>0.571072</td>\n",
       "      <td>0.552995</td>\n",
       "      <td>0.000000</td>\n",
       "    </tr>\n",
       "    <tr>\n",
       "      <th>68748</th>\n",
       "      <td>0.151625</td>\n",
       "      <td>0.047945</td>\n",
       "      <td>0.158730</td>\n",
       "      <td>0.063474</td>\n",
       "      <td>0.693088</td>\n",
       "      <td>0.191398</td>\n",
       "      <td>0.834437</td>\n",
       "      <td>0.1</td>\n",
       "      <td>0.119266</td>\n",
       "      <td>0.234177</td>\n",
       "      <td>0.564356</td>\n",
       "      <td>0.0</td>\n",
       "      <td>0.254364</td>\n",
       "      <td>0.269585</td>\n",
       "      <td>0.000000</td>\n",
       "    </tr>\n",
       "    <tr>\n",
       "      <th>68749</th>\n",
       "      <td>0.191336</td>\n",
       "      <td>0.047945</td>\n",
       "      <td>0.206349</td>\n",
       "      <td>0.018931</td>\n",
       "      <td>0.563094</td>\n",
       "      <td>0.163441</td>\n",
       "      <td>0.153146</td>\n",
       "      <td>0.2</td>\n",
       "      <td>0.552752</td>\n",
       "      <td>0.000000</td>\n",
       "      <td>0.943069</td>\n",
       "      <td>0.0</td>\n",
       "      <td>0.029925</td>\n",
       "      <td>0.023041</td>\n",
       "      <td>0.000000</td>\n",
       "    </tr>\n",
       "    <tr>\n",
       "      <th>68750</th>\n",
       "      <td>0.238267</td>\n",
       "      <td>0.020548</td>\n",
       "      <td>0.253968</td>\n",
       "      <td>0.038419</td>\n",
       "      <td>0.564997</td>\n",
       "      <td>0.279570</td>\n",
       "      <td>0.666391</td>\n",
       "      <td>0.2</td>\n",
       "      <td>0.327982</td>\n",
       "      <td>0.189873</td>\n",
       "      <td>0.957921</td>\n",
       "      <td>0.0</td>\n",
       "      <td>0.356608</td>\n",
       "      <td>0.361751</td>\n",
       "      <td>0.666667</td>\n",
       "    </tr>\n",
       "    <tr>\n",
       "      <th>68751</th>\n",
       "      <td>0.148014</td>\n",
       "      <td>0.047945</td>\n",
       "      <td>0.428571</td>\n",
       "      <td>0.842428</td>\n",
       "      <td>0.525048</td>\n",
       "      <td>0.261290</td>\n",
       "      <td>0.100993</td>\n",
       "      <td>0.5</td>\n",
       "      <td>0.000000</td>\n",
       "      <td>0.310127</td>\n",
       "      <td>1.000000</td>\n",
       "      <td>0.0</td>\n",
       "      <td>0.139651</td>\n",
       "      <td>0.663594</td>\n",
       "      <td>0.500000</td>\n",
       "    </tr>\n",
       "  </tbody>\n",
       "</table>\n",
       "<p>68752 rows × 15 columns</p>\n",
       "</div>"
      ],
      "text/plain": [
       "       data_matricula  mes_ocorrencia     idade  total_inscritos  fim_ciclo  \\\n",
       "0            0.083032        0.071918  0.142857         0.019488   0.598605   \n",
       "1            0.083032        0.058219  0.142857         0.007795   0.597971   \n",
       "2            0.083032        0.017123  0.333333         0.007795   0.597971   \n",
       "3            0.140794        0.065068  0.444444         0.007795   0.597971   \n",
       "4            0.140794        0.017123  0.333333         0.007795   0.597971   \n",
       "...               ...             ...       ...              ...        ...   \n",
       "68747        0.093863        0.041096  0.079365         0.097439   0.493976   \n",
       "68748        0.151625        0.047945  0.158730         0.063474   0.693088   \n",
       "68749        0.191336        0.047945  0.206349         0.018931   0.563094   \n",
       "68750        0.238267        0.020548  0.253968         0.038419   0.564997   \n",
       "68751        0.148014        0.047945  0.428571         0.842428   0.525048   \n",
       "\n",
       "       carga_horaria  inicio_ciclo  faixa_etaria  \\\n",
       "0           0.904301      0.654801           0.1   \n",
       "1           0.434409      0.654801           0.1   \n",
       "2           0.434409      0.654801           0.3   \n",
       "3           0.434409      0.654801           0.5   \n",
       "4           0.434409      0.654801           0.3   \n",
       "...              ...           ...           ...   \n",
       "68747       0.350538      0.981788           0.0   \n",
       "68748       0.191398      0.834437           0.1   \n",
       "68749       0.163441      0.153146           0.2   \n",
       "68750       0.279570      0.666391           0.2   \n",
       "68751       0.261290      0.100993           0.5   \n",
       "\n",
       "       codigo_unidade_ensino_sistec  vagas_ofertadas  codigo_municipio_dv  \\\n",
       "0                          0.396789         0.221519             0.913366   \n",
       "1                          0.396789         0.221519             0.913366   \n",
       "2                          0.396789         0.221519             0.913366   \n",
       "3                          0.396789         0.221519             0.913366   \n",
       "4                          0.396789         0.221519             0.913366   \n",
       "...                             ...              ...                  ...   \n",
       "68747                      0.325688         0.278481             0.492574   \n",
       "68748                      0.119266         0.234177             0.564356   \n",
       "68749                      0.552752         0.000000             0.943069   \n",
       "68750                      0.327982         0.189873             0.957921   \n",
       "68751                      0.000000         0.310127             1.000000   \n",
       "\n",
       "       cor_raca  municipio  unidade_ensino  renda_familiar  \n",
       "0           0.6   0.182045        0.195853        0.833333  \n",
       "1           0.6   0.182045        0.195853        0.833333  \n",
       "2           0.6   0.182045        0.195853        0.833333  \n",
       "3           0.6   0.182045        0.195853        0.833333  \n",
       "4           0.6   0.182045        0.195853        0.833333  \n",
       "...         ...        ...             ...             ...  \n",
       "68747       0.0   0.571072        0.552995        0.000000  \n",
       "68748       0.0   0.254364        0.269585        0.000000  \n",
       "68749       0.0   0.029925        0.023041        0.000000  \n",
       "68750       0.0   0.356608        0.361751        0.666667  \n",
       "68751       0.0   0.139651        0.663594        0.500000  \n",
       "\n",
       "[68752 rows x 15 columns]"
      ]
     },
     "execution_count": 14,
     "metadata": {},
     "output_type": "execute_result"
    }
   ],
   "source": [
    "x"
   ]
  },
  {
   "cell_type": "markdown",
   "id": "191f08d3",
   "metadata": {},
   "source": [
    "### Treinamento"
   ]
  },
  {
   "cell_type": "code",
   "execution_count": 15,
   "id": "f225ef5d",
   "metadata": {},
   "outputs": [],
   "source": [
    "x_treino, x_teste, y_treino, y_teste = train_test_split(x,y,test_size=0.20, random_state=42)\n",
    "naive = ComplementNB()\n",
    "naive.fit(x_treino, y_treino.values.ravel())\n",
    "#Realizando a predição\n",
    "resultado = naive.predict(x_teste)"
   ]
  },
  {
   "cell_type": "code",
   "execution_count": 16,
   "id": "5e23ba6f",
   "metadata": {},
   "outputs": [
    {
     "data": {
      "text/plain": [
       "0.37553632463093595"
      ]
     },
     "execution_count": 16,
     "metadata": {},
     "output_type": "execute_result"
    }
   ],
   "source": [
    "mean_squared_error(y_teste,resultado)"
   ]
  },
  {
   "cell_type": "code",
   "execution_count": 17,
   "id": "ddfcf9eb",
   "metadata": {},
   "outputs": [
    {
     "data": {
      "text/plain": [
       "0.6244636753690641"
      ]
     },
     "execution_count": 17,
     "metadata": {},
     "output_type": "execute_result"
    }
   ],
   "source": [
    "naive.score(x_teste,y_teste)"
   ]
  },
  {
   "cell_type": "code",
   "execution_count": 18,
   "id": "0990a074",
   "metadata": {
    "scrolled": true
   },
   "outputs": [
    {
     "name": "stdout",
     "output_type": "stream",
     "text": [
      "0.6356919867373135\n"
     ]
    }
   ],
   "source": [
    "score = f1_score(y_teste, resultado,average='weighted')\n",
    "print(score)"
   ]
  },
  {
   "cell_type": "markdown",
   "id": "fd45b7e7",
   "metadata": {},
   "source": [
    "### Métricas"
   ]
  },
  {
   "cell_type": "code",
   "execution_count": 19,
   "id": "2f8159c7",
   "metadata": {},
   "outputs": [],
   "source": [
    "# Imports\n",
    "from sklearn.metrics import accuracy_score\n",
    "from sklearn.metrics import precision_score\n",
    "from sklearn.metrics import recall_score\n",
    "from sklearn.metrics import roc_auc_score\n",
    "from sklearn.metrics import f1_score\n",
    "\n",
    "metricas = ['accuracy','precision','recall','roc_auc','f1']"
   ]
  },
  {
   "cell_type": "code",
   "execution_count": 20,
   "id": "cbbe823b",
   "metadata": {},
   "outputs": [
    {
     "name": "stdout",
     "output_type": "stream",
     "text": [
      "holdout accuracy:  0.6244636753690641\n",
      "holdout precision:  0.764035705896171\n",
      "holdout recall:  0.6733954451345756\n",
      "holdout roc_auc:  0.5911587345447994\n",
      "holdout f1:  0.7158578188621106\n"
     ]
    }
   ],
   "source": [
    "#Holdout\n",
    "metrica_holdout = {}\n",
    "metrica_holdout['accuracy'] = accuracy_score(y_teste,resultado)\n",
    "metrica_holdout['precision'] = precision_score(y_teste,resultado)\n",
    "metrica_holdout['recall'] = recall_score(y_teste,resultado)\n",
    "metrica_holdout['roc_auc'] = roc_auc_score(y_teste,resultado)\n",
    "metrica_holdout['f1'] = f1_score(y_teste,resultado)\n",
    "\n",
    "for metrica in metricas:    \n",
    "    print('holdout ' + metrica+ ': ', np.mean(metrica_holdout[metrica]))"
   ]
  },
  {
   "cell_type": "code",
   "execution_count": 21,
   "id": "3a1ebe2c",
   "metadata": {},
   "outputs": [
    {
     "name": "stdout",
     "output_type": "stream",
     "text": [
      "cross accuracy:  0.6182065248089755\n",
      "cross precision:  0.7585263726899463\n",
      "cross recall:  0.668790444692548\n",
      "cross roc_auc:  0.626744052930393\n",
      "cross f1:  0.7096946659669291\n"
     ]
    }
   ],
   "source": [
    "#Cros validation\n",
    "from sklearn.model_selection import cross_val_score\n",
    "metrica_cross = {}\n",
    "\n",
    "for metrica in metricas:\n",
    "    metrica_cross[metrica] = cross_val_score(naive, x, y.values.ravel(), cv=15, n_jobs=-1, scoring=metrica)\n",
    "    print('cross ' + metrica+ ': ', np.mean(metrica_cross[metrica]))\n"
   ]
  },
  {
   "cell_type": "markdown",
   "id": "49b54ac2",
   "metadata": {},
   "source": [
    "### Matriz de confusão"
   ]
  },
  {
   "cell_type": "code",
   "execution_count": 22,
   "id": "4f154557",
   "metadata": {},
   "outputs": [
    {
     "data": {
      "image/png": "[encoded data removed]",
      "text/plain": [
       "<Figure size 432x288 with 2 Axes>"
      ]
     },
     "metadata": {
      "needs_background": "light"
     },
     "output_type": "display_data"
    }
   ],
   "source": [
    "ConfusionMatrixDisplay.from_predictions(y_teste, resultado)\n",
    "plt.show()"
   ]
  },
  {
   "cell_type": "code",
   "execution_count": 23,
   "id": "759622d3",
   "metadata": {},
   "outputs": [],
   "source": [
    "from sklearn.metrics import roc_curve\n",
    "from sklearn.metrics import RocCurveDisplay"
   ]
  },
  {
   "cell_type": "code",
   "execution_count": 24,
   "id": "a817a5fc",
   "metadata": {
    "scrolled": true
   },
   "outputs": [
    {
     "data": {
      "image/png": "[encoded data removed]",
      "text/plain": [
       "<Figure size 432x288 with 1 Axes>"
      ]
     },
     "metadata": {
      "needs_background": "light"
     },
     "output_type": "display_data"
    }
   ],
   "source": [
    "fpr, tpr, _ = roc_curve(y_teste, resultado)\n",
    "roc_display = RocCurveDisplay(fpr=fpr, tpr=tpr).plot()"
   ]
  },
  {
   "cell_type": "code",
   "execution_count": 25,
   "id": "91c08751",
   "metadata": {},
   "outputs": [
    {
     "data": {
      "text/plain": [
       "0.5911587345447994"
      ]
     },
     "execution_count": 25,
     "metadata": {},
     "output_type": "execute_result"
    }
   ],
   "source": [
    "roc_auc_score(y_teste, resultado)"
   ]
  }
 ],
 "metadata": {
  "kernelspec": {
   "display_name": "Python 3 (ipykernel)",
   "language": "python",
   "name": "python3"
  },
  "language_info": {
   "codemirror_mode": {
    "name": "ipython",
    "version": 3
   },
   "file_extension": ".py",
   "mimetype": "text/x-python",
   "name": "python",
   "nbconvert_exporter": "python",
   "pygments_lexer": "ipython3",
   "version": "3.10.4"
  }
 },
 "nbformat": 4,
 "nbformat_minor": 5
}
