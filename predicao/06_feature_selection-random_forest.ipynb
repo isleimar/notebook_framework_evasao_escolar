{
 "cells": [
  {
   "cell_type": "markdown",
   "id": "2fb9349b",
   "metadata": {},
   "source": [
    "# Usando Random Forest - Embedded"
   ]
  },
  {
   "cell_type": "code",
   "execution_count": 1,
   "id": "4c4bc775",
   "metadata": {},
   "outputs": [],
   "source": [
    "import numpy as np\n",
    "import pandas as pd\n",
    "import matplotlib.pyplot as plt"
   ]
  },
  {
   "cell_type": "code",
   "execution_count": 2,
   "id": "8a2197e8",
   "metadata": {},
   "outputs": [],
   "source": [
    "from sklearn.preprocessing import LabelEncoder\n",
    "from sklearn.preprocessing import MinMaxScaler"
   ]
  },
  {
   "cell_type": "code",
   "execution_count": 3,
   "id": "14049a01",
   "metadata": {},
   "outputs": [],
   "source": [
    "from sklearn.ensemble import RandomForestClassifier\n",
    "import matplotlib as plt"
   ]
  },
  {
   "cell_type": "code",
   "execution_count": 4,
   "id": "54d07e92",
   "metadata": {},
   "outputs": [],
   "source": [
    "#Desabilitando warning\n",
    "pd.set_option('mode.chained_assignment',None)"
   ]
  },
  {
   "cell_type": "code",
   "execution_count": 5,
   "id": "603fd24d",
   "metadata": {},
   "outputs": [],
   "source": [
    "#Importando dados\n",
    "matriculas = pd.read_csv(\"data/out.csv\")"
   ]
  },
  {
   "cell_type": "code",
   "execution_count": 6,
   "id": "1a386a66",
   "metadata": {},
   "outputs": [
    {
     "data": {
      "text/plain": [
       "(110713, 31)"
      ]
     },
     "execution_count": 6,
     "metadata": {},
     "output_type": "execute_result"
    }
   ],
   "source": [
    "matriculas.shape"
   ]
  },
  {
   "cell_type": "code",
   "execution_count": 7,
   "id": "6d504f18",
   "metadata": {
    "tags": []
   },
   "outputs": [],
   "source": [
    "y = matriculas[['categoria_situacao']]"
   ]
  },
  {
   "cell_type": "code",
   "execution_count": 8,
   "id": "21a1a508",
   "metadata": {},
   "outputs": [],
   "source": [
    "x = matriculas.iloc[:,range(1,len(matriculas.columns))]"
   ]
  },
  {
   "cell_type": "markdown",
   "id": "82196867",
   "metadata": {},
   "source": [
    "### Nomes dos campos"
   ]
  },
  {
   "cell_type": "code",
   "execution_count": 9,
   "id": "9be93e8b",
   "metadata": {},
   "outputs": [],
   "source": [
    "nomes = list(x.columns.values)"
   ]
  },
  {
   "cell_type": "markdown",
   "id": "ec3ec706",
   "metadata": {},
   "source": [
    "### Convertendo variáveis categóricas em numéricas"
   ]
  },
  {
   "cell_type": "code",
   "execution_count": 10,
   "id": "06a36ca0",
   "metadata": {},
   "outputs": [],
   "source": [
    "le = LabelEncoder()\n",
    "for n in nomes:\n",
    "    x[n] = le.fit_transform(x[n])"
   ]
  },
  {
   "cell_type": "markdown",
   "id": "ef97435a",
   "metadata": {},
   "source": [
    "### Dimensionando Campos com MinMaxScaler"
   ]
  },
  {
   "cell_type": "code",
   "execution_count": 11,
   "id": "793058cd",
   "metadata": {
    "tags": []
   },
   "outputs": [],
   "source": [
    "min_max_scaler = MinMaxScaler()\n",
    "for n in nomes:\n",
    "    x[[n]] = min_max_scaler.fit_transform(x[[n]])"
   ]
  },
  {
   "cell_type": "code",
   "execution_count": 12,
   "id": "91905152",
   "metadata": {
    "tags": []
   },
   "outputs": [],
   "source": [
    "modelo3 = RandomForestClassifier(n_estimators=20)"
   ]
  },
  {
   "cell_type": "code",
   "execution_count": 13,
   "id": "f0da8847",
   "metadata": {},
   "outputs": [
    {
     "data": {
      "text/html": [
       "<style>#sk-container-id-1 {color: black;background-color: white;}#sk-container-id-1 pre{padding: 0;}#sk-container-id-1 div.sk-toggleable {background-color: white;}#sk-container-id-1 label.sk-toggleable__label {cursor: pointer;display: block;width: 100%;margin-bottom: 0;padding: 0.3em;box-sizing: border-box;text-align: center;}#sk-container-id-1 label.sk-toggleable__label-arrow:before {content: \"▸\";float: left;margin-right: 0.25em;color: #696969;}#sk-container-id-1 label.sk-toggleable__label-arrow:hover:before {color: black;}#sk-container-id-1 div.sk-estimator:hover label.sk-toggleable__label-arrow:before {color: black;}#sk-container-id-1 div.sk-toggleable__content {max-height: 0;max-width: 0;overflow: hidden;text-align: left;background-color: #f0f8ff;}#sk-container-id-1 div.sk-toggleable__content pre {margin: 0.2em;color: black;border-radius: 0.25em;background-color: #f0f8ff;}#sk-container-id-1 input.sk-toggleable__control:checked~div.sk-toggleable__content {max-height: 200px;max-width: 100%;overflow: auto;}#sk-container-id-1 input.sk-toggleable__control:checked~label.sk-toggleable__label-arrow:before {content: \"▾\";}#sk-container-id-1 div.sk-estimator input.sk-toggleable__control:checked~label.sk-toggleable__label {background-color: #d4ebff;}#sk-container-id-1 div.sk-label input.sk-toggleable__control:checked~label.sk-toggleable__label {background-color: #d4ebff;}#sk-container-id-1 input.sk-hidden--visually {border: 0;clip: rect(1px 1px 1px 1px);clip: rect(1px, 1px, 1px, 1px);height: 1px;margin: -1px;overflow: hidden;padding: 0;position: absolute;width: 1px;}#sk-container-id-1 div.sk-estimator {font-family: monospace;background-color: #f0f8ff;border: 1px dotted black;border-radius: 0.25em;box-sizing: border-box;margin-bottom: 0.5em;}#sk-container-id-1 div.sk-estimator:hover {background-color: #d4ebff;}#sk-container-id-1 div.sk-parallel-item::after {content: \"\";width: 100%;border-bottom: 1px solid gray;flex-grow: 1;}#sk-container-id-1 div.sk-label:hover label.sk-toggleable__label {background-color: #d4ebff;}#sk-container-id-1 div.sk-serial::before {content: \"\";position: absolute;border-left: 1px solid gray;box-sizing: border-box;top: 0;bottom: 0;left: 50%;z-index: 0;}#sk-container-id-1 div.sk-serial {display: flex;flex-direction: column;align-items: center;background-color: white;padding-right: 0.2em;padding-left: 0.2em;position: relative;}#sk-container-id-1 div.sk-item {position: relative;z-index: 1;}#sk-container-id-1 div.sk-parallel {display: flex;align-items: stretch;justify-content: center;background-color: white;position: relative;}#sk-container-id-1 div.sk-item::before, #sk-container-id-1 div.sk-parallel-item::before {content: \"\";position: absolute;border-left: 1px solid gray;box-sizing: border-box;top: 0;bottom: 0;left: 50%;z-index: -1;}#sk-container-id-1 div.sk-parallel-item {display: flex;flex-direction: column;z-index: 1;position: relative;background-color: white;}#sk-container-id-1 div.sk-parallel-item:first-child::after {align-self: flex-end;width: 50%;}#sk-container-id-1 div.sk-parallel-item:last-child::after {align-self: flex-start;width: 50%;}#sk-container-id-1 div.sk-parallel-item:only-child::after {width: 0;}#sk-container-id-1 div.sk-dashed-wrapped {border: 1px dashed gray;margin: 0 0.4em 0.5em 0.4em;box-sizing: border-box;padding-bottom: 0.4em;background-color: white;}#sk-container-id-1 div.sk-label label {font-family: monospace;font-weight: bold;display: inline-block;line-height: 1.2em;}#sk-container-id-1 div.sk-label-container {text-align: center;}#sk-container-id-1 div.sk-container {/* jupyter's `normalize.less` sets `[hidden] { display: none; }` but bootstrap.min.css set `[hidden] { display: none !important; }` so we also need the `!important` here to be able to override the default hidden behavior on the sphinx rendered scikit-learn.org. See: https://github.com/scikit-learn/scikit-learn/issues/21755 */display: inline-block !important;position: relative;}#sk-container-id-1 div.sk-text-repr-fallback {display: none;}</style><div id=\"sk-container-id-1\" class=\"sk-top-container\"><div class=\"sk-text-repr-fallback\"><pre>RandomForestClassifier(n_estimators=20)</pre><b>In a Jupyter environment, please rerun this cell to show the HTML representation or trust the notebook. <br />On GitHub, the HTML representation is unable to render, please try loading this page with nbviewer.org.</b></div><div class=\"sk-container\" hidden><div class=\"sk-item\"><div class=\"sk-estimator sk-toggleable\"><input class=\"sk-toggleable__control sk-hidden--visually\" id=\"sk-estimator-id-1\" type=\"checkbox\" checked><label for=\"sk-estimator-id-1\" class=\"sk-toggleable__label sk-toggleable__label-arrow\">RandomForestClassifier</label><div class=\"sk-toggleable__content\"><pre>RandomForestClassifier(n_estimators=20)</pre></div></div></div></div></div>"
      ],
      "text/plain": [
       "RandomForestClassifier(n_estimators=20)"
      ]
     },
     "execution_count": 13,
     "metadata": {},
     "output_type": "execute_result"
    }
   ],
   "source": [
    "modelo3.fit(x,y.values.ravel())"
   ]
  },
  {
   "cell_type": "code",
   "execution_count": 14,
   "id": "164aaa04",
   "metadata": {
    "scrolled": true,
    "tags": []
   },
   "outputs": [
    {
     "name": "stdout",
     "output_type": "stream",
     "text": [
      "[0.00973752 0.04630243 0.01181328 0.02217577 0.06642654 0.04848098\n",
      " 0.11761911 0.01381839 0.01733224 0.11528006 0.00287348 0.0262952\n",
      " 0.01212793 0.02647481 0.02067573 0.01309779 0.01604699 0.00916636\n",
      " 0.01052193 0.06022257 0.01230019 0.03671713 0.03056428 0.09817537\n",
      " 0.03746988 0.02899029 0.0308977  0.02811805 0.01963025 0.01064774]\n"
     ]
    }
   ],
   "source": [
    "print(modelo3.feature_importances_)"
   ]
  },
  {
   "cell_type": "code",
   "execution_count": 15,
   "id": "0ac89b12",
   "metadata": {},
   "outputs": [],
   "source": [
    "feat_importances = pd.DataFrame(modelo3.feature_importances_,index = x.columns,columns=['importance']).sort_values('importance', ascending = False)"
   ]
  },
  {
   "cell_type": "code",
   "execution_count": 30,
   "id": "1eaca514",
   "metadata": {},
   "outputs": [
    {
     "data": {
      "text/html": [
       "<div>\n",
       "<style scoped>\n",
       "    .dataframe tbody tr th:only-of-type {\n",
       "        vertical-align: middle;\n",
       "    }\n",
       "\n",
       "    .dataframe tbody tr th {\n",
       "        vertical-align: top;\n",
       "    }\n",
       "\n",
       "    .dataframe thead th {\n",
       "        text-align: right;\n",
       "    }\n",
       "</style>\n",
       "<table border=\"1\" class=\"dataframe\">\n",
       "  <thead>\n",
       "    <tr style=\"text-align: right;\">\n",
       "      <th></th>\n",
       "      <th>importance</th>\n",
       "    </tr>\n",
       "  </thead>\n",
       "  <tbody>\n",
       "    <tr>\n",
       "      <th>data_matricula</th>\n",
       "      <td>0.117619</td>\n",
       "    </tr>\n",
       "    <tr>\n",
       "      <th>mes_ocorrencia</th>\n",
       "      <td>0.115280</td>\n",
       "    </tr>\n",
       "    <tr>\n",
       "      <th>idade</th>\n",
       "      <td>0.098175</td>\n",
       "    </tr>\n",
       "    <tr>\n",
       "      <th>fim_ciclo</th>\n",
       "      <td>0.066427</td>\n",
       "    </tr>\n",
       "    <tr>\n",
       "      <th>total_inscritos</th>\n",
       "      <td>0.060223</td>\n",
       "    </tr>\n",
       "    <tr>\n",
       "      <th>inicio_ciclo</th>\n",
       "      <td>0.048481</td>\n",
       "    </tr>\n",
       "    <tr>\n",
       "      <th>carga_horaria</th>\n",
       "      <td>0.046302</td>\n",
       "    </tr>\n",
       "    <tr>\n",
       "      <th>faixa_etaria</th>\n",
       "      <td>0.037470</td>\n",
       "    </tr>\n",
       "    <tr>\n",
       "      <th>codigo_unidade_ensino_sistec</th>\n",
       "      <td>0.036717</td>\n",
       "    </tr>\n",
       "    <tr>\n",
       "      <th>codigo_municipio_dv</th>\n",
       "      <td>0.030898</td>\n",
       "    </tr>\n",
       "    <tr>\n",
       "      <th>vagas_ofertadas</th>\n",
       "      <td>0.030564</td>\n",
       "    </tr>\n",
       "    <tr>\n",
       "      <th>unidade_ensino</th>\n",
       "      <td>0.028990</td>\n",
       "    </tr>\n",
       "    <tr>\n",
       "      <th>municipio</th>\n",
       "      <td>0.028118</td>\n",
       "    </tr>\n",
       "    <tr>\n",
       "      <th>renda_familiar</th>\n",
       "      <td>0.026475</td>\n",
       "    </tr>\n",
       "    <tr>\n",
       "      <th>nome_curso</th>\n",
       "      <td>0.026295</td>\n",
       "    </tr>\n",
       "    <tr>\n",
       "      <th>cor_raca</th>\n",
       "      <td>0.022176</td>\n",
       "    </tr>\n",
       "    <tr>\n",
       "      <th>instituicao</th>\n",
       "      <td>0.020676</td>\n",
       "    </tr>\n",
       "    <tr>\n",
       "      <th>uf</th>\n",
       "      <td>0.019630</td>\n",
       "    </tr>\n",
       "    <tr>\n",
       "      <th>fator_esforco_curso</th>\n",
       "      <td>0.017332</td>\n",
       "    </tr>\n",
       "    <tr>\n",
       "      <th>sub_eixo_tecnologico</th>\n",
       "      <td>0.016047</td>\n",
       "    </tr>\n",
       "    <tr>\n",
       "      <th>eixo_tecnologico</th>\n",
       "      <td>0.013818</td>\n",
       "    </tr>\n",
       "    <tr>\n",
       "      <th>sexo</th>\n",
       "      <td>0.013098</td>\n",
       "    </tr>\n",
       "    <tr>\n",
       "      <th>turno</th>\n",
       "      <td>0.012300</td>\n",
       "    </tr>\n",
       "    <tr>\n",
       "      <th>fonte_financiamento</th>\n",
       "      <td>0.012128</td>\n",
       "    </tr>\n",
       "    <tr>\n",
       "      <th>carga_minima</th>\n",
       "      <td>0.011813</td>\n",
       "    </tr>\n",
       "    <tr>\n",
       "      <th>regiao</th>\n",
       "      <td>0.010648</td>\n",
       "    </tr>\n",
       "    <tr>\n",
       "      <th>tipo_oferta</th>\n",
       "      <td>0.010522</td>\n",
       "    </tr>\n",
       "    <tr>\n",
       "      <th>ano</th>\n",
       "      <td>0.009738</td>\n",
       "    </tr>\n",
       "    <tr>\n",
       "      <th>tipo_curso</th>\n",
       "      <td>0.009166</td>\n",
       "    </tr>\n",
       "    <tr>\n",
       "      <th>modalidade_ensino</th>\n",
       "      <td>0.002873</td>\n",
       "    </tr>\n",
       "  </tbody>\n",
       "</table>\n",
       "</div>"
      ],
      "text/plain": [
       "                              importance\n",
       "data_matricula                  0.117619\n",
       "mes_ocorrencia                  0.115280\n",
       "idade                           0.098175\n",
       "fim_ciclo                       0.066427\n",
       "total_inscritos                 0.060223\n",
       "inicio_ciclo                    0.048481\n",
       "carga_horaria                   0.046302\n",
       "faixa_etaria                    0.037470\n",
       "codigo_unidade_ensino_sistec    0.036717\n",
       "codigo_municipio_dv             0.030898\n",
       "vagas_ofertadas                 0.030564\n",
       "unidade_ensino                  0.028990\n",
       "municipio                       0.028118\n",
       "renda_familiar                  0.026475\n",
       "nome_curso                      0.026295\n",
       "cor_raca                        0.022176\n",
       "instituicao                     0.020676\n",
       "uf                              0.019630\n",
       "fator_esforco_curso             0.017332\n",
       "sub_eixo_tecnologico            0.016047\n",
       "eixo_tecnologico                0.013818\n",
       "sexo                            0.013098\n",
       "turno                           0.012300\n",
       "fonte_financiamento             0.012128\n",
       "carga_minima                    0.011813\n",
       "regiao                          0.010648\n",
       "tipo_oferta                     0.010522\n",
       "ano                             0.009738\n",
       "tipo_curso                      0.009166\n",
       "modalidade_ensino               0.002873"
      ]
     },
     "execution_count": 30,
     "metadata": {},
     "output_type": "execute_result"
    }
   ],
   "source": [
    "feat_importances"
   ]
  },
  {
   "cell_type": "code",
   "execution_count": 17,
   "id": "39bf0d94",
   "metadata": {},
   "outputs": [
    {
     "data": {
      "text/plain": [
       "<AxesSubplot:>"
      ]
     },
     "execution_count": 17,
     "metadata": {},
     "output_type": "execute_result"
    },
    {
     "data": {
      "image/png": "[encoded data removed]",
      "text/plain": [
       "<Figure size 432x288 with 1 Axes>"
      ]
     },
     "metadata": {
      "needs_background": "light"
     },
     "output_type": "display_data"
    }
   ],
   "source": [
    "feat_importances.plot(kind='bar')"
   ]
  },
  {
   "cell_type": "code",
   "execution_count": 19,
   "id": "8fc3d76f-d63f-40e5-b156-1ef53055a2ae",
   "metadata": {},
   "outputs": [],
   "source": [
    "feat_importances = pd.DataFrame(\n",
    "            modelo3.feature_importances_,\n",
    "            index = x.columns,\n",
    "            columns=['importance']).sort_values('importance', ascending = False)"
   ]
  },
  {
   "cell_type": "code",
   "execution_count": 34,
   "id": "7bca2a74-989e-4a61-83d1-bd30a0332c8f",
   "metadata": {},
   "outputs": [
    {
     "data": {
      "text/plain": [
       "['data_matricula',\n",
       " 'mes_ocorrencia',\n",
       " 'idade',\n",
       " 'fim_ciclo',\n",
       " 'total_inscritos',\n",
       " 'inicio_ciclo',\n",
       " 'carga_horaria',\n",
       " 'faixa_etaria',\n",
       " 'codigo_unidade_ensino_sistec',\n",
       " 'codigo_municipio_dv',\n",
       " 'vagas_ofertadas',\n",
       " 'unidade_ensino',\n",
       " 'municipio',\n",
       " 'renda_familiar',\n",
       " 'nome_curso',\n",
       " 'cor_raca',\n",
       " 'instituicao',\n",
       " 'uf',\n",
       " 'fator_esforco_curso',\n",
       " 'sub_eixo_tecnologico',\n",
       " 'eixo_tecnologico',\n",
       " 'sexo',\n",
       " 'turno',\n",
       " 'fonte_financiamento',\n",
       " 'carga_minima',\n",
       " 'regiao',\n",
       " 'tipo_oferta',\n",
       " 'ano',\n",
       " 'tipo_curso',\n",
       " 'modalidade_ensino']"
      ]
     },
     "execution_count": 34,
     "metadata": {},
     "output_type": "execute_result"
    }
   ],
   "source": [
    "list(feat_importances.index)[:213]"
   ]
  }
 ],
 "metadata": {
  "kernelspec": {
   "display_name": "Python 3 (ipykernel)",
   "language": "python",
   "name": "python3"
  },
  "language_info": {
   "codemirror_mode": {
    "name": "ipython",
    "version": 3
   },
   "file_extension": ".py",
   "mimetype": "text/x-python",
   "name": "python",
   "nbconvert_exporter": "python",
   "pygments_lexer": "ipython3",
   "version": "3.9.10"
  }
 },
 "nbformat": 4,
 "nbformat_minor": 5
}
