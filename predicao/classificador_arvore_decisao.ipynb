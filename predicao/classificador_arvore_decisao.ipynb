{
 "cells": [
  {
   "cell_type": "markdown",
   "id": "8340228d-db7a-4f75-b7a3-a43d9c712fc4",
   "metadata": {},
   "source": [
    "## Intalando modulo imblearn\n",
    "`docker-compose exec jupyter python3 -m pip install imbalanced-learn`"
   ]
  },
  {
   "cell_type": "code",
   "execution_count": 1,
   "id": "44503b2c-898b-4f17-9122-7dad9e45fc5e",
   "metadata": {},
   "outputs": [],
   "source": [
    "import pandas as pd\n",
    "from scripts.grafico_predicao import GraficoPredicao"
   ]
  },
  {
   "cell_type": "code",
   "execution_count": 2,
   "id": "f74693c9-4546-4f9a-b78a-41ae59b8339d",
   "metadata": {
    "tags": []
   },
   "outputs": [],
   "source": [
    "arq = '../data/teste.csv'\n",
    "alvo = 'categoria_situacao'\n",
    "campos = [\n",
    "'carga_horaria',\n",
    "'codigo_municipio_dv',\n",
    "'codigo_unidade_ensino_sistec',\n",
    "'cor_raca',\n",
    "'data_matricula',\n",
    "'faixa_etaria',\n",
    "'fim_ciclo',\n",
    "'idade',\n",
    "'inicio_ciclo',\n",
    "'mes_ocorrencia',\n",
    "'municipio',\n",
    "'renda_familiar',\n",
    "'total_inscritos',\n",
    "'unidade_ensino',\n",
    "'vagas_ofertadas',\n",
    "]\n",
    "filtro = ['Concluintes','Evadidos']\n",
    "df = pd.read_csv(arq)\n",
    "df = df[df[alvo].isin(filtro)]"
   ]
  },
  {
   "cell_type": "code",
   "execution_count": 3,
   "id": "77c28753-62e6-4f39-ace3-45c74674a9d1",
   "metadata": {},
   "outputs": [
    {
     "data": {
      "text/html": [
       "<div>\n",
       "<style scoped>\n",
       "    .dataframe tbody tr th:only-of-type {\n",
       "        vertical-align: middle;\n",
       "    }\n",
       "\n",
       "    .dataframe tbody tr th {\n",
       "        vertical-align: top;\n",
       "    }\n",
       "\n",
       "    .dataframe thead th {\n",
       "        text-align: right;\n",
       "    }\n",
       "</style>\n",
       "<table border=\"1\" class=\"dataframe\">\n",
       "  <thead>\n",
       "    <tr style=\"text-align: right;\">\n",
       "      <th></th>\n",
       "      <th>holdout</th>\n",
       "      <th>corss</th>\n",
       "    </tr>\n",
       "  </thead>\n",
       "  <tbody>\n",
       "    <tr>\n",
       "      <th>accuracy</th>\n",
       "      <td>0.852278</td>\n",
       "      <td>0.747970</td>\n",
       "    </tr>\n",
       "    <tr>\n",
       "      <th>precision</th>\n",
       "      <td>0.894331</td>\n",
       "      <td>0.810891</td>\n",
       "    </tr>\n",
       "    <tr>\n",
       "      <th>recall</th>\n",
       "      <td>0.890754</td>\n",
       "      <td>0.830720</td>\n",
       "    </tr>\n",
       "    <tr>\n",
       "      <th>roc_auc</th>\n",
       "      <td>0.828955</td>\n",
       "      <td>0.696957</td>\n",
       "    </tr>\n",
       "    <tr>\n",
       "      <th>f1</th>\n",
       "      <td>0.892539</td>\n",
       "      <td>0.819032</td>\n",
       "    </tr>\n",
       "  </tbody>\n",
       "</table>\n",
       "</div>"
      ],
      "text/plain": [
       "            holdout     corss\n",
       "accuracy   0.852278  0.747970\n",
       "precision  0.894331  0.810891\n",
       "recall     0.890754  0.830720\n",
       "roc_auc    0.828955  0.696957\n",
       "f1         0.892539  0.819032"
      ]
     },
     "execution_count": 3,
     "metadata": {},
     "output_type": "execute_result"
    }
   ],
   "source": [
    "from scripts.predicao_tree import PredicaoTree\n",
    "pt = PredicaoTree(df, alvo)\n",
    "pt.nomeCampos = campos\n",
    "pt.iniciar()"
   ]
  },
  {
   "cell_type": "code",
   "execution_count": 4,
   "id": "27c371f5-2233-4b5b-a82f-b7a9927f4069",
   "metadata": {},
   "outputs": [
    {
     "name": "stderr",
     "output_type": "stream",
     "text": [
      "/opt/conda/lib/python3.9/site-packages/sklearn/utils/deprecation.py:87: FutureWarning: Function plot_confusion_matrix is deprecated; Function `plot_confusion_matrix` is deprecated in 1.0 and will be removed in 1.2. Use one of the class methods: ConfusionMatrixDisplay.from_predictions or ConfusionMatrixDisplay.from_estimator.\n",
      "  warnings.warn(msg, category=FutureWarning)\n"
     ]
    },
    {
     "data": {
      "image/png": "[encoded data removed]",
      "text/plain": [
       "<Figure size 720x360 with 3 Axes>"
      ]
     },
     "metadata": {
      "needs_background": "light"
     },
     "output_type": "display_data"
    }
   ],
   "source": [
    "gp = GraficoPredicao([pt])\n",
    "gp.mostrarGraficos()"
   ]
  }
 ],
 "metadata": {
  "kernelspec": {
   "display_name": "Python 3 (ipykernel)",
   "language": "python",
   "name": "python3"
  },
  "language_info": {
   "codemirror_mode": {
    "name": "ipython",
    "version": 3
   },
   "file_extension": ".py",
   "mimetype": "text/x-python",
   "name": "python",
   "nbconvert_exporter": "python",
   "pygments_lexer": "ipython3",
   "version": "3.9.10"
  }
 },
 "nbformat": 4,
 "nbformat_minor": 5
}
