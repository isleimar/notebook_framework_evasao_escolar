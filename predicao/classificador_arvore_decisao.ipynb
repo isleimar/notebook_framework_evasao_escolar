{
 "cells": [
  {
   "cell_type": "code",
   "execution_count": 1,
   "id": "f74693c9-4546-4f9a-b78a-41ae59b8339d",
   "metadata": {
    "tags": []
   },
   "outputs": [],
   "source": [
    "arq = 'data/teste.csv'\n",
    "alvo = 'categoria_situacao'\n",
    "campos = [\n",
    "'carga_horaria',\n",
    "'codigo_municipio_dv',\n",
    "'codigo_unidade_ensino_sistec',\n",
    "'cor_raca',\n",
    "'data_matricula',\n",
    "'faixa_etaria',\n",
    "'fim_ciclo',\n",
    "'idade',\n",
    "'inicio_ciclo',\n",
    "'mes_ocorrencia',\n",
    "'municipio',\n",
    "'renda_familiar',\n",
    "'total_inscritos',\n",
    "'unidade_ensino',\n",
    "'vagas_ofertadas',\n",
    "]\n"
   ]
  },
  {
   "cell_type": "code",
   "execution_count": 2,
   "id": "77c28753-62e6-4f39-ace3-45c74674a9d1",
   "metadata": {},
   "outputs": [
    {
     "name": "stdout",
     "output_type": "stream",
     "text": [
      "        carga_horaria  codigo_municipio_dv  codigo_unidade_ensino_sistec  \\\n",
      "0            0.163830             0.229437                      0.388446   \n",
      "1            0.055319             0.419913                      0.217131   \n",
      "2            0.055319             0.419913                      0.217131   \n",
      "3            0.648936             0.080087                      0.607570   \n",
      "4            0.648936             0.080087                      0.607570   \n",
      "...               ...                  ...                           ...   \n",
      "563086       0.199291             0.235931                      0.752988   \n",
      "563087       0.199291             0.235931                      0.752988   \n",
      "563088       0.199291             0.235931                      0.752988   \n",
      "563089       0.199291             0.235931                      0.752988   \n",
      "563090       0.199291             0.235931                      0.752988   \n",
      "\n",
      "        cor_raca  data_matricula  faixa_etaria  fim_ciclo     idade  \\\n",
      "0            1.0        0.208897           0.2   0.774408  0.202703   \n",
      "1            1.0        0.129594           0.2   0.451185  0.229730   \n",
      "2            1.0        0.129594           0.2   0.451185  0.189189   \n",
      "3            1.0        0.152805           0.6   0.956398  0.486486   \n",
      "4            1.0        0.152805           0.5   0.956398  0.391892   \n",
      "...          ...             ...           ...        ...       ...   \n",
      "563086       0.8        0.110251           0.1   0.941232  0.148649   \n",
      "563087       0.8        0.110251           0.3   0.941232  0.270270   \n",
      "563088       0.8        0.110251           0.0   0.941232  0.108108   \n",
      "563089       0.8        0.110251           0.0   0.941232  0.108108   \n",
      "563090       0.8        0.110251           0.2   0.941232  0.189189   \n",
      "\n",
      "        inicio_ciclo  mes_ocorrencia  municipio  renda_familiar  \\\n",
      "0           0.920224        0.094451   0.825328        0.833333   \n",
      "1           0.553534        0.082645   0.945415        0.166667   \n",
      "2           0.553534        0.082645   0.945415        0.166667   \n",
      "3           0.962911        0.191263   0.515284        0.333333   \n",
      "4           0.962911        0.191263   0.515284        0.333333   \n",
      "...              ...             ...        ...             ...   \n",
      "563086      0.732680        0.068477   0.923581        0.333333   \n",
      "563087      0.732680        0.068477   0.923581        0.833333   \n",
      "563088      0.732680        0.068477   0.923581        0.833333   \n",
      "563089      0.732680        0.068477   0.923581        0.833333   \n",
      "563090      0.732680        0.068477   0.923581        0.833333   \n",
      "\n",
      "        total_inscritos  unidade_ensino  vagas_ofertadas  \n",
      "0              0.902319        0.786427         0.180412  \n",
      "1              0.017841        0.904192         0.206186  \n",
      "2              0.017841        0.904192         0.206186  \n",
      "3              0.019179        0.499002         0.257732  \n",
      "4              0.019179        0.499002         0.257732  \n",
      "...                 ...             ...              ...  \n",
      "563086         0.080285        0.884232         0.211340  \n",
      "563087         0.080285        0.884232         0.211340  \n",
      "563088         0.080285        0.884232         0.211340  \n",
      "563089         0.080285        0.884232         0.211340  \n",
      "563090         0.080285        0.884232         0.211340  \n",
      "\n",
      "[563091 rows x 15 columns]\n",
      "       categoria_situacao\n",
      "0             Concluintes\n",
      "1             Concluintes\n",
      "2             Concluintes\n",
      "3             Concluintes\n",
      "4             Concluintes\n",
      "...                   ...\n",
      "563086           Em curso\n",
      "563087           Em curso\n",
      "563088           Em curso\n",
      "563089           Em curso\n",
      "563090           Em curso\n",
      "\n",
      "[563091 rows x 1 columns]\n"
     ]
    },
    {
     "ename": "ValueError",
     "evalue": "Target is multiclass but average='binary'. Please choose another average setting, one of [None, 'micro', 'macro', 'weighted'].",
     "output_type": "error",
     "traceback": [
      "\u001b[0;31m---------------------------------------------------------------------------\u001b[0m",
      "\u001b[0;31mValueError\u001b[0m                                Traceback (most recent call last)",
      "Input \u001b[0;32mIn [2]\u001b[0m, in \u001b[0;36m<cell line: 5>\u001b[0;34m()\u001b[0m\n\u001b[1;32m      3\u001b[0m pt \u001b[38;5;241m=\u001b[39m PredicaoTree(arq, alvo)\n\u001b[1;32m      4\u001b[0m pt\u001b[38;5;241m.\u001b[39mnomeCampos \u001b[38;5;241m=\u001b[39m campos\n\u001b[0;32m----> 5\u001b[0m \u001b[43mpt\u001b[49m\u001b[38;5;241;43m.\u001b[39;49m\u001b[43miniciar\u001b[49m\u001b[43m(\u001b[49m\u001b[43m)\u001b[49m\n",
      "File \u001b[0;32m~/work/Plataforma Nilo Peçanha/Predição/scripts/predicao.py:129\u001b[0m, in \u001b[0;36mPredicao.iniciar\u001b[0;34m(self)\u001b[0m\n\u001b[1;32m    127\u001b[0m \u001b[38;5;28;01mif\u001b[39;00m \u001b[38;5;28mself\u001b[39m\u001b[38;5;241m.\u001b[39mbalanceada:\n\u001b[1;32m    128\u001b[0m     \u001b[38;5;28mself\u001b[39m\u001b[38;5;241m.\u001b[39m__balancear()\n\u001b[0;32m--> 129\u001b[0m \u001b[38;5;28;01mreturn\u001b[39;00m \u001b[38;5;28;43mself\u001b[39;49m\u001b[38;5;241;43m.\u001b[39;49m\u001b[43m__treinar\u001b[49m\u001b[43m(\u001b[49m\u001b[43m)\u001b[49m\n",
      "File \u001b[0;32m~/work/Plataforma Nilo Peçanha/Predição/scripts/predicao.py:79\u001b[0m, in \u001b[0;36mPredicao.__treinar\u001b[0;34m(self)\u001b[0m\n\u001b[1;32m     77\u001b[0m \u001b[38;5;28;01mdef\u001b[39;00m \u001b[38;5;21m__treinar\u001b[39m(\u001b[38;5;28mself\u001b[39m):\n\u001b[1;32m     78\u001b[0m     \u001b[38;5;28mself\u001b[39m\u001b[38;5;241m.\u001b[39m__classificador \u001b[38;5;241m=\u001b[39m \u001b[38;5;28mself\u001b[39m\u001b[38;5;241m.\u001b[39mgetClassificador()\n\u001b[0;32m---> 79\u001b[0m     holdout \u001b[38;5;241m=\u001b[39m \u001b[38;5;28;43mself\u001b[39;49m\u001b[38;5;241;43m.\u001b[39;49m\u001b[43m__avaliarHoldout\u001b[49m\u001b[43m(\u001b[49m\u001b[43m)\u001b[49m\n\u001b[1;32m     80\u001b[0m     cross \u001b[38;5;241m=\u001b[39m \u001b[38;5;28mself\u001b[39m\u001b[38;5;241m.\u001b[39m__avaliarCross()        \n\u001b[1;32m     81\u001b[0m     \u001b[38;5;28;01mreturn\u001b[39;00m pd\u001b[38;5;241m.\u001b[39mDataFrame({\n\u001b[1;32m     82\u001b[0m         \u001b[38;5;124m'\u001b[39m\u001b[38;5;124mholdout\u001b[39m\u001b[38;5;124m'\u001b[39m: pd\u001b[38;5;241m.\u001b[39mSeries(holdout\u001b[38;5;241m.\u001b[39mvalues(), index \u001b[38;5;241m=\u001b[39m holdout\u001b[38;5;241m.\u001b[39mkeys()),\n\u001b[1;32m     83\u001b[0m         \u001b[38;5;124m'\u001b[39m\u001b[38;5;124mcorss\u001b[39m\u001b[38;5;124m'\u001b[39m: pd\u001b[38;5;241m.\u001b[39mSeries(cross\u001b[38;5;241m.\u001b[39mvalues(), index \u001b[38;5;241m=\u001b[39m cross\u001b[38;5;241m.\u001b[39mkeys()),\n\u001b[1;32m     84\u001b[0m     })\n",
      "File \u001b[0;32m~/work/Plataforma Nilo Peçanha/Predição/scripts/predicao.py:66\u001b[0m, in \u001b[0;36mPredicao.__avaliarHoldout\u001b[0;34m(self)\u001b[0m\n\u001b[1;32m     64\u001b[0m \u001b[38;5;28;01mfor\u001b[39;00m metrica \u001b[38;5;129;01min\u001b[39;00m \u001b[38;5;28mself\u001b[39m\u001b[38;5;241m.\u001b[39m__metricas:\n\u001b[1;32m     65\u001b[0m     algoritmo \u001b[38;5;241m=\u001b[39m \u001b[38;5;28mself\u001b[39m\u001b[38;5;241m.\u001b[39m__holdout[metrica]\n\u001b[0;32m---> 66\u001b[0m     holdout[metrica] \u001b[38;5;241m=\u001b[39m np\u001b[38;5;241m.\u001b[39mmean(\u001b[43malgoritmo\u001b[49m\u001b[43m(\u001b[49m\u001b[43my_teste\u001b[49m\u001b[43m,\u001b[49m\u001b[43m \u001b[49m\u001b[43mresultado\u001b[49m\u001b[43m)\u001b[49m)\n\u001b[1;32m     67\u001b[0m \u001b[38;5;28;01mreturn\u001b[39;00m holdout\n",
      "File \u001b[0;32m/opt/conda/lib/python3.10/site-packages/sklearn/metrics/_classification.py:1769\u001b[0m, in \u001b[0;36mprecision_score\u001b[0;34m(y_true, y_pred, labels, pos_label, average, sample_weight, zero_division)\u001b[0m\n\u001b[1;32m   1640\u001b[0m \u001b[38;5;28;01mdef\u001b[39;00m \u001b[38;5;21mprecision_score\u001b[39m(\n\u001b[1;32m   1641\u001b[0m     y_true,\n\u001b[1;32m   1642\u001b[0m     y_pred,\n\u001b[0;32m   (...)\u001b[0m\n\u001b[1;32m   1648\u001b[0m     zero_division\u001b[38;5;241m=\u001b[39m\u001b[38;5;124m\"\u001b[39m\u001b[38;5;124mwarn\u001b[39m\u001b[38;5;124m\"\u001b[39m,\n\u001b[1;32m   1649\u001b[0m ):\n\u001b[1;32m   1650\u001b[0m     \u001b[38;5;124;03m\"\"\"Compute the precision.\u001b[39;00m\n\u001b[1;32m   1651\u001b[0m \n\u001b[1;32m   1652\u001b[0m \u001b[38;5;124;03m    The precision is the ratio ``tp / (tp + fp)`` where ``tp`` is the number of\u001b[39;00m\n\u001b[0;32m   (...)\u001b[0m\n\u001b[1;32m   1767\u001b[0m \u001b[38;5;124;03m    array([0.5, 1. , 1. ])\u001b[39;00m\n\u001b[1;32m   1768\u001b[0m \u001b[38;5;124;03m    \"\"\"\u001b[39;00m\n\u001b[0;32m-> 1769\u001b[0m     p, _, _, _ \u001b[38;5;241m=\u001b[39m \u001b[43mprecision_recall_fscore_support\u001b[49m\u001b[43m(\u001b[49m\n\u001b[1;32m   1770\u001b[0m \u001b[43m        \u001b[49m\u001b[43my_true\u001b[49m\u001b[43m,\u001b[49m\n\u001b[1;32m   1771\u001b[0m \u001b[43m        \u001b[49m\u001b[43my_pred\u001b[49m\u001b[43m,\u001b[49m\n\u001b[1;32m   1772\u001b[0m \u001b[43m        \u001b[49m\u001b[43mlabels\u001b[49m\u001b[38;5;241;43m=\u001b[39;49m\u001b[43mlabels\u001b[49m\u001b[43m,\u001b[49m\n\u001b[1;32m   1773\u001b[0m \u001b[43m        \u001b[49m\u001b[43mpos_label\u001b[49m\u001b[38;5;241;43m=\u001b[39;49m\u001b[43mpos_label\u001b[49m\u001b[43m,\u001b[49m\n\u001b[1;32m   1774\u001b[0m \u001b[43m        \u001b[49m\u001b[43maverage\u001b[49m\u001b[38;5;241;43m=\u001b[39;49m\u001b[43maverage\u001b[49m\u001b[43m,\u001b[49m\n\u001b[1;32m   1775\u001b[0m \u001b[43m        \u001b[49m\u001b[43mwarn_for\u001b[49m\u001b[38;5;241;43m=\u001b[39;49m\u001b[43m(\u001b[49m\u001b[38;5;124;43m\"\u001b[39;49m\u001b[38;5;124;43mprecision\u001b[39;49m\u001b[38;5;124;43m\"\u001b[39;49m\u001b[43m,\u001b[49m\u001b[43m)\u001b[49m\u001b[43m,\u001b[49m\n\u001b[1;32m   1776\u001b[0m \u001b[43m        \u001b[49m\u001b[43msample_weight\u001b[49m\u001b[38;5;241;43m=\u001b[39;49m\u001b[43msample_weight\u001b[49m\u001b[43m,\u001b[49m\n\u001b[1;32m   1777\u001b[0m \u001b[43m        \u001b[49m\u001b[43mzero_division\u001b[49m\u001b[38;5;241;43m=\u001b[39;49m\u001b[43mzero_division\u001b[49m\u001b[43m,\u001b[49m\n\u001b[1;32m   1778\u001b[0m \u001b[43m    \u001b[49m\u001b[43m)\u001b[49m\n\u001b[1;32m   1779\u001b[0m     \u001b[38;5;28;01mreturn\u001b[39;00m p\n",
      "File \u001b[0;32m/opt/conda/lib/python3.10/site-packages/sklearn/metrics/_classification.py:1556\u001b[0m, in \u001b[0;36mprecision_recall_fscore_support\u001b[0;34m(y_true, y_pred, beta, labels, pos_label, average, warn_for, sample_weight, zero_division)\u001b[0m\n\u001b[1;32m   1554\u001b[0m \u001b[38;5;28;01mif\u001b[39;00m beta \u001b[38;5;241m<\u001b[39m \u001b[38;5;241m0\u001b[39m:\n\u001b[1;32m   1555\u001b[0m     \u001b[38;5;28;01mraise\u001b[39;00m \u001b[38;5;167;01mValueError\u001b[39;00m(\u001b[38;5;124m\"\u001b[39m\u001b[38;5;124mbeta should be >=0 in the F-beta score\u001b[39m\u001b[38;5;124m\"\u001b[39m)\n\u001b[0;32m-> 1556\u001b[0m labels \u001b[38;5;241m=\u001b[39m \u001b[43m_check_set_wise_labels\u001b[49m\u001b[43m(\u001b[49m\u001b[43my_true\u001b[49m\u001b[43m,\u001b[49m\u001b[43m \u001b[49m\u001b[43my_pred\u001b[49m\u001b[43m,\u001b[49m\u001b[43m \u001b[49m\u001b[43maverage\u001b[49m\u001b[43m,\u001b[49m\u001b[43m \u001b[49m\u001b[43mlabels\u001b[49m\u001b[43m,\u001b[49m\u001b[43m \u001b[49m\u001b[43mpos_label\u001b[49m\u001b[43m)\u001b[49m\n\u001b[1;32m   1558\u001b[0m \u001b[38;5;66;03m# Calculate tp_sum, pred_sum, true_sum ###\u001b[39;00m\n\u001b[1;32m   1559\u001b[0m samplewise \u001b[38;5;241m=\u001b[39m average \u001b[38;5;241m==\u001b[39m \u001b[38;5;124m\"\u001b[39m\u001b[38;5;124msamples\u001b[39m\u001b[38;5;124m\"\u001b[39m\n",
      "File \u001b[0;32m/opt/conda/lib/python3.10/site-packages/sklearn/metrics/_classification.py:1374\u001b[0m, in \u001b[0;36m_check_set_wise_labels\u001b[0;34m(y_true, y_pred, average, labels, pos_label)\u001b[0m\n\u001b[1;32m   1372\u001b[0m         \u001b[38;5;28;01mif\u001b[39;00m y_type \u001b[38;5;241m==\u001b[39m \u001b[38;5;124m\"\u001b[39m\u001b[38;5;124mmulticlass\u001b[39m\u001b[38;5;124m\"\u001b[39m:\n\u001b[1;32m   1373\u001b[0m             average_options\u001b[38;5;241m.\u001b[39mremove(\u001b[38;5;124m\"\u001b[39m\u001b[38;5;124msamples\u001b[39m\u001b[38;5;124m\"\u001b[39m)\n\u001b[0;32m-> 1374\u001b[0m         \u001b[38;5;28;01mraise\u001b[39;00m \u001b[38;5;167;01mValueError\u001b[39;00m(\n\u001b[1;32m   1375\u001b[0m             \u001b[38;5;124m\"\u001b[39m\u001b[38;5;124mTarget is \u001b[39m\u001b[38;5;132;01m%s\u001b[39;00m\u001b[38;5;124m but average=\u001b[39m\u001b[38;5;124m'\u001b[39m\u001b[38;5;124mbinary\u001b[39m\u001b[38;5;124m'\u001b[39m\u001b[38;5;124m. Please \u001b[39m\u001b[38;5;124m\"\u001b[39m\n\u001b[1;32m   1376\u001b[0m             \u001b[38;5;124m\"\u001b[39m\u001b[38;5;124mchoose another average setting, one of \u001b[39m\u001b[38;5;132;01m%r\u001b[39;00m\u001b[38;5;124m.\u001b[39m\u001b[38;5;124m\"\u001b[39m \u001b[38;5;241m%\u001b[39m (y_type, average_options)\n\u001b[1;32m   1377\u001b[0m         )\n\u001b[1;32m   1378\u001b[0m \u001b[38;5;28;01melif\u001b[39;00m pos_label \u001b[38;5;129;01mnot\u001b[39;00m \u001b[38;5;129;01min\u001b[39;00m (\u001b[38;5;28;01mNone\u001b[39;00m, \u001b[38;5;241m1\u001b[39m):\n\u001b[1;32m   1379\u001b[0m     warnings\u001b[38;5;241m.\u001b[39mwarn(\n\u001b[1;32m   1380\u001b[0m         \u001b[38;5;124m\"\u001b[39m\u001b[38;5;124mNote that pos_label (set to \u001b[39m\u001b[38;5;132;01m%r\u001b[39;00m\u001b[38;5;124m) is ignored when \u001b[39m\u001b[38;5;124m\"\u001b[39m\n\u001b[1;32m   1381\u001b[0m         \u001b[38;5;124m\"\u001b[39m\u001b[38;5;124maverage != \u001b[39m\u001b[38;5;124m'\u001b[39m\u001b[38;5;124mbinary\u001b[39m\u001b[38;5;124m'\u001b[39m\u001b[38;5;124m (got \u001b[39m\u001b[38;5;132;01m%r\u001b[39;00m\u001b[38;5;124m). You may use \u001b[39m\u001b[38;5;124m\"\u001b[39m\n\u001b[0;32m   (...)\u001b[0m\n\u001b[1;32m   1384\u001b[0m         \u001b[38;5;167;01mUserWarning\u001b[39;00m,\n\u001b[1;32m   1385\u001b[0m     )\n",
      "\u001b[0;31mValueError\u001b[0m: Target is multiclass but average='binary'. Please choose another average setting, one of [None, 'micro', 'macro', 'weighted']."
     ]
    }
   ],
   "source": [
    "from scripts.predicao_tree import PredicaoTree\n",
    "\n",
    "pt = PredicaoTree(arq, alvo)\n",
    "pt.nomeCampos = campos\n",
    "pt.iniciar()"
   ]
  }
 ],
 "metadata": {
  "kernelspec": {
   "display_name": "Python 3 (ipykernel)",
   "language": "python",
   "name": "python3"
  },
  "language_info": {
   "codemirror_mode": {
    "name": "ipython",
    "version": 3
   },
   "file_extension": ".py",
   "mimetype": "text/x-python",
   "name": "python",
   "nbconvert_exporter": "python",
   "pygments_lexer": "ipython3",
   "version": "3.10.4"
  }
 },
 "nbformat": 4,
 "nbformat_minor": 5
}
