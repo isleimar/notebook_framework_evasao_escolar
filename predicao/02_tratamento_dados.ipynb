{
 "cells": [
  {
   "cell_type": "markdown",
   "id": "6fef1ef6",
   "metadata": {},
   "source": [
    "# Tratamento dos dados"
   ]
  },
  {
   "cell_type": "code",
   "execution_count": 1,
   "id": "fb5e7cee",
   "metadata": {},
   "outputs": [],
   "source": [
    "#Importando dependências\n",
    "import numpy as np\n",
    "import pandas as pd\n",
    "import matplotlib.pyplot as plt"
   ]
  },
  {
   "cell_type": "code",
   "execution_count": 2,
   "id": "ea56ba38",
   "metadata": {},
   "outputs": [],
   "source": [
    "#Lendo os dados\n",
    "matriculas = pd.read_csv(\"data/matricula.csv\")"
   ]
  },
  {
   "cell_type": "code",
   "execution_count": 3,
   "id": "fbe81e03",
   "metadata": {},
   "outputs": [
    {
     "data": {
      "text/plain": [
       "(1987896, 34)"
      ]
     },
     "execution_count": 3,
     "metadata": {},
     "output_type": "execute_result"
    }
   ],
   "source": [
    "matriculas.shape"
   ]
  },
  {
   "cell_type": "markdown",
   "id": "5e069b3d",
   "metadata": {},
   "source": [
    "### Selecionado features\n",
    "Feature|Tipo|Selecionada|Descrição\n",
    "--|--|--|--\n",
    "**categoria_situacao**|**Categórica**|**Sim**|**Traget**\n",
    "ano|Discreta|Sim|\n",
    "carga_horaria|Discreta|Sim|\n",
    "carga_minima|Discreta|Sim|\n",
    "cod_matricula|Discreta|Não|\n",
    "cor_raca|Categórica|Sim|\n",
    "fim_ciclo|Discreta|Não|\n",
    "inicio_ciclo|Discreta|Não\n",
    "data_matricula|Discreta|Não\n",
    "eixo_tecnologico|Categórica|Sim\n",
    "fator_esforco_curso|Contínuo|Sim\n",
    "mes_ocorrencia|Discreta|Não\n",
    "modalidade_ensino|Categórica|Sim\n",
    "nome_curso|Categórica|Não\n",
    "fonte_financiamento|Categórica|Sim\n",
    "renda_familiar|Categórica|Sim\n",
    "instituicao|Categórica|Sim\n",
    "sexo|Categórica|Sim\n",
    "situacao_matricula|Categórica|Não\n",
    "sub_eixo_tecnologico|Categórica|Sim\n",
    "tipo_curso|Categórica|Sim\n",
    "tipo_oferta|Categórica|Sim\n",
    "total_inscritos|Discreta|Sim\n",
    "turno|Categórica|Sim\n",
    "codigo_unidade_ensino_sistec|Discreta|Não\n",
    "vagas_ofertadas|Discreta|Sim\n",
    "idade|Discreta|Não\n",
    "faixa_etaria|Categórica|Sim\n",
    "codigo_ciclo_matricula|Discreta|Não\n",
    "unidade_ensino|Categórica|Sim\n",
    "codigo_municipio_dv|Discreta|Sim\n",
    "municipio|Categórica|Não\n",
    "uf|Categórica|Sim\n",
    "regiao|Categórica|Sim"
   ]
  },
  {
   "cell_type": "markdown",
   "id": "64cf0b0f",
   "metadata": {},
   "source": [
    "### Quantidade de dados nulos"
   ]
  },
  {
   "cell_type": "code",
   "execution_count": 4,
   "id": "01112746",
   "metadata": {},
   "outputs": [
    {
     "data": {
      "text/plain": [
       "ano                                0\n",
       "carga_horaria                      0\n",
       "carga_minima                       0\n",
       "categoria_situacao                 0\n",
       "codigo_ciclo_matricula             0\n",
       "cod_matricula                      0\n",
       "codigo_unidade_ensino_sistec      42\n",
       "cor_raca                           0\n",
       "inicio_ciclo                       0\n",
       "fim_ciclo                          0\n",
       "data_matricula                     0\n",
       "eixo_tecnologico                   0\n",
       "faixa_etaria                       0\n",
       "fator_esforco_curso                0\n",
       "fonte_financiamento                0\n",
       "idade                              4\n",
       "total_inscritos                    0\n",
       "instituicao                        0\n",
       "mes_ocorrencia                     1\n",
       "modalidade_ensino                  0\n",
       "codigo_municipio_dv                0\n",
       "municipio                          0\n",
       "vagas_ofertadas                 1874\n",
       "nome_curso                         0\n",
       "regiao                             0\n",
       "renda_familiar                     0\n",
       "sexo                               0\n",
       "situacao_matricula                 0\n",
       "sub_eixo_tecnologico               0\n",
       "tipo_oferta                      100\n",
       "tipo_curso                         0\n",
       "turno                              0\n",
       "uf                                 0\n",
       "unidade_ensino                     0\n",
       "dtype: int64"
      ]
     },
     "execution_count": 4,
     "metadata": {},
     "output_type": "execute_result"
    }
   ],
   "source": [
    "matriculas.isnull().sum()"
   ]
  },
  {
   "cell_type": "markdown",
   "id": "c4adc249",
   "metadata": {},
   "source": [
    "### Transformações\n",
    "Removendo as instâncias que apresentam a **categoria_situação** em curso. <br/>\n",
    "Removendo as instâncias com **idade** inferior a 10 e superior a 90 anos."
   ]
  },
  {
   "cell_type": "code",
   "execution_count": 5,
   "id": "12f865b5",
   "metadata": {},
   "outputs": [],
   "source": [
    "#Removendo instâncias em curso\n",
    "x = matriculas.loc[matriculas['categoria_situacao'] != 'Em curso']\n",
    "#Removendo idades inforieres a 10 anos\n",
    "x = x.loc[x['idade'] >= 10]\n",
    "#Removendo idades superiores a 90 anos\n",
    "x = x.loc[x['idade'] <= 90]"
   ]
  },
  {
   "cell_type": "code",
   "execution_count": 6,
   "id": "e88e692b",
   "metadata": {},
   "outputs": [],
   "source": [
    "#Removendo vagas_ofertadas nulas\n",
    "x = x.loc[x['vagas_ofertadas'].notnull()]\n",
    "#Removendo tipo_oferta nulas\n",
    "x = x.loc[x['tipo_oferta'].notnull()]"
   ]
  },
  {
   "cell_type": "markdown",
   "id": "e57ab931",
   "metadata": {},
   "source": [
    "### Selecionando o Tipo de Curso"
   ]
  },
  {
   "cell_type": "code",
   "execution_count": 7,
   "id": "354ec1fd",
   "metadata": {},
   "outputs": [
    {
     "data": {
      "text/plain": [
       "tipo_curso\n",
       "Bacharelado                         31910\n",
       "Doutorado                             108\n",
       "Ensino Fundamental I                 1126\n",
       "Ensino Fundamental II                2031\n",
       "Ensino Médio                         3616\n",
       "Especialização (Lato Sensu)         22690\n",
       "Licenciatura                        36842\n",
       "Mestrado                             1348\n",
       "Mestrado Profissional                1781\n",
       "Qualificação Profissional (FIC)    272987\n",
       "Tecnologia                          41961\n",
       "Técnico                            307324\n",
       "Name: tipo_curso, dtype: int64"
      ]
     },
     "execution_count": 7,
     "metadata": {},
     "output_type": "execute_result"
    }
   ],
   "source": [
    "tipos_cursos = x.groupby('tipo_curso')\n",
    "tipos_cursos['tipo_curso'].count()"
   ]
  },
  {
   "cell_type": "code",
   "execution_count": 8,
   "id": "b484e3d0",
   "metadata": {},
   "outputs": [],
   "source": [
    "# Bacharelado, licenciatura e Tecnologia\n",
    "x = x.loc[\n",
    "    (x['tipo_curso'] == 'Bacharelado') | \n",
    "    (x['tipo_curso'] == 'Licenciatura') |\n",
    "    (x['tipo_curso'] == 'Tecnologia')\n",
    "]\n",
    "# Técnico\n",
    "# x = x.loc[\n",
    "#     (x['tipo_curso'] == 'Técnico') \n",
    "# ]"
   ]
  },
  {
   "cell_type": "code",
   "execution_count": 9,
   "id": "61548ebd",
   "metadata": {
    "scrolled": true
   },
   "outputs": [],
   "source": [
    "x = x[['categoria_situacao',\n",
    "    'ano',\n",
    "    'carga_horaria',\n",
    "    'carga_minima',\n",
    "#     'cod_matricula',\n",
    "    'cor_raca',\n",
    "    'fim_ciclo',\n",
    "    'inicio_ciclo',\n",
    "    'data_matricula',\n",
    "    'eixo_tecnologico',\n",
    "    'fator_esforco_curso',\n",
    "    'mes_ocorrencia',\n",
    "    'modalidade_ensino',\n",
    "    'nome_curso',\n",
    "    'fonte_financiamento',\n",
    "    'renda_familiar',\n",
    "    'instituicao',\n",
    "    'sexo',\n",
    "#     'situacao_matricula',\n",
    "    'sub_eixo_tecnologico',\n",
    "    'tipo_curso',\n",
    "    'tipo_oferta',\n",
    "    'total_inscritos',\n",
    "    'turno',\n",
    "    'codigo_unidade_ensino_sistec',\n",
    "    'vagas_ofertadas',\n",
    "    'idade',\n",
    "    'faixa_etaria',\n",
    "#    'codigo_ciclo_matricula',\n",
    "    'unidade_ensino',\n",
    "    'codigo_municipio_dv',\n",
    "    'municipio',\n",
    "    'uf',\n",
    "    'regiao']]"
   ]
  },
  {
   "cell_type": "code",
   "execution_count": 10,
   "id": "7b22462a",
   "metadata": {},
   "outputs": [
    {
     "data": {
      "text/plain": [
       "categoria_situacao              0\n",
       "ano                             0\n",
       "carga_horaria                   0\n",
       "carga_minima                    0\n",
       "cor_raca                        0\n",
       "fim_ciclo                       0\n",
       "inicio_ciclo                    0\n",
       "data_matricula                  0\n",
       "eixo_tecnologico                0\n",
       "fator_esforco_curso             0\n",
       "mes_ocorrencia                  0\n",
       "modalidade_ensino               0\n",
       "nome_curso                      0\n",
       "fonte_financiamento             0\n",
       "renda_familiar                  0\n",
       "instituicao                     0\n",
       "sexo                            0\n",
       "sub_eixo_tecnologico            0\n",
       "tipo_curso                      0\n",
       "tipo_oferta                     0\n",
       "total_inscritos                 0\n",
       "turno                           0\n",
       "codigo_unidade_ensino_sistec    0\n",
       "vagas_ofertadas                 0\n",
       "idade                           0\n",
       "faixa_etaria                    0\n",
       "unidade_ensino                  0\n",
       "codigo_municipio_dv             0\n",
       "municipio                       0\n",
       "uf                              0\n",
       "regiao                          0\n",
       "dtype: int64"
      ]
     },
     "execution_count": 10,
     "metadata": {},
     "output_type": "execute_result"
    }
   ],
   "source": [
    "x.isnull().sum()"
   ]
  },
  {
   "cell_type": "code",
   "execution_count": 11,
   "id": "8acdac0a",
   "metadata": {},
   "outputs": [
    {
     "data": {
      "text/plain": [
       "(110713, 31)"
      ]
     },
     "execution_count": 11,
     "metadata": {},
     "output_type": "execute_result"
    }
   ],
   "source": [
    "x.shape"
   ]
  },
  {
   "cell_type": "markdown",
   "id": "e41d8035",
   "metadata": {},
   "source": [
    "### Salvado base de dados modificada"
   ]
  },
  {
   "cell_type": "code",
   "execution_count": 12,
   "id": "2299e3a3",
   "metadata": {},
   "outputs": [],
   "source": [
    "x.to_csv('./data/out.csv', index=False)"
   ]
  },
  {
   "cell_type": "code",
   "execution_count": null,
   "id": "27961cb8-99d8-45ae-bea2-ac7df9c49ee0",
   "metadata": {},
   "outputs": [],
   "source": []
  }
 ],
 "metadata": {
  "kernelspec": {
   "display_name": "Python 3 (ipykernel)",
   "language": "python",
   "name": "python3"
  },
  "language_info": {
   "codemirror_mode": {
    "name": "ipython",
    "version": 3
   },
   "file_extension": ".py",
   "mimetype": "text/x-python",
   "name": "python",
   "nbconvert_exporter": "python",
   "pygments_lexer": "ipython3",
   "version": "3.9.10"
  }
 },
 "nbformat": 4,
 "nbformat_minor": 5
}
